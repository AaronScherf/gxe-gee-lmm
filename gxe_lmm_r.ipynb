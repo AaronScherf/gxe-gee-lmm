{
 "cells": [
  {
   "cell_type": "code",
   "execution_count": null,
   "metadata": {},
   "outputs": [],
   "source": [
    "install.packages('dplyr')\n",
    "install.packages('tidyverse')\n",
    "install.packages('caret')\n",
    "install.packages('BGLR')\n",
    "install.packages('stringi')\n",
    "install.packages('Matrix')\n",
    "install.packages('plyr')"
   ]
  },
  {
   "cell_type": "code",
   "execution_count": 2,
   "metadata": {},
   "outputs": [
    {
     "name": "stderr",
     "output_type": "stream",
     "text": [
      "Loading required package: plyr\n",
      "\n",
      "Loading required package: dplyr\n",
      "\n",
      "\n",
      "Attaching package: ‘dplyr’\n",
      "\n",
      "\n",
      "The following objects are masked from ‘package:plyr’:\n",
      "\n",
      "    arrange, count, desc, failwith, id, mutate, rename, summarise,\n",
      "    summarize\n",
      "\n",
      "\n",
      "The following objects are masked from ‘package:stats’:\n",
      "\n",
      "    filter, lag\n",
      "\n",
      "\n",
      "The following objects are masked from ‘package:base’:\n",
      "\n",
      "    intersect, setdiff, setequal, union\n",
      "\n",
      "\n",
      "Loading required package: BGLR\n",
      "\n",
      "Loading required package: tidyverse\n",
      "\n",
      "── \u001b[1mAttaching packages\u001b[22m ─────────────────────────────────────── tidyverse 1.2.1 ──\n",
      "\n",
      "\u001b[32m✔\u001b[39m \u001b[34mggplot2\u001b[39m 3.3.0     \u001b[32m✔\u001b[39m \u001b[34mreadr  \u001b[39m 1.3.1\n",
      "\u001b[32m✔\u001b[39m \u001b[34mtibble \u001b[39m 3.0.1     \u001b[32m✔\u001b[39m \u001b[34mpurrr  \u001b[39m 0.3.4\n",
      "\u001b[32m✔\u001b[39m \u001b[34mtidyr  \u001b[39m 1.0.2     \u001b[32m✔\u001b[39m \u001b[34mstringr\u001b[39m 1.4.0\n",
      "\u001b[32m✔\u001b[39m \u001b[34mggplot2\u001b[39m 3.3.0     \u001b[32m✔\u001b[39m \u001b[34mforcats\u001b[39m 0.4.0\n",
      "\n",
      "── \u001b[1mConflicts\u001b[22m ────────────────────────────────────────── tidyverse_conflicts() ──\n",
      "\u001b[31m✖\u001b[39m \u001b[34mdplyr\u001b[39m::\u001b[32marrange()\u001b[39m   masks \u001b[34mplyr\u001b[39m::arrange()\n",
      "\u001b[31m✖\u001b[39m \u001b[34mpurrr\u001b[39m::\u001b[32mcompact()\u001b[39m   masks \u001b[34mplyr\u001b[39m::compact()\n",
      "\u001b[31m✖\u001b[39m \u001b[34mdplyr\u001b[39m::\u001b[32mcount()\u001b[39m     masks \u001b[34mplyr\u001b[39m::count()\n",
      "\u001b[31m✖\u001b[39m \u001b[34mdplyr\u001b[39m::\u001b[32mfailwith()\u001b[39m  masks \u001b[34mplyr\u001b[39m::failwith()\n",
      "\u001b[31m✖\u001b[39m \u001b[34mdplyr\u001b[39m::\u001b[32mfilter()\u001b[39m    masks \u001b[34mstats\u001b[39m::filter()\n",
      "\u001b[31m✖\u001b[39m \u001b[34mdplyr\u001b[39m::\u001b[32mid()\u001b[39m        masks \u001b[34mplyr\u001b[39m::id()\n",
      "\u001b[31m✖\u001b[39m \u001b[34mdplyr\u001b[39m::\u001b[32mlag()\u001b[39m       masks \u001b[34mstats\u001b[39m::lag()\n",
      "\u001b[31m✖\u001b[39m \u001b[34mdplyr\u001b[39m::\u001b[32mmutate()\u001b[39m    masks \u001b[34mplyr\u001b[39m::mutate()\n",
      "\u001b[31m✖\u001b[39m \u001b[34mdplyr\u001b[39m::\u001b[32mrename()\u001b[39m    masks \u001b[34mplyr\u001b[39m::rename()\n",
      "\u001b[31m✖\u001b[39m \u001b[34mdplyr\u001b[39m::\u001b[32msummarise()\u001b[39m masks \u001b[34mplyr\u001b[39m::summarise()\n",
      "\u001b[31m✖\u001b[39m \u001b[34mdplyr\u001b[39m::\u001b[32msummarize()\u001b[39m masks \u001b[34mplyr\u001b[39m::summarize()\n",
      "\n",
      "Loading required package: caret\n",
      "\n",
      "Loading required package: lattice\n",
      "\n",
      "\n",
      "Attaching package: ‘caret’\n",
      "\n",
      "\n",
      "The following object is masked from ‘package:purrr’:\n",
      "\n",
      "    lift\n",
      "\n",
      "\n"
     ]
    }
   ],
   "source": [
    "require('plyr')\n",
    "require(\"dplyr\")\n",
    "require('BGLR')\n",
    "require('tidyverse')\n",
    "require('caret')"
   ]
  },
  {
   "cell_type": "code",
   "execution_count": 2,
   "metadata": {},
   "outputs": [
    {
     "ename": "ERROR",
     "evalue": "Error in setwd(\"gxe-gee-lmm\"): cannot change working directory\n",
     "output_type": "error",
     "traceback": [
      "Error in setwd(\"gxe-gee-lmm\"): cannot change working directory\nTraceback:\n",
      "1. setwd(\"gxe-gee-lmm\")"
     ]
    }
   ],
   "source": [
    "setwd('gxe-gee-lmm')"
   ]
  },
  {
   "cell_type": "code",
   "execution_count": 3,
   "metadata": {},
   "outputs": [
    {
     "data": {
      "text/html": [
       "'/home/jupyter/gxe-gee-lmm'"
      ],
      "text/latex": [
       "'/home/jupyter/gxe-gee-lmm'"
      ],
      "text/markdown": [
       "'/home/jupyter/gxe-gee-lmm'"
      ],
      "text/plain": [
       "[1] \"/home/jupyter/gxe-gee-lmm\""
      ]
     },
     "metadata": {},
     "output_type": "display_data"
    }
   ],
   "source": [
    "getwd()"
   ]
  },
  {
   "cell_type": "code",
   "execution_count": 5,
   "metadata": {},
   "outputs": [
    {
     "name": "stderr",
     "output_type": "stream",
     "text": [
      "Installing package into ‘/home/jupyter/.R/library’\n",
      "(as ‘lib’ is unspecified)\n",
      "\n",
      "also installing the dependencies ‘benchmarkmeData’, ‘doParallel’\n",
      "\n",
      "\n"
     ]
    }
   ],
   "source": [
    "install.packages('benchmarkme')"
   ]
  },
  {
   "cell_type": "code",
   "execution_count": 6,
   "metadata": {},
   "outputs": [
    {
     "data": {
      "text/plain": [
       "1.02 TB"
      ]
     },
     "metadata": {},
     "output_type": "display_data"
    }
   ],
   "source": [
    "library(benchmarkme)\n",
    "get_ram()"
   ]
  },
  {
   "cell_type": "code",
   "execution_count": null,
   "metadata": {},
   "outputs": [],
   "source": [
    "## Import Data and Prep for Analysis"
   ]
  },
  {
   "cell_type": "code",
   "execution_count": 3,
   "metadata": {},
   "outputs": [],
   "source": [
    "# Import CSV files of target data\n",
    "y_train <- data.frame(read.csv('y_train_scaled.csv'))\n",
    "y_test <- data.frame(read.csv('y_test_scaled.csv'))"
   ]
  },
  {
   "cell_type": "code",
   "execution_count": 4,
   "metadata": {},
   "outputs": [],
   "source": [
    "y_train <- arrange(y_train, Unique_ID)\n",
    "y_test <- arrange(y_test, Unique_ID)"
   ]
  },
  {
   "cell_type": "code",
   "execution_count": null,
   "metadata": {},
   "outputs": [],
   "source": [
    "head(y_train)"
   ]
  },
  {
   "cell_type": "code",
   "execution_count": 5,
   "metadata": {},
   "outputs": [],
   "source": [
    "rownames(y_train) = y_train$Unique_ID\n",
    "rownames(y_test) = y_test$Unique_ID\n",
    "y_train = subset(y_train, select = -c(Unique_ID))\n",
    "y_test = subset(y_test, select = -c(Unique_ID))"
   ]
  },
  {
   "cell_type": "code",
   "execution_count": null,
   "metadata": {},
   "outputs": [],
   "source": [
    "head(y_train)"
   ]
  },
  {
   "cell_type": "code",
   "execution_count": null,
   "metadata": {},
   "outputs": [],
   "source": [
    "head(y_test)"
   ]
  },
  {
   "cell_type": "code",
   "execution_count": null,
   "metadata": {},
   "outputs": [],
   "source": [
    "print(dim(y_train))\n",
    "print(dim(y_test))"
   ]
  },
  {
   "cell_type": "code",
   "execution_count": 6,
   "metadata": {},
   "outputs": [
    {
     "name": "stdout",
     "output_type": "stream",
     "text": [
      "[1] 122484     59\n",
      "[1] 21615    59\n"
     ]
    }
   ],
   "source": [
    "# Import CSV files of environmental data for CIMMYT and GEE\n",
    "W_CIMMYT_train <- read.csv('X_train_scaled.csv')\n",
    "W_CIMMYT_test <- read.csv('X_test_scaled.csv')\n",
    "#W_gee_train <- read.csv('X_train_gee_scaled.csv')\n",
    "#W_gee_test <- read.csv('X_test_gee_scaled.csv')\n",
    "\n",
    "print(dim(W_CIMMYT_train))\n",
    "print(dim(W_CIMMYT_test))\n",
    "# print(dim(W_gee_train))\n",
    "# print(dim(W_gee_test))"
   ]
  },
  {
   "cell_type": "code",
   "execution_count": 7,
   "metadata": {},
   "outputs": [],
   "source": [
    "W_CIMMYT_train <- arrange(W_CIMMYT_train, Unique_ID)\n",
    "W_CIMMYT_test <- arrange(W_CIMMYT_test, Unique_ID)\n",
    "# W_gee_train <- arrange(W_gee_train, Unique_ID)\n",
    "# W_gee_test <- arrange(W_gee_test, Unique_ID)\n",
    "\n",
    "rownames(W_CIMMYT_train) = W_CIMMYT_train$Unique_ID\n",
    "rownames(W_CIMMYT_test) = W_CIMMYT_test$Unique_ID\n",
    "# rownames(W_gee_train) = W_gee_train$Unique_ID\n",
    "# rownames(W_gee_test) = W_gee_test$Unique_ID\n",
    "\n",
    "W_CIMMYT_train <- subset(W_CIMMYT_train, select = -c(Unique_ID))\n",
    "W_CIMMYT_test <- subset(W_CIMMYT_test, select = -c(Unique_ID))\n",
    "# W_gee_train <- subset(W_gee_train, select = -c(Unique_ID))\n",
    "# W_gee_test <- subset(W_gee_test, select = -c(Unique_ID))"
   ]
  },
  {
   "cell_type": "code",
   "execution_count": null,
   "metadata": {},
   "outputs": [],
   "source": [
    "head(W_CIMMYT_train)"
   ]
  },
  {
   "cell_type": "code",
   "execution_count": null,
   "metadata": {},
   "outputs": [],
   "source": [
    "head(W_CIMMYT_test)"
   ]
  },
  {
   "cell_type": "code",
   "execution_count": null,
   "metadata": {},
   "outputs": [],
   "source": [
    "print(dim(W_CIMMYT_train))\n",
    "print(dim(W_CIMMYT_test))"
   ]
  },
  {
   "cell_type": "code",
   "execution_count": 8,
   "metadata": {},
   "outputs": [],
   "source": [
    "# Import pedigree matrix\n",
    "A <- read.csv('A_matrix_unique.csv', row.names = 1)"
   ]
  },
  {
   "cell_type": "code",
   "execution_count": null,
   "metadata": {},
   "outputs": [],
   "source": [
    "dim(A)"
   ]
  },
  {
   "cell_type": "code",
   "execution_count": 9,
   "metadata": {},
   "outputs": [
    {
     "name": "stdout",
     "output_type": "stream",
     "text": [
      "[1] \"100507\"\n",
      "[1] \"100507\"\n"
     ]
    }
   ],
   "source": [
    "# A matrix doesn't read in well as a CSV, need to repeat some processing steps\n",
    "# Remove the X prefix from the column names\n",
    "names(A) <- substring(names(A),2)\n",
    "A <- A[order(rownames(A)),order(names(A))]\n",
    "print(colnames(A)[1])\n",
    "print(rownames(A)[1])"
   ]
  },
  {
   "cell_type": "code",
   "execution_count": null,
   "metadata": {},
   "outputs": [],
   "source": [
    "A[1:5,1:5]"
   ]
  },
  {
   "cell_type": "code",
   "execution_count": null,
   "metadata": {},
   "outputs": [],
   "source": [
    "dim(A)"
   ]
  },
  {
   "cell_type": "code",
   "execution_count": 10,
   "metadata": {},
   "outputs": [],
   "source": [
    "X_train_GID <- read.csv('X_train_GID.csv')\n",
    "X_test_GID <- read.csv('X_test_GID.csv')"
   ]
  },
  {
   "cell_type": "code",
   "execution_count": 11,
   "metadata": {},
   "outputs": [],
   "source": [
    "X_train_GID <- arrange(X_train_GID, Unique_ID)\n",
    "X_test_GID <- arrange(X_test_GID, Unique_ID)\n",
    "\n",
    "rownames(X_train_GID) = X_train_GID$Unique_ID\n",
    "rownames(X_test_GID) = X_test_GID$Unique_ID\n",
    "\n",
    "X_train_GID <- subset(X_train_GID, select = -c(Unique_ID))\n",
    "X_test_GID <- subset(X_test_GID, select = -c(Unique_ID))"
   ]
  },
  {
   "cell_type": "code",
   "execution_count": null,
   "metadata": {},
   "outputs": [],
   "source": [
    "head(X_train_GID)"
   ]
  },
  {
   "cell_type": "code",
   "execution_count": null,
   "metadata": {},
   "outputs": [],
   "source": [
    "dim(X_train_GID)"
   ]
  },
  {
   "cell_type": "markdown",
   "metadata": {},
   "source": [
    "## Run Model on Sample of Data\n",
    "\n",
    "Full dataset is too large, creates a 156Gb matrix and crashes the instance"
   ]
  },
  {
   "cell_type": "code",
   "execution_count": null,
   "metadata": {},
   "outputs": [],
   "source": [
    "# Set Sample Indices\n",
    "# train_random_sample <- sample(nrow(y_train), size = (nrow(y_train) * 1))\n",
    "# test_random_sample <- sample(nrow(y_test), size = (nrow(y_test) * 1))"
   ]
  },
  {
   "cell_type": "code",
   "execution_count": null,
   "metadata": {},
   "outputs": [],
   "source": [
    "# Sample Target Data\n",
    "# y_train_sample <- as.data.frame(y_train[train_random_sample,], row.names = row.names(y_train)[train_random_sample])\n",
    "# colnames(y_train_sample) <- c('GRAIN_YIELD')\n",
    "# y_test_sample <- as.data.frame(y_test[test_random_sample,], row.names = row.names(y_test)[test_random_sample])\n",
    "# colnames(y_test_sample) <- c('GRAIN_YIELD')\n",
    "\n",
    "# # Sample CIMMYT Environmental Data\n",
    "# W_CIMMYT_train_sample <- W_CIMMYT_train[train_random_sample,]\n",
    "# W_CIMMYT_test_sample <- W_CIMMYT_test[test_random_sample,]\n",
    "\n",
    "# # Sample GEE Environmental Data\n",
    "# W_gee_train_sample <- W_gee_train[train_random_sample,]\n",
    "# W_gee_test_sample <- W_gee_test[test_random_sample,]\n",
    "\n",
    "# # Sample Unique GID List\n",
    "# X_train_GID_sample <- as.data.frame(X_train_GID[train_random_sample,], row.names = row.names(X_train_GID)[train_random_sample])\n",
    "# colnames(X_train_GID_sample) <- c('GID')\n",
    "# X_test_GID_sample <- as.data.frame(X_test_GID[test_random_sample,], row.names = row.names(X_test_GID)[test_random_sample])\n",
    "# colnames(X_test_GID_sample) <- c('GID')"
   ]
  },
  {
   "cell_type": "code",
   "execution_count": null,
   "metadata": {},
   "outputs": [],
   "source": [
    "# # Combine Train and Test but keep index of separation\n",
    "# y_sample <- rbind(y_train_sample,y_test_sample)\n",
    "# W_CIMMYT_sample <- rbind(W_CIMMYT_train_sample, W_CIMMYT_test_sample)\n",
    "# W_gee_sample <- rbind(W_gee_train_sample, W_gee_test_sample)\n",
    "# X_GID_sample <- rbind(X_train_GID_sample, X_test_GID_sample)\n",
    "# print(length(y_sample[train_random_sample,]))\n",
    "# print(length(y_sample[test_random_sample,]))\n",
    "# print(length(X_GID_sample[train_random_sample,]))\n",
    "# print(length(X_GID_sample[test_random_sample,]))"
   ]
  },
  {
   "cell_type": "code",
   "execution_count": 12,
   "metadata": {},
   "outputs": [],
   "source": [
    "# Combine Train and Test but keep index of separation\n",
    "y <- rbind(as.data.frame(y_train),as.data.frame(y_test))\n",
    "W_CIMMYT <- rbind(as.data.frame(W_CIMMYT_train), as.data.frame(W_CIMMYT_test))\n",
    "# W_gee_sample <- rbind(W_gee_train_sample, W_gee_test_sample)\n",
    "X_GID <- rbind(as.data.frame(X_train_GID), as.data.frame(X_test_GID))"
   ]
  },
  {
   "cell_type": "code",
   "execution_count": null,
   "metadata": {},
   "outputs": [],
   "source": [
    "head(y)\n",
    "print(dim(y))"
   ]
  },
  {
   "cell_type": "code",
   "execution_count": null,
   "metadata": {},
   "outputs": [],
   "source": [
    "head(W_CIMMYT)\n",
    "print(dim(W_CIMMYT))"
   ]
  },
  {
   "cell_type": "code",
   "execution_count": null,
   "metadata": {},
   "outputs": [],
   "source": [
    "head(X_GID)\n",
    "print(dim(X_GID))"
   ]
  },
  {
   "cell_type": "code",
   "execution_count": 13,
   "metadata": {},
   "outputs": [
    {
     "data": {
      "text/html": [
       "<style>\n",
       ".list-inline {list-style: none; margin:0; padding: 0}\n",
       ".list-inline>li {display: inline-block}\n",
       ".list-inline>li:not(:last-child)::after {content: \"\\00b7\"; padding: 0 .5ex}\n",
       "</style>\n",
       "<ol class=list-inline><li>-0.521735424156682</li><li>-0.586830738550053</li><li>0.5826088605868</li><li>0.0222429024172925</li><li>-0.146185533425695</li><li>0.39415109723816</li></ol>\n"
      ],
      "text/latex": [
       "\\begin{enumerate*}\n",
       "\\item -0.521735424156682\n",
       "\\item -0.586830738550053\n",
       "\\item 0.5826088605868\n",
       "\\item 0.0222429024172925\n",
       "\\item -0.146185533425695\n",
       "\\item 0.39415109723816\n",
       "\\end{enumerate*}\n"
      ],
      "text/markdown": [
       "1. -0.521735424156682\n",
       "2. -0.586830738550053\n",
       "3. 0.5826088605868\n",
       "4. 0.0222429024172925\n",
       "5. -0.146185533425695\n",
       "6. 0.39415109723816\n",
       "\n",
       "\n"
      ],
      "text/plain": [
       "[1] -0.5217354 -0.5868307  0.5826089  0.0222429 -0.1461855  0.3941511"
      ]
     },
     "metadata": {},
     "output_type": "display_data"
    }
   ],
   "source": [
    "#set.seed(123)\n",
    "#training.samples <- y_sample$GRAIN_YIELD %>%\n",
    "#  createDataPartition(p = 0.9, list = FALSE)\n",
    "\n",
    "test_id_pos = y[rownames(y_test),]\n",
    "head(test_id_pos)"
   ]
  },
  {
   "cell_type": "code",
   "execution_count": 14,
   "metadata": {},
   "outputs": [],
   "source": [
    "train_rows = nrow(y_train)"
   ]
  },
  {
   "cell_type": "code",
   "execution_count": 15,
   "metadata": {},
   "outputs": [],
   "source": [
    "y_train_na = y$GRAIN_YIELD\n",
    "y_train_na[-seq_len(train_rows)] = NA"
   ]
  },
  {
   "cell_type": "code",
   "execution_count": 20,
   "metadata": {},
   "outputs": [
    {
     "data": {
      "text/html": [
       "<style>\n",
       ".list-inline {list-style: none; margin:0; padding: 0}\n",
       ".list-inline>li {display: inline-block}\n",
       ".list-inline>li:not(:last-child)::after {content: \"\\00b7\"; padding: 0 .5ex}\n",
       "</style>\n",
       "<ol class=list-inline><li>-0.69848286636865</li><li>-0.527279616711606</li><li>-0.713014707188346</li><li>-0.701661706547959</li><li>-0.565425698863308</li><li>-0.315205564749167</li></ol>\n"
      ],
      "text/latex": [
       "\\begin{enumerate*}\n",
       "\\item -0.69848286636865\n",
       "\\item -0.527279616711606\n",
       "\\item -0.713014707188346\n",
       "\\item -0.701661706547959\n",
       "\\item -0.565425698863308\n",
       "\\item -0.315205564749167\n",
       "\\end{enumerate*}\n"
      ],
      "text/markdown": [
       "1. -0.69848286636865\n",
       "2. -0.527279616711606\n",
       "3. -0.713014707188346\n",
       "4. -0.701661706547959\n",
       "5. -0.565425698863308\n",
       "6. -0.315205564749167\n",
       "\n",
       "\n"
      ],
      "text/plain": [
       "[1] -0.6984829 -0.5272796 -0.7130147 -0.7016617 -0.5654257 -0.3152056"
      ]
     },
     "metadata": {},
     "output_type": "display_data"
    }
   ],
   "source": [
    "head(y_train_na)"
   ]
  },
  {
   "cell_type": "code",
   "execution_count": 21,
   "metadata": {},
   "outputs": [
    {
     "data": {
      "text/html": [
       "144099"
      ],
      "text/latex": [
       "144099"
      ],
      "text/markdown": [
       "144099"
      ],
      "text/plain": [
       "[1] 144099"
      ]
     },
     "metadata": {},
     "output_type": "display_data"
    }
   ],
   "source": [
    "length(y_train_na)"
   ]
  },
  {
   "cell_type": "code",
   "execution_count": 22,
   "metadata": {},
   "outputs": [
    {
     "data": {
      "text/html": [
       "<style>\n",
       ".list-inline {list-style: none; margin:0; padding: 0}\n",
       ".list-inline>li {display: inline-block}\n",
       ".list-inline>li:not(:last-child)::after {content: \"\\00b7\"; padding: 0 .5ex}\n",
       "</style>\n",
       "<ol class=list-inline><li>-0.69848286636865</li><li>-0.527279616711606</li><li>-0.713014707188346</li><li>-0.701661706547959</li><li>-0.565425698863308</li><li>-0.315205564749167</li></ol>\n"
      ],
      "text/latex": [
       "\\begin{enumerate*}\n",
       "\\item -0.69848286636865\n",
       "\\item -0.527279616711606\n",
       "\\item -0.713014707188346\n",
       "\\item -0.701661706547959\n",
       "\\item -0.565425698863308\n",
       "\\item -0.315205564749167\n",
       "\\end{enumerate*}\n"
      ],
      "text/markdown": [
       "1. -0.69848286636865\n",
       "2. -0.527279616711606\n",
       "3. -0.713014707188346\n",
       "4. -0.701661706547959\n",
       "5. -0.565425698863308\n",
       "6. -0.315205564749167\n",
       "\n",
       "\n"
      ],
      "text/plain": [
       "[1] -0.6984829 -0.5272796 -0.7130147 -0.7016617 -0.5654257 -0.3152056"
      ]
     },
     "metadata": {},
     "output_type": "display_data"
    }
   ],
   "source": [
    "head(y_train_na[seq_len(train_rows)])"
   ]
  },
  {
   "cell_type": "code",
   "execution_count": 23,
   "metadata": {},
   "outputs": [
    {
     "data": {
      "text/html": [
       "<style>\n",
       ".list-inline {list-style: none; margin:0; padding: 0}\n",
       ".list-inline>li {display: inline-block}\n",
       ".list-inline>li:not(:last-child)::after {content: \"\\00b7\"; padding: 0 .5ex}\n",
       "</style>\n",
       "<ol class=list-inline><li>&lt;NA&gt;</li><li>&lt;NA&gt;</li><li>&lt;NA&gt;</li><li>&lt;NA&gt;</li><li>&lt;NA&gt;</li><li>&lt;NA&gt;</li></ol>\n"
      ],
      "text/latex": [
       "\\begin{enumerate*}\n",
       "\\item <NA>\n",
       "\\item <NA>\n",
       "\\item <NA>\n",
       "\\item <NA>\n",
       "\\item <NA>\n",
       "\\item <NA>\n",
       "\\end{enumerate*}\n"
      ],
      "text/markdown": [
       "1. &lt;NA&gt;\n",
       "2. &lt;NA&gt;\n",
       "3. &lt;NA&gt;\n",
       "4. &lt;NA&gt;\n",
       "5. &lt;NA&gt;\n",
       "6. &lt;NA&gt;\n",
       "\n",
       "\n"
      ],
      "text/plain": [
       "[1] NA NA NA NA NA NA"
      ]
     },
     "metadata": {},
     "output_type": "display_data"
    }
   ],
   "source": [
    "head(y_train_na[-seq_len(train_rows)])"
   ]
  },
  {
   "cell_type": "markdown",
   "metadata": {},
   "source": [
    "## Model 1: Main Variety Effects"
   ]
  },
  {
   "cell_type": "code",
   "execution_count": 17,
   "metadata": {},
   "outputs": [
    {
     "name": "stdout",
     "output_type": "stream",
     "text": [
      "[1] 144099   3489\n",
      "[1] 144099\n"
     ]
    }
   ],
   "source": [
    "# Fitting Model 1 (Main Environment-Line Effects)\n",
    "# (EL)\n",
    "\n",
    "# incidence matrix for main eff. of environments.\n",
    "# ZE = model.matrix(~factor(Y$ENV)-1)     \n",
    "\n",
    "# incidence matrix for main eff. of lines.\n",
    "X_GID$GID = factor(x=X_GID$GID,levels=rownames(A),ordered=TRUE)\n",
    "ZVAR = model.matrix(~X_GID$GID-1)\n",
    "print(dim(ZVAR))\n",
    "print(length(y_train_na))"
   ]
  },
  {
   "cell_type": "code",
   "execution_count": null,
   "metadata": {},
   "outputs": [],
   "source": [
    "# Model Fitting\n",
    "\n",
    "# ETA = list(ENV=list(X=ZE,model='BRR'),\n",
    "#            VAR=list(X=ZVAR,model='BRR'))\n",
    "\n",
    "ETA = list(VAR=list(X=ZVAR,model='BRR'))\n",
    "\n",
    "fm1 = BGLR(y=y_train_na,ETA=ETA,saveAt='M1_',nIter=1000,burnIn=500)"
   ]
  },
  {
   "cell_type": "code",
   "execution_count": null,
   "metadata": {},
   "outputs": [],
   "source": [
    "head(fm1$yHat[-seq_len(train_rows)])"
   ]
  },
  {
   "cell_type": "code",
   "execution_count": null,
   "metadata": {},
   "outputs": [],
   "source": [
    "head(y$GRAIN_YIELD[-seq_len(train_rows)])"
   ]
  },
  {
   "cell_type": "code",
   "execution_count": null,
   "metadata": {},
   "outputs": [],
   "source": [
    "predictions_1 = fm1$yHat[-seq_len(train_rows)]\n",
    "test_values = y$GRAIN_YIELD[-seq_len(train_rows)]\n",
    "R2 = R2(predictions_1, test_values)\n",
    "RMSE = RMSE(predictions_1, test_values)\n",
    "MAE = MAE(predictions_1, test_values)\n",
    "model1_scores = data.frame(R2, RMSE, MAE)\n",
    "print(model1_scores)\n",
    "plot(test_values,predictions_1)"
   ]
  },
  {
   "cell_type": "markdown",
   "metadata": {},
   "source": [
    "## Model 2: Main Pedigree Effects "
   ]
  },
  {
   "cell_type": "code",
   "execution_count": 18,
   "metadata": {},
   "outputs": [],
   "source": [
    "# Alternative Model 2 with Eigendecomposition\n",
    "A = as.matrix(A)/mean(diag(as.matrix(A)))\n",
    "L_star = eigen(A, symmetric =TRUE)\n",
    "Gamma = L_star$vectors\n",
    "Lambda = L_star$values \n",
    "Z_star = ZVAR%*%Gamma%*%(Lambda^0.5)"
   ]
  },
  {
   "cell_type": "code",
   "execution_count": null,
   "metadata": {},
   "outputs": [],
   "source": [
    "# Fitting Model 2 with Alternative Z_star (Main Environment-Pedigree Effects)\n",
    "# (EA)\n",
    "\n",
    "# ETA = list(ENV=list(X=ZE,model='BRR'),\n",
    "#            PED=list(X=Z_star,model='BRR'))\n",
    "\n",
    "ETA = list(PED=list(X=Z_star,model='BRR'))"
   ]
  },
  {
   "cell_type": "code",
   "execution_count": null,
   "metadata": {},
   "outputs": [],
   "source": [
    "fm2 = BGLR(y=y_train_na,ETA=ETA,saveAt='M2_',nIter=2000,burnIn=500)"
   ]
  },
  {
   "cell_type": "code",
   "execution_count": null,
   "metadata": {},
   "outputs": [],
   "source": [
    "predictions_2 = fm2$yHat[-seq_len(train_rows)]\n",
    "test_values = y$GRAIN_YIELD[-seq_len(train_rows)]\n",
    "R2 = R2(predictions_2, test_values)\n",
    "RMSE = RMSE(predictions_2, test_values)\n",
    "MAE = MAE(predictions_2, test_values)\n",
    "model2_scores = data.frame(R2, RMSE, MAE)\n",
    "print(model2_scores)\n",
    "plot(test_values,predictions_2)"
   ]
  },
  {
   "cell_type": "markdown",
   "metadata": {},
   "source": [
    "## Model 3: Just Environment Main Effects"
   ]
  },
  {
   "cell_type": "code",
   "execution_count": 19,
   "metadata": {},
   "outputs": [],
   "source": [
    "W_CIMMYT_div = W_CIMMYT/sqrt(ncol(W_CIMMYT))"
   ]
  },
  {
   "cell_type": "code",
   "execution_count": null,
   "metadata": {},
   "outputs": [],
   "source": [
    "# Model 3 with just EC - CIMMYT\n",
    "ETA = list(EC=list(X=W_CIMMYT_div,model='BRR'))"
   ]
  },
  {
   "cell_type": "code",
   "execution_count": null,
   "metadata": {},
   "outputs": [],
   "source": [
    "fm3_ec_CIMMYT = BGLR(y=y_train_na,ETA=ETA,saveAt='M3_',nIter=2000,burnIn=500)"
   ]
  },
  {
   "cell_type": "code",
   "execution_count": null,
   "metadata": {},
   "outputs": [],
   "source": [
    "predictions_3_CIMMYT = fm3_ec_CIMMYT$yHat[-seq_len(train_rows)]\n",
    "test_values = y$GRAIN_YIELD[-seq_len(train_rows)]\n",
    "R2 = R2(predictions_3_CIMMYT, test_values)\n",
    "corr = cor(predictions_3_CIMMYT, test_values)\n",
    "RMSE = RMSE(predictions_3_CIMMYT, test_values)\n",
    "MAE = MAE(predictions_3_CIMMYT, test_values)\n",
    "model3_CIMMYT_scores = data.frame(R2, RMSE, MAE)\n",
    "print(model3_CIMMYT_scores)\n",
    "plot(test_values,predictions_3_CIMMYT)"
   ]
  },
  {
   "cell_type": "code",
   "execution_count": null,
   "metadata": {},
   "outputs": [],
   "source": [
    "W_gee_sample_div = W_gee_sample/sqrt(ncol(W_gee_sample))"
   ]
  },
  {
   "cell_type": "code",
   "execution_count": null,
   "metadata": {},
   "outputs": [],
   "source": [
    "# Model 3 with just EC - GEE\n",
    "ETA = list(EC=list(X=W_gee_sample_div,model='BRR'))"
   ]
  },
  {
   "cell_type": "code",
   "execution_count": null,
   "metadata": {},
   "outputs": [],
   "source": [
    "fm3_ec_gee = BGLR(y=y_train_na,ETA=ETA,saveAt='M3_',nIter=500,burnIn=200)"
   ]
  },
  {
   "cell_type": "code",
   "execution_count": null,
   "metadata": {},
   "outputs": [],
   "source": [
    "predictions_3_gee = fm3_ec_gee$yHat[-seq_len(train_rows)]\n",
    "test_values = y_sample$GRAIN_YIELD[-seq_len(train_rows)]\n",
    "R2 = R2(predictions_3_gee, test_values)\n",
    "corr = cor(predictions_3_gee, test_values)\n",
    "RMSE = RMSE(predictions_3_gee, test_values)\n",
    "MAE = MAE(predictions_3_gee, test_values)\n",
    "model3_CIMMYT_scores = data.frame(R2, RMSE, MAE)\n",
    "print(model3_CIMMYT_scores)\n",
    "plot(test_values,predictions_3_gee)"
   ]
  },
  {
   "cell_type": "markdown",
   "metadata": {},
   "source": [
    "## Model 4: Main Pedigree and Environment Effects"
   ]
  },
  {
   "cell_type": "code",
   "execution_count": null,
   "metadata": {},
   "outputs": [],
   "source": [
    "# Fitting Model 3_CIMMYT (Main Environment-Pedigree-Environmental Covariate Effects)\n",
    "# (EAW)"
   ]
  },
  {
   "cell_type": "code",
   "execution_count": null,
   "metadata": {},
   "outputs": [],
   "source": [
    "ETA = list(PED=list(X=Z_star,model='BRR'),\n",
    "           EC=list(X=W_CIMMYT_div,model='BRR'))"
   ]
  },
  {
   "cell_type": "code",
   "execution_count": null,
   "metadata": {},
   "outputs": [],
   "source": [
    "fm4_CIMMYT = BGLR(y=y_train_na,ETA=ETA,saveAt='M4_CIM_',nIter=2000,burnIn=500)"
   ]
  },
  {
   "cell_type": "code",
   "execution_count": null,
   "metadata": {},
   "outputs": [],
   "source": [
    "predictions_4_CIMMYT = fm4_CIMMYT$yHat[-seq_len(train_rows)]\n",
    "test_values = y$GRAIN_YIELD[-seq_len(train_rows)]\n",
    "R2 = R2(predictions_4_CIMMYT, test_values)\n",
    "RMSE = RMSE(predictions_4_CIMMYT, test_values)\n",
    "MAE = MAE(predictions_4_CIMMYT, test_values)\n",
    "model4_CIMMYT_scores = data.frame(R2, RMSE, MAE)\n",
    "print(model4_CIMMYT_scores)\n",
    "plot(test_values,predictions_4_CIMMYT)"
   ]
  },
  {
   "cell_type": "code",
   "execution_count": null,
   "metadata": {},
   "outputs": [],
   "source": [
    "# Fitting Model 3_GEE (Main Environment-Pedigree-Environmental Covariate Effects)\n",
    "# (EAW)\n",
    "\n",
    "W_gee_sample_div = W_gee_sample/sqrt(ncol(W_gee_sample))"
   ]
  },
  {
   "cell_type": "code",
   "execution_count": 1,
   "metadata": {},
   "outputs": [
    {
     "ename": "ERROR",
     "evalue": "Error in eval(expr, envir, enclos): object 'Z_star' not found\n",
     "output_type": "error",
     "traceback": [
      "Error in eval(expr, envir, enclos): object 'Z_star' not found\nTraceback:\n"
     ]
    }
   ],
   "source": [
    "ETA = list(PED=list(X=Z_star,model='BRR'),\n",
    "           EC=list(X=W_gee_sample_div,model='BRR'))"
   ]
  },
  {
   "cell_type": "code",
   "execution_count": null,
   "metadata": {},
   "outputs": [],
   "source": [
    "fm4_gee = BGLR(y=y_train_na,ETA=ETA,saveAt='M3_',nIter=500,burnIn=200)\n"
   ]
  },
  {
   "cell_type": "code",
   "execution_count": null,
   "metadata": {},
   "outputs": [],
   "source": [
    "predictions_4_gee = fm4_gee$yHat[-seq_len(train_rows)]\n",
    "test_values = y_sample$GRAIN_YIELD[-seq_len(train_rows)]\n",
    "R2 = R2(predictions_4_gee, test_values)\n",
    "RMSE = RMSE(predictions_4_gee, test_values)\n",
    "MAE = MAE(predictions_4_gee, test_values)\n",
    "model4_gee_scores = data.frame(R2, RMSE, MAE)\n",
    "print(model4_gee_scores)\n",
    "plot(test_values,predictions_4_gee)"
   ]
  },
  {
   "cell_type": "markdown",
   "metadata": {},
   "source": [
    "## Model 5: Main Pedigree, Main Environment, and Interaction Effects"
   ]
  },
  {
   "cell_type": "code",
   "execution_count": 22,
   "metadata": {},
   "outputs": [
    {
     "data": {
      "text/html": [
       "<table>\n",
       "<caption>A matrix: 2 × 6 of type dbl</caption>\n",
       "<thead>\n",
       "\t<tr><th></th><th scope=col>used</th><th scope=col>(Mb)</th><th scope=col>gc trigger</th><th scope=col>(Mb)</th><th scope=col>max used</th><th scope=col>(Mb)</th></tr>\n",
       "</thead>\n",
       "<tbody>\n",
       "\t<tr><th scope=row>Ncells</th><td>    2218363</td><td>   118.5</td><td>    7152185</td><td>   382.0</td><td>    5393861</td><td>   288.1</td></tr>\n",
       "\t<tr><th scope=row>Vcells</th><td>42097751590</td><td>321180.4</td><td>60623354108</td><td>462519.5</td><td>42097813263</td><td>321180.9</td></tr>\n",
       "</tbody>\n",
       "</table>\n"
      ],
      "text/latex": [
       "A matrix: 2 × 6 of type dbl\n",
       "\\begin{tabular}{r|llllll}\n",
       "  & used & (Mb) & gc trigger & (Mb) & max used & (Mb)\\\\\n",
       "\\hline\n",
       "\tNcells &     2218363 &    118.5 &     7152185 &    382.0 &     5393861 &    288.1\\\\\n",
       "\tVcells & 42097751590 & 321180.4 & 60623354108 & 462519.5 & 42097813263 & 321180.9\\\\\n",
       "\\end{tabular}\n"
      ],
      "text/markdown": [
       "\n",
       "A matrix: 2 × 6 of type dbl\n",
       "\n",
       "| <!--/--> | used | (Mb) | gc trigger | (Mb) | max used | (Mb) |\n",
       "|---|---|---|---|---|---|---|\n",
       "| Ncells |     2218363 |    118.5 |     7152185 |    382.0 |     5393861 |    288.1 |\n",
       "| Vcells | 42097751590 | 321180.4 | 60623354108 | 462519.5 | 42097813263 | 321180.9 |\n",
       "\n"
      ],
      "text/plain": [
       "       used        (Mb)     gc trigger  (Mb)     max used    (Mb)    \n",
       "Ncells     2218363    118.5     7152185    382.0     5393861    288.1\n",
       "Vcells 42097751590 321180.4 60623354108 462519.5 42097813263 321180.9"
      ]
     },
     "metadata": {},
     "output_type": "display_data"
    }
   ],
   "source": [
    "gc()"
   ]
  },
  {
   "cell_type": "code",
   "execution_count": 29,
   "metadata": {},
   "outputs": [
    {
     "data": {
      "text/plain": [
       "1.02 TB"
      ]
     },
     "metadata": {},
     "output_type": "display_data"
    }
   ],
   "source": [
    "get_ram()"
   ]
  },
  {
   "cell_type": "code",
   "execution_count": 20,
   "metadata": {},
   "outputs": [],
   "source": [
    "# Fitting Model 5 (Main Environment-Pedigree-Environmental Covariate Effects \n",
    "# with Pedigree-Environmental Covariate Interaction)\n",
    "# (EAW-AxW) CIMMYT\n",
    "\n",
    "# Results in vector of size 157.4 Gb, need sufficient RAM to hold\n",
    "\n",
    "ZAZ = tcrossprod(Z_star)"
   ]
  },
  {
   "cell_type": "code",
   "execution_count": 21,
   "metadata": {},
   "outputs": [],
   "source": [
    "W_matrix = as.matrix(W_CIMMYT_div)\n",
    "\n",
    "WW = tcrossprod(W_matrix)"
   ]
  },
  {
   "cell_type": "code",
   "execution_count": 23,
   "metadata": {},
   "outputs": [],
   "source": [
    "K = ZAZ*WW\n",
    "diag(K) = diag(K)+1/200 \n",
    "K = K/mean(diag(K))"
   ]
  },
  {
   "cell_type": "code",
   "execution_count": null,
   "metadata": {},
   "outputs": [],
   "source": [
    "# L2 = t(chol(K))\n",
    "L_5_star = eigen(K, symmetric =TRUE)\n",
    "Gamma_5 = L_5_star$vectors\n",
    "Lambda_5 = L_5_star$values "
   ]
  },
  {
   "cell_type": "code",
   "execution_count": null,
   "metadata": {},
   "outputs": [],
   "source": [
    "L2 = Gamma_5%*%(Lambda_5^0.5)"
   ]
  },
  {
   "cell_type": "code",
   "execution_count": null,
   "metadata": {},
   "outputs": [],
   "source": [
    "ETA = list(PED=list(X=Z_star,model='BRR'),\n",
    "           EC=list(X=W_matrix,model='BRR'),\n",
    "           AxW=list(X=L2,model='BRR'))"
   ]
  },
  {
   "cell_type": "code",
   "execution_count": null,
   "metadata": {},
   "outputs": [],
   "source": [
    "fm5_CIMMYT = BGLR(y=y_train_na,ETA=ETA, saveAt='M4_',nIter=200,burnIn=500)"
   ]
  },
  {
   "cell_type": "code",
   "execution_count": null,
   "metadata": {},
   "outputs": [],
   "source": [
    "predictions_5_CIMMYT = fm5_CIMMYT$yHat[-seq_len(train_rows)]\n",
    "test_values = y_sample$GRAIN_YIELD[-seq_len(train_rows)]\n",
    "corr = cor(predictions_5_CIMMYT, test_values)\n",
    "R2 = R2(predictions_5_CIMMYT, test_values)\n",
    "RMSE = RMSE(predictions_5_CIMMYT, test_values)\n",
    "MAE = MAE(predictions_5_CIMMYT, test_values)\n",
    "model5_CIMMYT_scores = data.frame(R2, corr, RMSE, MAE)\n",
    "print(model5_CIMMYT_scores)\n",
    "plot(test_values,predictions_5_CIMMYT)"
   ]
  },
  {
   "cell_type": "code",
   "execution_count": null,
   "metadata": {},
   "outputs": [],
   "source": [
    "remove(L2, W_matrix, K, WW)\n",
    "# Garbage Collector to Clear up RAM\n",
    "gc()"
   ]
  },
  {
   "cell_type": "code",
   "execution_count": null,
   "metadata": {},
   "outputs": [],
   "source": [
    "# Fitting Model 5 (Main Environment-Pedigree-Environmental Covariate Effects \n",
    "# with Pedigree-Environmental Covariate Interaction)\n",
    "# (EAW-AxW) GEE\n",
    "\n",
    "# ZAZ = tcrossprod(Z_star) # Already run above\n",
    "\n",
    "W_matrix = as.matrix(W_gee_sample_div)\n",
    "\n",
    "WW = tcrossprod(W_matrix)\n",
    "\n",
    "K = ZAZ*WW\n",
    "diag(K) = diag(K)+1/200 \n",
    "K = K/mean(diag(K))\n",
    "L2 = t(chol(K))"
   ]
  },
  {
   "cell_type": "code",
   "execution_count": null,
   "metadata": {},
   "outputs": [],
   "source": [
    "ETA = list(PED=list(X=Z_star,model='BRR'),\n",
    "           EC=list(X=W_matrix,model='BRR'),\n",
    "           AxW=list(X=L2,model='BRR'))"
   ]
  },
  {
   "cell_type": "code",
   "execution_count": null,
   "metadata": {},
   "outputs": [],
   "source": [
    "fm5_gee = BGLR(y=y_train_na,ETA=ETA, saveAt='M4_',nIter=500,burnIn=200)"
   ]
  },
  {
   "cell_type": "code",
   "execution_count": null,
   "metadata": {},
   "outputs": [],
   "source": [
    "predictions_5_GEE = fm5_gee$yHat[-seq_len(train_rows)]\n",
    "test_values = y_sample$GRAIN_YIELD[-seq_len(train_rows)]\n",
    "R2 = R2(predictions_5_GEE, test_values)\n",
    "corr = cor(predictions_5_GEE, test_values)\n",
    "RMSE = RMSE(predictions_5_GEE, test_values)\n",
    "MAE = MAE(predictions_5_GEE, test_values)\n",
    "model5_GEE_scores = data.frame(R2, corr, RMSE, MAE)\n",
    "print(model5_GEE_scores)\n",
    "plot(test_values,predictions_5_GEE)"
   ]
  }
 ],
 "metadata": {
  "environment": {
   "name": "r-cpu.3-6.m47",
   "type": "gcloud",
   "uri": "gcr.io/deeplearning-platform-release/r-cpu.3-6:m47"
  },
  "kernelspec": {
   "display_name": "R",
   "language": "R",
   "name": "ir"
  },
  "language_info": {
   "codemirror_mode": "r",
   "file_extension": ".r",
   "mimetype": "text/x-r-source",
   "name": "R",
   "pygments_lexer": "r",
   "version": "3.6.3"
  }
 },
 "nbformat": 4,
 "nbformat_minor": 4
}
