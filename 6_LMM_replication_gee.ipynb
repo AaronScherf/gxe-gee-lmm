{
  "nbformat": 4,
  "nbformat_minor": 0,
  "metadata": {
    "colab": {
      "name": "6_LMM_replication_gee.ipynb",
      "provenance": [],
      "collapsed_sections": [
        "AsalBflTF0hr"
      ],
      "machine_shape": "hm",
      "include_colab_link": true
    },
    "kernelspec": {
      "name": "python3",
      "display_name": "Python 3"
    },
    "accelerator": "TPU"
  },
  "cells": [
    {
      "cell_type": "markdown",
      "metadata": {
        "id": "view-in-github",
        "colab_type": "text"
      },
      "source": [
        "<a href=\"https://colab.research.google.com/github/AaronScherf/gxe-gee-lmm/blob/master/6_LMM_replication_gee.ipynb\" target=\"_parent\"><img src=\"https://colab.research.google.com/assets/colab-badge.svg\" alt=\"Open In Colab\"/></a>"
      ]
    },
    {
      "cell_type": "markdown",
      "metadata": {
        "id": "a-6HQBaiXtWG",
        "colab_type": "text"
      },
      "source": [
        "# Predicting Grain Yields with a Pedigree-Based Reaction Norm GxE Model using the BGLR Package in R"
      ]
    },
    {
      "cell_type": "markdown",
      "metadata": {
        "id": "1kajA1zLX1KR",
        "colab_type": "text"
      },
      "source": [
        "From A Pedigree-Based Reaction Norm Model for Prediction of Cotton Yield in Multienvironment Trials\n",
        "\n",
        "https://dl.sciencesocieties.org/publications/cs/abstracts/55/3/1143?access=0&view=pdf"
      ]
    },
    {
      "cell_type": "markdown",
      "metadata": {
        "id": "tePeiYjSXn-r",
        "colab_type": "text"
      },
      "source": [
        "## Install Necessary Packages and Mount Drive"
      ]
    },
    {
      "cell_type": "code",
      "metadata": {
        "id": "TVZumoPImSNG",
        "colab_type": "code",
        "colab": {}
      },
      "source": [
        "# To host on a local runtime:\n",
        "# Run the following from the command line or miniconda shell on your local machine:\n",
        "\n",
        "# pip install jupyter_http_over_ws\n",
        "# jupyter serverextension enable --py jupyter_http_over_ws\n",
        "\n",
        "# conda create -n gxe_gee python=3.7 ipykernel jupyter anaconda\n",
        "# conda activate gxe_gee\n",
        "# ipython kernel install --name gxe_gee --user\n",
        "\n",
        "# jupyter notebook \\ --NotebookApp.allow_origin='https://colab.research.google.com' \\ --port=8888 \\ --NotebookApp.port_retries=0\n",
        "# jupyter notebook  --NotebookApp.allow_origin='https://colab.research.google.com'  --port=8888  --NotebookApp.port_retries=0\n"
      ],
      "execution_count": 0,
      "outputs": []
    },
    {
      "cell_type": "code",
      "metadata": {
        "id": "pQ8487lMr3-d",
        "colab_type": "code",
        "outputId": "0f10b0b9-1057-4c2a-8872-c0991c6b60e8",
        "colab": {
          "base_uri": "https://localhost:8080/",
          "height": 34
        }
      },
      "source": [
        "# Installing rpy2 package through Python to run R code\n",
        "\n",
        "#!pip install rpy2\n",
        "\n",
        "# If pip install doesn't work, try:\n",
        "\n",
        "# !conda install -c r rpy2\n",
        "\n",
        "# If the conda install line doesn't work, or if you have issues on your locally hosted runtime, try the following:\n",
        "# https://anaconda.zendesk.com/hc/en-us/articles/360023857134-Setting-up-rpy2-on-Windows\n"
      ],
      "execution_count": 0,
      "outputs": [
        {
          "output_type": "stream",
          "text": [
            "^C\n"
          ],
          "name": "stdout"
        }
      ]
    },
    {
      "cell_type": "code",
      "metadata": {
        "id": "QbzqEvaOmoLL",
        "colab_type": "code",
        "outputId": "622b6769-6274-463c-9f7a-6fcf67dcf1dc",
        "colab": {
          "base_uri": "https://localhost:8080/",
          "height": 87
        }
      },
      "source": [
        "!pip install tzlocal\n",
        "!pip install simplegeneric"
      ],
      "execution_count": 1,
      "outputs": [
        {
          "output_type": "stream",
          "text": [
            "Requirement already satisfied: tzlocal in /usr/local/lib/python3.6/dist-packages (1.5.1)\n",
            "Requirement already satisfied: pytz in /usr/local/lib/python3.6/dist-packages (from tzlocal) (2018.9)\n",
            "Requirement already satisfied: simplegeneric in /usr/local/lib/python3.6/dist-packages (0.8.1)\n"
          ],
          "name": "stdout"
        }
      ]
    },
    {
      "cell_type": "code",
      "metadata": {
        "id": "z3KP37uakC_w",
        "colab_type": "code",
        "colab": {}
      },
      "source": [
        "# import necessary libraries in Python\n",
        "import pandas as pd\n",
        "import numpy as np\n",
        "import os"
      ],
      "execution_count": 0,
      "outputs": []
    },
    {
      "cell_type": "code",
      "metadata": {
        "id": "CkpvH8E9s8Uq",
        "colab_type": "code",
        "outputId": "10559f0f-1e6f-4895-c7da-6d12474f51cb",
        "colab": {
          "base_uri": "https://localhost:8080/",
          "height": 104
        }
      },
      "source": [
        "# activate R magic\n",
        "%load_ext rpy2.ipython"
      ],
      "execution_count": 2,
      "outputs": [
        {
          "output_type": "stream",
          "text": [
            "/usr/local/lib/python3.6/dist-packages/rpy2/robjects/pandas2ri.py:14: FutureWarning: pandas.core.index is deprecated and will be removed in a future version.  The public classes are available in the top-level namespace.\n",
            "  from pandas.core.index import Index as PandasIndex\n",
            "/usr/local/lib/python3.6/dist-packages/rpy2/robjects/pandas2ri.py:34: UserWarning: pandas >= 1.0 is not supported.\n",
            "  warnings.warn('pandas >= 1.0 is not supported.')\n"
          ],
          "name": "stderr"
        }
      ]
    },
    {
      "cell_type": "code",
      "metadata": {
        "id": "BPQbzAmAs-9x",
        "colab_type": "code",
        "outputId": "4bf47fc6-8f75-4231-d024-dbffe801bf45",
        "colab": {
          "base_uri": "https://localhost:8080/",
          "height": 34
        }
      },
      "source": [
        "import rpy2\n",
        "import rpy2.robjects as ro\n",
        "from rpy2.robjects.packages import importr\n",
        "from rpy2.robjects import pandas2ri\n",
        "from rpy2.robjects.conversion import localconverter\n",
        "\n",
        "# import R's \"base\" package\n",
        "base = importr('base')\n",
        "\n",
        "# import rpy2's package module\n",
        "import rpy2.robjects.packages as rpackages\n",
        "\n",
        "# import R's utility package\n",
        "utils = rpackages.importr('utils')\n",
        "\n",
        "# select a mirror for R packages\n",
        "utils.chooseCRANmirror(ind=1) # select the first mirror in the list"
      ],
      "execution_count": 3,
      "outputs": [
        {
          "output_type": "execute_result",
          "data": {
            "text/plain": [
              "<rpy2.rinterface.NULLType object at 0x7ff04e5ed848> [RTYPES.NILSXP]"
            ]
          },
          "metadata": {
            "tags": []
          },
          "execution_count": 3
        }
      ]
    },
    {
      "cell_type": "code",
      "metadata": {
        "id": "XcJL36uwtBFD",
        "colab_type": "code",
        "colab": {}
      },
      "source": [
        "# Import the pandas2ri functions and activate\n",
        "from rpy2.robjects import pandas2ri\n",
        "pandas2ri.activate()"
      ],
      "execution_count": 0,
      "outputs": []
    },
    {
      "cell_type": "code",
      "metadata": {
        "id": "eq9UlYsMtGRJ",
        "colab_type": "code",
        "colab": {}
      },
      "source": [
        "%%capture\n",
        "%%R # Install other R Packages\n",
        "# May result in RunTimeWarnings, these can be ignored\n",
        "install.packages('dplyr')\n",
        "install.packages('tidyverse')\n",
        "install.packages('caret')\n",
        "install.packages('BGLR')"
      ],
      "execution_count": 0,
      "outputs": []
    },
    {
      "cell_type": "code",
      "metadata": {
        "id": "hlig2r4stNgf",
        "colab_type": "code",
        "colab": {
          "base_uri": "https://localhost:8080/",
          "height": 591
        },
        "outputId": "24fa6df3-3fab-40ee-8dbd-0dc49632d8ac"
      },
      "source": [
        "%%R \n",
        "require(\"dplyr\")\n",
        "require('BGLR')\n",
        "require('tidyverse')\n",
        "require('caret')"
      ],
      "execution_count": 5,
      "outputs": [
        {
          "output_type": "stream",
          "text": [
            "R[write to console]: Loading required package: dplyr\n",
            "\n",
            "R[write to console]: \n",
            "Attaching package: ‘dplyr’\n",
            "\n",
            "\n",
            "R[write to console]: The following objects are masked from ‘package:stats’:\n",
            "\n",
            "    filter, lag\n",
            "\n",
            "\n",
            "R[write to console]: The following objects are masked from ‘package:base’:\n",
            "\n",
            "    intersect, setdiff, setequal, union\n",
            "\n",
            "\n",
            "R[write to console]: Loading required package: BGLR\n",
            "\n",
            "R[write to console]: Loading required package: tidyverse\n",
            "\n",
            "R[write to console]: ── Attaching packages ─────────────────────────────────────── tidyverse 1.3.0 ──\n",
            "\n",
            "R[write to console]: ✔ ggplot2 3.3.0     ✔ purrr   0.3.3\n",
            "✔ tibble  3.0.0     ✔ stringr 1.4.0\n",
            "✔ tidyr   1.0.2     ✔ forcats 0.5.0\n",
            "✔ readr   1.3.1     \n",
            "\n",
            "R[write to console]: ── Conflicts ────────────────────────────────────────── tidyverse_conflicts() ──\n",
            "✖ dplyr::filter() masks stats::filter()\n",
            "✖ dplyr::lag()    masks stats::lag()\n",
            "\n",
            "R[write to console]: Loading required package: caret\n",
            "\n"
          ],
          "name": "stderr"
        }
      ]
    },
    {
      "cell_type": "code",
      "metadata": {
        "id": "yB1UmC8JtQHI",
        "colab_type": "code",
        "outputId": "76fcf288-929d-4fde-b3f3-c1941bd9aec8",
        "colab": {
          "base_uri": "https://localhost:8080/",
          "height": 121
        }
      },
      "source": [
        "# Mount the Colab notebook in Google Drive\n",
        "# Only if running from a hosted runtime in Colab, ignore if running locally\n",
        "\n",
        "from google.colab import drive # import drive from google colab\n",
        "\n",
        "drive.mount(\"/content/drive\")  # mount the google drive at /content/drive"
      ],
      "execution_count": 6,
      "outputs": [
        {
          "output_type": "stream",
          "text": [
            "Go to this URL in a browser: https://accounts.google.com/o/oauth2/auth?client_id=947318989803-6bn6qk8qdgf4n4g3pfee6491hc0brc4i.apps.googleusercontent.com&redirect_uri=urn%3aietf%3awg%3aoauth%3a2.0%3aoob&response_type=code&scope=email%20https%3a%2f%2fwww.googleapis.com%2fauth%2fdocs.test%20https%3a%2f%2fwww.googleapis.com%2fauth%2fdrive%20https%3a%2f%2fwww.googleapis.com%2fauth%2fdrive.photos.readonly%20https%3a%2f%2fwww.googleapis.com%2fauth%2fpeopleapi.readonly\n",
            "\n",
            "Enter your authorization code:\n",
            "··········\n",
            "Mounted at /content/drive\n"
          ],
          "name": "stdout"
        }
      ]
    },
    {
      "cell_type": "code",
      "metadata": {
        "id": "gl6uub3ctT5w",
        "colab_type": "code",
        "outputId": "fd2a49ba-81ac-4ea6-801f-96921e221858",
        "colab": {
          "base_uri": "https://localhost:8080/",
          "height": 34
        }
      },
      "source": [
        "# Search for the root directory of the project in Drive and save as a path string\n",
        "\n",
        "parent_dir_name = 'GxE with GEE'\n",
        "\n",
        "for dirpath, subdirs, files in os.walk('/content'):\n",
        "  if parent_dir_name in subdirs:\n",
        "    parent_path = dirpath + \"/\" + parent_dir_name\n",
        "\n",
        "parent_path"
      ],
      "execution_count": 7,
      "outputs": [
        {
          "output_type": "execute_result",
          "data": {
            "text/plain": [
              "'/content/drive/My Drive/Research/GxE with GEE'"
            ]
          },
          "metadata": {
            "tags": []
          },
          "execution_count": 7
        }
      ]
    },
    {
      "cell_type": "code",
      "metadata": {
        "id": "6h3IIAS_tV6a",
        "colab_type": "code",
        "outputId": "0a99b7e9-2152-4e56-cad8-4b43175fbd30",
        "colab": {
          "base_uri": "https://localhost:8080/",
          "height": 34
        }
      },
      "source": [
        "# Set Data Path\n",
        "## Change the destination to your Drive directory containing the folder 'raw_data.zip'\n",
        "data_path_end = '/Colab Workspace/Data'\n",
        "data_path = parent_path + data_path_end\n",
        "os.chdir(data_path)\n",
        "os.getcwd()"
      ],
      "execution_count": 8,
      "outputs": [
        {
          "output_type": "execute_result",
          "data": {
            "text/plain": [
              "'/content/drive/My Drive/Research/GxE with GEE/Colab Workspace/Data'"
            ]
          },
          "metadata": {
            "tags": []
          },
          "execution_count": 8
        }
      ]
    },
    {
      "cell_type": "code",
      "metadata": {
        "id": "SLWiVgolryB4",
        "colab_type": "code",
        "outputId": "d6b52b42-e34d-4a78-d39c-710bb99921cc",
        "colab": {
          "base_uri": "https://localhost:8080/",
          "height": 34
        }
      },
      "source": [
        "# Locally hosted version, just set the destination manually\n",
        "\n",
        "# data_path = 'C:/Users/theaa/Downloads'\n",
        "# os.chdir('C:/Users/theaa/Downloads')\n",
        "# os.getcwd()"
      ],
      "execution_count": 0,
      "outputs": [
        {
          "output_type": "execute_result",
          "data": {
            "text/plain": [
              "'C:\\\\Users\\\\theaa\\\\Downloads'"
            ]
          },
          "metadata": {
            "tags": []
          },
          "execution_count": 7
        }
      ]
    },
    {
      "cell_type": "code",
      "metadata": {
        "id": "KXuMH9_M-wzn",
        "colab_type": "code",
        "colab": {}
      },
      "source": [
        "%%R -i data_path\n",
        "# Import the parent_path object from Python and use to set the R working directory\n",
        " setwd(data_path)"
      ],
      "execution_count": 0,
      "outputs": []
    },
    {
      "cell_type": "code",
      "metadata": {
        "id": "RrKjdYvF-yjf",
        "colab_type": "code",
        "colab": {
          "base_uri": "https://localhost:8080/",
          "height": 34
        },
        "outputId": "3b08ad02-0668-4800-c9d4-ddb64d6c5dbc"
      },
      "source": [
        "%%R\n",
        "getwd()"
      ],
      "execution_count": 10,
      "outputs": [
        {
          "output_type": "stream",
          "text": [
            "[1] \"/content/drive/My Drive/Research/GxE with GEE/Colab Workspace/Data\"\n"
          ],
          "name": "stdout"
        }
      ]
    },
    {
      "cell_type": "markdown",
      "metadata": {
        "id": "ri0RPLCDGrYA",
        "colab_type": "text"
      },
      "source": [
        "## Methods Source Papers\n",
        "\n",
        "From A Pedigree-Based Reaction Norm Model for Prediction of Cotton Yield in Multienvironment Trials\n",
        "\n",
        "https://dl.sciencesocieties.org/publications/cs/abstracts/55/3/1143?access=0&view=pdf"
      ]
    },
    {
      "cell_type": "markdown",
      "metadata": {
        "id": "WCr7772MG4_d",
        "colab_type": "text"
      },
      "source": [
        "### Description of Data Objects\n",
        "\n",
        "* `Y`: data frame containing the elements described below;\n",
        "\n",
        "  * `Y$grain_yield` (n×1), a numeric vector with centered and standardized yield;\n",
        "\n",
        "  * `Y$VAR`  (n×1), a factor giving the IDs for the varieties;\n",
        "\n",
        "  * `Y$ENV` (n×1), a factor giving the IDs for the environments (year-location);\n",
        "\n",
        "* `A`: a symmetric positive semi-definite matrix containing the pedigree or marker-based relationships (dimensions equal to number of lines by number of lines). We assume that the `rownames(A)=colnames(A)` gives the IDs of the lines;\n",
        "\n",
        "* `W`: a matrix containing the environmental covariates (n×q).\n"
      ]
    },
    {
      "cell_type": "markdown",
      "metadata": {
        "id": "0YXXcVcbh7v_",
        "colab_type": "text"
      },
      "source": [
        "## Import Data and Prep for Analysis"
      ]
    },
    {
      "cell_type": "code",
      "metadata": {
        "id": "SMLx69HjNXwa",
        "colab_type": "code",
        "colab": {}
      },
      "source": [
        "# Import pickle of target data and export as CSV\n",
        "y_train_scaled = pd.read_pickle('y_train_scaled.pkl')\n",
        "y_test_scaled = pd.read_pickle('y_test_scaled.pkl')\n",
        "y_train_scaled.to_csv('y_train_scaled.csv')\n",
        "y_test_scaled.to_csv('y_test_scaled.csv')"
      ],
      "execution_count": 0,
      "outputs": []
    },
    {
      "cell_type": "code",
      "metadata": {
        "id": "wzCeYFvRNV7X",
        "colab_type": "code",
        "colab": {}
      },
      "source": [
        "# Import pickle of CIMMYT environmental variables and export as CSV\n",
        "X_train_scaled = pd.read_pickle('X_train_scaled.pkl')\n",
        "X_test_scaled = pd.read_pickle('X_test_scaled.pkl')\n",
        "X_train_scaled.to_csv('X_train_scaled.csv')\n",
        "X_test_scaled.to_csv('X_test_scaled.csv')"
      ],
      "execution_count": 0,
      "outputs": []
    },
    {
      "cell_type": "code",
      "metadata": {
        "id": "dpbEjIQ7NTR5",
        "colab_type": "code",
        "colab": {}
      },
      "source": [
        "# Import pickle of GEE environmental variables and export as CSV\n",
        "X_train_gee_scaled = pd.read_pickle('X_train_gee_scaled.pkl')\n",
        "X_test_gee_scaled = pd.read_pickle('X_test_gee_scaled.pkl')\n",
        "X_train_gee_scaled.to_csv('X_train_gee_scaled.csv')\n",
        "X_test_gee_scaled.to_csv('X_test_gee_scaled.csv')"
      ],
      "execution_count": 0,
      "outputs": []
    },
    {
      "cell_type": "code",
      "metadata": {
        "id": "2g5XBrboOgig",
        "colab_type": "code",
        "colab": {}
      },
      "source": [
        "# Import pickle of pedigree coefficient matrix and export as CSV\n",
        "A = pd.read_pickle('A_matrix_unique.pkl')\n",
        "A.to_csv('A_matrix_unique.csv')"
      ],
      "execution_count": 0,
      "outputs": []
    },
    {
      "cell_type": "code",
      "metadata": {
        "id": "cWuR955ZOZaq",
        "colab_type": "code",
        "colab": {}
      },
      "source": [
        "%%R\n",
        "# Import CSV files of target data\n",
        "y_train <- read.csv('y_train_scaled.csv', row.names = 1)\n",
        "y_test <- read.csv('y_test_scaled.csv', row.names = 1)"
      ],
      "execution_count": 0,
      "outputs": []
    },
    {
      "cell_type": "code",
      "metadata": {
        "id": "XWp8d4c5SNnq",
        "colab_type": "code",
        "colab": {
          "base_uri": "https://localhost:8080/",
          "height": 50
        },
        "outputId": "009c6027-61b5-4d03-edf7-9641ff12e951"
      },
      "source": [
        "%%R\n",
        "print(dim(y_train))\n",
        "print(dim(y_test))"
      ],
      "execution_count": 18,
      "outputs": [
        {
          "output_type": "stream",
          "text": [
            "[1] 93146     1\n",
            "[1] 23287     1\n"
          ],
          "name": "stdout"
        }
      ]
    },
    {
      "cell_type": "code",
      "metadata": {
        "id": "3DFgH1t2Nc9d",
        "colab_type": "code",
        "colab": {}
      },
      "source": [
        "%%R\n",
        "# Import CSV files of environmental data for CIMMYT and GEE\n",
        "W_CIMMYT_train <- read.csv('X_train_scaled.csv', row.names = 1)\n",
        "W_CIMMYT_test <- read.csv('X_test_scaled.csv', row.names = 1)\n",
        "W_gee_train <- read.csv('X_train_gee_scaled.csv', row.names = 1)\n",
        "W_gee_test <- read.csv('X_test_gee_scaled.csv', row.names = 1)"
      ],
      "execution_count": 0,
      "outputs": []
    },
    {
      "cell_type": "code",
      "metadata": {
        "id": "HRZ9FAdjRQ04",
        "colab_type": "code",
        "colab": {
          "base_uri": "https://localhost:8080/",
          "height": 84
        },
        "outputId": "85dbc858-ea32-4103-c95b-a501b4fa3785"
      },
      "source": [
        "%%R\n",
        "print(dim(W_CIMMYT_train))\n",
        "print(dim(W_CIMMYT_test))\n",
        "print(dim(W_gee_train))\n",
        "print(dim(W_gee_test))"
      ],
      "execution_count": 17,
      "outputs": [
        {
          "output_type": "stream",
          "text": [
            "[1] 93146    58\n",
            "[1] 23287    58\n",
            "[1] 93146   260\n",
            "[1] 23287   260\n"
          ],
          "name": "stdout"
        }
      ]
    },
    {
      "cell_type": "code",
      "metadata": {
        "id": "yt0bTWBIs_LR",
        "colab_type": "code",
        "colab": {}
      },
      "source": [
        "%%R\n",
        "# Import pedigree matrix\n",
        "A <- read.csv('A_matrix_unique.csv', row.names = 1)"
      ],
      "execution_count": 0,
      "outputs": []
    },
    {
      "cell_type": "code",
      "metadata": {
        "id": "GEudqtRCSRZt",
        "colab_type": "code",
        "colab": {
          "base_uri": "https://localhost:8080/",
          "height": 34
        },
        "outputId": "488597f2-8fd7-4667-bc68-9e3e8221f167"
      },
      "source": [
        "%%R\n",
        "dim(A)"
      ],
      "execution_count": 22,
      "outputs": [
        {
          "output_type": "stream",
          "text": [
            "[1] 3443 3443\n"
          ],
          "name": "stdout"
        }
      ]
    },
    {
      "cell_type": "code",
      "metadata": {
        "id": "Xk0QZy8DcSVd",
        "colab_type": "code",
        "colab": {
          "base_uri": "https://localhost:8080/",
          "height": 50
        },
        "outputId": "53a2ba1d-9467-44b2-f965-eed750c6bd8c"
      },
      "source": [
        "%%R\n",
        "# A matrix doesn't read in well as a CSV, need to repeat some processing steps\n",
        "# Remove the X prefix from the column names\n",
        "names(A) <- substring(names(A),2)\n",
        "A <- A[order(rownames(A)),order(names(A))]\n",
        "print(colnames(A)[1])\n",
        "print(rownames(A)[1])"
      ],
      "execution_count": 19,
      "outputs": [
        {
          "output_type": "stream",
          "text": [
            "[1] \"100507\"\n",
            "[1] \"100507\"\n"
          ],
          "name": "stdout"
        }
      ]
    },
    {
      "cell_type": "code",
      "metadata": {
        "id": "HseerK3CS8Xq",
        "colab_type": "code",
        "colab": {
          "base_uri": "https://localhost:8080/",
          "height": 118
        },
        "outputId": "a738c72d-22dd-4c9a-a57c-c8b9ccbc5dc6"
      },
      "source": [
        "%%R\n",
        "A[1:5,1:5]"
      ],
      "execution_count": 42,
      "outputs": [
        {
          "output_type": "stream",
          "text": [
            "        X100507  X100761  X1047493  X1050296  X1058137\n",
            "100507      1.5 0.000000 0.0000000 0.0000000 0.0000000\n",
            "100761      0.0 1.527344 0.0000000 0.0000000 0.0000000\n",
            "1047493     0.0 0.000000 1.5905526 0.5575323 0.2434399\n",
            "1050296     0.0 0.000000 0.5575323 1.6102377 0.2187396\n",
            "1058137     0.0 0.000000 0.2434399 0.2187396 1.4766731\n"
          ],
          "name": "stdout"
        }
      ]
    },
    {
      "cell_type": "code",
      "metadata": {
        "id": "7BHgBw4RVg7M",
        "colab_type": "code",
        "colab": {}
      },
      "source": [
        "%%R\n",
        "X_train_GID <- read.csv('X_train_GID.csv', row.names=1)\n",
        "X_test_GID <- read.csv('X_test_GID.csv',row.names=1)"
      ],
      "execution_count": 0,
      "outputs": []
    },
    {
      "cell_type": "code",
      "metadata": {
        "id": "l6D3fYHuYyRt",
        "colab_type": "code",
        "colab": {
          "base_uri": "https://localhost:8080/",
          "height": 134
        },
        "outputId": "df5b7536-6da1-4921-e855-3370cdd4f3da"
      },
      "source": [
        "%%R\n",
        "head(X_train_GID)"
      ],
      "execution_count": 63,
      "outputs": [
        {
          "output_type": "stream",
          "text": [
            "                            GID\n",
            "36ESWYT_20027_560623_14 6934907\n",
            "17ESWYT_65001_48579_21   143058\n",
            "37ESWYT_22210_562707_52 7047479\n",
            "2SAWYT_53002_20593_321    88598\n",
            "21ESWYT_20409_122467_76  376718\n",
            "21ESWYT_47503_91275_32  1301802\n"
          ],
          "name": "stdout"
        }
      ]
    },
    {
      "cell_type": "markdown",
      "metadata": {
        "colab_type": "text",
        "id": "LE-DRJvtWXVU"
      },
      "source": [
        "## Run Model on Sample of Data\n",
        "\n",
        "Full dataset is too large, creates a 156Gb matrix and crashes the instance"
      ]
    },
    {
      "cell_type": "code",
      "metadata": {
        "id": "8KMMcnVjPzaM",
        "colab_type": "code",
        "colab": {
          "base_uri": "https://localhost:8080/",
          "height": 34
        },
        "outputId": "c9f940ec-7cc7-4843-da1f-157ab357f417"
      },
      "source": [
        "%%R\n",
        "# Set Sample Indices\n",
        "train_random_sample <- sample(nrow(y_train), size = (nrow(y_train) * 0.15))\n",
        "test_random_sample <- sample(nrow(y_test), size = (nrow(y_test) * 0.15))\n",
        "train_random_sample[0:5]"
      ],
      "execution_count": 21,
      "outputs": [
        {
          "output_type": "stream",
          "text": [
            "[1]  9540 76646 34640 33686 15928\n"
          ],
          "name": "stdout"
        }
      ]
    },
    {
      "cell_type": "code",
      "metadata": {
        "id": "5gl8ZyTQTJVl",
        "colab_type": "code",
        "colab": {}
      },
      "source": [
        "%%R\n",
        "# Sample Target Data\n",
        "y_train_sample <- as.data.frame(y_train[train_random_sample,], row.names = row.names(y_train)[train_random_sample])\n",
        "colnames(y_train_sample) <- c('GRAIN_YIELD')\n",
        "y_test_sample <- as.data.frame(y_test[test_random_sample,], row.names = row.names(y_test)[test_random_sample])\n",
        "colnames(y_test_sample) <- c('GRAIN_YIELD')\n",
        "\n",
        "# Sample CIMMYT Environmental Data\n",
        "W_CIMMYT_train_sample <- W_CIMMYT_train[train_random_sample,]\n",
        "W_CIMMYT_test_sample <- W_CIMMYT_test[test_random_sample,]\n",
        "\n",
        "# Sample GEE Environmental Data\n",
        "W_gee_train_sample <- W_gee_train[train_random_sample,]\n",
        "W_gee_test_sample <- W_gee_test[test_random_sample,]\n",
        "\n",
        "# Sample Unique GID List\n",
        "X_train_GID_sample <- as.data.frame(X_train_GID[train_random_sample,], row.names = row.names(X_train_GID)[train_random_sample])\n",
        "colnames(X_train_GID_sample) <- c('GID')\n",
        "X_test_GID_sample <- as.data.frame(X_test_GID[test_random_sample,], row.names = row.names(X_test_GID)[test_random_sample])\n",
        "colnames(X_test_GID_sample) <- c('GID')"
      ],
      "execution_count": 0,
      "outputs": []
    },
    {
      "cell_type": "code",
      "metadata": {
        "id": "5A8RXaD3c-rb",
        "colab_type": "code",
        "colab": {
          "base_uri": "https://localhost:8080/",
          "height": 50
        },
        "outputId": "e74392aa-b87b-402d-f0a6-2060c9ef92b2"
      },
      "source": [
        "%%R\n",
        "# Combine Train and Test but keep index of separation\n",
        "y_sample <- rbind(y_train_sample,y_test_sample)\n",
        "W_CIMMYT_sample <- rbind(W_CIMMYT_train_sample, W_CIMMYT_test_sample)\n",
        "W_gee_sample <- rbind(W_gee_train_sample, W_gee_test_sample)\n",
        "X_GID_sample <- rbind(X_train_GID_sample, X_test_GID_sample)\n",
        "print(length(y_sample[train_random_sample,]))\n",
        "print(length(y_sample[test_random_sample,]))"
      ],
      "execution_count": 23,
      "outputs": [
        {
          "output_type": "stream",
          "text": [
            "[1] 13971\n",
            "[1] 3493\n"
          ],
          "name": "stdout"
        }
      ]
    },
    {
      "cell_type": "code",
      "metadata": {
        "id": "ZCiWBDljgsE1",
        "colab_type": "code",
        "colab": {
          "base_uri": "https://localhost:8080/",
          "height": 134
        },
        "outputId": "d9fe964d-032c-4219-a2a7-0472a73c0550"
      },
      "source": [
        "%%R\n",
        "head(X_GID_sample)"
      ],
      "execution_count": 28,
      "outputs": [
        {
          "output_type": "stream",
          "text": [
            "                             GID\n",
            "11SAWYT_25201_158452_133 3574436\n",
            "17ESWYT_22612_8626_465    447647\n",
            "5HRWYT_21103_8779_136     455512\n",
            "17SAWYT_51003_437242_88  5423700\n",
            "5ESWYT_53002_8918_5        41800\n",
            "4ESWYT_11101_7691_85       20424\n"
          ],
          "name": "stdout"
        }
      ]
    },
    {
      "cell_type": "code",
      "metadata": {
        "id": "Q6hByAFlopIJ",
        "colab_type": "code",
        "colab": {
          "base_uri": "https://localhost:8080/",
          "height": 423
        },
        "outputId": "e8d96d17-5cf6-4280-e9de-7698453e1376"
      },
      "source": [
        "%%R\n",
        "set.seed(123)\n",
        "training.samples <- y_sample$GRAIN_YIELD %>%\n",
        "  createDataPartition(p = 0.8, list = FALSE)\n",
        "\n",
        "y_train_na = y_sample$GRAIN_YIELD\n",
        "y_train_na[-training.samples] = NA"
      ],
      "execution_count": 24,
      "outputs": [
        {
          "output_type": "stream",
          "text": [
            "R[write to console]: Error in createDataPartition(., p = 0.8, list = FALSE) : \n",
            "  could not find function \"createDataPartition\"\n",
            "Calls: <Anonymous> ... eval -> _fseq -> freduce -> withVisible -> <Anonymous>\n",
            "\n",
            "R[write to console]: In addition: \n",
            "R[write to console]: Warning messages:\n",
            "\n",
            "R[write to console]: 1: \n",
            "R[write to console]: In library(package, lib.loc = lib.loc, character.only = TRUE, logical.return = TRUE,  :\n",
            "R[write to console]: \n",
            " \n",
            "R[write to console]:  there is no package called ‘BGLR’\n",
            "\n",
            "R[write to console]: 2: \n",
            "R[write to console]: In library(package, lib.loc = lib.loc, character.only = TRUE, logical.return = TRUE,  :\n",
            "R[write to console]: \n",
            " \n",
            "R[write to console]:  there is no package called ‘caret’\n",
            "\n"
          ],
          "name": "stderr"
        },
        {
          "output_type": "stream",
          "text": [
            "\n",
            "Error in createDataPartition(., p = 0.8, list = FALSE) : \n",
            "  could not find function \"createDataPartition\"\n",
            "Calls: <Anonymous> ... eval -> _fseq -> freduce -> withVisible -> <Anonymous>\n"
          ],
          "name": "stdout"
        }
      ]
    },
    {
      "cell_type": "markdown",
      "metadata": {
        "id": "8nw9TjMNLnXN",
        "colab_type": "text"
      },
      "source": [
        "## Model 1 : Main Variety Effects"
      ]
    },
    {
      "cell_type": "code",
      "metadata": {
        "colab_type": "code",
        "id": "H1kut5VaWXVX",
        "colab": {
          "base_uri": "https://localhost:8080/",
          "height": 154
        },
        "outputId": "be14155a-7e16-45f2-c664-a479b4258d5d"
      },
      "source": [
        "%%R\n",
        "# Fitting Model 1 (Main Environment-Line Effects)\n",
        "# (EL)\n",
        "\n",
        "# incidence matrix for main eff. of environments.\n",
        "# ZE = model.matrix(~factor(Y$ENV)-1)     \n",
        "\n",
        "# incidence matrix for main eff. of lines.\n",
        "X_GID_sample$GID = factor(x=X_GID_sample$GID,levels=rownames(A),ordered=TRUE)\n",
        "ZVAR = model.matrix(~X_GID_sample$GID-1)\n",
        "print(dim(ZVAR))\n",
        "print(length(y_train_na))"
      ],
      "execution_count": 25,
      "outputs": [
        {
          "output_type": "stream",
          "text": [
            "[1] 17464  3443\n"
          ],
          "name": "stdout"
        },
        {
          "output_type": "stream",
          "text": [
            "R[write to console]: Error in print(length(y_train_na)) : object 'y_train_na' not found\n",
            "Calls: <Anonymous> -> <Anonymous> -> withVisible -> print\n",
            "\n"
          ],
          "name": "stderr"
        },
        {
          "output_type": "stream",
          "text": [
            "\n",
            "Error in print(length(y_train_na)) : object 'y_train_na' not found\n",
            "Calls: <Anonymous> -> <Anonymous> -> withVisible -> print\n"
          ],
          "name": "stdout"
        }
      ]
    },
    {
      "cell_type": "code",
      "metadata": {
        "colab_type": "code",
        "id": "whXhLOeVWXVd",
        "colab": {}
      },
      "source": [
        "%%R\n",
        "# Model Fitting\n",
        "\n",
        "# ETA = list(ENV=list(X=ZE,model='BRR'),\n",
        "#            VAR=list(X=ZVAR,model='BRR'))\n",
        "\t\n",
        "ETA = list(VAR=list(X=ZVAR,model='BRR'))\n",
        "\n",
        "fm1 = BGLR(y=y_train_na,ETA=ETA,saveAt='M1_',nIter=500,burnIn=200)"
      ],
      "execution_count": 0,
      "outputs": []
    },
    {
      "cell_type": "code",
      "metadata": {
        "colab_type": "code",
        "id": "ZnJbbRd5WXVh",
        "outputId": "5cac267c-1219-4c50-b90c-b0c5dd4656cd",
        "colab": {
          "base_uri": "https://localhost:8080/",
          "height": 530
        }
      },
      "source": [
        "%%R\n",
        "predictions_1 = fm1$yHat[-train_random_sample]\n",
        "test_values = y_sample$GRAIN_YIELD[-train_random_sample]\n",
        "R2 = R2(predictions_1, test_values)\n",
        "RMSE = RMSE(predictions_1, test_values)\n",
        "MAE = MAE(predictions_1, test_values)\n",
        "model1_scores = data.frame(R2, RMSE, MAE)\n",
        "print(model1_scores)\n",
        "plot(test_values,predictions_1)"
      ],
      "execution_count": 28,
      "outputs": [
        {
          "output_type": "stream",
          "text": [
            "         R2     RMSE       MAE\n",
            "1 0.1468556 0.956388 0.7575749\n"
          ],
          "name": "stdout"
        },
        {
          "output_type": "display_data",
          "data": {
            "image/png": "[encoded data removed]"
          },
          "metadata": {
            "tags": []
          }
        }
      ]
    },
    {
      "cell_type": "markdown",
      "metadata": {
        "id": "b45rwUk0Ltva",
        "colab_type": "text"
      },
      "source": [
        "## Model 2: Main Pedigree Effects"
      ]
    },
    {
      "cell_type": "code",
      "metadata": {
        "id": "nwf0egoLvL--",
        "colab_type": "code",
        "colab": {}
      },
      "source": [
        "%%R\n",
        "# Alternative Model 2 with Eigendecomposition\n",
        "\n",
        "L_star = eigen(A, symmetric =TRUE)\n",
        "Gamma = L_star$vectors\n",
        "Lambda = L_star$values \n",
        "Z_star = ZVAR%*%Gamma%*%(Lambda^0.5)\n",
        "\n"
      ],
      "execution_count": 0,
      "outputs": []
    },
    {
      "cell_type": "code",
      "metadata": {
        "id": "7DPCJfjzqPzC",
        "colab_type": "code",
        "colab": {}
      },
      "source": [
        "%%R\n",
        "# Fitting Model 2 with Alternative Z_star (Main Environment-Pedigree Effects)\n",
        "# (EA)\n",
        "\n",
        "# ETA = list(ENV=list(X=ZE,model='BRR'),\n",
        "#            PED=list(X=Z_star,model='BRR'))\n",
        "\n",
        "ETA = list(PED=list(X=Z_star,model='BRR'))\n",
        "\t\n",
        "fm2 = BGLR(y=y_train_na,ETA=ETA,saveAt='M2_',nIter=500,burnIn=100)"
      ],
      "execution_count": 0,
      "outputs": []
    },
    {
      "cell_type": "code",
      "metadata": {
        "id": "x2XMfocdvNxR",
        "colab_type": "code",
        "colab": {}
      },
      "source": [
        "%%R\n",
        "predictions_2 = fm2$yHat[-train_random_sample]\n",
        "test_values = y_sample$GRAIN_YIELD[-train_random_sample]\n",
        "R2 = R2(predictions_2, test_values)\n",
        "RMSE = RMSE(predictions_2, test_values)\n",
        "MAE = MAE(predictions_2, test_values)\n",
        "model2_scores = data.frame(R2, RMSE, MAE)\n",
        "print(model2_scores)\n",
        "plot(test_values,predictions_2)"
      ],
      "execution_count": 0,
      "outputs": []
    },
    {
      "cell_type": "markdown",
      "metadata": {
        "id": "wbkZ9UbTLyqu",
        "colab_type": "text"
      },
      "source": [
        "### Original Model 2 Code"
      ]
    },
    {
      "cell_type": "code",
      "metadata": {
        "colab_type": "code",
        "id": "7cULDW0mWXVm",
        "colab": {}
      },
      "source": [
        "%%R\n",
        "# Fitting Model 2 (Main Environment-Pedigree Effects)\n",
        "# (EA)\n",
        "\n",
        "# A = A/mean(diag(A))\n",
        "# L = t(chol(A))\n",
        "# ZL = ZVAR%*%L\n",
        "\n",
        "# ETA = list(ENV=list(X=ZE,model='BRR'),\n",
        "#            PED=list(X=ZL,model='BRR'))\n",
        "\t\n",
        "# fm2 = BGLR(y=y_train,ETA=ETA,saveAt='M2_',nIter=500,burnIn=200)\n"
      ],
      "execution_count": 0,
      "outputs": []
    },
    {
      "cell_type": "code",
      "metadata": {
        "colab_type": "code",
        "id": "FMbwmgwdWXVs",
        "colab": {}
      },
      "source": [
        "%%R\n",
        "# predictions = fm2$yHat[-training.samples]\n",
        "# test_values = Y$grain_yield[-training.samples]\n",
        "# print(data.frame( R2 = R2(predictions, test_values),\n",
        "#             RMSE = RMSE(predictions, test_values),\n",
        "#             MAE = MAE(predictions, test_values)))\n",
        "\n",
        "# plot(test_values,predictions)"
      ],
      "execution_count": 0,
      "outputs": []
    },
    {
      "cell_type": "markdown",
      "metadata": {
        "id": "ev5u_RjKL8Cn",
        "colab_type": "text"
      },
      "source": [
        "## Model 3: Just Environment Main Effects"
      ]
    },
    {
      "cell_type": "code",
      "metadata": {
        "id": "rRZwjngkLIBB",
        "colab_type": "code",
        "colab": {}
      },
      "source": [
        "%%R\n",
        "# Model 3 with just EC\n",
        "ETA = list(EC=list(X=W_CIMMYT_sample_div,model='BRR'))\n",
        "\n",
        "fm3_ec_CIMMYT = BGLR(y=y_train_na,ETA=ETA,saveAt='M3_',nIter=500,burnIn=200)\n"
      ],
      "execution_count": 0,
      "outputs": []
    },
    {
      "cell_type": "code",
      "metadata": {
        "id": "063OW5qXLSHd",
        "colab_type": "code",
        "colab": {}
      },
      "source": [
        "%%R\n",
        "predictions_3_CIMMYT = fm3_ec_CIMMYT$yHat[-train_random_sample]\n",
        "test_values = y_sample$GRAIN_YIELD[-train_random_sample]\n",
        "R2 = R2(predictions_3_CIMMYT, test_values)\n",
        "corr = cor(predictions_3_CIMMYT, test_values)\n",
        "RMSE = RMSE(predictions_3_CIMMYT, test_values)\n",
        "MAE = MAE(predictions_3_CIMMYT, test_values)\n",
        "model3_CIMMYT_scores = data.frame(R2, RMSE, MAE)\n",
        "print(model3_CIMMYT_scores)\n",
        "plot(test_values,predictions_3_CIMMYT)"
      ],
      "execution_count": 0,
      "outputs": []
    },
    {
      "cell_type": "code",
      "metadata": {
        "id": "7JdWdZmyLUac",
        "colab_type": "code",
        "colab": {}
      },
      "source": [
        "%%R\n",
        "# Model 3 with just EC\n",
        "ETA = list(EC=list(X=W_gee_sample_div,model='BRR'))\n",
        "\n",
        "fm3_ec_gee = BGLR(y=y_train_na,ETA=ETA,saveAt='M3_',nIter=500,burnIn=200)\n"
      ],
      "execution_count": 0,
      "outputs": []
    },
    {
      "cell_type": "code",
      "metadata": {
        "id": "_HOU5e1HLYju",
        "colab_type": "code",
        "colab": {}
      },
      "source": [
        "%%R\n",
        "predictions_3_gee = fm3_ec_gee$yHat[-train_random_sample]\n",
        "test_values = y_sample$GRAIN_YIELD[-train_random_sample]\n",
        "R2 = R2(predictions_3_gee, test_values)\n",
        "corr = cor(predictions_3_gee, test_values)\n",
        "RMSE = RMSE(predictions_3_gee, test_values)\n",
        "MAE = MAE(predictions_3_gee, test_values)\n",
        "model3_CIMMYT_scores = data.frame(R2, RMSE, MAE)\n",
        "print(model3_CIMMYT_scores)\n",
        "plot(test_values,predictions_3_gee)"
      ],
      "execution_count": 0,
      "outputs": []
    },
    {
      "cell_type": "markdown",
      "metadata": {
        "id": "4sTZ20J0L09v",
        "colab_type": "text"
      },
      "source": [
        "## Model 4: Main Pedigree and Environment Effects"
      ]
    },
    {
      "cell_type": "code",
      "metadata": {
        "colab_type": "code",
        "id": "9JE6vWzHWXVv",
        "colab": {}
      },
      "source": [
        "%%R\n",
        "# Fitting Model 3_CIMMYT (Main Environment-Pedigree-Environmental Covariate Effects)\n",
        "# (EAW)\n",
        "\n",
        "W_CIMMYT_sample_div = W_CIMMYT_sample/sqrt(ncol(W_CIMMYT_sample))\n"
      ],
      "execution_count": 0,
      "outputs": []
    },
    {
      "cell_type": "code",
      "metadata": {
        "id": "7ys5TKBCB4gk",
        "colab_type": "code",
        "colab": {}
      },
      "source": [
        "%%R\n",
        "ETA = list(PED=list(X=Z_star,model='BRR'),\n",
        "           EC=list(X=W_CIMMYT_sample_div,model='BRR'))\n",
        "\n",
        "fm3_CIMMYT = BGLR(y=y_train_na,ETA=ETA,saveAt='M3_',nIter=500,burnIn=200)\n"
      ],
      "execution_count": 0,
      "outputs": []
    },
    {
      "cell_type": "code",
      "metadata": {
        "colab_type": "code",
        "id": "5JL4khkHWXVz",
        "outputId": "52b3ec42-a836-4132-af49-48fd2719dbd9",
        "colab": {
          "base_uri": "https://localhost:8080/",
          "height": 530
        }
      },
      "source": [
        "%%R\n",
        "predictions_3_CIMMYT = fm3_CIMMYT$yHat[-train_random_sample]\n",
        "test_values = y_sample$GRAIN_YIELD[-train_random_sample]\n",
        "R2 = R2(predictions_3_CIMMYT, test_values)\n",
        "RMSE = RMSE(predictions_3_CIMMYT, test_values)\n",
        "MAE = MAE(predictions_3_CIMMYT, test_values)\n",
        "model3_CIMMYT_scores = data.frame(R2, RMSE, MAE)\n",
        "print(model3_CIMMYT_scores)\n",
        "plot(test_values,predictions_3_CIMMYT)"
      ],
      "execution_count": 39,
      "outputs": [
        {
          "output_type": "stream",
          "text": [
            "         R2      RMSE       MAE\n",
            "1 0.1285132 0.9333706 0.7374322\n"
          ],
          "name": "stdout"
        },
        {
          "output_type": "display_data",
          "data": {
            "image/png": "[encoded data removed]"
          },
          "metadata": {
            "tags": []
          }
        }
      ]
    },
    {
      "cell_type": "code",
      "metadata": {
        "id": "wJvU76jy8F9n",
        "colab_type": "code",
        "colab": {}
      },
      "source": [
        "%%R\n",
        "# Fitting Model 3_GEE (Main Environment-Pedigree-Environmental Covariate Effects)\n",
        "# (EAW)\n",
        "\n",
        "W_gee_sample_div = W_gee_sample/sqrt(ncol(W_gee_sample))\n"
      ],
      "execution_count": 0,
      "outputs": []
    },
    {
      "cell_type": "code",
      "metadata": {
        "id": "qVlq0gvyFNGf",
        "colab_type": "code",
        "colab": {}
      },
      "source": [
        "\n",
        "ETA = list(PED=list(X=Z_star,model='BRR'),\n",
        "           EC=list(X=W_gee_sample_div,model='BRR'))\n",
        "\n",
        "fm3_gee = BGLR(y=y_train_na,ETA=ETA,saveAt='M3_',nIter=500,burnIn=200)\n"
      ],
      "execution_count": 0,
      "outputs": []
    },
    {
      "cell_type": "code",
      "metadata": {
        "id": "QcSS16Dr8bVj",
        "colab_type": "code",
        "colab": {}
      },
      "source": [
        "%%R\n",
        "predictions_3_gee = fm3_gee$yHat[-train_random_sample]\n",
        "test_values = y_sample$GRAIN_YIELD[-train_random_sample]\n",
        "R2 = R2(predictions_3_gee, test_values)\n",
        "RMSE = RMSE(predictions_3_gee, test_values)\n",
        "MAE = MAE(predictions_3_gee, test_values)\n",
        "model3_gee_scores = data.frame(R2, RMSE, MAE)\n",
        "print(model3_gee_scores)\n",
        "plot(test_values,predictions_3_gee)"
      ],
      "execution_count": 0,
      "outputs": []
    },
    {
      "cell_type": "markdown",
      "metadata": {
        "id": "F0xh7pY6L_e7",
        "colab_type": "text"
      },
      "source": [
        "## Model 5: Main Pedigree, Main Environment, and Interaction Effects"
      ]
    },
    {
      "cell_type": "code",
      "metadata": {
        "colab_type": "code",
        "id": "k3jCA928WXV3",
        "colab": {}
      },
      "source": [
        "%%R\n",
        "# Fitting Model 4 (Main Environment-Pedigree-Environmental Covariate Effects \n",
        "# with Pedigree-Environmental Covariate Interaction)\n",
        "# (EAW-AxW) CIMMYT\n",
        "\n",
        "# Results in vector of size 157.4 Gb, need sufficient RAM to hold\n",
        "\n",
        "ZAZ = tcrossprod(Z_star)\n",
        "\n",
        "W_matrix = as.matrix(W_CIMMYT_sample_div)\n",
        "\n",
        "WW = tcrossprod(W_matrix)\n",
        "\n",
        "K = ZAZ*WW\n",
        "diag(K) = diag(K)+1/200 \n",
        "K = K/mean(diag(K))\n",
        "L2 = t(chol(K))"
      ],
      "execution_count": 0,
      "outputs": []
    },
    {
      "cell_type": "code",
      "metadata": {
        "id": "_E8ZqJ7Db10M",
        "colab_type": "code",
        "colab": {}
      },
      "source": [
        "%%R\n",
        "ETA = list(PED=list(X=Z_star,model='BRR'),\n",
        "           EC=list(X=W_matrix,model='BRR'),\n",
        "           AxW=list(X=L2,model='BRR'))\n",
        "\n",
        "fm4_CIMMYT = BGLR(y=y_train_na,ETA=ETA, saveAt='M4_',nIter=500,burnIn=200)"
      ],
      "execution_count": 0,
      "outputs": []
    },
    {
      "cell_type": "code",
      "metadata": {
        "colab_type": "code",
        "id": "UYepS4pEWXV7",
        "colab": {
          "base_uri": "https://localhost:8080/",
          "height": 530
        },
        "outputId": "10aa0572-461d-41d3-b769-3f9a1f69e4d7"
      },
      "source": [
        "%%R\n",
        "predictions_4 = fm4_CIMMYT$yHat[-train_random_sample]\n",
        "test_values = y_sample$GRAIN_YIELD[-train_random_sample]\n",
        "corr = cor(predictions_4, test_values)\n",
        "R2 = R2(predictions_4, test_values)\n",
        "RMSE = RMSE(predictions_4, test_values)\n",
        "MAE = MAE(predictions_4, test_values)\n",
        "model4_scores = data.frame(R2, corr, RMSE, MAE)\n",
        "print(model4_scores)\n",
        "plot(test_values,predictions_4)"
      ],
      "execution_count": 34,
      "outputs": [
        {
          "output_type": "stream",
          "text": [
            "        R2      RMSE       MAE\n",
            "1 0.129605 0.9356254 0.7381873\n"
          ],
          "name": "stdout"
        },
        {
          "output_type": "display_data",
          "data": {
            "image/png": "[encoded data removed]"
          },
          "metadata": {
            "tags": []
          }
        }
      ]
    },
    {
      "cell_type": "code",
      "metadata": {
        "id": "sDHKLmRrDjWJ",
        "colab_type": "code",
        "colab": {}
      },
      "source": [
        "%%R\n",
        "remove(L2, W_matrix, K, WW)"
      ],
      "execution_count": 0,
      "outputs": []
    },
    {
      "cell_type": "code",
      "metadata": {
        "id": "Je0JEp4qE1MJ",
        "colab_type": "code",
        "colab": {
          "base_uri": "https://localhost:8080/",
          "height": 67
        },
        "outputId": "c07f8102-f8dc-47a5-aa72-43e97c1c6627"
      },
      "source": [
        "%%R\n",
        "# Garbage Collector to Clear up RAM\n",
        "gc()"
      ],
      "execution_count": 36,
      "outputs": [
        {
          "output_type": "stream",
          "text": [
            "          [,1]   [,2]       [,3]    [,4]       [,5]    [,6]\n",
            "[1,]   2564579  137.0    7524052   401.9    5109968   273.0\n",
            "[2,] 764075096 5829.5 2279741304 17393.1 2849674259 21741.3\n"
          ],
          "name": "stdout"
        }
      ]
    },
    {
      "cell_type": "code",
      "metadata": {
        "id": "odsaCsBg-LUQ",
        "colab_type": "code",
        "colab": {}
      },
      "source": [
        "%%R\n",
        "# Fitting Model 4 (Main Environment-Pedigree-Environmental Covariate Effects \n",
        "# with Pedigree-Environmental Covariate Interaction)\n",
        "# (EAW-AxW) GEE\n",
        "\n",
        "# ZAZ = tcrossprod(Z_star) # Already run above\n",
        "\n",
        "W_matrix = as.matrix(W_gee_sample_div)\n",
        "\n",
        "WW = tcrossprod(W_matrix)\n",
        "\n",
        "K = ZAZ*WW\n",
        "diag(K) = diag(K)+1/200 \n",
        "K = K/mean(diag(K))\n",
        "L2 = t(chol(K))"
      ],
      "execution_count": 0,
      "outputs": []
    },
    {
      "cell_type": "code",
      "metadata": {
        "id": "UzePkVG1GPFG",
        "colab_type": "code",
        "colab": {
          "base_uri": "https://localhost:8080/",
          "height": 675
        },
        "outputId": "24ab31aa-2dad-4483-9910-d321720cd906"
      },
      "source": [
        "%%R\n",
        "ETA = list(PED=list(X=Z_star,model='BRR'),\n",
        "           EC=list(X=W_matrix,model='BRR'),\n",
        "           AxW=list(X=L2,model='BRR'))\n",
        "\n",
        "fm4_gee = BGLR(y=y_train_na,ETA=ETA, saveAt='M4_',nIter=500,burnIn=200)"
      ],
      "execution_count": 0,
      "outputs": [
        {
          "output_type": "stream",
          "text": [
            "R[write to console]: \n",
            "\n",
            "\n",
            "R[write to console]: #--------------------------------------------------------------------#\n",
            "\n",
            "R[write to console]: #        _\\\\|//_                                                     #\n",
            "\n",
            "R[write to console]: #       (` o-o ')      BGLR v1.0.8                                   #\n",
            "\n",
            "R[write to console]: #------ooO-(_)-Ooo---------------------------------------------------#\n",
            "\n",
            "R[write to console]: #                      Bayesian Generalized Linear Regression        #\n",
            "\n",
            "R[write to console]: #                      Gustavo de los Campos, gdeloscampos@gmail.com #\n",
            "\n",
            "R[write to console]: #    .oooO     Oooo.   Paulino Perez-Rodriguez, perpdgo@gmail.com    #\n",
            "\n",
            "R[write to console]: #    (   )     (   )   November, 2018                                #\n",
            "\n",
            "R[write to console]: #_____\\ (_______) /_________________________________________________ #\n",
            "\n",
            "R[write to console]: #      \\_)     (_/                                                   #\n",
            "\n",
            "R[write to console]: #                                                                    #\n",
            "\n",
            "R[write to console]: #------------------------------------------------------------------- #\n",
            "\n",
            "R[write to console]: \n",
            "\n",
            "\n",
            "R[write to console]: Degree of freedom of LP 1  set to default value (5)\n",
            "\n",
            "R[write to console]: Scale parameter of LP 1  set to default value (0.800788211210686)\n",
            "\n",
            "R[write to console]: Degree of freedom of LP 2  set to default value (5)\n",
            "\n",
            "R[write to console]: Scale parameter of LP 2  set to default value (1.16863621413422)\n",
            "\n"
          ],
          "name": "stderr"
        }
      ]
    },
    {
      "cell_type": "code",
      "metadata": {
        "id": "Uk87mm50GUtN",
        "colab_type": "code",
        "colab": {}
      },
      "source": [
        "%%R\n",
        "predictions_4 = fm4_gee$yHat[-train_random_sample]\n",
        "test_values = y_sample$GRAIN_YIELD[-train_random_sample]\n",
        "R2 = R2(predictions_4, test_values)\n",
        "corr = cor(predictions_4, test_values)\n",
        "RMSE = RMSE(predictions_4, test_values)\n",
        "MAE = MAE(predictions_4, test_values)\n",
        "model4_scores = data.frame(R2, corr, RMSE, MAE)\n",
        "print(model4_scores)\n",
        "plot(test_values,predictions_4)"
      ],
      "execution_count": 0,
      "outputs": []
    }
  ]
}