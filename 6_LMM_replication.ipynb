{
 "cells": [
  {
   "cell_type": "markdown",
   "metadata": {
    "colab_type": "text",
    "id": "a-6HQBaiXtWG"
   },
   "source": [
    "# Predicting Grain Yields with a Pedigree-Based Reaction Norm GxE Model using the BGLR Package in R"
   ]
  },
  {
   "cell_type": "markdown",
   "metadata": {
    "colab_type": "text",
    "id": "1kajA1zLX1KR"
   },
   "source": [
    "From A Pedigree-Based Reaction Norm Model for Prediction of Cotton Yield in Multienvironment Trials\n",
    "\n",
    "https://dl.sciencesocieties.org/publications/cs/abstracts/55/3/1143?access=0&view=pdf"
   ]
  },
  {
   "cell_type": "markdown",
   "metadata": {
    "colab_type": "text",
    "id": "tePeiYjSXn-r"
   },
   "source": [
    "## Install Necessary Packages and Mount Drive"
   ]
  },
  {
   "cell_type": "code",
   "execution_count": null,
   "metadata": {
    "colab": {},
    "colab_type": "code",
    "id": "TVZumoPImSNG"
   },
   "outputs": [],
   "source": [
    "# To host on a local runtime:\n",
    "# Run the following from the command line or miniconda shell on your local machine:\n",
    "\n",
    "# pip install jupyter_http_over_ws\n",
    "# jupyter serverextension enable --py jupyter_http_over_ws\n",
    "\n",
    "# conda create -n gxe_gee python=3.7 ipykernel jupyter anaconda\n",
    "# conda activate gxe_gee\n",
    "# ipython kernel install --name gxe_gee --user\n",
    "\n",
    "# jupyter notebook \\ --NotebookApp.allow_origin='https://colab.research.google.com' \\ --port=8888 \\ --NotebookApp.port_retries=0\n",
    "# jupyter notebook  --NotebookApp.allow_origin='https://colab.research.google.com'  --port=8888  --NotebookApp.port_retries=0\n"
   ]
  },
  {
   "cell_type": "code",
   "execution_count": null,
   "metadata": {
    "colab": {
     "base_uri": "https://localhost:8080/",
     "height": 34
    },
    "colab_type": "code",
    "id": "pQ8487lMr3-d",
    "outputId": "0f10b0b9-1057-4c2a-8872-c0991c6b60e8"
   },
   "outputs": [],
   "source": [
    "# Installing rpy2 package through Python to run R code\n",
    "\n",
    "#!pip install rpy2\n",
    "\n",
    "# If pip install doesn't work, try:\n",
    "\n",
    "# !conda install -c r rpy2\n",
    "\n",
    "# If the conda install line doesn't work, or if you have issues on your locally hosted runtime, try the following:\n",
    "# https://anaconda.zendesk.com/hc/en-us/articles/360023857134-Setting-up-rpy2-on-Windows\n"
   ]
  },
  {
   "cell_type": "code",
   "execution_count": null,
   "metadata": {
    "colab": {
     "base_uri": "https://localhost:8080/",
     "height": 87
    },
    "colab_type": "code",
    "id": "QbzqEvaOmoLL",
    "outputId": "3106c495-c03b-4033-daed-682b3773f86c"
   },
   "outputs": [],
   "source": [
    "!pip install tzlocal\n",
    "!pip install simplegeneric"
   ]
  },
  {
   "cell_type": "code",
   "execution_count": 1,
   "metadata": {
    "colab": {},
    "colab_type": "code",
    "id": "z3KP37uakC_w"
   },
   "outputs": [],
   "source": [
    "# import necessary libraries in Python\n",
    "import pandas as pd\n",
    "import numpy as np\n",
    "import os"
   ]
  },
  {
   "cell_type": "code",
   "execution_count": 2,
   "metadata": {
    "colab": {
     "base_uri": "https://localhost:8080/",
     "height": 70
    },
    "colab_type": "code",
    "id": "CkpvH8E9s8Uq",
    "outputId": "0b0c4878-3d61-4fe9-ed45-394afb72373a"
   },
   "outputs": [
    {
     "name": "stderr",
     "output_type": "stream",
     "text": [
      "/opt/conda/lib/python3.7/site-packages/rpy2/robjects/pandas2ri.py:14: FutureWarning: pandas.core.index is deprecated and will be removed in a future version.  The public classes are available in the top-level namespace.\n",
      "  from pandas.core.index import Index as PandasIndex\n"
     ]
    }
   ],
   "source": [
    "# activate R magic\n",
    "%load_ext rpy2.ipython"
   ]
  },
  {
   "cell_type": "code",
   "execution_count": 3,
   "metadata": {
    "colab": {
     "base_uri": "https://localhost:8080/",
     "height": 34
    },
    "colab_type": "code",
    "id": "BPQbzAmAs-9x",
    "outputId": "79b5afd8-d7cf-43b0-c4e6-278c0fe5761b"
   },
   "outputs": [
    {
     "data": {
      "text/plain": [
       "<rpy2.rinterface.NULLType object at 0x7f40e9f69870> [RTYPES.NILSXP]"
      ]
     },
     "execution_count": 3,
     "metadata": {},
     "output_type": "execute_result"
    }
   ],
   "source": [
    "import rpy2\n",
    "import rpy2.robjects as ro\n",
    "from rpy2.robjects.packages import importr\n",
    "from rpy2.robjects import pandas2ri\n",
    "from rpy2.robjects.conversion import localconverter\n",
    "\n",
    "# import R's \"base\" package\n",
    "base = importr('base')\n",
    "\n",
    "# import rpy2's package module\n",
    "import rpy2.robjects.packages as rpackages\n",
    "\n",
    "# import R's utility package\n",
    "utils = rpackages.importr('utils')\n",
    "\n",
    "# select a mirror for R packages\n",
    "utils.chooseCRANmirror(ind=1) # select the first mirror in the list"
   ]
  },
  {
   "cell_type": "code",
   "execution_count": 4,
   "metadata": {
    "colab": {},
    "colab_type": "code",
    "id": "XcJL36uwtBFD"
   },
   "outputs": [],
   "source": [
    "# Import the pandas2ri functions and activate\n",
    "from rpy2.robjects import pandas2ri\n",
    "pandas2ri.activate()"
   ]
  },
  {
   "cell_type": "code",
   "execution_count": null,
   "metadata": {
    "colab": {},
    "colab_type": "code",
    "id": "eq9UlYsMtGRJ"
   },
   "outputs": [],
   "source": [
    "%%capture\n",
    "%%R # Install other R Packages\n",
    "# May result in RunTimeWarnings, these can be ignored\n",
    "install.packages('ggplot2')\n",
    "install.packages('dplyr')\n",
    "install.packages('tidyverse')\n",
    "install.packages('caret')\n",
    "install.packages(\"VIM\")\n",
    "install.packages('BGLR')"
   ]
  },
  {
   "cell_type": "code",
   "execution_count": 5,
   "metadata": {
    "colab": {},
    "colab_type": "code",
    "id": "hlig2r4stNgf"
   },
   "outputs": [
    {
     "name": "stderr",
     "output_type": "stream",
     "text": [
      "R[write to console]: Loading required package: dplyr\n",
      "\n",
      "R[write to console]: \n",
      "Attaching package: ‘dplyr’\n",
      "\n",
      "\n",
      "R[write to console]: The following objects are masked from ‘package:stats’:\n",
      "\n",
      "    filter, lag\n",
      "\n",
      "\n",
      "R[write to console]: The following objects are masked from ‘package:base’:\n",
      "\n",
      "    intersect, setdiff, setequal, union\n",
      "\n",
      "\n",
      "R[write to console]: Loading required package: BGLR\n",
      "\n",
      "R[write to console]: Loading required package: tidyverse\n",
      "\n",
      "R[write to console]: ── Attaching packages ─────────────────────────────────────── tidyverse 1.3.0 ──\n",
      "\n",
      "R[write to console]: ✔ ggplot2 3.3.0     ✔ purrr   0.3.3\n",
      "✔ tibble  3.0.0     ✔ stringr 1.4.0\n",
      "✔ tidyr   1.0.2     ✔ forcats 0.5.0\n",
      "✔ readr   1.3.1     \n",
      "\n",
      "R[write to console]: ── Conflicts ────────────────────────────────────────── tidyverse_conflicts() ──\n",
      "✖ dplyr::filter() masks stats::filter()\n",
      "✖ dplyr::lag()    masks stats::lag()\n",
      "\n",
      "R[write to console]: Loading required package: caret\n",
      "\n",
      "R[write to console]: Loading required package: lattice\n",
      "\n",
      "R[write to console]: \n",
      "Attaching package: ‘caret’\n",
      "\n",
      "\n",
      "R[write to console]: The following object is masked from ‘package:purrr’:\n",
      "\n",
      "    lift\n",
      "\n",
      "\n",
      "R[write to console]: Loading required package: VIM\n",
      "\n",
      "R[write to console]: Loading required package: colorspace\n",
      "\n",
      "R[write to console]: Loading required package: grid\n",
      "\n",
      "R[write to console]: Loading required package: data.table\n",
      "\n",
      "R[write to console]: \n",
      "Attaching package: ‘data.table’\n",
      "\n",
      "\n",
      "R[write to console]: The following object is masked from ‘package:purrr’:\n",
      "\n",
      "    transpose\n",
      "\n",
      "\n",
      "R[write to console]: The following objects are masked from ‘package:dplyr’:\n",
      "\n",
      "    between, first, last\n",
      "\n",
      "\n",
      "R[write to console]: VIM is ready to use. \n",
      " Since version 4.0.0 the GUI is in its own package VIMGUI.\n",
      "\n",
      "          Please use the package to use the new (and old) GUI.\n",
      "\n",
      "\n",
      "R[write to console]: Suggestions and bug-reports can be submitted at: https://github.com/alexkowa/VIM/issues\n",
      "\n",
      "R[write to console]: \n",
      "Attaching package: ‘VIM’\n",
      "\n",
      "\n",
      "R[write to console]: The following object is masked from ‘package:datasets’:\n",
      "\n",
      "    sleep\n",
      "\n",
      "\n"
     ]
    }
   ],
   "source": [
    "%%R \n",
    "require(\"dplyr\")\n",
    "require('BGLR')\n",
    "require('tidyverse')\n",
    "require('caret')\n",
    "require('VIM')"
   ]
  },
  {
   "cell_type": "code",
   "execution_count": null,
   "metadata": {
    "colab": {
     "base_uri": "https://localhost:8080/",
     "height": 54
    },
    "colab_type": "code",
    "id": "yB1UmC8JtQHI",
    "outputId": "37b1d7ad-16ef-4333-e47a-990b2c374f43"
   },
   "outputs": [],
   "source": [
    "# Mount the Colab notebook in Google Drive\n",
    "# Only if running from a hosted runtime in Colab, ignore if running locally\n",
    "\n",
    "#from google.colab import drive # import drive from google colab\n",
    "\n",
    "# drive.mount(\"/content/drive\")  # mount the google drive at /content/drive"
   ]
  },
  {
   "cell_type": "code",
   "execution_count": null,
   "metadata": {
    "colab": {
     "base_uri": "https://localhost:8080/",
     "height": 34
    },
    "colab_type": "code",
    "id": "gl6uub3ctT5w",
    "outputId": "0d3b545c-1727-4e1f-f31b-67dcf4f8004a"
   },
   "outputs": [],
   "source": [
    "# Search for the root directory of the project in Drive and save as a path string\n",
    "\n",
    "# parent_dir_name = 'GxE with GEE'\n",
    "\n",
    "# for dirpath, subdirs, files in os.walk('/content'):\n",
    "#   if parent_dir_name in subdirs:\n",
    "#     parent_path = dirpath + \"/\" + parent_dir_name\n",
    "\n",
    "# parent_path"
   ]
  },
  {
   "cell_type": "code",
   "execution_count": null,
   "metadata": {
    "colab": {
     "base_uri": "https://localhost:8080/",
     "height": 34
    },
    "colab_type": "code",
    "id": "6h3IIAS_tV6a",
    "outputId": "22d6cda1-1e05-411b-c4e6-d64a8810ff4a"
   },
   "outputs": [],
   "source": [
    "# Set Data Path\n",
    "## Change the destination to your Drive directory containing the folder 'raw_data.zip'\n",
    "# data_path_end = '/Colab Workspace/Data'\n",
    "# data_path = parent_path + data_path_end\n",
    "# os.chdir(data_path)\n",
    "# os.getcwd()"
   ]
  },
  {
   "cell_type": "code",
   "execution_count": null,
   "metadata": {
    "colab": {
     "base_uri": "https://localhost:8080/",
     "height": 34
    },
    "colab_type": "code",
    "id": "SLWiVgolryB4",
    "outputId": "d6b52b42-e34d-4a78-d39c-710bb99921cc"
   },
   "outputs": [],
   "source": [
    "# Locally hosted version, just set the destination manually\n",
    "\n",
    "# data_path = 'C:/Users/theaa/Downloads'\n",
    "# os.chdir('C:/Users/theaa/Downloads')\n",
    "# os.getcwd()"
   ]
  },
  {
   "cell_type": "code",
   "execution_count": null,
   "metadata": {
    "colab": {},
    "colab_type": "code",
    "id": "KXuMH9_M-wzn"
   },
   "outputs": [],
   "source": [
    "%%R -i data_path\n",
    "# Import the parent_path object from Python and use to set the R working directory\n",
    " setwd(data_path)"
   ]
  },
  {
   "cell_type": "code",
   "execution_count": null,
   "metadata": {
    "colab": {},
    "colab_type": "code",
    "id": "RrKjdYvF-yjf"
   },
   "outputs": [],
   "source": [
    "%%R\n",
    "getwd()"
   ]
  },
  {
   "cell_type": "markdown",
   "metadata": {
    "colab_type": "text",
    "id": "ri0RPLCDGrYA"
   },
   "source": [
    "## Processing Sample Data\n",
    "\n",
    "From A Pedigree-Based Reaction Norm Model for Prediction of Cotton Yield in Multienvironment Trials\n",
    "\n",
    "https://dl.sciencesocieties.org/publications/cs/abstracts/55/3/1143?access=0&view=pdf"
   ]
  },
  {
   "cell_type": "markdown",
   "metadata": {
    "colab_type": "text",
    "id": "WCr7772MG4_d"
   },
   "source": [
    "### Description of Data Objects\n",
    "\n",
    "* `Y`: data frame containing the elements described below;\n",
    "\n",
    "  * `Y$grain_yield` (n×1), a numeric vector with centered and standardized yield;\n",
    "\n",
    "  * `Y$VAR`  (n×1), a factor giving the IDs for the varieties;\n",
    "\n",
    "  * `Y$ENV` (n×1), a factor giving the IDs for the environments (year-location);\n",
    "\n",
    "* `A`: a symmetric positive semi-definite matrix containing the pedigree or marker-based relationships (dimensions equal to number of lines by number of lines). We assume that the `rownames(A)=colnames(A)` gives the IDs of the lines;\n",
    "\n",
    "* `W`: a matrix containing the environmental covariates (n×q).\n"
   ]
  },
  {
   "cell_type": "markdown",
   "metadata": {
    "colab_type": "text",
    "id": "RzPcpBt8Ge0_"
   },
   "source": [
    "## Processing the Entire Dataset"
   ]
  },
  {
   "cell_type": "markdown",
   "metadata": {
    "colab_type": "text",
    "id": "2ATqD2JrR85b"
   },
   "source": [
    "### Import and Process CIMMYT Data"
   ]
  },
  {
   "cell_type": "code",
   "execution_count": null,
   "metadata": {
    "colab": {},
    "colab_type": "code",
    "id": "-_rT78sZSE4d"
   },
   "outputs": [],
   "source": [
    "data = pd.read_pickle('proc_data.pkl')\n",
    "data.columns=data.columns.str.upper()\n",
    "data.head()"
   ]
  },
  {
   "cell_type": "code",
   "execution_count": null,
   "metadata": {
    "colab": {},
    "colab_type": "code",
    "id": "Qzd9V_KNGhgt"
   },
   "outputs": [],
   "source": [
    "# Save Data from Python Environment to CSV\n",
    "data['GRAIN_YIELD'] = pd.to_numeric(data['GRAIN YIELD'],errors='coerce')\n",
    "data.drop_duplicates(subset=['UNIQUE_ID'],inplace=True)\n",
    "data.dropna(subset=['GRAIN_YIELD'],inplace=True)\n",
    "data.dropna(subset=['HARVEST_FINISHING_DATE'],inplace=True)\n",
    "data.dropna(subset=['GENO_ID'],inplace=True)\n",
    "\n",
    "data = data.astype(str)\n",
    "data.to_csv('yield_data.csv')"
   ]
  },
  {
   "cell_type": "code",
   "execution_count": null,
   "metadata": {
    "colab": {
     "base_uri": "https://localhost:8080/"
    },
    "colab_type": "code",
    "id": "dEyNHOsLG6MP",
    "outputId": "34c78227-4216-4b05-92de-fe36498948f8"
   },
   "outputs": [],
   "source": [
    "%%R\n",
    "# Import Data Objects to R Environment\n",
    "# n is number of observations\n",
    "\n",
    "data = read.csv('yield_data.csv', header = TRUE)\n",
    "data = data.frame(lapply(data, as.character), stringsAsFactors=FALSE)\n",
    "data[ data == \"nan\" ] <- NA\n",
    "data[ data == \"NaN\" ] <- NA\n",
    "data[ data == \"NaT\" ] <- NA\n",
    "row.names(data) = data$UNIQUE_ID\n",
    "\n",
    "nrow(data)"
   ]
  },
  {
   "cell_type": "code",
   "execution_count": null,
   "metadata": {
    "colab": {},
    "colab_type": "code",
    "id": "9mA7jVG1HT3Z"
   },
   "outputs": [],
   "source": [
    "%%R\n",
    "# Import GID Numbers CSV\n",
    "GID_CID_SID = read.csv('GID_Numbers.csv')\n",
    "\n",
    "GID_CID_SID = data.frame(lapply(GID_CID_SID, as.character), stringsAsFactors=FALSE)\n",
    "GID_CID_SID[ GID_CID_SID == \"nan\" ] <- NA\n",
    "GID_CID_SID[ GID_CID_SID == \"NaN\" ] <- NA\n",
    "GID_CID_SID[ GID_CID_SID == \"NaT\" ] <- NA\n",
    "\n",
    "GID_CID_SID$GENO_ID = paste(GID_CID_SID$CID, \"_\", GID_CID_SID$SID, sep = \"\")"
   ]
  },
  {
   "cell_type": "code",
   "execution_count": null,
   "metadata": {
    "colab": {
     "base_uri": "https://localhost:8080/"
    },
    "colab_type": "code",
    "id": "GQyyKkmcHnN0",
    "outputId": "fb9f3ce0-df15-4c4b-da66-72e542a743c8"
   },
   "outputs": [],
   "source": [
    "%%R\n",
    "# Join Sample with GIDs by CID_SID\n",
    "data_merge = merge(data, GID_CID_SID, by=\"GENO_ID\", )\n",
    "data_merge = data.frame(lapply(data_merge, as.character), stringsAsFactors=FALSE)\n",
    "data_merge[ data_merge == \"nan\" ] <- NA\n",
    "data_merge[ data_merge == \"NaN\" ] <- NA\n",
    "data_merge[ data_merge == \"NaT\" ] <- NA\n",
    "row.names(data_merge) = data_merge$UNIQUE_ID\n",
    "\n",
    "nrow(data_merge)"
   ]
  },
  {
   "cell_type": "code",
   "execution_count": null,
   "metadata": {
    "colab": {},
    "colab_type": "code",
    "id": "f3J9zbTLP6Nq"
   },
   "outputs": [],
   "source": [
    "%%R\n",
    "# Drop rows with missing data for yield, location, harvest timing\n",
    "data_merge = data_merge[!is.na(data_merge$GRAIN_YIELD),]\n",
    "data_merge = data_merge[!is.na(data_merge$LAT_COORD),]\n",
    "data_merge = data_merge[!is.na(data_merge$LONG_COORD),]\n",
    "data_merge = data_merge[!is.na(data_merge$HARVEST_FINISHING_DATE),]\n"
   ]
  },
  {
   "cell_type": "code",
   "execution_count": null,
   "metadata": {
    "colab": {
     "base_uri": "https://localhost:8080/"
    },
    "colab_type": "code",
    "id": "ixZh4ICrQN-p",
    "outputId": "36bd5f87-821f-46e2-85b9-5239b006e547"
   },
   "outputs": [],
   "source": [
    "%%R\n",
    "# Identify missing IDs\n",
    "Un_ID_missing = setdiff(rownames(data), rownames(data_merge))\n",
    "length(Un_ID_missing)"
   ]
  },
  {
   "cell_type": "markdown",
   "metadata": {
    "colab_type": "text",
    "id": "h_ZvvdkqRvie"
   },
   "source": [
    "### Import A Matrix"
   ]
  },
  {
   "cell_type": "code",
   "execution_count": null,
   "metadata": {
    "colab": {},
    "colab_type": "code",
    "id": "6GT2Pj7sRxWf"
   },
   "outputs": [],
   "source": [
    "%%R\n",
    "# A : pedigree coefficient of parentage symmetric positive semi-definite matrix\n",
    "\n",
    "# Rdata files don't seem to open properly in the Rpy2 environment\n",
    "# Use the following commands in R to convert the Rdata to a csv\n",
    "\n",
    "# A_raw = load('A_3k.RData')\n",
    "# write.csv(A_raw, 'A_matrix.csv')\n",
    "\n",
    "A = read.csv('A_matrix.csv', row.names = 1, header = TRUE)"
   ]
  },
  {
   "cell_type": "code",
   "execution_count": null,
   "metadata": {
    "colab": {
     "base_uri": "https://localhost:8080/"
    },
    "colab_type": "code",
    "id": "b3mWmu4PSrFi",
    "outputId": "057ab3c7-a68d-4f4a-b21c-7baa73efc983"
   },
   "outputs": [],
   "source": [
    "%%R\n",
    "# Remove the X prefix from the column names\n",
    "names(A) <- substring(names(A),2)\n",
    "\n",
    "# Get a list of unique GID values from the data\n",
    "Unique_GID = c(unique(data_merge$GID))\n",
    "length(Unique_GID)\n"
   ]
  },
  {
   "cell_type": "code",
   "execution_count": null,
   "metadata": {
    "colab": {
     "base_uri": "https://localhost:8080/"
    },
    "colab_type": "code",
    "id": "8lBDTXA5pUaw",
    "outputId": "30fb5d96-33fd-48a4-a605-d657cc343177"
   },
   "outputs": [],
   "source": [
    "%%R\n",
    "# Identify the GIDs which are present in the data but not the A matrix\n",
    "GID_missing = setdiff(Unique_GID, rownames(A))\n",
    "length(GID_missing)"
   ]
  },
  {
   "cell_type": "code",
   "execution_count": null,
   "metadata": {
    "colab": {
     "base_uri": "https://localhost:8080/"
    },
    "colab_type": "code",
    "id": "Y76uotBMpJB0",
    "outputId": "7e4821ed-775b-4a87-f462-16f436abd490"
   },
   "outputs": [],
   "source": [
    "%%R\n",
    "# Remove the missing GID from the list of unique GIDs from the data sample\n",
    "if (length(GID_missing) > 0) {\n",
    "Unique_GID = Unique_GID[Unique_GID != GID_missing]\n",
    "}  \n",
    "\n",
    "length(Unique_GID)\n"
   ]
  },
  {
   "cell_type": "code",
   "execution_count": null,
   "metadata": {
    "colab": {
     "base_uri": "https://localhost:8080/"
    },
    "colab_type": "code",
    "id": "L-KiJcI0pe9G",
    "outputId": "d7b34aae-01b8-444b-9bf8-45d39a383e25"
   },
   "outputs": [],
   "source": [
    "%%R\n",
    "# Subset the A matrix to the list of GIDs in the data sample\n",
    "A = A[Unique_GID,Unique_GID]\n",
    "\n",
    "# Convert to a matrix\n",
    "A = as.matrix(A)\n"
   ]
  },
  {
   "cell_type": "code",
   "execution_count": null,
   "metadata": {
    "colab": {
     "base_uri": "https://localhost:8080/"
    },
    "colab_type": "code",
    "id": "5hMqXxs8TAJX",
    "outputId": "03f79218-d086-43dc-f534-e0b7a2bdd0a7"
   },
   "outputs": [],
   "source": [
    "%%R\n",
    "# Remove the missing GID values from the data sample\n",
    "data_merge = data_merge[ ! data_merge$GID %in% GID_missing, ]\n",
    "print(paste('The number of rows in the data sample is: ', nrow(data_merge)))\n",
    "print(paste('The number of unique varieties by GID is: ', length(unique(data_merge$GID))))"
   ]
  },
  {
   "cell_type": "markdown",
   "metadata": {
    "colab_type": "text",
    "id": "pH18WfkXTEOJ"
   },
   "source": [
    "### Splitting into Yield and Environment Objects\n"
   ]
  },
  {
   "cell_type": "code",
   "execution_count": null,
   "metadata": {
    "colab": {
     "base_uri": "https://localhost:8080/",
     "height": 34
    },
    "colab_type": "code",
    "id": "4-OA9Qx9TKo6",
    "outputId": "eb6c237a-2568-4c91-be56-def50e94c606"
   },
   "outputs": [],
   "source": [
    "%%R\n",
    "# Yield Vector (nx1)\n",
    "grain_yield = data_merge$GRAIN_YIELD\n",
    "grain_yield = as.numeric(grain_yield)\n",
    "grain_yield = standardize(grain_yield)\n",
    "length(grain_yield)"
   ]
  },
  {
   "cell_type": "code",
   "execution_count": null,
   "metadata": {
    "colab": {},
    "colab_type": "code",
    "id": "NkB4p1UhTNmi"
   },
   "outputs": [],
   "source": [
    "%%R\n",
    "# Varieties (nx1)\n",
    "VAR = data_merge$GID\n",
    "VAR = as.numeric(VAR)\n"
   ]
  },
  {
   "cell_type": "code",
   "execution_count": null,
   "metadata": {
    "colab": {},
    "colab_type": "code",
    "id": "tQMOqkZlTRhb"
   },
   "outputs": [],
   "source": [
    "%%R\n",
    "# Environments, meaning location-year combinations (nx1)\n",
    "data_merge$LOC_YEAR = paste(data_merge$LAT_COORD, \"_\",\n",
    "                            data_merge$LONG_COORD, \"_\", \n",
    "                            sapply(strsplit(data_merge$HARVEST_FINISHING_DATE,\"-\"), `[`, 1)\n",
    "                            , sep = \"\")\n",
    "\n",
    "ENV = data_merge$LOC_YEAR"
   ]
  },
  {
   "cell_type": "code",
   "execution_count": null,
   "metadata": {
    "colab": {
     "base_uri": "https://localhost:8080/",
     "height": 151
    },
    "colab_type": "code",
    "id": "i7CV-n9KTUUw",
    "outputId": "7d335605-ecc9-491a-9b6b-172392266317"
   },
   "outputs": [],
   "source": [
    "%%R\n",
    "Y = data.frame(grain_yield, VAR, ENV)\n",
    "print(nrow(Y))\n",
    "head(Y)"
   ]
  },
  {
   "cell_type": "code",
   "execution_count": null,
   "metadata": {
    "colab": {
     "base_uri": "https://localhost:8080/",
     "height": 319
    },
    "colab_type": "code",
    "id": "rhRpMK-dTnyL",
    "outputId": "c284c538-d4fc-4f1f-d09e-a0f6a66f618a"
   },
   "outputs": [],
   "source": [
    "%%R\n",
    "# Extract Environmental Covariates\n",
    "env_cov_list = c('ALTITUDE',\n",
    "'PPN_10TH_MO_BEFORE_HARVESTED',\n",
    "'PPN_11TH_MO_BEFORE_HARVESTED',\n",
    "'PPN_1ST_MO_BEFORE_HARVESTED',\n",
    "'PPN_2ND_MO_BEFORE_HARVESTED',\n",
    "'PPN_3RD_MO_BEFORE_HARVESTED',\n",
    "'PPN_4TH_MO_BEFORE_HARVESTED',\n",
    "'PPN_5TH_MO_BEFORE_HARVESTED',\n",
    "'PPN_6TH_MO_BEFORE_HARVESTED',\n",
    "'PPN_7TH_MO_BEFORE_HARVESTED',\n",
    "'PPN_8TH_MO_BEFORE_HARVESTED',\n",
    "'PPN_9TH_MO_BEFORE_HARVESTED',\n",
    "'PPN_MONTH_OF_HARVESTED',\n",
    "'PRECIPITATION_FROM_SOWING_TO_MATURITY',\n",
    "#'SOIL_CLASIFICATION',\n",
    "'TOTAL_PRECIPIT_IN_12_MONTHS',\n",
    "'IRRIGATED'\n",
    "#, 'PRE_SOWING_IRRIGATION'\n",
    ")\n",
    "\n",
    "W = data_merge[env_cov_list]\n",
    "W = type.convert(W)\n",
    "\n",
    "dmy = dummyVars(\" ~ .\", data = W)\n",
    "W = data.frame(predict(dmy, newdata = W))\n",
    "\n",
    "str(W)"
   ]
  },
  {
   "cell_type": "code",
   "execution_count": null,
   "metadata": {
    "colab": {
     "base_uri": "https://localhost:8080/",
     "height": 833
    },
    "colab_type": "code",
    "id": "bb9TYkjuUusL",
    "outputId": "ba251706-51e7-4dd2-f37f-13368b6544c4"
   },
   "outputs": [],
   "source": [
    "%%R\n",
    "# Visualize missing data using mice_plot function\n",
    "mice_plot <- aggr(W, col=c('navyblue','yellow'),\n",
    "                    numbers=TRUE, sortVars=TRUE,\n",
    "                    labels=names(W), cex.axis=.7,\n",
    "                    gap=3, ylab=c(\"Missing data\",\"Pattern\"))"
   ]
  },
  {
   "cell_type": "markdown",
   "metadata": {
    "colab_type": "text",
    "id": "WPKoN0qQVaT7"
   },
   "source": [
    "### Multiple Imputation by Chained Equations for Environment Data"
   ]
  },
  {
   "cell_type": "code",
   "execution_count": null,
   "metadata": {
    "colab": {},
    "colab_type": "code",
    "id": "x3XEXBDuhCQQ"
   },
   "outputs": [],
   "source": [
    "%%R\n",
    "# Hmisc method, doesn't work unless you spell out all the variables in the function.\n",
    "# Potentially find a workaround\n",
    "\n",
    "#install.packages(\"Hmisc\")\n",
    "#library(Hmisc)\n",
    "\n",
    "#ivs = paste(env_cov_list,sep = \"\" )\n",
    "#iv_string <- paste(ivs, collapse=\" + \")\n",
    "#iv_string[0]\n",
    "\n",
    "#impute_arg <- aregImpute(as.formula(~iv_string), data = W, n.impute = 5)"
   ]
  },
  {
   "cell_type": "code",
   "execution_count": null,
   "metadata": {
    "colab": {},
    "colab_type": "code",
    "id": "GasnGycPiwfJ"
   },
   "outputs": [],
   "source": [
    "%%R\n",
    "# missForest function for imputation\n",
    "# Seems to be the fastest and works non-parametrically\n",
    "\n",
    "install.packages(\"missForest\")\n",
    "library(missForest)\n"
   ]
  },
  {
   "cell_type": "code",
   "execution_count": null,
   "metadata": {
    "colab": {},
    "colab_type": "code",
    "id": "XLVEBcgNmZh_"
   },
   "outputs": [],
   "source": [
    "%%R\n",
    "W.imp <- missForest(W)\n",
    "\n",
    "W.imp$OOBerror\n"
   ]
  },
  {
   "cell_type": "code",
   "execution_count": null,
   "metadata": {
    "colab": {},
    "colab_type": "code",
    "id": "eJXD8a2D5Aa8"
   },
   "outputs": [],
   "source": [
    "%%R\n",
    "W_imp <- W.imp$ximp\n",
    "W <- W_imp"
   ]
  },
  {
   "cell_type": "code",
   "execution_count": null,
   "metadata": {
    "colab": {},
    "colab_type": "code",
    "id": "WaumZthJSfSZ"
   },
   "outputs": [],
   "source": [
    "%%R\n",
    "# Save after imputing missing values for W since the function takes a while\n",
    "# Import the data again if you come back in another session\n",
    "\n",
    "# write.csv(W, 'W_imp.csv')\n",
    "#W <- read.csv('W_imp.csv')"
   ]
  },
  {
   "cell_type": "code",
   "execution_count": null,
   "metadata": {
    "colab": {
     "base_uri": "https://localhost:8080/",
     "height": 272
    },
    "colab_type": "code",
    "id": "1t9rVcz1Vt5i",
    "outputId": "a1e6b3fc-129e-4957-a2f7-b12ee9743e23"
   },
   "outputs": [],
   "source": [
    "%%R\n",
    "# mice package for imputation, highly recommended but seems too slow for size of data\n",
    "# https://www.analyticsvidhya.com/blog/2016/03/tutorial-powerful-packages-imputing-missing-values/\n",
    "\n",
    "#W.imp <- mice(W, m=5, maxit = 15, method = 'pmm')\n",
    "#summary(W.imp)"
   ]
  },
  {
   "cell_type": "code",
   "execution_count": null,
   "metadata": {
    "colab": {},
    "colab_type": "code",
    "id": "VF-tY9KdV2Ab"
   },
   "outputs": [],
   "source": [
    "%%R\n",
    "#W <- complete(W.imp,2)"
   ]
  },
  {
   "cell_type": "code",
   "execution_count": null,
   "metadata": {
    "colab": {},
    "colab_type": "code",
    "id": "dW_kr1N97F4O"
   },
   "outputs": [],
   "source": [
    "%%R\n",
    "# Standardize environmental data\n",
    "W <- standardize(W)\n",
    "W.head()"
   ]
  },
  {
   "cell_type": "code",
   "execution_count": null,
   "metadata": {
    "colab": {
     "base_uri": "https://localhost:8080/",
     "height": 118
    },
    "colab_type": "code",
    "id": "II2pISclV6As",
    "outputId": "0c0def51-6b95-4323-a0cb-a99aa56ecfc9"
   },
   "outputs": [],
   "source": [
    "%%R\n",
    "# Check that yield, variety, location, and environmental covariates are same length\n",
    "print(paste('Yield vector length: ', length(Y$grain_yield)))\n",
    "print(paste('Varieties vector length: ', length(Y$VAR)))\n",
    "print(paste('Location-year vector length: ', length(Y$ENV)))\n",
    "print(paste('Environmental covariates vector length: ', nrow(W)))\n",
    "\n",
    "# Check that A Matrix contrains all unique varieties from the data\n",
    "print(paste('Unique Varieties: ', length(unique(Y$VAR))))\n",
    "print(paste('A Matrix length: ', nrow(A)))"
   ]
  },
  {
   "cell_type": "markdown",
   "metadata": {
    "colab_type": "text",
    "id": "Ic3LC-1nV9r_"
   },
   "source": [
    "### Export Merged Data for Comparison"
   ]
  },
  {
   "cell_type": "code",
   "execution_count": null,
   "metadata": {
    "colab": {},
    "colab_type": "code",
    "id": "yYz315dIV9Qp"
   },
   "outputs": [],
   "source": [
    "%%R\n",
    "# Export the merged data for comparison\n",
    "write.csv(data_merge, 'merged_data.csv')\n",
    "write.csv(Y, 'pheno_yield_data.csv')\n",
    "write.csv(W, 'environmental_covariates_data.csv')\n",
    "write.csv(A, 'pedigree_data.csv')"
   ]
  },
  {
   "cell_type": "markdown",
   "metadata": {
    "colab_type": "text",
    "id": "0YXXcVcbh7v_"
   },
   "source": [
    "## Import Data and Prep for Analysis"
   ]
  },
  {
   "cell_type": "code",
   "execution_count": 6,
   "metadata": {
    "colab": {},
    "colab_type": "code",
    "id": "yt0bTWBIs_LR"
   },
   "outputs": [],
   "source": [
    "%%R\n",
    "# Read data back in, only if you have already saved it in a previous session and have to come back\n",
    "Y <- read.csv('pheno_yield_data.csv', row.names = 1)\n",
    "W <- read.csv('environmental_covariates_data.csv', row.names = \"X\")\n",
    "A <- read.csv('pedigree_data.csv', row.names = 1)"
   ]
  },
  {
   "cell_type": "code",
   "execution_count": 7,
   "metadata": {
    "colab": {},
    "colab_type": "code",
    "id": "Xk0QZy8DcSVd"
   },
   "outputs": [
    {
     "name": "stdout",
     "output_type": "stream",
     "text": [
      "[1] \"30374\"\n",
      "[1] \"30374\"\n"
     ]
    }
   ],
   "source": [
    "%%R\n",
    "# A matrix doesn't read in well as a CSV, need to repeat some processing steps\n",
    "# Remove the X prefix from the column names\n",
    "names(A) <- substring(names(A),2)\n",
    "print(colnames(A)[1])\n",
    "print(rownames(A)[1])"
   ]
  },
  {
   "cell_type": "code",
   "execution_count": 8,
   "metadata": {
    "colab": {},
    "colab_type": "code",
    "id": "khRAAG1iWGmC"
   },
   "outputs": [
    {
     "name": "stdout",
     "output_type": "stream",
     "text": [
      "[1] 3443\n"
     ]
    }
   ],
   "source": [
    "%%R\n",
    "# Get a list of unique GID values from the data\n",
    "Unique_GID = c(unique(Y$VAR))\n",
    "length(Unique_GID)\n"
   ]
  },
  {
   "cell_type": "code",
   "execution_count": 9,
   "metadata": {
    "colab": {},
    "colab_type": "code",
    "id": "n0AUTbMWWJHe"
   },
   "outputs": [
    {
     "name": "stdout",
     "output_type": "stream",
     "text": [
      "[1] 46\n"
     ]
    }
   ],
   "source": [
    "%%R\n",
    "# Identify the GIDs which are present in the data but not the A matrix\n",
    "#GID_missing = setdiff(Unique_GID, rownames(A))\n",
    "GID_missing = setdiff(rownames(A), Unique_GID)\n",
    "length(GID_missing)"
   ]
  },
  {
   "cell_type": "code",
   "execution_count": 10,
   "metadata": {
    "colab": {},
    "colab_type": "code",
    "id": "FQpCDjjnWMUt"
   },
   "outputs": [
    {
     "name": "stdout",
     "output_type": "stream",
     "text": [
      "[1] 3443\n"
     ]
    }
   ],
   "source": [
    "%%R\n",
    "# Remove the missing GID from the list of unique GIDs from the data sample\n",
    "Unique_GID = Unique_GID[Unique_GID != GID_missing]\n",
    "Unique_GID <- unlist(lapply(Unique_GID, as.character))\n",
    "# Subset the A matrix to the list of GIDs in the data sample\n",
    "A = A[Unique_GID,Unique_GID]\n",
    "# Convert to a matrix\n",
    "A = as.matrix(A)\n",
    "nrow(A)"
   ]
  },
  {
   "cell_type": "code",
   "execution_count": 11,
   "metadata": {
    "colab": {},
    "colab_type": "code",
    "id": "eZp6VYLxtq5i"
   },
   "outputs": [
    {
     "name": "stdout",
     "output_type": "stream",
     "text": [
      "[1] \"Environmental covariates vector length:  145348\"\n",
      "[1] \"Unique Varieties:  3443\"\n",
      "[1] \"A Matrix length:  3443\"\n"
     ]
    }
   ],
   "source": [
    "%%R\n",
    "print(paste('Environmental covariates vector length: ', nrow(W)))\n",
    "print(paste('Unique Varieties: ', length(unique(Y$VAR))))\n",
    "print(paste('A Matrix length: ', nrow(A)))"
   ]
  },
  {
   "cell_type": "markdown",
   "metadata": {
    "colab_type": "text",
    "id": "LE-DRJvtWXVU"
   },
   "source": [
    "## Run Model on Full Data"
   ]
  },
  {
   "cell_type": "code",
   "execution_count": 14,
   "metadata": {
    "colab": {},
    "colab_type": "code",
    "id": "H1kut5VaWXVX"
   },
   "outputs": [],
   "source": [
    "%%R\n",
    "# Fitting Model 1 (Main Environment-Line Effects)\n",
    "# (EL)\n",
    "\n",
    "set.seed(123)\n",
    "training.samples <- Y$grain_yield %>%\n",
    "  createDataPartition(p = 0.8, list = FALSE)\n",
    "\n",
    "y_train = Y$grain_yield\n",
    "y_train[-training.samples] = NA\n",
    "\n",
    "# incidence matrix for main eff. of environments.\n",
    "ZE = model.matrix(~factor(Y$ENV)-1)     \n",
    "\n",
    "# incidence matrix for main eff. of lines.\n",
    "Y$VAR = factor(x=Y$VAR,levels=rownames(A),ordered=TRUE)\n",
    "ZVAR = model.matrix(~Y$VAR-1)"
   ]
  },
  {
   "cell_type": "code",
   "execution_count": null,
   "metadata": {
    "colab": {},
    "colab_type": "code",
    "id": "whXhLOeVWXVd"
   },
   "outputs": [],
   "source": [
    "%%capture\n",
    "%%R\n",
    "# Model Fitting\n",
    "\n",
    "ETA = list(ENV=list(X=ZE,model='BRR'),\n",
    "           VAR=list(X=ZVAR,model='BRR'))\n",
    "\n",
    "fm1 = BGLR(y=y_train,ETA=ETA,saveAt='M1_',nIter=500,burnIn=200)\n"
   ]
  },
  {
   "cell_type": "code",
   "execution_count": null,
   "metadata": {
    "colab": {
     "base_uri": "https://localhost:8080/",
     "height": 497
    },
    "colab_type": "code",
    "id": "ZnJbbRd5WXVh",
    "outputId": "1b98a3e9-19d1-4262-a308-7127a9a1af05"
   },
   "outputs": [],
   "source": [
    "%%R\n",
    "predictions_1 = fm1$yHat[-training.samples]\n",
    "test_values = Y$grain_yield[-training.samples]\n",
    "R2_1 = R2(predictions_1, test_values)\n",
    "RMSE_1 = RMSE(predictions_1, test_values)\n",
    "MAE_1 = MAE(predictions_1, test_values)\n",
    "model1_scores = data.frame(R2_1, RMSE_1, MAE_1)\n",
    "print(model1_scores)"
   ]
  },
  {
   "cell_type": "code",
   "execution_count": null,
   "metadata": {
    "colab": {
     "base_uri": "https://localhost:8080/",
     "height": 497
    },
    "colab_type": "code",
    "id": "ZnJbbRd5WXVh",
    "outputId": "1b98a3e9-19d1-4262-a308-7127a9a1af05"
   },
   "outputs": [],
   "source": [
    "plot(test_values,predictions_1)"
   ]
  },
  {
   "cell_type": "code",
   "execution_count": null,
   "metadata": {},
   "outputs": [],
   "source": [
    "!pip install psutil"
   ]
  },
  {
   "cell_type": "code",
   "execution_count": 12,
   "metadata": {},
   "outputs": [],
   "source": [
    "import psutil"
   ]
  },
  {
   "cell_type": "code",
   "execution_count": 15,
   "metadata": {},
   "outputs": [
    {
     "data": {
      "text/plain": [
       "397"
      ]
     },
     "execution_count": 15,
     "metadata": {},
     "output_type": "execute_result"
    }
   ],
   "source": [
    "values = psutil.virtual_memory()\n",
    "avail = values.available >> 30\n",
    "avail"
   ]
  },
  {
   "cell_type": "code",
   "execution_count": null,
   "metadata": {},
   "outputs": [],
   "source": [
    "%%R\n",
    "remove(ETA, fm1)\n",
    "remove(predictions_1, R2_1, RMSE_1, MAE_1)"
   ]
  },
  {
   "cell_type": "code",
   "execution_count": 16,
   "metadata": {
    "colab": {},
    "colab_type": "code",
    "id": "nwf0egoLvL--"
   },
   "outputs": [],
   "source": [
    "%%R\n",
    "# Alternative Model 2 with Eigendecomposition\n",
    "L_star = eigen(A, symmetric =TRUE)\n",
    "Gamma = L_star$vectors\n",
    "Lambda = L_star$values \n",
    "Z_star = ZVAR%*%Gamma%*%(Lambda^0.5)"
   ]
  },
  {
   "cell_type": "code",
   "execution_count": 19,
   "metadata": {},
   "outputs": [
    {
     "data": {
      "text/plain": [
       "393"
      ]
     },
     "execution_count": 19,
     "metadata": {},
     "output_type": "execute_result"
    }
   ],
   "source": [
    "values = psutil.virtual_memory()\n",
    "avail = values.available >> 30\n",
    "avail"
   ]
  },
  {
   "cell_type": "code",
   "execution_count": 18,
   "metadata": {},
   "outputs": [],
   "source": [
    "%%R\n",
    "remove(A, L_star, Gamma, Lambda)"
   ]
  },
  {
   "cell_type": "code",
   "execution_count": null,
   "metadata": {
    "colab": {},
    "colab_type": "code",
    "id": "nwf0egoLvL--"
   },
   "outputs": [],
   "source": [
    "%%capture\n",
    "%%R\n",
    "# Fitting Model 2 with Alternative Z_star (Main Environment-Pedigree Effects)\n",
    "# (EA)\n",
    "\n",
    "ETA = list(ENV=list(X=ZE,model='BRR'),\n",
    "           PED=list(X=Z_star,model='BRR'))\n",
    "\n",
    "fm2 = BGLR(y=y_train,ETA=ETA,saveAt='M2_',nIter=1000,burnIn=500)"
   ]
  },
  {
   "cell_type": "code",
   "execution_count": null,
   "metadata": {
    "colab": {},
    "colab_type": "code",
    "id": "dSIyoaAo6-D7"
   },
   "outputs": [],
   "source": [
    "%%R\n",
    "predictions_2 = fm2$yHat[-training.samples]\n",
    "\n",
    "R2_2 = R2(predictions_2, test_values)\n",
    "RMSE_2 = RMSE(predictions_2, test_values)\n",
    "MAE_2 = MAE(predictions_2, test_values)\n",
    "model2_scores = data.frame(R2_2, RMSE_2, MAE_2)"
   ]
  },
  {
   "cell_type": "code",
   "execution_count": null,
   "metadata": {
    "colab": {
     "base_uri": "https://localhost:8080/",
     "height": 497
    },
    "colab_type": "code",
    "id": "CfVfCFek6rFu",
    "outputId": "682207ae-fe56-49ea-9992-55c19a57811e"
   },
   "outputs": [],
   "source": [
    "%%R\n",
    "print(model2_scores)\n",
    "plot(test_values,predictions_2)"
   ]
  },
  {
   "cell_type": "code",
   "execution_count": null,
   "metadata": {},
   "outputs": [],
   "source": [
    "%%R\n",
    "remove(ETA, fm2)\n",
    "remove(predictions_2, R2_2, RMSE_2,MAE_2)"
   ]
  },
  {
   "cell_type": "code",
   "execution_count": null,
   "metadata": {
    "colab": {},
    "colab_type": "code",
    "id": "7cULDW0mWXVm"
   },
   "outputs": [],
   "source": [
    "%%R\n",
    "# Fitting Model 2 (Main Environment-Pedigree Effects)\n",
    "# (EA)\n",
    "\n",
    "# A = A/mean(diag(A))\n",
    "# L = t(chol(A))\n",
    "# ZL = ZVAR%*%L\n",
    "\n",
    "# ETA = list(ENV=list(X=ZE,model='BRR'),\n",
    "#            PED=list(X=ZL,model='BRR'))\n",
    "\t\n",
    "# fm2 = BGLR(y=y_train,ETA=ETA,saveAt='M2_',nIter=500,burnIn=200)\n"
   ]
  },
  {
   "cell_type": "code",
   "execution_count": null,
   "metadata": {
    "colab": {
     "base_uri": "https://localhost:8080/",
     "height": 497
    },
    "colab_type": "code",
    "id": "FMbwmgwdWXVs",
    "outputId": "81fdcdb1-bf44-4043-8cda-e10788b66d1f"
   },
   "outputs": [],
   "source": [
    "%%R\n",
    "# predictions = fm2$yHat[-training.samples]\n",
    "# test_values = Y$grain_yield[-training.samples]\n",
    "# print(data.frame( R2 = R2(predictions, test_values),\n",
    "#             RMSE = RMSE(predictions, test_values),\n",
    "#             MAE = MAE(predictions, test_values)))\n",
    "\n",
    "# plot(test_values,predictions)"
   ]
  },
  {
   "cell_type": "code",
   "execution_count": 20,
   "metadata": {
    "colab": {},
    "colab_type": "code",
    "id": "9JE6vWzHWXVv"
   },
   "outputs": [],
   "source": [
    "%%R\n",
    "# Fitting Model 3 (Main Environment-Pedigree-Environmental Covariate Effects)\n",
    "# (EAW)\n",
    "\n",
    "W = W/sqrt(ncol(W))\n"
   ]
  },
  {
   "cell_type": "code",
   "execution_count": 21,
   "metadata": {},
   "outputs": [
    {
     "data": {
      "text/plain": [
       "393"
      ]
     },
     "execution_count": 21,
     "metadata": {},
     "output_type": "execute_result"
    }
   ],
   "source": [
    "values = psutil.virtual_memory()\n",
    "avail = values.available >> 30\n",
    "avail"
   ]
  },
  {
   "cell_type": "code",
   "execution_count": null,
   "metadata": {
    "colab": {},
    "colab_type": "code",
    "id": "9JE6vWzHWXVv"
   },
   "outputs": [],
   "source": [
    "%%capture\n",
    "%%R\n",
    "ETA = list(ENV=list(X=ZE,model='BRR'),\n",
    "           PED=list(X=Z_star,model='BRR'),\n",
    "           EC=list(X=W,model='BRR'))\n",
    "\n",
    "fm3 = BGLR(y=y_train,ETA=ETA,saveAt='M3_',nIter=500,burnIn=200)"
   ]
  },
  {
   "cell_type": "code",
   "execution_count": null,
   "metadata": {
    "colab": {
     "base_uri": "https://localhost:8080/",
     "height": 497
    },
    "colab_type": "code",
    "id": "5JL4khkHWXVz",
    "outputId": "b20d3994-0f63-4400-9c9f-002b5d9e5e69"
   },
   "outputs": [],
   "source": [
    "%%R\n",
    "predictions_3 = fm3$yHat[-training.samples]\n",
    "test_values = Y$grain_yield[-training.samples]\n",
    "model3_scores = data.frame(R2_3 = R2(predictions_3, test_values),\n",
    "            RMSE_3 = RMSE(predictions_3, test_values),\n",
    "            MAE_3 = MAE(predictions_3, test_values))\n",
    "\n",
    "print(model3_scores)\n",
    "plot(test_values,predictions_3)"
   ]
  },
  {
   "cell_type": "code",
   "execution_count": null,
   "metadata": {},
   "outputs": [],
   "source": [
    "%%R\n",
    "remove(ETA, fm3)"
   ]
  },
  {
   "cell_type": "code",
   "execution_count": null,
   "metadata": {},
   "outputs": [],
   "source": [
    "values = psutil.virtual_memory()\n",
    "avail = values.available >> 30\n",
    "avail"
   ]
  },
  {
   "cell_type": "code",
   "execution_count": null,
   "metadata": {},
   "outputs": [],
   "source": [
    "np.intp"
   ]
  },
  {
   "cell_type": "code",
   "execution_count": 22,
   "metadata": {
    "colab": {
     "base_uri": "https://localhost:8080/",
     "height": 1000
    },
    "colab_type": "code",
    "id": "k3jCA928WXV3",
    "outputId": "e7cd5288-e278-47dc-d7fb-56a6bd5d8598"
   },
   "outputs": [],
   "source": [
    "%%R\n",
    "# Fitting Model 4 (Main Environment-Pedigree-Environmental Covariate Effects \n",
    "# with Pedigree-Environmental Covariate Interaction)\n",
    "# (EAW-AxW)\n",
    "\n",
    "ZAZ = tcrossprod(Z_star)"
   ]
  },
  {
   "cell_type": "code",
   "execution_count": 23,
   "metadata": {},
   "outputs": [
    {
     "data": {
      "text/plain": [
       "239"
      ]
     },
     "execution_count": 23,
     "metadata": {},
     "output_type": "execute_result"
    }
   ],
   "source": [
    "values = psutil.virtual_memory()\n",
    "avail = values.available >> 30\n",
    "avail"
   ]
  },
  {
   "cell_type": "code",
   "execution_count": 24,
   "metadata": {
    "colab": {
     "base_uri": "https://localhost:8080/",
     "height": 1000
    },
    "colab_type": "code",
    "id": "k3jCA928WXV3",
    "outputId": "e7cd5288-e278-47dc-d7fb-56a6bd5d8598"
   },
   "outputs": [],
   "source": [
    "%%R\n",
    "W = as.matrix(W)"
   ]
  },
  {
   "cell_type": "code",
   "execution_count": 25,
   "metadata": {
    "colab": {
     "base_uri": "https://localhost:8080/",
     "height": 1000
    },
    "colab_type": "code",
    "id": "k3jCA928WXV3",
    "outputId": "e7cd5288-e278-47dc-d7fb-56a6bd5d8598"
   },
   "outputs": [
    {
     "ename": "MemoryError",
     "evalue": "Unable to allocate 157. GiB for an array with shape (145348, 145348) and data type float64",
     "output_type": "error",
     "traceback": [
      "\u001b[0;31m---------------------------------------------------------------------------\u001b[0m",
      "\u001b[0;31mMemoryError\u001b[0m                               Traceback (most recent call last)",
      "\u001b[0;32m<ipython-input-25-41334e713f32>\u001b[0m in \u001b[0;36m<module>\u001b[0;34m\u001b[0m\n\u001b[0;32m----> 1\u001b[0;31m \u001b[0mget_ipython\u001b[0m\u001b[0;34m(\u001b[0m\u001b[0;34m)\u001b[0m\u001b[0;34m.\u001b[0m\u001b[0mrun_cell_magic\u001b[0m\u001b[0;34m(\u001b[0m\u001b[0;34m'R'\u001b[0m\u001b[0;34m,\u001b[0m \u001b[0;34m''\u001b[0m\u001b[0;34m,\u001b[0m \u001b[0;34m'WW = tcrossprod(W)\\n'\u001b[0m\u001b[0;34m)\u001b[0m\u001b[0;34m\u001b[0m\u001b[0;34m\u001b[0m\u001b[0m\n\u001b[0m",
      "\u001b[0;32m/opt/conda/lib/python3.7/site-packages/IPython/core/interactiveshell.py\u001b[0m in \u001b[0;36mrun_cell_magic\u001b[0;34m(self, magic_name, line, cell)\u001b[0m\n\u001b[1;32m   2360\u001b[0m             \u001b[0;32mwith\u001b[0m \u001b[0mself\u001b[0m\u001b[0;34m.\u001b[0m\u001b[0mbuiltin_trap\u001b[0m\u001b[0;34m:\u001b[0m\u001b[0;34m\u001b[0m\u001b[0;34m\u001b[0m\u001b[0m\n\u001b[1;32m   2361\u001b[0m                 \u001b[0margs\u001b[0m \u001b[0;34m=\u001b[0m \u001b[0;34m(\u001b[0m\u001b[0mmagic_arg_s\u001b[0m\u001b[0;34m,\u001b[0m \u001b[0mcell\u001b[0m\u001b[0;34m)\u001b[0m\u001b[0;34m\u001b[0m\u001b[0;34m\u001b[0m\u001b[0m\n\u001b[0;32m-> 2362\u001b[0;31m                 \u001b[0mresult\u001b[0m \u001b[0;34m=\u001b[0m \u001b[0mfn\u001b[0m\u001b[0;34m(\u001b[0m\u001b[0;34m*\u001b[0m\u001b[0margs\u001b[0m\u001b[0;34m,\u001b[0m \u001b[0;34m**\u001b[0m\u001b[0mkwargs\u001b[0m\u001b[0;34m)\u001b[0m\u001b[0;34m\u001b[0m\u001b[0;34m\u001b[0m\u001b[0m\n\u001b[0m\u001b[1;32m   2363\u001b[0m             \u001b[0;32mreturn\u001b[0m \u001b[0mresult\u001b[0m\u001b[0;34m\u001b[0m\u001b[0;34m\u001b[0m\u001b[0m\n\u001b[1;32m   2364\u001b[0m \u001b[0;34m\u001b[0m\u001b[0m\n",
      "\u001b[0;32m<decorator-gen-132>\u001b[0m in \u001b[0;36mR\u001b[0;34m(self, line, cell, local_ns)\u001b[0m\n",
      "\u001b[0;32m/opt/conda/lib/python3.7/site-packages/IPython/core/magic.py\u001b[0m in \u001b[0;36m<lambda>\u001b[0;34m(f, *a, **k)\u001b[0m\n\u001b[1;32m    185\u001b[0m     \u001b[0;31m# but it's overkill for just that one bit of state.\u001b[0m\u001b[0;34m\u001b[0m\u001b[0;34m\u001b[0m\u001b[0;34m\u001b[0m\u001b[0m\n\u001b[1;32m    186\u001b[0m     \u001b[0;32mdef\u001b[0m \u001b[0mmagic_deco\u001b[0m\u001b[0;34m(\u001b[0m\u001b[0marg\u001b[0m\u001b[0;34m)\u001b[0m\u001b[0;34m:\u001b[0m\u001b[0;34m\u001b[0m\u001b[0;34m\u001b[0m\u001b[0m\n\u001b[0;32m--> 187\u001b[0;31m         \u001b[0mcall\u001b[0m \u001b[0;34m=\u001b[0m \u001b[0;32mlambda\u001b[0m \u001b[0mf\u001b[0m\u001b[0;34m,\u001b[0m \u001b[0;34m*\u001b[0m\u001b[0ma\u001b[0m\u001b[0;34m,\u001b[0m \u001b[0;34m**\u001b[0m\u001b[0mk\u001b[0m\u001b[0;34m:\u001b[0m \u001b[0mf\u001b[0m\u001b[0;34m(\u001b[0m\u001b[0;34m*\u001b[0m\u001b[0ma\u001b[0m\u001b[0;34m,\u001b[0m \u001b[0;34m**\u001b[0m\u001b[0mk\u001b[0m\u001b[0;34m)\u001b[0m\u001b[0;34m\u001b[0m\u001b[0;34m\u001b[0m\u001b[0m\n\u001b[0m\u001b[1;32m    188\u001b[0m \u001b[0;34m\u001b[0m\u001b[0m\n\u001b[1;32m    189\u001b[0m         \u001b[0;32mif\u001b[0m \u001b[0mcallable\u001b[0m\u001b[0;34m(\u001b[0m\u001b[0marg\u001b[0m\u001b[0;34m)\u001b[0m\u001b[0;34m:\u001b[0m\u001b[0;34m\u001b[0m\u001b[0;34m\u001b[0m\u001b[0m\n",
      "\u001b[0;32m/opt/conda/lib/python3.7/site-packages/rpy2/ipython/rmagic.py\u001b[0m in \u001b[0;36mR\u001b[0;34m(self, line, cell, local_ns)\u001b[0m\n\u001b[1;32m    736\u001b[0m                     \u001b[0mreturn_output\u001b[0m \u001b[0;34m=\u001b[0m \u001b[0;32mFalse\u001b[0m\u001b[0;34m\u001b[0m\u001b[0;34m\u001b[0m\u001b[0m\n\u001b[1;32m    737\u001b[0m             \u001b[0;32melse\u001b[0m\u001b[0;34m:\u001b[0m\u001b[0;34m\u001b[0m\u001b[0;34m\u001b[0m\u001b[0m\n\u001b[0;32m--> 738\u001b[0;31m                 \u001b[0mtext_result\u001b[0m\u001b[0;34m,\u001b[0m \u001b[0mresult\u001b[0m\u001b[0;34m,\u001b[0m \u001b[0mvisible\u001b[0m \u001b[0;34m=\u001b[0m \u001b[0mself\u001b[0m\u001b[0;34m.\u001b[0m\u001b[0meval\u001b[0m\u001b[0;34m(\u001b[0m\u001b[0mcode\u001b[0m\u001b[0;34m)\u001b[0m\u001b[0;34m\u001b[0m\u001b[0;34m\u001b[0m\u001b[0m\n\u001b[0m\u001b[1;32m    739\u001b[0m                 \u001b[0mtext_output\u001b[0m \u001b[0;34m+=\u001b[0m \u001b[0mtext_result\u001b[0m\u001b[0;34m\u001b[0m\u001b[0;34m\u001b[0m\u001b[0m\n\u001b[1;32m    740\u001b[0m                 \u001b[0;32mif\u001b[0m \u001b[0mvisible\u001b[0m\u001b[0;34m:\u001b[0m\u001b[0;34m\u001b[0m\u001b[0;34m\u001b[0m\u001b[0m\n",
      "\u001b[0;32m/opt/conda/lib/python3.7/site-packages/rpy2/ipython/rmagic.py\u001b[0m in \u001b[0;36meval\u001b[0;34m(self, code)\u001b[0m\n\u001b[1;32m    262\u001b[0m             \u001b[0;32mtry\u001b[0m\u001b[0;34m:\u001b[0m\u001b[0;34m\u001b[0m\u001b[0;34m\u001b[0m\u001b[0m\n\u001b[1;32m    263\u001b[0m                 \u001b[0;31m# Need the newline in case the last line in code is a comment.\u001b[0m\u001b[0;34m\u001b[0m\u001b[0;34m\u001b[0m\u001b[0;34m\u001b[0m\u001b[0m\n\u001b[0;32m--> 264\u001b[0;31m                 \u001b[0mvalue\u001b[0m\u001b[0;34m,\u001b[0m \u001b[0mvisible\u001b[0m \u001b[0;34m=\u001b[0m \u001b[0mro\u001b[0m\u001b[0;34m.\u001b[0m\u001b[0mr\u001b[0m\u001b[0;34m(\u001b[0m\u001b[0;34m\"withVisible({%s\\n})\"\u001b[0m \u001b[0;34m%\u001b[0m \u001b[0mcode\u001b[0m\u001b[0;34m)\u001b[0m\u001b[0;34m\u001b[0m\u001b[0;34m\u001b[0m\u001b[0m\n\u001b[0m\u001b[1;32m    265\u001b[0m             \u001b[0;32mexcept\u001b[0m \u001b[0;34m(\u001b[0m\u001b[0mri\u001b[0m\u001b[0;34m.\u001b[0m\u001b[0membedded\u001b[0m\u001b[0;34m.\u001b[0m\u001b[0mRRuntimeError\u001b[0m\u001b[0;34m,\u001b[0m \u001b[0mValueError\u001b[0m\u001b[0;34m)\u001b[0m \u001b[0;32mas\u001b[0m \u001b[0mexception\u001b[0m\u001b[0;34m:\u001b[0m\u001b[0;34m\u001b[0m\u001b[0;34m\u001b[0m\u001b[0m\n\u001b[1;32m    266\u001b[0m                 \u001b[0;31m# Otherwise next return seems to have copy of error.\u001b[0m\u001b[0;34m\u001b[0m\u001b[0;34m\u001b[0m\u001b[0;34m\u001b[0m\u001b[0m\n",
      "\u001b[0;32m/opt/conda/lib/python3.7/site-packages/rpy2/robjects/vectors.py\u001b[0m in \u001b[0;36m__getitem__\u001b[0;34m(self, i)\u001b[0m\n\u001b[1;32m    265\u001b[0m \u001b[0;34m\u001b[0m\u001b[0m\n\u001b[1;32m    266\u001b[0m         \u001b[0;32mif\u001b[0m \u001b[0misinstance\u001b[0m\u001b[0;34m(\u001b[0m\u001b[0mres\u001b[0m\u001b[0;34m,\u001b[0m \u001b[0mSexp\u001b[0m\u001b[0;34m)\u001b[0m\u001b[0;34m:\u001b[0m\u001b[0;34m\u001b[0m\u001b[0;34m\u001b[0m\u001b[0m\n\u001b[0;32m--> 267\u001b[0;31m             \u001b[0mres\u001b[0m \u001b[0;34m=\u001b[0m \u001b[0mconversion\u001b[0m\u001b[0;34m.\u001b[0m\u001b[0mrpy2py\u001b[0m\u001b[0;34m(\u001b[0m\u001b[0mres\u001b[0m\u001b[0;34m)\u001b[0m\u001b[0;34m\u001b[0m\u001b[0;34m\u001b[0m\u001b[0m\n\u001b[0m\u001b[1;32m    268\u001b[0m         \u001b[0;32mreturn\u001b[0m \u001b[0mres\u001b[0m\u001b[0;34m\u001b[0m\u001b[0;34m\u001b[0m\u001b[0m\n\u001b[1;32m    269\u001b[0m \u001b[0;34m\u001b[0m\u001b[0m\n",
      "\u001b[0;32m/opt/conda/lib/python3.7/functools.py\u001b[0m in \u001b[0;36mwrapper\u001b[0;34m(*args, **kw)\u001b[0m\n\u001b[1;32m    838\u001b[0m                             '1 positional argument')\n\u001b[1;32m    839\u001b[0m \u001b[0;34m\u001b[0m\u001b[0m\n\u001b[0;32m--> 840\u001b[0;31m         \u001b[0;32mreturn\u001b[0m \u001b[0mdispatch\u001b[0m\u001b[0;34m(\u001b[0m\u001b[0margs\u001b[0m\u001b[0;34m[\u001b[0m\u001b[0;36m0\u001b[0m\u001b[0;34m]\u001b[0m\u001b[0;34m.\u001b[0m\u001b[0m__class__\u001b[0m\u001b[0;34m)\u001b[0m\u001b[0;34m(\u001b[0m\u001b[0;34m*\u001b[0m\u001b[0margs\u001b[0m\u001b[0;34m,\u001b[0m \u001b[0;34m**\u001b[0m\u001b[0mkw\u001b[0m\u001b[0;34m)\u001b[0m\u001b[0;34m\u001b[0m\u001b[0;34m\u001b[0m\u001b[0m\n\u001b[0m\u001b[1;32m    841\u001b[0m \u001b[0;34m\u001b[0m\u001b[0m\n\u001b[1;32m    842\u001b[0m     \u001b[0mfuncname\u001b[0m \u001b[0;34m=\u001b[0m \u001b[0mgetattr\u001b[0m\u001b[0;34m(\u001b[0m\u001b[0mfunc\u001b[0m\u001b[0;34m,\u001b[0m \u001b[0;34m'__name__'\u001b[0m\u001b[0;34m,\u001b[0m \u001b[0;34m'singledispatch function'\u001b[0m\u001b[0;34m)\u001b[0m\u001b[0;34m\u001b[0m\u001b[0;34m\u001b[0m\u001b[0m\n",
      "\u001b[0;32m/opt/conda/lib/python3.7/site-packages/rpy2/robjects/pandas2ri.py\u001b[0m in \u001b[0;36mrpy2py_floatvector\u001b[0;34m(obj)\u001b[0m\n\u001b[1;32m    193\u001b[0m \u001b[0;34m@\u001b[0m\u001b[0mrpy2py\u001b[0m\u001b[0;34m.\u001b[0m\u001b[0mregister\u001b[0m\u001b[0;34m(\u001b[0m\u001b[0mFloatSexpVector\u001b[0m\u001b[0;34m)\u001b[0m\u001b[0;34m\u001b[0m\u001b[0;34m\u001b[0m\u001b[0m\n\u001b[1;32m    194\u001b[0m \u001b[0;32mdef\u001b[0m \u001b[0mrpy2py_floatvector\u001b[0m\u001b[0;34m(\u001b[0m\u001b[0mobj\u001b[0m\u001b[0;34m)\u001b[0m\u001b[0;34m:\u001b[0m\u001b[0;34m\u001b[0m\u001b[0;34m\u001b[0m\u001b[0m\n\u001b[0;32m--> 195\u001b[0;31m     \u001b[0;32mreturn\u001b[0m \u001b[0mnumpy2ri\u001b[0m\u001b[0;34m.\u001b[0m\u001b[0mrpy2py\u001b[0m\u001b[0;34m(\u001b[0m\u001b[0mobj\u001b[0m\u001b[0;34m)\u001b[0m\u001b[0;34m\u001b[0m\u001b[0;34m\u001b[0m\u001b[0m\n\u001b[0m\u001b[1;32m    196\u001b[0m \u001b[0;34m\u001b[0m\u001b[0m\n\u001b[1;32m    197\u001b[0m \u001b[0;34m\u001b[0m\u001b[0m\n",
      "\u001b[0;32m/opt/conda/lib/python3.7/functools.py\u001b[0m in \u001b[0;36mwrapper\u001b[0;34m(*args, **kw)\u001b[0m\n\u001b[1;32m    838\u001b[0m                             '1 positional argument')\n\u001b[1;32m    839\u001b[0m \u001b[0;34m\u001b[0m\u001b[0m\n\u001b[0;32m--> 840\u001b[0;31m         \u001b[0;32mreturn\u001b[0m \u001b[0mdispatch\u001b[0m\u001b[0;34m(\u001b[0m\u001b[0margs\u001b[0m\u001b[0;34m[\u001b[0m\u001b[0;36m0\u001b[0m\u001b[0;34m]\u001b[0m\u001b[0;34m.\u001b[0m\u001b[0m__class__\u001b[0m\u001b[0;34m)\u001b[0m\u001b[0;34m(\u001b[0m\u001b[0;34m*\u001b[0m\u001b[0margs\u001b[0m\u001b[0;34m,\u001b[0m \u001b[0;34m**\u001b[0m\u001b[0mkw\u001b[0m\u001b[0;34m)\u001b[0m\u001b[0;34m\u001b[0m\u001b[0;34m\u001b[0m\u001b[0m\n\u001b[0m\u001b[1;32m    841\u001b[0m \u001b[0;34m\u001b[0m\u001b[0m\n\u001b[1;32m    842\u001b[0m     \u001b[0mfuncname\u001b[0m \u001b[0;34m=\u001b[0m \u001b[0mgetattr\u001b[0m\u001b[0;34m(\u001b[0m\u001b[0mfunc\u001b[0m\u001b[0;34m,\u001b[0m \u001b[0;34m'__name__'\u001b[0m\u001b[0;34m,\u001b[0m \u001b[0;34m'singledispatch function'\u001b[0m\u001b[0;34m)\u001b[0m\u001b[0;34m\u001b[0m\u001b[0;34m\u001b[0m\u001b[0m\n",
      "\u001b[0;32m/opt/conda/lib/python3.7/site-packages/rpy2/robjects/numpy2ri.py\u001b[0m in \u001b[0;36mrpy2py_sexp\u001b[0;34m(obj)\u001b[0m\n\u001b[1;32m    170\u001b[0m \u001b[0;32mdef\u001b[0m \u001b[0mrpy2py_sexp\u001b[0m\u001b[0;34m(\u001b[0m\u001b[0mobj\u001b[0m\u001b[0;34m)\u001b[0m\u001b[0;34m:\u001b[0m\u001b[0;34m\u001b[0m\u001b[0;34m\u001b[0m\u001b[0m\n\u001b[1;32m    171\u001b[0m     \u001b[0;32mif\u001b[0m \u001b[0;34m(\u001b[0m\u001b[0mobj\u001b[0m\u001b[0;34m.\u001b[0m\u001b[0mtypeof\u001b[0m \u001b[0;32min\u001b[0m \u001b[0m_vectortypes\u001b[0m\u001b[0;34m)\u001b[0m \u001b[0;32mand\u001b[0m \u001b[0;34m(\u001b[0m\u001b[0mobj\u001b[0m\u001b[0;34m.\u001b[0m\u001b[0mtypeof\u001b[0m \u001b[0;34m!=\u001b[0m \u001b[0mRTYPES\u001b[0m\u001b[0;34m.\u001b[0m\u001b[0mVECSXP\u001b[0m\u001b[0;34m)\u001b[0m\u001b[0;34m:\u001b[0m\u001b[0;34m\u001b[0m\u001b[0;34m\u001b[0m\u001b[0m\n\u001b[0;32m--> 172\u001b[0;31m         \u001b[0mres\u001b[0m \u001b[0;34m=\u001b[0m \u001b[0mnumpy\u001b[0m\u001b[0;34m.\u001b[0m\u001b[0marray\u001b[0m\u001b[0;34m(\u001b[0m\u001b[0mobj\u001b[0m\u001b[0;34m)\u001b[0m\u001b[0;34m\u001b[0m\u001b[0;34m\u001b[0m\u001b[0m\n\u001b[0m\u001b[1;32m    173\u001b[0m     \u001b[0;32melse\u001b[0m\u001b[0;34m:\u001b[0m\u001b[0;34m\u001b[0m\u001b[0;34m\u001b[0m\u001b[0m\n\u001b[1;32m    174\u001b[0m         \u001b[0mres\u001b[0m \u001b[0;34m=\u001b[0m \u001b[0mro\u001b[0m\u001b[0;34m.\u001b[0m\u001b[0mdefault_converter\u001b[0m\u001b[0;34m.\u001b[0m\u001b[0mrpy2py\u001b[0m\u001b[0;34m(\u001b[0m\u001b[0mobj\u001b[0m\u001b[0;34m)\u001b[0m\u001b[0;34m\u001b[0m\u001b[0;34m\u001b[0m\u001b[0m\n",
      "\u001b[0;31mMemoryError\u001b[0m: Unable to allocate 157. GiB for an array with shape (145348, 145348) and data type float64"
     ]
    }
   ],
   "source": [
    "%%R\n",
    "# MemoryError: Unable to allocate 157. GiB for an array with shape (145348, 145348) and data type float64\n",
    "WW = tcrossprod(W)"
   ]
  },
  {
   "cell_type": "code",
   "execution_count": 26,
   "metadata": {},
   "outputs": [
    {
     "data": {
      "text/plain": [
       "82"
      ]
     },
     "execution_count": 26,
     "metadata": {},
     "output_type": "execute_result"
    }
   ],
   "source": [
    "values = psutil.virtual_memory()\n",
    "avail = values.available >> 30\n",
    "avail"
   ]
  },
  {
   "cell_type": "code",
   "execution_count": null,
   "metadata": {},
   "outputs": [],
   "source": [
    "%%R\n",
    "remove(W, Z_star)"
   ]
  },
  {
   "cell_type": "code",
   "execution_count": 28,
   "metadata": {
    "colab": {
     "base_uri": "https://localhost:8080/",
     "height": 1000
    },
    "colab_type": "code",
    "id": "k3jCA928WXV3",
    "outputId": "e7cd5288-e278-47dc-d7fb-56a6bd5d8598"
   },
   "outputs": [
    {
     "name": "stderr",
     "output_type": "stream",
     "text": [
      "R[write to console]: Error: cannot allocate vector of size 157.4 Gb\n",
      "\n",
      "R[write to console]: In addition: \n",
      "R[write to console]: Warning message:\n",
      "\n",
      "R[write to console]: In Unique_GID != GID_missing :\n",
      "R[write to console]: \n",
      " \n",
      "R[write to console]:  longer object length is not a multiple of shorter object length\n",
      "\n"
     ]
    },
    {
     "name": "stdout",
     "output_type": "stream",
     "text": [
      "\n",
      "Error: cannot allocate vector of size 157.4 Gb\n"
     ]
    }
   ],
   "source": [
    "%%R\n",
    "K = ZAZ*WW\n",
    "diag(K) = diag(K)+1/200 \n",
    "K = K/mean(diag(K))\n",
    "L2 = t(chol(K))"
   ]
  },
  {
   "cell_type": "code",
   "execution_count": null,
   "metadata": {
    "colab": {},
    "colab_type": "code",
    "id": "_E8ZqJ7Db10M"
   },
   "outputs": [],
   "source": [
    "%%capture\n",
    "%%R\n",
    "\n",
    "ETA = list(ENV=list(X=ZE,model='BRR'),\n",
    "           PED=list(X=ZL,model='BRR'),\n",
    "           EC=list(X=W,model='BRR'),\n",
    "           AxW=list(X=L2,model='BRR'))\n",
    "\n",
    "fm4 = BGLR(y=y_train,ETA=ETA, saveAt='M4_',nIter=500,burnIn=200)"
   ]
  },
  {
   "cell_type": "code",
   "execution_count": null,
   "metadata": {
    "colab": {},
    "colab_type": "code",
    "id": "UYepS4pEWXV7"
   },
   "outputs": [],
   "source": [
    "predictions_4 = fm4$yHat[-training.samples]\n",
    "print(data.frame( R2_4 = R2(predictions_4, test_values),\n",
    "            RMSE_4 = RMSE(predictions_4, test_values),\n",
    "            MAE_4 = MAE(predictions_4, test_values)))\n",
    "\n",
    "plot(test_values,predictions_4)"
   ]
  },
  {
   "cell_type": "code",
   "execution_count": null,
   "metadata": {
    "colab": {},
    "colab_type": "code",
    "id": "4i39cfqoWXV-"
   },
   "outputs": [],
   "source": [
    "%%R\n",
    "# Fitting Model 5 (Main Environment-Pedigree-Environmental Covariate Effects \n",
    "# with Pedigree-Environmental Covariate Interaction and Pedigree-Environment Main Effects)\n",
    "# (EAW-AxW-AxE)\n",
    "\n",
    "ZZ = tcrossprod(ZE)\n",
    "K = ZZ* ZAZ\n",
    "diag(K) = diag(K)+1/200 \n",
    "K = K/mean(diag(K))\n",
    "L3 = t(chol(K))"
   ]
  },
  {
   "cell_type": "code",
   "execution_count": null,
   "metadata": {
    "colab": {},
    "colab_type": "code",
    "id": "4i39cfqoWXV-"
   },
   "outputs": [],
   "source": [
    "%%capture\n",
    "%%R\n",
    "\n",
    "ETA = list(ENV=list(X=ZE,model='BRR'),\n",
    "           PED=list(X=ZL,model='BRR'),\n",
    "           EC=list(X=W,model='BRR'),\n",
    "           AxW=list(X=L2,model='BRR'),\n",
    "           AxE=list(X=L3,model='BRR'))\n",
    "\n",
    "fm5 = BGLR(y=y_train,ETA=ETA, saveAt='M5_',nIter=500,burnIn=200)"
   ]
  },
  {
   "cell_type": "code",
   "execution_count": null,
   "metadata": {
    "colab": {},
    "colab_type": "code",
    "id": "szC8mKraWXWC"
   },
   "outputs": [],
   "source": [
    "%%R\n",
    "predictions_5 = fm5$yHat[-training.samples]\n",
    "\n",
    "model5_results =data.frame( R2_5 = R2(predictions_5, test_values),\n",
    "            RMSE_5 = RMSE(predictions_5, test_values),\n",
    "            MAE_5 = MAE(predictions_5, test_values))\n",
    "\n",
    "print(model5_results)\n",
    "\n",
    "plot(test_values,predictions_5)"
   ]
  }
 ],
 "metadata": {
  "accelerator": "GPU",
  "colab": {
   "collapsed_sections": [
    "AsalBflTF0hr"
   ],
   "name": "6_LMM_replication.ipynb",
   "provenance": [],
   "toc_visible": true
  },
  "kernelspec": {
   "display_name": "Python 3",
   "language": "python",
   "name": "python3"
  },
  "language_info": {
   "codemirror_mode": {
    "name": "ipython",
    "version": 3
   },
   "file_extension": ".py",
   "mimetype": "text/x-python",
   "name": "python",
   "nbconvert_exporter": "python",
   "pygments_lexer": "ipython3",
   "version": "3.7.6"
  }
 },
 "nbformat": 4,
 "nbformat_minor": 4
}
