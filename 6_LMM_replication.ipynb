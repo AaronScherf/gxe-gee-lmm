{
  "nbformat": 4,
  "nbformat_minor": 0,
  "metadata": {
    "colab": {
      "name": "6_LMM_replication.ipynb",
      "provenance": [],
      "collapsed_sections": [
        "AsalBflTF0hr"
      ],
      "include_colab_link": true
    },
    "kernelspec": {
      "display_name": "Python 3",
      "language": "python",
      "name": "python3"
    },
    "language_info": {
      "codemirror_mode": {
        "name": "ipython",
        "version": 3
      },
      "file_extension": ".py",
      "mimetype": "text/x-python",
      "name": "python",
      "nbconvert_exporter": "python",
      "pygments_lexer": "ipython3",
      "version": "3.7.6"
    }
  },
  "cells": [
    {
      "cell_type": "markdown",
      "metadata": {
        "id": "view-in-github",
        "colab_type": "text"
      },
      "source": [
        "<a href=\"https://colab.research.google.com/github/AaronScherf/gxe-gee-lmm/blob/master/6_LMM_replication.ipynb\" target=\"_parent\"><img src=\"https://colab.research.google.com/assets/colab-badge.svg\" alt=\"Open In Colab\"/></a>"
      ]
    },
    {
      "cell_type": "markdown",
      "metadata": {
        "colab_type": "text",
        "id": "a-6HQBaiXtWG"
      },
      "source": [
        "# Predicting Grain Yields with a Pedigree-Based Reaction Norm GxE Model using the BGLR Package in R"
      ]
    },
    {
      "cell_type": "markdown",
      "metadata": {
        "colab_type": "text",
        "id": "1kajA1zLX1KR"
      },
      "source": [
        "From A Pedigree-Based Reaction Norm Model for Prediction of Cotton Yield in Multienvironment Trials\n",
        "\n",
        "https://dl.sciencesocieties.org/publications/cs/abstracts/55/3/1143?access=0&view=pdf"
      ]
    },
    {
      "cell_type": "markdown",
      "metadata": {
        "colab_type": "text",
        "id": "tePeiYjSXn-r"
      },
      "source": [
        "## Install Necessary Packages and Mount Drive"
      ]
    },
    {
      "cell_type": "code",
      "metadata": {
        "colab_type": "code",
        "id": "TVZumoPImSNG",
        "colab": {}
      },
      "source": [
        "# To host on a local runtime:\n",
        "# Run the following from the command line or miniconda shell on your local machine:\n",
        "\n",
        "# pip install jupyter_http_over_ws\n",
        "# jupyter serverextension enable --py jupyter_http_over_ws\n",
        "\n",
        "# conda create -n gxe_gee python=3.7 ipykernel jupyter anaconda\n",
        "# conda activate gxe_gee\n",
        "# ipython kernel install --name gxe_gee --user\n",
        "\n",
        "# jupyter notebook \\ --NotebookApp.allow_origin='https://colab.research.google.com' \\ --port=8888 \\ --NotebookApp.port_retries=0\n",
        "# jupyter notebook  --NotebookApp.allow_origin='https://colab.research.google.com'  --port=8888  --NotebookApp.port_retries=0\n"
      ],
      "execution_count": 0,
      "outputs": []
    },
    {
      "cell_type": "code",
      "metadata": {
        "colab_type": "code",
        "id": "pQ8487lMr3-d",
        "colab": {}
      },
      "source": [
        "# Installing rpy2 package through Python to run R code\n",
        "\n",
        "#!pip install rpy2\n",
        "\n",
        "# If pip install doesn't work, try:\n",
        "\n",
        "# !conda install -c r rpy2\n",
        "\n",
        "# If the conda install line doesn't work, or if you have issues on your locally hosted runtime, try the following:\n",
        "# https://anaconda.zendesk.com/hc/en-us/articles/360023857134-Setting-up-rpy2-on-Windows\n"
      ],
      "execution_count": 0,
      "outputs": []
    },
    {
      "cell_type": "markdown",
      "metadata": {
        "id": "8XpF0fjQVhBI",
        "colab_type": "text"
      },
      "source": [
        "## Mount Drive or Set Data Path"
      ]
    },
    {
      "cell_type": "code",
      "metadata": {
        "colab_type": "code",
        "id": "yB1UmC8JtQHI",
        "outputId": "10423bc9-ea6a-4dfc-ab36-559bb93a477a",
        "colab": {
          "base_uri": "https://localhost:8080/",
          "height": 54
        }
      },
      "source": [
        "# Mount the Colab notebook in Google Drive\n",
        "# Only if running from a hosted runtime in Colab, ignore if running locally\n",
        "\n",
        "from google.colab import drive # import drive from google colab\n",
        "\n",
        "drive.mount(\"/content/drive\")  # mount the google drive at /content/drive"
      ],
      "execution_count": 77,
      "outputs": [
        {
          "output_type": "stream",
          "text": [
            "Drive already mounted at /content/drive; to attempt to forcibly remount, call drive.mount(\"/content/drive\", force_remount=True).\n"
          ],
          "name": "stdout"
        }
      ]
    },
    {
      "cell_type": "code",
      "metadata": {
        "colab_type": "code",
        "id": "gl6uub3ctT5w",
        "outputId": "cb80e92b-5e51-47f4-bd07-3eb9c8184e24",
        "colab": {
          "base_uri": "https://localhost:8080/",
          "height": 34
        }
      },
      "source": [
        "# Search for the root directory of the project in Drive and save as a path string\n",
        "\n",
        "parent_dir_name = 'GxE with GEE'\n",
        "\n",
        "for dirpath, subdirs, files in os.walk('/content'):\n",
        "  if parent_dir_name in subdirs:\n",
        "    parent_path = dirpath + \"/\" + parent_dir_name\n",
        "\n",
        "parent_path"
      ],
      "execution_count": 78,
      "outputs": [
        {
          "output_type": "execute_result",
          "data": {
            "text/plain": [
              "'/content/drive/My Drive/Research/GxE with GEE'"
            ]
          },
          "metadata": {
            "tags": []
          },
          "execution_count": 78
        }
      ]
    },
    {
      "cell_type": "code",
      "metadata": {
        "colab_type": "code",
        "id": "6h3IIAS_tV6a",
        "outputId": "06081dc6-10ee-4ea0-9545-bfd128de8183",
        "colab": {
          "base_uri": "https://localhost:8080/",
          "height": 34
        }
      },
      "source": [
        "# Set Data Path\n",
        "## Change the destination to your Drive directory containing the folder 'raw_data.zip'\n",
        "data_path_end = '/Colab Workspace/Data'\n",
        "data_path = parent_path + data_path_end\n",
        "os.chdir(data_path)\n",
        "os.getcwd()"
      ],
      "execution_count": 79,
      "outputs": [
        {
          "output_type": "execute_result",
          "data": {
            "text/plain": [
              "'/content/drive/My Drive/Research/GxE with GEE/Colab Workspace/Data'"
            ]
          },
          "metadata": {
            "tags": []
          },
          "execution_count": 79
        }
      ]
    },
    {
      "cell_type": "code",
      "metadata": {
        "colab_type": "code",
        "id": "SLWiVgolryB4",
        "colab": {}
      },
      "source": [
        "# Locally hosted version, just set the destination manually\n",
        "\n",
        "# data_path = 'C:/Users/theaa/Downloads'\n",
        "# os.chdir('C:/Users/theaa/Downloads')\n",
        "# os.getcwd()"
      ],
      "execution_count": 0,
      "outputs": []
    },
    {
      "cell_type": "markdown",
      "metadata": {
        "id": "N-zAWxjpeNAP",
        "colab_type": "text"
      },
      "source": [
        "## Initial R Benchmark"
      ]
    },
    {
      "cell_type": "code",
      "metadata": {
        "colab_type": "code",
        "outputId": "2c7919fb-4e90-4be1-d3f7-7664988572dc",
        "id": "v4MQDgUQdiK4",
        "colab": {
          "base_uri": "https://localhost:8080/",
          "height": 487
        }
      },
      "source": [
        "#@title Run Benchmark Test { vertical-output: true, display-mode: \"form\" }\n",
        "%%R\n",
        "# R Benchmark 2.5 (06/2008) [Simon Urbanek]\n",
        "# version 2.5: scaled to get roughly 1s per test, R 2.7.0 @ 2.6GHz Mac Pro\n",
        "# R Benchmark 2.4 (06/2008) [Simon Urbanek]\n",
        "# version 2.4 adapted to more recent Matrix package\n",
        "# R Benchmark 2.3 (21 April 2004)\n",
        "# Warning: changes are not carefully checked yet!\n",
        "# version 2.3 adapted to R 1.9.0\n",
        "# Many thanks to Douglas Bates (bates@stat.wisc.edu) for improvements!\n",
        "# version 2.2 adapted to R 1.8.0\n",
        "# version 2.1 adapted to R 1.7.0\n",
        "# version 2, scaled to get 1 +/- 0.1 sec with R 1.6.2\n",
        "# using the standard ATLAS library (Rblas.dll)\n",
        "# on a Pentium IV 1.6 Ghz with 1 Gb Ram on Win XP pro\n",
        "\n",
        "# revised and optimized for R v. 1.5.x, 8 June 2002\n",
        "# Requires additionnal libraries: Matrix, SuppDists\n",
        "# Author : Philippe Grosjean\n",
        "# eMail  : phgrosjean@sciviews.org\n",
        "# Web    : http://www.sciviews.org\n",
        "# License: GPL 2 or above at your convenience (see: http://www.gnu.org)\n",
        "#\n",
        "# Several tests are adapted from the Splus Benchmark Test V. 2\n",
        "# by Stephan Steinhaus (stst@informatik.uni-frankfurt.de) \n",
        "# Reference for Escoufier's equivalents vectors (test III.5):\n",
        "# Escoufier Y., 1970. Echantillonnage dans une population de variables\n",
        "# aleatoires réelles. Publ. Inst. Statis. Univ. Paris 19 Fasc 4, 1-47.\n",
        "#\n",
        "# type source(\"c:/<dir>/R2.R\") to start the test\n",
        "\n",
        "runs <- 3\t\t\t# Number of times the tests are executed\n",
        "times <- rep(0, 15); dim(times) <- c(5,3)\n",
        "require(Matrix)\t\t# Optimized matrix operations\n",
        "require(SuppDists)\t# Optimized random number generators\n",
        "#Runif <- rMWC1019\t# The fast uniform number generator\n",
        "Runif <- runif\n",
        "# If you don't have SuppDists, you can use: Runif <- runif\n",
        "#a <- rMWC1019(10, new.start=TRUE, seed=492166)\t# Init. the generator\n",
        "#Rnorm <- rziggurat\t# The fast normal number generator\n",
        "# If you don't have SuppDists, you can use: Rnorm <- rnorm\n",
        "#b <- rziggurat(10, new.start=TRUE)\t# Init. the generator\n",
        "Rnorm <- rnorm\n",
        "remove(\"a\", \"b\")\n",
        "options(object.size=100000000)\n",
        "\n",
        "cat(\"\\n\\n   R Benchmark 2.5\\n\")\n",
        "cat(\"   ===============\\n\")\n",
        "cat(c(\"Number of times each test is run__________________________: \", runs))\n",
        "cat(\"\\n\\n\")\n",
        "\n",
        "\n",
        "cat(\"   I. Matrix calculation\\n\")\n",
        "cat(\"   ---------------------\\n\")\n",
        "if (R.Version()$os == \"Win32\" || R.Version()$os == \"mingw32\") flush.console()\n",
        "\n",
        "# (1)\n",
        "cumulate <- 0; a <- 0; b <- 0\n",
        "for (i in 1:runs) {\n",
        "  invisible(gc())\n",
        "  timing <- system.time({\n",
        "    a <- matrix(Rnorm(2500*2500)/10, ncol=2500, nrow=2500);\n",
        "    b <- t(a);\n",
        "    dim(b) <- c(1250, 5000);\n",
        "    a <- t(b)\n",
        "  })[3]\n",
        "  cumulate <- cumulate + timing\n",
        "}\n",
        "timing <- cumulate/runs\n",
        "times[1, 1] <- timing\n",
        "cat(c(\"Creation, transp., deformation of a 2500x2500 matrix (sec): \", timing, \"\\n\"))\n",
        "remove(\"a\", \"b\")\n",
        "if (R.Version()$os == \"Win32\" || R.Version()$os == \"mingw32\") flush.console()\n",
        "\n",
        "# (2)\n",
        "cumulate <- 0; b <- 0\n",
        "for (i in 1:runs) {\n",
        "  a <- abs(matrix(Rnorm(2500*2500)/2, ncol=2500, nrow=2500));\n",
        "  invisible(gc())\n",
        "  timing <- system.time({ \n",
        "    b <- a^1000 \n",
        "  })[3]\n",
        "  cumulate <- cumulate + timing\n",
        "}\n",
        "timing <- cumulate/runs\n",
        "times[2, 1] <- timing\n",
        "cat(c(\"2400x2400 normal distributed random matrix ^1000____ (sec): \", timing, \"\\n\"))\n",
        "remove(\"a\", \"b\")\n",
        "if (R.Version()$os == \"Win32\" || R.Version()$os == \"mingw32\") flush.console()\n",
        "\n",
        "# (3)\n",
        "cumulate <- 0; b <- 0\n",
        "for (i in 1:runs) {\n",
        "  a <- Rnorm(7000000)\n",
        "  invisible(gc())\n",
        "  timing <- system.time({\n",
        "    b <- sort(a, method=\"quick\")\t# Sort is modified in v. 1.5.x\n",
        "    # And there is now a quick method that better competes with other packages!!!\n",
        "  })[3]\n",
        "  cumulate <- cumulate + timing\n",
        "}\n",
        "timing <- cumulate/runs\n",
        "times[3, 1] <- timing\n",
        "cat(c(\"Sorting of 7,000,000 random values__________________ (sec): \", timing, \"\\n\"))\n",
        "remove(\"a\", \"b\")\n",
        "if (R.Version()$os == \"Win32\" || R.Version()$os == \"mingw32\") flush.console()\n",
        "\n",
        "# (4)\n",
        "cumulate <- 0; b <- 0\n",
        "for (i in 1:runs) {\n",
        "  a <- Rnorm(2800*2800); dim(a) <- c(2800, 2800)\n",
        "  invisible(gc())\n",
        "  timing <- system.time({\n",
        "    b <- crossprod(a)\t\t# equivalent to: b <- t(a) %*% a\n",
        "  })[3]\n",
        "  cumulate <- cumulate + timing\n",
        "}\n",
        "timing <- cumulate/runs\n",
        "times[4, 1] <- timing\n",
        "cat(c(\"2800x2800 cross-product matrix (b = a' * a)_________ (sec): \", timing, \"\\n\"))\n",
        "remove(\"a\", \"b\")\n",
        "if (R.Version()$os == \"Win32\" || R.Version()$os == \"mingw32\") flush.console()\n",
        "\n",
        "# (5)\n",
        "cumulate <- 0; c <- 0; qra <-0\n",
        "for (i in 1:runs) {\n",
        "  a <- new(\"dgeMatrix\", x = Rnorm(2000*2000), Dim = as.integer(c(2000,2000)))\n",
        "  b <- as.double(1:2000)\n",
        "  invisible(gc())\n",
        "  timing <- system.time({\n",
        "    c <- solve(crossprod(a), crossprod(a,b))\n",
        "  })[3]\n",
        "  cumulate <- cumulate + timing\n",
        "  \n",
        "  # This is the old method\n",
        "  #a <- Rnorm(600*600); dim(a) <- c(600,600)\n",
        "  #b <- 1:600\n",
        "  #invisible(gc())\n",
        "  #timing <- system.time({\n",
        "  #  qra <- qr(a, tol = 1e-7);\n",
        "  #  c <- qr.coef(qra, b)\n",
        "  #  #Rem: a little faster than c <- lsfit(a, b, inter=F)$coefficients\n",
        "  #})[3]\n",
        "  #cumulate <- cumulate + timing\n",
        "}\n",
        "timing <- cumulate/runs\n",
        "times[5, 1] <- timing\n",
        "cat(c(\"Linear regr. over a 3000x3000 matrix (c = a \\\\ b')___ (sec): \", timing, \"\\n\"))\n",
        "remove(\"a\", \"b\", \"c\", \"qra\")\n",
        "if (R.Version()$os == \"Win32\" || R.Version()$os == \"mingw32\") flush.console()\n",
        "\n",
        "times[ , 1] <- sort(times[ , 1])\n",
        "cat(\"                      --------------------------------------------\\n\")\n",
        "cat(c(\"                 Trimmed geom. mean (2 extremes eliminated): \", exp(mean(log(times[2:4, 1]))), \"\\n\\n\"))\n",
        "\n",
        "cat(\"   II. Matrix functions\\n\")\n",
        "cat(\"   --------------------\\n\")\n",
        "if (R.Version()$os == \"Win32\") flush.console()\n",
        "\n",
        "# (1)\n",
        "cumulate <- 0; b <- 0\n",
        "for (i in 1:runs) {\n",
        "  a <- Rnorm(2400000)\n",
        "  invisible(gc())\n",
        "  timing <- system.time({\n",
        "    b <- fft(a)\n",
        "  })[3]\n",
        "  cumulate <- cumulate + timing\n",
        "}\n",
        "timing <- cumulate/runs\n",
        "times[1, 2] <- timing\n",
        "cat(c(\"FFT over 2,400,000 random values____________________ (sec): \", timing, \"\\n\"))\n",
        "remove(\"a\", \"b\")\n",
        "if (R.Version()$os == \"Win32\" || R.Version()$os == \"mingw32\") flush.console()\n",
        "\n",
        "# (2)\n",
        "cumulate <- 0; b <- 0\n",
        "for (i in 1:runs) {\n",
        "  a <- array(Rnorm(600*600), dim = c(600, 600))\n",
        "  # Only needed if using eigen.Matrix(): Matrix.class(a)\n",
        "  invisible(gc())\n",
        "  timing <- system.time({\n",
        "  \tb <- eigen(a, symmetric=FALSE, only.values=TRUE)$Value\n",
        "  \t# Rem: on my machine, it is faster than:\n",
        "  #\t b <- La.eigen(a, symmetric=F, only.values=T, method=\"dsyevr\")$Value\n",
        "  #\t b <- La.eigen(a, symmetric=F, only.values=T, method=\"dsyev\")$Value\n",
        "  #  b <- eigen.Matrix(a, vectors = F)$Value\n",
        "  })[3]\n",
        "  cumulate <- cumulate + timing\n",
        "}\n",
        "timing <- cumulate/runs\n",
        "times[2, 2] <- timing\n",
        "cat(c(\"Eigenvalues of a 640x640 random matrix______________ (sec): \", timing, \"\\n\"))\n",
        "remove(\"a\", \"b\")\n",
        "if (R.Version()$os == \"Win32\" || R.Version()$os == \"mingw32\") flush.console()\n",
        "\n",
        "# (3)\n",
        "cumulate <- 0; b <- 0\n",
        "for (i in 1:runs) {\n",
        "  a <- Rnorm(2500*2500); dim(a) <- c(2500, 2500)\n",
        "  #Matrix.class(a)\n",
        "  invisible(gc())\n",
        "  timing <- system.time({\n",
        "    #b <- determinant(a, logarithm=F)\n",
        "    # Rem: the following is slower on my computer!\n",
        "    # b <- det.default(a)\n",
        "    b <- det(a)\n",
        "  })[3]\n",
        "  cumulate <- cumulate + timing\n",
        "}\n",
        "timing <- cumulate/runs\n",
        "times[3, 2] <- timing\n",
        "cat(c(\"Determinant of a 2500x2500 random matrix____________ (sec): \", timing, \"\\n\"))\n",
        "remove(\"a\", \"b\")\n",
        "if (R.Version()$os == \"Win32\" || R.Version()$os == \"mingw32\") flush.console()\n",
        "\n",
        "# (4)\n",
        "cumulate <- 0; b <- 0\n",
        "for (i in 1:runs) {\n",
        "  a <- crossprod(new(\"dgeMatrix\", x = Rnorm(3000*3000),\n",
        "                       Dim = as.integer(c(3000, 3000))))\n",
        "  invisible(gc())\n",
        "  #a <- Rnorm(900*900); dim(a) <- c(900, 900)\n",
        "  #a <- crossprod(a, a)\n",
        "  timing <- system.time({\n",
        "    b <- chol(a)\n",
        "  })[3]\n",
        "  cumulate <- cumulate + timing\n",
        "}\n",
        "timing <- cumulate/runs\n",
        "times[4, 2] <- timing\n",
        "cat(c(\"Cholesky decomposition of a 3000x3000 matrix________ (sec): \", timing, \"\\n\"))\n",
        "remove(\"a\", \"b\")\n",
        "if (R.Version()$os == \"Win32\" || R.Version()$os == \"mingw32\") flush.console()\n",
        "\n",
        "# (5)\n",
        "cumulate <- 0; b <- 0\n",
        "for (i in 1:runs) {\n",
        "  a <- new(\"dgeMatrix\", x = Rnorm(1600*1600), Dim = as.integer(c(1600, 1600)))\n",
        "  invisible(gc())\n",
        "  #a <- Rnorm(400*400); dim(a) <- c(400, 400)\n",
        "  timing <- system.time({\n",
        "  #  b <- qr.solve(a)\n",
        "    # Rem: a little faster than\n",
        "    b <- solve(a)\n",
        "  })[3]\n",
        "  cumulate <- cumulate + timing\n",
        "}\n",
        "timing <- cumulate/runs\n",
        "times[5, 2] <- timing\n",
        "cat(c(\"Inverse of a 1600x1600 random matrix________________ (sec): \", timing, \"\\n\"))\n",
        "remove(\"a\", \"b\")\n",
        "if (R.Version()$os == \"Win32\" || R.Version()$os == \"mingw32\") flush.console()\n",
        "\n",
        "times[ , 2] <- sort(times[ , 2])\n",
        "cat(\"                      --------------------------------------------\\n\")\n",
        "cat(c(\"                Trimmed geom. mean (2 extremes eliminated): \", exp(mean(log(times[2:4, 2]))), \"\\n\\n\"))\n",
        "\n",
        "cat(\"   III. Programmation\\n\")\n",
        "cat(\"   ------------------\\n\")\n",
        "if (R.Version()$os == \"Win32\" || R.Version()$os == \"mingw32\") flush.console()\n",
        "\n",
        "# (1)\n",
        "cumulate <- 0; a <- 0; b <- 0; phi <- 1.6180339887498949\n",
        "for (i in 1:runs) {\n",
        "  a <- floor(Runif(3500000)*1000)\n",
        "  invisible(gc())\n",
        "  timing <- system.time({\n",
        "    b <- (phi^a - (-phi)^(-a))/sqrt(5)\n",
        "  })[3]\n",
        "  cumulate <- cumulate + timing\n",
        "}\n",
        "timing <- cumulate/runs\n",
        "times[1, 3] <- timing\n",
        "cat(c(\"3,500,000 Fibonacci numbers calculation (vector calc)(sec): \", timing, \"\\n\"))\n",
        "remove(\"a\", \"b\", \"phi\")\n",
        "if (R.Version()$os == \"Win32\" || R.Version()$os == \"mingw32\") flush.console()\n",
        "\n",
        "# (2)\n",
        "cumulate <- 0; a <- 3000; b <- 0\n",
        "for (i in 1:runs) {\n",
        "  invisible(gc())\n",
        "  timing <- system.time({\n",
        "    b <- rep(1:a, a); dim(b) <- c(a, a);\n",
        "    b <- 1 / (t(b) + 0:(a-1))\n",
        "    # Rem: this is twice as fast as the following code proposed by R programmers\n",
        "    # a <- 1:a; b <- 1 / outer(a - 1, a, \"+\")\n",
        "  })[3]\n",
        "  cumulate <- cumulate + timing\n",
        "}\n",
        "timing <- cumulate/runs\n",
        "times[2, 3] <- timing\n",
        "cat(c(\"Creation of a 3000x3000 Hilbert matrix (matrix calc) (sec): \", timing, \"\\n\"))\n",
        "remove(\"a\", \"b\")\n",
        "if (R.Version()$os == \"Win32\" || R.Version()$os == \"mingw32\") flush.console()\n",
        "\n",
        "# (3)\n",
        "cumulate <- 0; c <- 0\n",
        "gcd2 <- function(x, y) {if (sum(y > 1.0E-4) == 0) x else {y[y == 0] <- x[y == 0]; Recall(y, x %% y)}}\n",
        "for (i in 1:runs) {\n",
        "  a <- ceiling(Runif(400000)*1000)\n",
        "  b <- ceiling(Runif(400000)*1000)\n",
        "  invisible(gc())\n",
        "  timing <- system.time({\t  \n",
        "    c <- gcd2(a, b)                            # gcd2 is a recursive function\n",
        "  })[3]\n",
        "  cumulate <- cumulate + timing\n",
        "}\n",
        "timing <- cumulate/runs\n",
        "times[3, 3] <- timing\n",
        "cat(c(\"Grand common divisors of 400,000 pairs (recursion)__ (sec): \", timing, \"\\n\"))\n",
        "remove(\"a\", \"b\", \"c\", \"gcd2\")\n",
        "if (R.Version()$os == \"Win32\" || R.Version()$os == \"mingw32\") flush.console()\n",
        "\n",
        "# (4)\n",
        "cumulate <- 0; b <- 0\n",
        "for (i in 1:runs) {\n",
        "  b <- rep(0, 500*500); dim(b) <- c(500, 500)\n",
        "  invisible(gc())\n",
        "  timing <- system.time({\n",
        "  \t# Rem: there are faster ways to do this\n",
        "  \t# but here we want to time loops (220*220 'for' loops)! \n",
        "    for (j in 1:500) {\n",
        "      for (k in 1:500) {\n",
        "        b[k,j] <- abs(j - k) + 1\n",
        "      }\n",
        "    }\n",
        "  })[3]\n",
        "  cumulate <- cumulate + timing\n",
        "}\n",
        "timing <- cumulate/runs\n",
        "times[4, 3] <- timing\n",
        "cat(c(\"Creation of a 500x500 Toeplitz matrix (loops)_______ (sec): \", timing, \"\\n\"))\n",
        "remove(\"b\", \"j\", \"k\")\n",
        "if (R.Version()$os == \"Win32\" || R.Version()$os == \"mingw32\") flush.console()\n",
        "\n",
        "# (5)\n",
        "cumulate <- 0; p <- 0; vt <- 0; vr <- 0; vrt <- 0; rvt <- 0; RV <- 0; j <- 0; k <- 0;\n",
        "x2 <- 0; R <- 0; Rxx <- 0; Ryy <- 0; Rxy <- 0; Ryx <- 0; Rvmax <- 0\n",
        "# Calculate the trace of a matrix (sum of its diagonal elements)\n",
        "Trace <- function(y) {sum(c(y)[1 + 0:(min(dim(y)) - 1) * (dim(y)[1] + 1)], na.rm=FALSE)}\n",
        "for (i in 1:runs) {\n",
        "  x <- abs(Rnorm(45*45)); dim(x) <- c(45, 45)\n",
        "  invisible(gc())\n",
        "  timing <- system.time({\n",
        "    # Calculation of Escoufier's equivalent vectors\n",
        "    p <- ncol(x)\n",
        "    vt <- 1:p                                  # Variables to test\n",
        "    vr <- NULL                                 # Result: ordered variables\n",
        "    RV <- 1:p                                  # Result: correlations\n",
        "    vrt <- NULL\n",
        "    for (j in 1:p) {                           # loop on the variable number\n",
        "      Rvmax <- 0\n",
        "      for (k in 1:(p-j+1)) {                   # loop on the variables\n",
        "        x2 <- cbind(x, x[,vr], x[,vt[k]])\n",
        "        R <- cor(x2)                           # Correlations table\n",
        "        Ryy <- R[1:p, 1:p]\n",
        "        Rxx <- R[(p+1):(p+j), (p+1):(p+j)]\n",
        "        Rxy <- R[(p+1):(p+j), 1:p]\n",
        "        Ryx <- t(Rxy)\n",
        "        rvt <- Trace(Ryx %*% Rxy) / sqrt(Trace(Ryy %*% Ryy) * Trace(Rxx %*% Rxx)) # RV calculation\n",
        "        if (rvt > Rvmax) {\n",
        "          Rvmax <- rvt                         # test of RV\n",
        "          vrt <- vt[k]                         # temporary held variable\n",
        "        }\n",
        "      }\n",
        "      vr[j] <- vrt                             # Result: variable\n",
        "      RV[j] <- Rvmax                           # Result: correlation\n",
        "      vt <- vt[vt!=vr[j]]                      # reidentify variables to test\n",
        "    }\n",
        "  })[3]\n",
        "  cumulate <- cumulate + timing\n",
        "}\n",
        "times[5, 3] <- timing\n",
        "cat(c(\"Escoufier's method on a 45x45 matrix (mixed)________ (sec): \", timing, \"\\n\"))\n",
        "remove(\"x\", \"p\", \"vt\", \"vr\", \"vrt\", \"rvt\", \"RV\", \"j\", \"k\")\n",
        "remove(\"x2\", \"R\", \"Rxx\", \"Ryy\", \"Rxy\", \"Ryx\", \"Rvmax\", \"Trace\") \n",
        "if (R.Version()$os == \"Win32\" || R.Version()$os == \"mingw32\") flush.console()\n",
        "\n",
        "times[ , 3] <- sort(times[ , 3])\n",
        "cat(\"                      --------------------------------------------\\n\")\n",
        "cat(c(\"                Trimmed geom. mean (2 extremes eliminated): \", exp(mean(log(times[2:4, 3]))), \"\\n\\n\\n\"))\n",
        "\n",
        "cat(c(\"Total time for all 15 tests_________________________ (sec): \", sum(times), \"\\n\"))\n",
        "cat(c(\"Overall mean (sum of I, II and III trimmed means/3)_ (sec): \", exp(mean(log(times[2:4, ]))), \"\\n\"))\n",
        "remove(\"cumulate\", \"timing\", \"times\", \"runs\", \"i\")\n",
        "cat(\"                      --- End of test ---\\n\\n\")   "
      ],
      "execution_count": 0,
      "outputs": [
        {
          "output_type": "stream",
          "text": [
            "\n",
            "\n",
            "   R Benchmark 2.5\n",
            "   ===============\n",
            "Number of times each test is run__________________________:  3\n",
            "\n",
            "   I. Matrix calculation\n",
            "   ---------------------\n",
            "Creation, transp., deformation of a 2500x2500 matrix (sec):  0.865000000000085 \n",
            "2400x2400 normal distributed random matrix ^1000____ (sec):  0.636666666666618 \n",
            "Sorting of 7,000,000 random values__________________ (sec):  1.00933333333342 \n",
            "2800x2800 cross-product matrix (b = a' * a)_________ (sec):  0.940333333333153 \n",
            "Linear regr. over a 3000x3000 matrix (c = a \\ b')___ (sec):  0.717999999999999 \n",
            "                      --------------------------------------------\n",
            "                 Trimmed geom. mean (2 extremes eliminated):  0.835873957160623 \n",
            "\n",
            "   II. Matrix functions\n",
            "   --------------------\n",
            "FFT over 2,400,000 random values____________________ (sec):  0.392666666666779 \n",
            "Eigenvalues of a 640x640 random matrix______________ (sec):  0.664333333333161 \n",
            "Determinant of a 2500x2500 random matrix____________ (sec):  0.429999999999836 \n",
            "Cholesky decomposition of a 3000x3000 matrix________ (sec):  0.524000000000039 \n",
            "Inverse of a 1600x1600 random matrix________________ (sec):  0.448666666666516 \n",
            "                      --------------------------------------------\n",
            "                Trimmed geom. mean (2 extremes eliminated):  0.465844725498403 \n",
            "\n",
            "   III. Programmation\n",
            "   ------------------\n"
          ],
          "name": "stdout"
        }
      ]
    },
    {
      "cell_type": "markdown",
      "metadata": {
        "id": "EuO7cCJZdsU2",
        "colab_type": "text"
      },
      "source": [
        "## Install RPy2 and Activate"
      ]
    },
    {
      "cell_type": "code",
      "metadata": {
        "colab_type": "code",
        "id": "QbzqEvaOmoLL",
        "outputId": "fccc927b-7653-43d2-9371-611404e1c025",
        "colab": {
          "base_uri": "https://localhost:8080/",
          "height": 87
        }
      },
      "source": [
        "# Install packages\n",
        "!pip install tzlocal\n",
        "!pip install simplegeneric"
      ],
      "execution_count": 82,
      "outputs": [
        {
          "output_type": "stream",
          "text": [
            "Requirement already satisfied: tzlocal in /usr/local/lib/python3.6/dist-packages (1.5.1)\n",
            "Requirement already satisfied: pytz in /usr/local/lib/python3.6/dist-packages (from tzlocal) (2018.9)\n",
            "Requirement already satisfied: simplegeneric in /usr/local/lib/python3.6/dist-packages (0.8.1)\n"
          ],
          "name": "stdout"
        }
      ]
    },
    {
      "cell_type": "code",
      "metadata": {
        "colab_type": "code",
        "id": "z3KP37uakC_w",
        "colab": {}
      },
      "source": [
        "# import necessary libraries in Python\n",
        "import pandas as pd\n",
        "import numpy as np\n",
        "import os"
      ],
      "execution_count": 0,
      "outputs": []
    },
    {
      "cell_type": "code",
      "metadata": {
        "colab_type": "code",
        "id": "CkpvH8E9s8Uq",
        "outputId": "cdbb41eb-8a57-4eba-8592-5877cbf7c2f0",
        "colab": {
          "base_uri": "https://localhost:8080/",
          "height": 50
        }
      },
      "source": [
        "# activate R magic\n",
        "%load_ext rpy2.ipython"
      ],
      "execution_count": 84,
      "outputs": [
        {
          "output_type": "stream",
          "text": [
            "The rpy2.ipython extension is already loaded. To reload it, use:\n",
            "  %reload_ext rpy2.ipython\n"
          ],
          "name": "stdout"
        }
      ]
    },
    {
      "cell_type": "code",
      "metadata": {
        "colab_type": "code",
        "id": "BPQbzAmAs-9x",
        "outputId": "42c193cc-e810-4d80-a4e3-ce8737915e12",
        "colab": {
          "base_uri": "https://localhost:8080/",
          "height": 87
        }
      },
      "source": [
        "import rpy2\n",
        "import rpy2.robjects as ro\n",
        "from rpy2.robjects.packages import importr\n",
        "from rpy2.robjects import pandas2ri\n",
        "from rpy2.robjects.conversion import localconverter\n",
        "\n",
        "# import R's \"base\" package\n",
        "base = importr('base')\n",
        "\n",
        "# import rpy2's package module\n",
        "import rpy2.robjects.packages as rpackages\n",
        "\n",
        "# import R's utility package\n",
        "utils = rpackages.importr('utils')\n",
        "\n",
        "# select a mirror for R packages\n",
        "utils.chooseCRANmirror(ind=1) # select the first mirror in the list"
      ],
      "execution_count": 85,
      "outputs": [
        {
          "output_type": "stream",
          "text": [
            "/usr/local/lib/python3.6/dist-packages/rpy2/robjects/vectors.py:927: UserWarning: R object inheriting from \"POSIXct\" but without attribute \"tzone\".\n",
            "  warnings.warn('R object inheriting from \"POSIXct\" but without '\n"
          ],
          "name": "stderr"
        },
        {
          "output_type": "execute_result",
          "data": {
            "text/plain": [
              "<rpy2.rinterface.NULLType object at 0x7f63d38aa408> [RTYPES.NILSXP]"
            ]
          },
          "metadata": {
            "tags": []
          },
          "execution_count": 85
        }
      ]
    },
    {
      "cell_type": "code",
      "metadata": {
        "colab_type": "code",
        "id": "XcJL36uwtBFD",
        "colab": {}
      },
      "source": [
        "# Import the pandas2ri functions and activate\n",
        "from rpy2.robjects import pandas2ri\n",
        "pandas2ri.activate()"
      ],
      "execution_count": 0,
      "outputs": []
    },
    {
      "cell_type": "code",
      "metadata": {
        "colab_type": "code",
        "id": "eq9UlYsMtGRJ",
        "colab": {}
      },
      "source": [
        "%%capture\n",
        "%%R # Install other R Packages\n",
        "# May result in RunTimeWarnings, these can be ignored\n",
        "install.packages('dplyr')\n",
        "install.packages('tidyverse')\n",
        "install.packages('caret')\n",
        "install.packages(\"VIM\")\n",
        "install.packages('BGLR')"
      ],
      "execution_count": 0,
      "outputs": []
    },
    {
      "cell_type": "code",
      "metadata": {
        "colab_type": "code",
        "id": "hlig2r4stNgf",
        "colab": {}
      },
      "source": [
        "%%R \n",
        "require(\"dplyr\")\n",
        "require('BGLR')\n",
        "require('tidyverse')\n",
        "require('caret')\n",
        "require('VIM')"
      ],
      "execution_count": 0,
      "outputs": []
    },
    {
      "cell_type": "code",
      "metadata": {
        "id": "Mag-bYgWXTEE",
        "colab_type": "code",
        "colab": {}
      },
      "source": [
        "%%R -i data_path\n",
        "# Import the parent_path object from Python and use to set the R working directory\n",
        "setwd(data_path)\n",
        "getwd()"
      ],
      "execution_count": 0,
      "outputs": []
    },
    {
      "cell_type": "markdown",
      "metadata": {
        "id": "6DEfjByrd6wd",
        "colab_type": "text"
      },
      "source": [
        "## Change BLAS to OpenBLAS"
      ]
    },
    {
      "cell_type": "code",
      "metadata": {
        "id": "IRaFoCn-OCtc",
        "colab_type": "code",
        "colab": {}
      },
      "source": [
        "# Switch to OpenBLAS for faster linear algebra computation\n",
        "# https://www.r-bloggers.com/for-faster-r-use-openblas-instead-better-than-atlas-trivial-to-switch-to-on-ubuntu/\n",
        "# http://brettklamer.com/diversions/statistical/faster-blas-in-r/\n",
        "# https://stackoverflow.com/questions/12249089/how-to-use-numpy-with-openblas-instead-of-atlas-in-ubuntu"
      ],
      "execution_count": 0,
      "outputs": []
    },
    {
      "cell_type": "code",
      "metadata": {
        "id": "yliFiryeXwyf",
        "colab_type": "code",
        "colab": {}
      },
      "source": [
        "# OpenBLAS Source\n",
        "# GitHub: https://github.com/xianyi/OpenBLAS\n",
        "# http://www.openblas.net/"
      ],
      "execution_count": 0,
      "outputs": []
    },
    {
      "cell_type": "code",
      "metadata": {
        "id": "yImm1aqROBy_",
        "colab_type": "code",
        "colab": {
          "base_uri": "https://localhost:8080/",
          "height": 168
        },
        "outputId": "264acb5e-0892-4796-cb9e-6827840540e4"
      },
      "source": [
        "!apt-cache search libblas"
      ],
      "execution_count": 2,
      "outputs": [
        {
          "output_type": "stream",
          "text": [
            "libblas-dev - Basic Linear Algebra Subroutines 3, static library\n",
            "libblas3 - Basic Linear Algebra Reference implementations, shared library\n",
            "libatlas-base-dev - Automatically Tuned Linear Algebra Software, generic static\n",
            "libatlas3-base - Automatically Tuned Linear Algebra Software, generic shared\n",
            "libblas-test - Basic Linear Algebra Subroutines 3, testing programs\n",
            "libblasr - tools for aligning PacBio reads to target sequences\n",
            "libblasr-dev - tools for aligning PacBio reads to target sequences (development files)\n",
            "libopenblas-base - Optimized BLAS (linear algebra) library (shared library)\n",
            "libopenblas-dev - Optimized BLAS (linear algebra) library (development files)\n"
          ],
          "name": "stdout"
        }
      ]
    },
    {
      "cell_type": "code",
      "metadata": {
        "id": "bm2EuWftNrnx",
        "colab_type": "code",
        "colab": {
          "base_uri": "https://localhost:8080/",
          "height": 252
        },
        "outputId": "414f0987-b7b7-4eb9-84d8-3a3385138308"
      },
      "source": [
        "# install OpenBLAS\n",
        "!sudo apt-get install libopenblas-base\n",
        "# install ATLAS\n",
        "!sudo apt-get install libatlas3-base liblapack3"
      ],
      "execution_count": 3,
      "outputs": [
        {
          "output_type": "stream",
          "text": [
            "Reading package lists... Done\n",
            "Building dependency tree       \n",
            "Reading state information... Done\n",
            "libopenblas-base is already the newest version (0.2.20+ds-4).\n",
            "libopenblas-base set to manually installed.\n",
            "0 upgraded, 0 newly installed, 0 to remove and 25 not upgraded.\n",
            "Reading package lists... Done\n",
            "Building dependency tree       \n",
            "Reading state information... Done\n",
            "liblapack3 is already the newest version (3.7.1-4ubuntu1).\n",
            "liblapack3 set to manually installed.\n",
            "libatlas3-base is already the newest version (3.10.3-5).\n",
            "libatlas3-base set to manually installed.\n",
            "0 upgraded, 0 newly installed, 0 to remove and 25 not upgraded.\n"
          ],
          "name": "stdout"
        }
      ]
    },
    {
      "cell_type": "code",
      "metadata": {
        "id": "fGCzqVHtPzuv",
        "colab_type": "code",
        "colab": {
          "base_uri": "https://localhost:8080/",
          "height": 34
        },
        "outputId": "fe33f008-85f9-4245-a91d-f7406850160d"
      },
      "source": [
        "# List libblas file if available (note: Colab gives error of no alternatives)\n",
        "!sudo update-alternatives --list libblas.so.3"
      ],
      "execution_count": 5,
      "outputs": [
        {
          "output_type": "stream",
          "text": [
            "update-alternatives: error: no alternatives for libblas.so.3\n"
          ],
          "name": "stdout"
        }
      ]
    },
    {
      "cell_type": "code",
      "metadata": {
        "id": "UeFG2MueN3jH",
        "colab_type": "code",
        "colab": {
          "base_uri": "https://localhost:8080/",
          "height": 34
        },
        "outputId": "a7363124-ad55-435a-d621-bb2e3b77730d"
      },
      "source": [
        "# Configure libblas and set to openblas/libblas.so.3 (Colab also gives a no alternatives error)\n",
        "!sudo update-alternatives --config libblas.so.3"
      ],
      "execution_count": 4,
      "outputs": [
        {
          "output_type": "stream",
          "text": [
            "update-alternatives: error: no alternatives for libblas.so.3\n"
          ],
          "name": "stdout"
        }
      ]
    },
    {
      "cell_type": "code",
      "metadata": {
        "id": "wUMX9kmDQQxf",
        "colab_type": "code",
        "colab": {
          "base_uri": "https://localhost:8080/",
          "height": 1000
        },
        "outputId": "b0fb9a60-a455-4ecf-b269-936cd75781d1"
      },
      "source": [
        "# If nothing else works, update all library files and select the openblas options for libblas.so and libblas.so.3\n",
        "!sudo update-alternatives --all"
      ],
      "execution_count": 6,
      "outputs": [
        {
          "output_type": "stream",
          "text": [
            "There is only one alternative in link group awk (providing /usr/bin/awk): /usr/bin/mawk\n",
            "Nothing to configure.\n",
            "There are 2 choices for the alternative c++ (providing /usr/bin/c++).\n",
            "\n",
            "  Selection    Path              Priority   Status\n",
            "------------------------------------------------------------\n",
            "* 0            /usr/bin/g++       20        auto mode\n",
            "  1            /usr/bin/clang++   10        manual mode\n",
            "  2            /usr/bin/g++       20        manual mode\n",
            "\n",
            "Press <enter> to keep the current choice[*], or type selection number: \n",
            "There are 2 choices for the alternative c89 (providing /usr/bin/c89).\n",
            "\n",
            "  Selection    Path              Priority   Status\n",
            "------------------------------------------------------------\n",
            "* 0            /usr/bin/c89-gcc   20        auto mode\n",
            "  1            /usr/bin/c89-gcc   20        manual mode\n",
            "  2            /usr/bin/clang     10        manual mode\n",
            "\n",
            "Press <enter> to keep the current choice[*], or type selection number: \n",
            "There are 2 choices for the alternative c99 (providing /usr/bin/c99).\n",
            "\n",
            "  Selection    Path              Priority   Status\n",
            "------------------------------------------------------------\n",
            "* 0            /usr/bin/c99-gcc   20        auto mode\n",
            "  1            /usr/bin/c99-gcc   20        manual mode\n",
            "  2            /usr/bin/clang     10        manual mode\n",
            "\n",
            "Press <enter> to keep the current choice[*], or type selection number: \n",
            "There are 2 choices for the alternative cc (providing /usr/bin/cc).\n",
            "\n",
            "  Selection    Path            Priority   Status\n",
            "------------------------------------------------------------\n",
            "* 0            /usr/bin/gcc     20        auto mode\n",
            "  1            /usr/bin/clang   10        manual mode\n",
            "  2            /usr/bin/gcc     20        manual mode\n",
            "\n",
            "Press <enter> to keep the current choice[*], or type selection number: \n",
            "There is only one alternative in link group clhsdb (providing /usr/bin/clhsdb): /usr/lib/jvm/java-8-openjdk-amd64/bin/clhsdb\n",
            "Nothing to configure.\n",
            "There is only one alternative in link group cpp (providing /lib/cpp): /usr/bin/cpp\n",
            "Nothing to configure.\n",
            "There is only one alternative in link group extcheck (providing /usr/bin/extcheck): /usr/lib/jvm/java-8-openjdk-amd64/bin/extcheck\n",
            "Nothing to configure.\n",
            "There is only one alternative in link group f77 (providing /usr/bin/f77): /usr/bin/gfortran\n",
            "Nothing to configure.\n",
            "There is only one alternative in link group f95 (providing /usr/bin/f95): /usr/bin/gfortran\n",
            "Nothing to configure.\n",
            "There is only one alternative in link group from (providing /usr/bin/from): /usr/bin/bsd-from\n",
            "Nothing to configure.\n",
            "There is only one alternative in link group hdf5.pc (providing /usr/lib/x86_64-linux-gnu/pkgconfig/hdf5.pc): /usr/lib/x86_64-linux-gnu/pkgconfig/hdf5-serial.pc\n",
            "Nothing to configure.\n",
            "There is only one alternative in link group hsdb (providing /usr/bin/hsdb): /usr/lib/jvm/java-8-openjdk-amd64/bin/hsdb\n",
            "Nothing to configure.\n",
            "There is only one alternative in link group idlj (providing /usr/bin/idlj): /usr/lib/jvm/java-8-openjdk-amd64/bin/idlj\n",
            "Nothing to configure.\n",
            "There is only one alternative in link group jar (providing /usr/bin/jar): /usr/lib/jvm/java-8-openjdk-amd64/bin/jar\n",
            "Nothing to configure.\n",
            "There is only one alternative in link group jarsigner (providing /usr/bin/jarsigner): /usr/lib/jvm/java-8-openjdk-amd64/bin/jarsigner\n",
            "Nothing to configure.\n",
            "There are 2 choices for the alternative java (providing /usr/bin/java).\n",
            "\n",
            "  Selection    Path                                            Priority   Status\n",
            "------------------------------------------------------------\n",
            "* 0            /usr/lib/jvm/java-11-openjdk-amd64/bin/java      1111      auto mode\n",
            "  1            /usr/lib/jvm/java-11-openjdk-amd64/bin/java      1111      manual mode\n",
            "  2            /usr/lib/jvm/java-8-openjdk-amd64/jre/bin/java   1081      manual mode\n",
            "\n",
            "Press <enter> to keep the current choice[*], or type selection number: \n",
            "There is only one alternative in link group javac (providing /usr/bin/javac): /usr/lib/jvm/java-8-openjdk-amd64/bin/javac\n",
            "Nothing to configure.\n",
            "There is only one alternative in link group javadoc (providing /usr/bin/javadoc): /usr/lib/jvm/java-8-openjdk-amd64/bin/javadoc\n",
            "Nothing to configure.\n",
            "There is only one alternative in link group javah (providing /usr/bin/javah): /usr/lib/jvm/java-8-openjdk-amd64/bin/javah\n",
            "Nothing to configure.\n",
            "There is only one alternative in link group javap (providing /usr/bin/javap): /usr/lib/jvm/java-8-openjdk-amd64/bin/javap\n",
            "Nothing to configure.\n",
            "There is only one alternative in link group jcmd (providing /usr/bin/jcmd): /usr/lib/jvm/java-8-openjdk-amd64/bin/jcmd\n",
            "Nothing to configure.\n",
            "There is only one alternative in link group jdb (providing /usr/bin/jdb): /usr/lib/jvm/java-8-openjdk-amd64/bin/jdb\n",
            "Nothing to configure.\n",
            "There is only one alternative in link group jdeps (providing /usr/bin/jdeps): /usr/lib/jvm/java-8-openjdk-amd64/bin/jdeps\n",
            "Nothing to configure.\n",
            "There are 2 choices for the alternative jexec (providing /usr/bin/jexec).\n",
            "\n",
            "  Selection    Path                                             Priority   Status\n",
            "------------------------------------------------------------\n",
            "* 0            /usr/lib/jvm/java-11-openjdk-amd64/lib/jexec      1111      auto mode\n",
            "  1            /usr/lib/jvm/java-11-openjdk-amd64/lib/jexec      1111      manual mode\n",
            "  2            /usr/lib/jvm/java-8-openjdk-amd64/jre/lib/jexec   1081      manual mode\n",
            "\n",
            "Press <enter> to keep the current choice[*], or type selection number: \n",
            "There is only one alternative in link group jfr (providing /usr/bin/jfr): /usr/lib/jvm/java-11-openjdk-amd64/bin/jfr\n",
            "Nothing to configure.\n",
            "There is only one alternative in link group jhat (providing /usr/bin/jhat): /usr/lib/jvm/java-8-openjdk-amd64/bin/jhat\n",
            "Nothing to configure.\n",
            "There is only one alternative in link group jinfo (providing /usr/bin/jinfo): /usr/lib/jvm/java-8-openjdk-amd64/bin/jinfo\n",
            "Nothing to configure.\n",
            "There are 2 choices for the alternative jjs (providing /usr/bin/jjs).\n",
            "\n",
            "  Selection    Path                                           Priority   Status\n",
            "------------------------------------------------------------\n",
            "* 0            /usr/lib/jvm/java-11-openjdk-amd64/bin/jjs      1111      auto mode\n",
            "  1            /usr/lib/jvm/java-11-openjdk-amd64/bin/jjs      1111      manual mode\n",
            "  2            /usr/lib/jvm/java-8-openjdk-amd64/jre/bin/jjs   1081      manual mode\n",
            "\n",
            "Press <enter> to keep the current choice[*], or type selection number: \n",
            "There is only one alternative in link group jmap (providing /usr/bin/jmap): /usr/lib/jvm/java-8-openjdk-amd64/bin/jmap\n",
            "Nothing to configure.\n",
            "There is only one alternative in link group jps (providing /usr/bin/jps): /usr/lib/jvm/java-8-openjdk-amd64/bin/jps\n",
            "Nothing to configure.\n",
            "There is only one alternative in link group jrunscript (providing /usr/bin/jrunscript): /usr/lib/jvm/java-8-openjdk-amd64/bin/jrunscript\n",
            "Nothing to configure.\n",
            "There is only one alternative in link group jsadebugd (providing /usr/bin/jsadebugd): /usr/lib/jvm/java-8-openjdk-amd64/bin/jsadebugd\n",
            "Nothing to configure.\n",
            "There is only one alternative in link group jstack (providing /usr/bin/jstack): /usr/lib/jvm/java-8-openjdk-amd64/bin/jstack\n",
            "Nothing to configure.\n",
            "There is only one alternative in link group jstat (providing /usr/bin/jstat): /usr/lib/jvm/java-8-openjdk-amd64/bin/jstat\n",
            "Nothing to configure.\n",
            "There is only one alternative in link group jstatd (providing /usr/bin/jstatd): /usr/lib/jvm/java-8-openjdk-amd64/bin/jstatd\n",
            "Nothing to configure.\n",
            "There are 2 choices for the alternative keytool (providing /usr/bin/keytool).\n",
            "\n",
            "  Selection    Path                                               Priority   Status\n",
            "------------------------------------------------------------\n",
            "* 0            /usr/lib/jvm/java-11-openjdk-amd64/bin/keytool      1111      auto mode\n",
            "  1            /usr/lib/jvm/java-11-openjdk-amd64/bin/keytool      1111      manual mode\n",
            "  2            /usr/lib/jvm/java-8-openjdk-amd64/jre/bin/keytool   1081      manual mode\n",
            "\n",
            "Press <enter> to keep the current choice[*], or type selection number: \n",
            "There are 2 choices for the alternative libblas.so.3-x86_64-linux-gnu (providing /usr/lib/x86_64-linux-gnu/libblas.so.3).\n",
            "\n",
            "  Selection    Path                                             Priority   Status\n",
            "------------------------------------------------------------\n",
            "* 0            /usr/lib/x86_64-linux-gnu/openblas/libblas.so.3   40        auto mode\n",
            "  1            /usr/lib/x86_64-linux-gnu/atlas/libblas.so.3      35        manual mode\n",
            "  2            /usr/lib/x86_64-linux-gnu/openblas/libblas.so.3   40        manual mode\n",
            "\n",
            "Press <enter> to keep the current choice[*], or type selection number: 2\n",
            "There are 2 choices for the alternative libblas.so-x86_64-linux-gnu (providing /usr/lib/x86_64-linux-gnu/libblas.so).\n",
            "\n",
            "  Selection    Path                                           Priority   Status\n",
            "------------------------------------------------------------\n",
            "* 0            /usr/lib/x86_64-linux-gnu/openblas/libblas.so   40        auto mode\n",
            "  1            /usr/lib/x86_64-linux-gnu/atlas/libblas.so      35        manual mode\n",
            "  2            /usr/lib/x86_64-linux-gnu/openblas/libblas.so   40        manual mode\n",
            "\n",
            "Press <enter> to keep the current choice[*], or type selection number: 2\n",
            "There is 1 choice for the alternative libcudnn (providing /usr/include/cudnn.h).\n",
            "\n",
            "  Selection    Path                                      Priority   Status\n",
            "------------------------------------------------------------\n",
            "  0            /usr/include/x86_64-linux-gnu/cudnn_v7.h   70        auto mode\n",
            "* 1            /usr/include/x86_64-linux-gnu/cudnn_v7.h   70        manual mode\n",
            "\n",
            "Press <enter> to keep the current choice[*], or type selection number: \n",
            "There are 3 choices for the alternative liblapack.so.3-x86_64-linux-gnu (providing /usr/lib/x86_64-linux-gnu/liblapack.so.3).\n",
            "\n",
            "  Selection    Path                                               Priority   Status\n",
            "------------------------------------------------------------\n",
            "* 0            /usr/lib/x86_64-linux-gnu/openblas/liblapack.so.3   40        auto mode\n",
            "  1            /usr/lib/x86_64-linux-gnu/atlas/liblapack.so.3      35        manual mode\n",
            "  2            /usr/lib/x86_64-linux-gnu/lapack/liblapack.so.3     10        manual mode\n",
            "  3            /usr/lib/x86_64-linux-gnu/openblas/liblapack.so.3   40        manual mode\n",
            "\n",
            "Press <enter> to keep the current choice[*], or type selection number: \n",
            "There are 3 choices for the alternative liblapack.so-x86_64-linux-gnu (providing /usr/lib/x86_64-linux-gnu/liblapack.so).\n",
            "\n",
            "  Selection    Path                                             Priority   Status\n",
            "------------------------------------------------------------\n",
            "* 0            /usr/lib/x86_64-linux-gnu/openblas/liblapack.so   40        auto mode\n",
            "  1            /usr/lib/x86_64-linux-gnu/atlas/liblapack.so      35        manual mode\n",
            "  2            /usr/lib/x86_64-linux-gnu/lapack/liblapack.so     20        manual mode\n",
            "  3            /usr/lib/x86_64-linux-gnu/openblas/liblapack.so   40        manual mode\n",
            "\n",
            "Press <enter> to keep the current choice[*], or type selection number: \n",
            "There is only one alternative in link group libpsm_infinipath.so.1 (providing /usr/lib/x86_64-linux-gnu/libpsm_infinipath.so.1): /usr/lib/libpsm1/libpsm_infinipath.so.1.16\n",
            "Nothing to configure.\n",
            "There is only one alternative in link group lzma (providing /usr/bin/lzma): /usr/bin/xz\n",
            "Nothing to configure.\n",
            "There is only one alternative in link group mpi (providing /usr/include/mpi): /usr/lib/x86_64-linux-gnu/openmpi/include\n",
            "Nothing to configure.\n",
            "There is only one alternative in link group mpirun (providing /usr/bin/mpirun): /usr/bin/mpirun.openmpi\n",
            "Nothing to configure.\n",
            "There is only one alternative in link group my.cnf (providing /etc/mysql/my.cnf): /etc/mysql/my.cnf.fallback\n",
            "Nothing to configure.\n",
            "There is only one alternative in link group native2ascii (providing /usr/bin/native2ascii): /usr/lib/jvm/java-8-openjdk-amd64/bin/native2ascii\n",
            "Nothing to configure.\n",
            "There is 1 choice for the alternative nsight-sys (providing /usr/local/bin/nsight-sys).\n",
            "\n",
            "  Selection    Path                                                           Priority   Status\n",
            "------------------------------------------------------------\n",
            "  0            /opt/nvidia/nsight-systems/2019.5.2/host-linux-x64/nsight-sys   0         auto mode\n",
            "* 1            /opt/nvidia/nsight-systems/2019.5.2/host-linux-x64/nsight-sys   0         manual mode\n",
            "\n",
            "Press <enter> to keep the current choice[*], or type selection number: \n",
            "There is 1 choice for the alternative nsys (providing /usr/local/bin/nsys).\n",
            "\n",
            "  Selection    Path                                                       Priority   Status\n",
            "------------------------------------------------------------\n",
            "  0            /opt/nvidia/nsight-systems/2019.5.2/target-linux-x64/nsys   0         auto mode\n",
            "* 1            /opt/nvidia/nsight-systems/2019.5.2/target-linux-x64/nsys   0         manual mode\n",
            "\n",
            "Press <enter> to keep the current choice[*], or type selection number: \n",
            "There is 1 choice for the alternative nsys-exporter (providing /usr/local/bin/nsys-exporter).\n",
            "\n",
            "  Selection    Path                                                              Priority   Status\n",
            "------------------------------------------------------------\n",
            "  0            /opt/nvidia/nsight-systems/2019.5.2/host-linux-x64/nsys-exporter   0         auto mode\n",
            "* 1            /opt/nvidia/nsight-systems/2019.5.2/host-linux-x64/nsys-exporter   0         manual mode\n",
            "\n",
            "Press <enter> to keep the current choice[*], or type selection number: \n",
            "There is only one alternative in link group orbd (providing /usr/bin/orbd): /usr/lib/jvm/java-8-openjdk-amd64/jre/bin/orbd\n",
            "Nothing to configure.\n",
            "There are 2 choices for the alternative pack200 (providing /usr/bin/pack200).\n",
            "\n",
            "  Selection    Path                                               Priority   Status\n",
            "------------------------------------------------------------\n",
            "* 0            /usr/lib/jvm/java-11-openjdk-amd64/bin/pack200      1111      auto mode\n",
            "  1            /usr/lib/jvm/java-11-openjdk-amd64/bin/pack200      1111      manual mode\n",
            "  2            /usr/lib/jvm/java-8-openjdk-amd64/jre/bin/pack200   1081      manual mode\n",
            "\n",
            "Press <enter> to keep the current choice[*], or type selection number: \n",
            "There are 2 choices for the alternative pager (providing /usr/bin/pager).\n",
            "\n",
            "  Selection    Path            Priority   Status\n",
            "------------------------------------------------------------\n",
            "* 0            /bin/less        77        auto mode\n",
            "  1            /bin/less        77        manual mode\n",
            "  2            /bin/more        50        manual mode\n",
            "\n",
            "Press <enter> to keep the current choice[*], or type selection number: \n",
            "There is only one alternative in link group pinentry (providing /usr/bin/pinentry): /usr/bin/pinentry-curses\n",
            "Nothing to configure.\n",
            "There is only one alternative in link group rcp (providing /usr/bin/rcp): /usr/bin/scp\n",
            "Nothing to configure.\n",
            "There is only one alternative in link group rename (providing /usr/bin/rename): /usr/bin/file-rename\n",
            "Nothing to configure.\n",
            "There is only one alternative in link group rlogin (providing /usr/bin/rlogin): /usr/bin/slogin\n",
            "Nothing to configure.\n",
            "There is only one alternative in link group rmic (providing /usr/bin/rmic): /usr/lib/jvm/java-8-openjdk-amd64/bin/rmic\n",
            "Nothing to configure.\n",
            "There are 2 choices for the alternative rmid (providing /usr/bin/rmid).\n",
            "\n",
            "  Selection    Path                                            Priority   Status\n",
            "------------------------------------------------------------\n",
            "* 0            /usr/lib/jvm/java-11-openjdk-amd64/bin/rmid      1111      auto mode\n",
            "  1            /usr/lib/jvm/java-11-openjdk-amd64/bin/rmid      1111      manual mode\n",
            "  2            /usr/lib/jvm/java-8-openjdk-amd64/jre/bin/rmid   1081      manual mode\n",
            "\n",
            "Press <enter> to keep the current choice[*], or type selection number: \n",
            "There are 2 choices for the alternative rmiregistry (providing /usr/bin/rmiregistry).\n",
            "\n",
            "  Selection    Path                                                   Priority   Status\n",
            "------------------------------------------------------------\n",
            "* 0            /usr/lib/jvm/java-11-openjdk-amd64/bin/rmiregistry      1111      auto mode\n",
            "  1            /usr/lib/jvm/java-11-openjdk-amd64/bin/rmiregistry      1111      manual mode\n",
            "  2            /usr/lib/jvm/java-8-openjdk-amd64/jre/bin/rmiregistry   1081      manual mode\n",
            "\n",
            "Press <enter> to keep the current choice[*], or type selection number: \n",
            "There is only one alternative in link group rmt (providing /usr/sbin/rmt): /usr/sbin/rmt-tar\n",
            "Nothing to configure.\n",
            "There is only one alternative in link group rsh (providing /usr/bin/rsh): /usr/bin/ssh\n",
            "Nothing to configure.\n",
            "There is only one alternative in link group schemagen (providing /usr/bin/schemagen): /usr/lib/jvm/java-8-openjdk-amd64/bin/schemagen\n",
            "Nothing to configure.\n",
            "There is only one alternative in link group serialver (providing /usr/bin/serialver): /usr/lib/jvm/java-8-openjdk-amd64/bin/serialver\n",
            "Nothing to configure.\n",
            "There is only one alternative in link group servertool (providing /usr/bin/servertool): /usr/lib/jvm/java-8-openjdk-amd64/jre/bin/servertool\n",
            "Nothing to configure.\n",
            "There is only one alternative in link group tnameserv (providing /usr/bin/tnameserv): /usr/lib/jvm/java-8-openjdk-amd64/jre/bin/tnameserv\n",
            "Nothing to configure.\n",
            "There are 2 choices for the alternative unpack200 (providing /usr/bin/unpack200).\n",
            "\n",
            "  Selection    Path                                                 Priority   Status\n",
            "------------------------------------------------------------\n",
            "* 0            /usr/lib/jvm/java-11-openjdk-amd64/bin/unpack200      1111      auto mode\n",
            "  1            /usr/lib/jvm/java-11-openjdk-amd64/bin/unpack200      1111      manual mode\n",
            "  2            /usr/lib/jvm/java-8-openjdk-amd64/jre/bin/unpack200   1081      manual mode\n",
            "\n",
            "Press <enter> to keep the current choice[*], or type selection number: \n",
            "There is only one alternative in link group unrar (providing /usr/bin/unrar): /usr/bin/unrar-nonfree\n",
            "Nothing to configure.\n",
            "There is only one alternative in link group w (providing /usr/bin/w): /usr/bin/w.procps\n",
            "Nothing to configure.\n",
            "There is only one alternative in link group write (providing /usr/bin/write): /usr/bin/bsd-write\n",
            "Nothing to configure.\n",
            "There is only one alternative in link group wsgen (providing /usr/bin/wsgen): /usr/lib/jvm/java-8-openjdk-amd64/bin/wsgen\n",
            "Nothing to configure.\n",
            "There is only one alternative in link group wsimport (providing /usr/bin/wsimport): /usr/lib/jvm/java-8-openjdk-amd64/bin/wsimport\n",
            "Nothing to configure.\n",
            "There is only one alternative in link group x-cursor-theme (providing /usr/share/icons/default/index.theme): /usr/share/icons/Adwaita/cursor.theme\n",
            "Nothing to configure.\n",
            "There is only one alternative in link group xjc (providing /usr/bin/xjc): /usr/lib/jvm/java-8-openjdk-amd64/bin/xjc\n",
            "Nothing to configure.\n"
          ],
          "name": "stdout"
        }
      ]
    },
    {
      "cell_type": "markdown",
      "metadata": {
        "id": "Ze401sXwVcRE",
        "colab_type": "text"
      },
      "source": [
        "## Check BLAS Installation"
      ]
    },
    {
      "cell_type": "code",
      "metadata": {
        "id": "6UGdPozhXSPV",
        "colab_type": "code",
        "colab": {
          "base_uri": "https://localhost:8080/",
          "height": 34
        },
        "outputId": "79492a21-6513-4a12-f92b-f85b7049b65a"
      },
      "source": [
        "%%R\n",
        "# http://brettklamer.com/diversions/statistical/faster-blas-in-r/\n",
        "La_library()"
      ],
      "execution_count": 16,
      "outputs": [
        {
          "output_type": "stream",
          "text": [
            "[1] \"/usr/lib/x86_64-linux-gnu/openblas/liblapack.so.3\"\n"
          ],
          "name": "stdout"
        }
      ]
    },
    {
      "cell_type": "code",
      "metadata": {
        "id": "CAvZDe7BY49j",
        "colab_type": "code",
        "colab": {
          "base_uri": "https://localhost:8080/",
          "height": 34
        },
        "outputId": "108d4bb4-8d5e-416e-b1b2-795109464903"
      },
      "source": [
        "%%R\n",
        "extSoftVersion()[\"BLAS\"]"
      ],
      "execution_count": 17,
      "outputs": [
        {
          "output_type": "stream",
          "text": [
            "[1] \"/usr/lib/x86_64-linux-gnu/openblas/libblas.so.3\"\n"
          ],
          "name": "stdout"
        }
      ]
    },
    {
      "cell_type": "code",
      "metadata": {
        "id": "QrWxoL-AaGUH",
        "colab_type": "code",
        "colab": {
          "base_uri": "https://localhost:8080/",
          "height": 924
        },
        "outputId": "4d66f5c6-bc29-458b-c0cf-36becae4206f"
      },
      "source": [
        "%%R\n",
        "sessionInfo()"
      ],
      "execution_count": 26,
      "outputs": [
        {
          "output_type": "stream",
          "text": [
            "R version 3.6.3 (2020-02-29)\n",
            "Platform: x86_64-pc-linux-gnu (64-bit)\n",
            "Running under: Ubuntu 18.04.3 LTS\n",
            "\n",
            "Matrix products: default\n",
            "BLAS:   /usr/lib/x86_64-linux-gnu/openblas/libblas.so.3\n",
            "LAPACK: /usr/lib/x86_64-linux-gnu/openblas/liblapack.so.3\n",
            "\n",
            "locale:\n",
            " [1] LC_CTYPE=en_US.UTF-8       LC_NUMERIC=C              \n",
            " [3] LC_TIME=en_US.UTF-8        LC_COLLATE=en_US.UTF-8    \n",
            " [5] LC_MONETARY=en_US.UTF-8    LC_MESSAGES=en_US.UTF-8   \n",
            " [7] LC_PAPER=en_US.UTF-8       LC_NAME=C                 \n",
            " [9] LC_ADDRESS=C               LC_TELEPHONE=C            \n",
            "[11] LC_MEASUREMENT=en_US.UTF-8 LC_IDENTIFICATION=C       \n",
            "\n",
            "attached base packages:\n",
            "[1] grid      tools     stats     graphics  grDevices utils     datasets \n",
            "[8] methods   base     \n",
            "\n",
            "other attached packages:\n",
            " [1] VIM_5.1.1         data.table_1.12.8 colorspace_1.4-1  caret_6.0-86     \n",
            " [5] lattice_0.20-41   forcats_0.5.0     stringr_1.4.0     purrr_0.3.3      \n",
            " [9] readr_1.3.1       tidyr_1.0.2       tibble_3.0.0      ggplot2_3.3.0    \n",
            "[13] tidyverse_1.3.0   BGLR_1.0.8        dplyr_0.8.5      \n",
            "\n",
            "loaded via a namespace (and not attached):\n",
            " [1] nlme_3.1-145         fs_1.4.0             lubridate_1.7.4     \n",
            " [4] httr_1.4.1           backports_1.1.5      R6_2.4.1            \n",
            " [7] rpart_4.1-15         DBI_1.1.0            nnet_7.3-13         \n",
            "[10] withr_2.1.2          sp_1.4-1             tidyselect_1.0.0    \n",
            "[13] curl_4.2             compiler_3.6.3       cli_2.0.2           \n",
            "[16] rvest_0.3.5          xml2_1.3.0           scales_1.1.0        \n",
            "[19] lmtest_0.9-37        DEoptimR_1.0-8       robustbase_0.93-6   \n",
            "[22] foreign_0.8-76       rio_0.5.16           pkgconfig_2.0.3     \n",
            "[25] dbplyr_1.4.2         rlang_0.4.5          readxl_1.3.1        \n",
            "[28] rstudioapi_0.11      generics_0.0.2       zoo_1.8-7           \n",
            "[31] jsonlite_1.6.1       ModelMetrics_1.2.2.2 zip_2.0.4           \n",
            "[34] car_3.0-7            magrittr_1.5         Matrix_1.2-18       \n",
            "[37] Rcpp_1.0.4           munsell_0.5.0        fansi_0.4.1         \n",
            "[40] abind_1.4-5          lifecycle_0.2.0      stringi_1.4.6       \n",
            "[43] pROC_1.16.2          carData_3.0-3        MASS_7.3-51.5       \n",
            "[46] plyr_1.8.6           recipes_0.1.10       crayon_1.3.4        \n",
            "[49] haven_2.2.0          splines_3.6.3        hms_0.5.3           \n",
            "[52] pillar_1.4.3         ranger_0.12.1        boot_1.3-24         \n",
            "[55] reshape2_1.4.3       codetools_0.2-16     stats4_3.6.3        \n",
            "[58] reprex_0.3.0         glue_1.3.2           laeken_0.5.1        \n",
            "[61] modelr_0.1.6         vcd_1.4-7            vctrs_0.2.4         \n",
            "[64] foreach_1.5.0        cellranger_1.1.0     gtable_0.3.0        \n",
            "[67] assertthat_0.2.1     gower_0.2.1          openxlsx_4.1.4      \n",
            "[70] prodlim_2019.11.13   broom_0.5.5          e1071_1.7-3         \n",
            "[73] class_7.3-16         survival_3.1-11      timeDate_3043.102   \n",
            "[76] truncnorm_1.0-8      iterators_1.0.12     lava_1.6.7          \n",
            "[79] ellipsis_0.3.0       ipred_0.9-9         \n"
          ],
          "name": "stdout"
        }
      ]
    },
    {
      "cell_type": "code",
      "metadata": {
        "id": "dHkCtkiEVsvh",
        "colab_type": "code",
        "colab": {}
      },
      "source": [
        "# https://www.r-bloggers.com/for-faster-r-use-openblas-instead-better-than-atlas-trivial-to-switch-to-on-ubuntu/"
      ],
      "execution_count": 0,
      "outputs": []
    },
    {
      "cell_type": "code",
      "metadata": {
        "id": "Vd-kmPJ1VePP",
        "colab_type": "code",
        "colab": {
          "base_uri": "https://localhost:8080/",
          "height": 50
        },
        "outputId": "78b8c5ba-bf7b-49bb-c492-8a96dd7b7708"
      },
      "source": [
        "!ps aux | grep exec/R"
      ],
      "execution_count": 18,
      "outputs": [
        {
          "output_type": "stream",
          "text": [
            "root       10760  0.0  0.0  39192  6660 ?        S    00:46   0:00 /bin/bash -c ps aux | grep exec/R\n",
            "root       10762  0.0  0.0  38568  4952 ?        S    00:46   0:00 grep exec/R\n"
          ],
          "name": "stdout"
        }
      ]
    },
    {
      "cell_type": "code",
      "metadata": {
        "id": "9byv-ZqgVnIn",
        "colab_type": "code",
        "colab": {}
      },
      "source": [
        "!lsof -p 10760 | grep 'blas\\|lapack'"
      ],
      "execution_count": 0,
      "outputs": []
    },
    {
      "cell_type": "markdown",
      "metadata": {
        "id": "6F1ixqtec9SP",
        "colab_type": "text"
      },
      "source": [
        "### Benchmark R with OpenBLAS\n",
        "\n",
        "https://mac.r-project.org/benchmarks/"
      ]
    },
    {
      "cell_type": "code",
      "metadata": {
        "id": "Gl-IJPAtb3S4",
        "colab_type": "code",
        "colab": {
          "base_uri": "https://localhost:8080/",
          "height": 706
        },
        "outputId": "2c7919fb-4e90-4be1-d3f7-7664988572dc"
      },
      "source": [
        "#@title Run Benchmark Test { vertical-output: true, display-mode: \"form\" }\n",
        "%%R\n",
        "# R Benchmark 2.5 (06/2008) [Simon Urbanek]\n",
        "# version 2.5: scaled to get roughly 1s per test, R 2.7.0 @ 2.6GHz Mac Pro\n",
        "# R Benchmark 2.4 (06/2008) [Simon Urbanek]\n",
        "# version 2.4 adapted to more recent Matrix package\n",
        "# R Benchmark 2.3 (21 April 2004)\n",
        "# Warning: changes are not carefully checked yet!\n",
        "# version 2.3 adapted to R 1.9.0\n",
        "# Many thanks to Douglas Bates (bates@stat.wisc.edu) for improvements!\n",
        "# version 2.2 adapted to R 1.8.0\n",
        "# version 2.1 adapted to R 1.7.0\n",
        "# version 2, scaled to get 1 +/- 0.1 sec with R 1.6.2\n",
        "# using the standard ATLAS library (Rblas.dll)\n",
        "# on a Pentium IV 1.6 Ghz with 1 Gb Ram on Win XP pro\n",
        "\n",
        "# revised and optimized for R v. 1.5.x, 8 June 2002\n",
        "# Requires additionnal libraries: Matrix, SuppDists\n",
        "# Author : Philippe Grosjean\n",
        "# eMail  : phgrosjean@sciviews.org\n",
        "# Web    : http://www.sciviews.org\n",
        "# License: GPL 2 or above at your convenience (see: http://www.gnu.org)\n",
        "#\n",
        "# Several tests are adapted from the Splus Benchmark Test V. 2\n",
        "# by Stephan Steinhaus (stst@informatik.uni-frankfurt.de) \n",
        "# Reference for Escoufier's equivalents vectors (test III.5):\n",
        "# Escoufier Y., 1970. Echantillonnage dans une population de variables\n",
        "# aleatoires réelles. Publ. Inst. Statis. Univ. Paris 19 Fasc 4, 1-47.\n",
        "#\n",
        "# type source(\"c:/<dir>/R2.R\") to start the test\n",
        "\n",
        "runs <- 3\t\t\t# Number of times the tests are executed\n",
        "times <- rep(0, 15); dim(times) <- c(5,3)\n",
        "require(Matrix)\t\t# Optimized matrix operations\n",
        "require(SuppDists)\t# Optimized random number generators\n",
        "#Runif <- rMWC1019\t# The fast uniform number generator\n",
        "Runif <- runif\n",
        "# If you don't have SuppDists, you can use: Runif <- runif\n",
        "#a <- rMWC1019(10, new.start=TRUE, seed=492166)\t# Init. the generator\n",
        "#Rnorm <- rziggurat\t# The fast normal number generator\n",
        "# If you don't have SuppDists, you can use: Rnorm <- rnorm\n",
        "#b <- rziggurat(10, new.start=TRUE)\t# Init. the generator\n",
        "Rnorm <- rnorm\n",
        "remove(\"a\", \"b\")\n",
        "options(object.size=100000000)\n",
        "\n",
        "cat(\"\\n\\n   R Benchmark 2.5\\n\")\n",
        "cat(\"   ===============\\n\")\n",
        "cat(c(\"Number of times each test is run__________________________: \", runs))\n",
        "cat(\"\\n\\n\")\n",
        "\n",
        "\n",
        "cat(\"   I. Matrix calculation\\n\")\n",
        "cat(\"   ---------------------\\n\")\n",
        "if (R.Version()$os == \"Win32\" || R.Version()$os == \"mingw32\") flush.console()\n",
        "\n",
        "# (1)\n",
        "cumulate <- 0; a <- 0; b <- 0\n",
        "for (i in 1:runs) {\n",
        "  invisible(gc())\n",
        "  timing <- system.time({\n",
        "    a <- matrix(Rnorm(2500*2500)/10, ncol=2500, nrow=2500);\n",
        "    b <- t(a);\n",
        "    dim(b) <- c(1250, 5000);\n",
        "    a <- t(b)\n",
        "  })[3]\n",
        "  cumulate <- cumulate + timing\n",
        "}\n",
        "timing <- cumulate/runs\n",
        "times[1, 1] <- timing\n",
        "cat(c(\"Creation, transp., deformation of a 2500x2500 matrix (sec): \", timing, \"\\n\"))\n",
        "remove(\"a\", \"b\")\n",
        "if (R.Version()$os == \"Win32\" || R.Version()$os == \"mingw32\") flush.console()\n",
        "\n",
        "# (2)\n",
        "cumulate <- 0; b <- 0\n",
        "for (i in 1:runs) {\n",
        "  a <- abs(matrix(Rnorm(2500*2500)/2, ncol=2500, nrow=2500));\n",
        "  invisible(gc())\n",
        "  timing <- system.time({ \n",
        "    b <- a^1000 \n",
        "  })[3]\n",
        "  cumulate <- cumulate + timing\n",
        "}\n",
        "timing <- cumulate/runs\n",
        "times[2, 1] <- timing\n",
        "cat(c(\"2400x2400 normal distributed random matrix ^1000____ (sec): \", timing, \"\\n\"))\n",
        "remove(\"a\", \"b\")\n",
        "if (R.Version()$os == \"Win32\" || R.Version()$os == \"mingw32\") flush.console()\n",
        "\n",
        "# (3)\n",
        "cumulate <- 0; b <- 0\n",
        "for (i in 1:runs) {\n",
        "  a <- Rnorm(7000000)\n",
        "  invisible(gc())\n",
        "  timing <- system.time({\n",
        "    b <- sort(a, method=\"quick\")\t# Sort is modified in v. 1.5.x\n",
        "    # And there is now a quick method that better competes with other packages!!!\n",
        "  })[3]\n",
        "  cumulate <- cumulate + timing\n",
        "}\n",
        "timing <- cumulate/runs\n",
        "times[3, 1] <- timing\n",
        "cat(c(\"Sorting of 7,000,000 random values__________________ (sec): \", timing, \"\\n\"))\n",
        "remove(\"a\", \"b\")\n",
        "if (R.Version()$os == \"Win32\" || R.Version()$os == \"mingw32\") flush.console()\n",
        "\n",
        "# (4)\n",
        "cumulate <- 0; b <- 0\n",
        "for (i in 1:runs) {\n",
        "  a <- Rnorm(2800*2800); dim(a) <- c(2800, 2800)\n",
        "  invisible(gc())\n",
        "  timing <- system.time({\n",
        "    b <- crossprod(a)\t\t# equivalent to: b <- t(a) %*% a\n",
        "  })[3]\n",
        "  cumulate <- cumulate + timing\n",
        "}\n",
        "timing <- cumulate/runs\n",
        "times[4, 1] <- timing\n",
        "cat(c(\"2800x2800 cross-product matrix (b = a' * a)_________ (sec): \", timing, \"\\n\"))\n",
        "remove(\"a\", \"b\")\n",
        "if (R.Version()$os == \"Win32\" || R.Version()$os == \"mingw32\") flush.console()\n",
        "\n",
        "# (5)\n",
        "cumulate <- 0; c <- 0; qra <-0\n",
        "for (i in 1:runs) {\n",
        "  a <- new(\"dgeMatrix\", x = Rnorm(2000*2000), Dim = as.integer(c(2000,2000)))\n",
        "  b <- as.double(1:2000)\n",
        "  invisible(gc())\n",
        "  timing <- system.time({\n",
        "    c <- solve(crossprod(a), crossprod(a,b))\n",
        "  })[3]\n",
        "  cumulate <- cumulate + timing\n",
        "  \n",
        "  # This is the old method\n",
        "  #a <- Rnorm(600*600); dim(a) <- c(600,600)\n",
        "  #b <- 1:600\n",
        "  #invisible(gc())\n",
        "  #timing <- system.time({\n",
        "  #  qra <- qr(a, tol = 1e-7);\n",
        "  #  c <- qr.coef(qra, b)\n",
        "  #  #Rem: a little faster than c <- lsfit(a, b, inter=F)$coefficients\n",
        "  #})[3]\n",
        "  #cumulate <- cumulate + timing\n",
        "}\n",
        "timing <- cumulate/runs\n",
        "times[5, 1] <- timing\n",
        "cat(c(\"Linear regr. over a 3000x3000 matrix (c = a \\\\ b')___ (sec): \", timing, \"\\n\"))\n",
        "remove(\"a\", \"b\", \"c\", \"qra\")\n",
        "if (R.Version()$os == \"Win32\" || R.Version()$os == \"mingw32\") flush.console()\n",
        "\n",
        "times[ , 1] <- sort(times[ , 1])\n",
        "cat(\"                      --------------------------------------------\\n\")\n",
        "cat(c(\"                 Trimmed geom. mean (2 extremes eliminated): \", exp(mean(log(times[2:4, 1]))), \"\\n\\n\"))\n",
        "\n",
        "cat(\"   II. Matrix functions\\n\")\n",
        "cat(\"   --------------------\\n\")\n",
        "if (R.Version()$os == \"Win32\") flush.console()\n",
        "\n",
        "# (1)\n",
        "cumulate <- 0; b <- 0\n",
        "for (i in 1:runs) {\n",
        "  a <- Rnorm(2400000)\n",
        "  invisible(gc())\n",
        "  timing <- system.time({\n",
        "    b <- fft(a)\n",
        "  })[3]\n",
        "  cumulate <- cumulate + timing\n",
        "}\n",
        "timing <- cumulate/runs\n",
        "times[1, 2] <- timing\n",
        "cat(c(\"FFT over 2,400,000 random values____________________ (sec): \", timing, \"\\n\"))\n",
        "remove(\"a\", \"b\")\n",
        "if (R.Version()$os == \"Win32\" || R.Version()$os == \"mingw32\") flush.console()\n",
        "\n",
        "# (2)\n",
        "cumulate <- 0; b <- 0\n",
        "for (i in 1:runs) {\n",
        "  a <- array(Rnorm(600*600), dim = c(600, 600))\n",
        "  # Only needed if using eigen.Matrix(): Matrix.class(a)\n",
        "  invisible(gc())\n",
        "  timing <- system.time({\n",
        "  \tb <- eigen(a, symmetric=FALSE, only.values=TRUE)$Value\n",
        "  \t# Rem: on my machine, it is faster than:\n",
        "  #\t b <- La.eigen(a, symmetric=F, only.values=T, method=\"dsyevr\")$Value\n",
        "  #\t b <- La.eigen(a, symmetric=F, only.values=T, method=\"dsyev\")$Value\n",
        "  #  b <- eigen.Matrix(a, vectors = F)$Value\n",
        "  })[3]\n",
        "  cumulate <- cumulate + timing\n",
        "}\n",
        "timing <- cumulate/runs\n",
        "times[2, 2] <- timing\n",
        "cat(c(\"Eigenvalues of a 640x640 random matrix______________ (sec): \", timing, \"\\n\"))\n",
        "remove(\"a\", \"b\")\n",
        "if (R.Version()$os == \"Win32\" || R.Version()$os == \"mingw32\") flush.console()\n",
        "\n",
        "# (3)\n",
        "cumulate <- 0; b <- 0\n",
        "for (i in 1:runs) {\n",
        "  a <- Rnorm(2500*2500); dim(a) <- c(2500, 2500)\n",
        "  #Matrix.class(a)\n",
        "  invisible(gc())\n",
        "  timing <- system.time({\n",
        "    #b <- determinant(a, logarithm=F)\n",
        "    # Rem: the following is slower on my computer!\n",
        "    # b <- det.default(a)\n",
        "    b <- det(a)\n",
        "  })[3]\n",
        "  cumulate <- cumulate + timing\n",
        "}\n",
        "timing <- cumulate/runs\n",
        "times[3, 2] <- timing\n",
        "cat(c(\"Determinant of a 2500x2500 random matrix____________ (sec): \", timing, \"\\n\"))\n",
        "remove(\"a\", \"b\")\n",
        "if (R.Version()$os == \"Win32\" || R.Version()$os == \"mingw32\") flush.console()\n",
        "\n",
        "# (4)\n",
        "cumulate <- 0; b <- 0\n",
        "for (i in 1:runs) {\n",
        "  a <- crossprod(new(\"dgeMatrix\", x = Rnorm(3000*3000),\n",
        "                       Dim = as.integer(c(3000, 3000))))\n",
        "  invisible(gc())\n",
        "  #a <- Rnorm(900*900); dim(a) <- c(900, 900)\n",
        "  #a <- crossprod(a, a)\n",
        "  timing <- system.time({\n",
        "    b <- chol(a)\n",
        "  })[3]\n",
        "  cumulate <- cumulate + timing\n",
        "}\n",
        "timing <- cumulate/runs\n",
        "times[4, 2] <- timing\n",
        "cat(c(\"Cholesky decomposition of a 3000x3000 matrix________ (sec): \", timing, \"\\n\"))\n",
        "remove(\"a\", \"b\")\n",
        "if (R.Version()$os == \"Win32\" || R.Version()$os == \"mingw32\") flush.console()\n",
        "\n",
        "# (5)\n",
        "cumulate <- 0; b <- 0\n",
        "for (i in 1:runs) {\n",
        "  a <- new(\"dgeMatrix\", x = Rnorm(1600*1600), Dim = as.integer(c(1600, 1600)))\n",
        "  invisible(gc())\n",
        "  #a <- Rnorm(400*400); dim(a) <- c(400, 400)\n",
        "  timing <- system.time({\n",
        "  #  b <- qr.solve(a)\n",
        "    # Rem: a little faster than\n",
        "    b <- solve(a)\n",
        "  })[3]\n",
        "  cumulate <- cumulate + timing\n",
        "}\n",
        "timing <- cumulate/runs\n",
        "times[5, 2] <- timing\n",
        "cat(c(\"Inverse of a 1600x1600 random matrix________________ (sec): \", timing, \"\\n\"))\n",
        "remove(\"a\", \"b\")\n",
        "if (R.Version()$os == \"Win32\" || R.Version()$os == \"mingw32\") flush.console()\n",
        "\n",
        "times[ , 2] <- sort(times[ , 2])\n",
        "cat(\"                      --------------------------------------------\\n\")\n",
        "cat(c(\"                Trimmed geom. mean (2 extremes eliminated): \", exp(mean(log(times[2:4, 2]))), \"\\n\\n\"))\n",
        "\n",
        "cat(\"   III. Programmation\\n\")\n",
        "cat(\"   ------------------\\n\")\n",
        "if (R.Version()$os == \"Win32\" || R.Version()$os == \"mingw32\") flush.console()\n",
        "\n",
        "# (1)\n",
        "cumulate <- 0; a <- 0; b <- 0; phi <- 1.6180339887498949\n",
        "for (i in 1:runs) {\n",
        "  a <- floor(Runif(3500000)*1000)\n",
        "  invisible(gc())\n",
        "  timing <- system.time({\n",
        "    b <- (phi^a - (-phi)^(-a))/sqrt(5)\n",
        "  })[3]\n",
        "  cumulate <- cumulate + timing\n",
        "}\n",
        "timing <- cumulate/runs\n",
        "times[1, 3] <- timing\n",
        "cat(c(\"3,500,000 Fibonacci numbers calculation (vector calc)(sec): \", timing, \"\\n\"))\n",
        "remove(\"a\", \"b\", \"phi\")\n",
        "if (R.Version()$os == \"Win32\" || R.Version()$os == \"mingw32\") flush.console()\n",
        "\n",
        "# (2)\n",
        "cumulate <- 0; a <- 3000; b <- 0\n",
        "for (i in 1:runs) {\n",
        "  invisible(gc())\n",
        "  timing <- system.time({\n",
        "    b <- rep(1:a, a); dim(b) <- c(a, a);\n",
        "    b <- 1 / (t(b) + 0:(a-1))\n",
        "    # Rem: this is twice as fast as the following code proposed by R programmers\n",
        "    # a <- 1:a; b <- 1 / outer(a - 1, a, \"+\")\n",
        "  })[3]\n",
        "  cumulate <- cumulate + timing\n",
        "}\n",
        "timing <- cumulate/runs\n",
        "times[2, 3] <- timing\n",
        "cat(c(\"Creation of a 3000x3000 Hilbert matrix (matrix calc) (sec): \", timing, \"\\n\"))\n",
        "remove(\"a\", \"b\")\n",
        "if (R.Version()$os == \"Win32\" || R.Version()$os == \"mingw32\") flush.console()\n",
        "\n",
        "# (3)\n",
        "cumulate <- 0; c <- 0\n",
        "gcd2 <- function(x, y) {if (sum(y > 1.0E-4) == 0) x else {y[y == 0] <- x[y == 0]; Recall(y, x %% y)}}\n",
        "for (i in 1:runs) {\n",
        "  a <- ceiling(Runif(400000)*1000)\n",
        "  b <- ceiling(Runif(400000)*1000)\n",
        "  invisible(gc())\n",
        "  timing <- system.time({\t  \n",
        "    c <- gcd2(a, b)                            # gcd2 is a recursive function\n",
        "  })[3]\n",
        "  cumulate <- cumulate + timing\n",
        "}\n",
        "timing <- cumulate/runs\n",
        "times[3, 3] <- timing\n",
        "cat(c(\"Grand common divisors of 400,000 pairs (recursion)__ (sec): \", timing, \"\\n\"))\n",
        "remove(\"a\", \"b\", \"c\", \"gcd2\")\n",
        "if (R.Version()$os == \"Win32\" || R.Version()$os == \"mingw32\") flush.console()\n",
        "\n",
        "# (4)\n",
        "cumulate <- 0; b <- 0\n",
        "for (i in 1:runs) {\n",
        "  b <- rep(0, 500*500); dim(b) <- c(500, 500)\n",
        "  invisible(gc())\n",
        "  timing <- system.time({\n",
        "  \t# Rem: there are faster ways to do this\n",
        "  \t# but here we want to time loops (220*220 'for' loops)! \n",
        "    for (j in 1:500) {\n",
        "      for (k in 1:500) {\n",
        "        b[k,j] <- abs(j - k) + 1\n",
        "      }\n",
        "    }\n",
        "  })[3]\n",
        "  cumulate <- cumulate + timing\n",
        "}\n",
        "timing <- cumulate/runs\n",
        "times[4, 3] <- timing\n",
        "cat(c(\"Creation of a 500x500 Toeplitz matrix (loops)_______ (sec): \", timing, \"\\n\"))\n",
        "remove(\"b\", \"j\", \"k\")\n",
        "if (R.Version()$os == \"Win32\" || R.Version()$os == \"mingw32\") flush.console()\n",
        "\n",
        "# (5)\n",
        "cumulate <- 0; p <- 0; vt <- 0; vr <- 0; vrt <- 0; rvt <- 0; RV <- 0; j <- 0; k <- 0;\n",
        "x2 <- 0; R <- 0; Rxx <- 0; Ryy <- 0; Rxy <- 0; Ryx <- 0; Rvmax <- 0\n",
        "# Calculate the trace of a matrix (sum of its diagonal elements)\n",
        "Trace <- function(y) {sum(c(y)[1 + 0:(min(dim(y)) - 1) * (dim(y)[1] + 1)], na.rm=FALSE)}\n",
        "for (i in 1:runs) {\n",
        "  x <- abs(Rnorm(45*45)); dim(x) <- c(45, 45)\n",
        "  invisible(gc())\n",
        "  timing <- system.time({\n",
        "    # Calculation of Escoufier's equivalent vectors\n",
        "    p <- ncol(x)\n",
        "    vt <- 1:p                                  # Variables to test\n",
        "    vr <- NULL                                 # Result: ordered variables\n",
        "    RV <- 1:p                                  # Result: correlations\n",
        "    vrt <- NULL\n",
        "    for (j in 1:p) {                           # loop on the variable number\n",
        "      Rvmax <- 0\n",
        "      for (k in 1:(p-j+1)) {                   # loop on the variables\n",
        "        x2 <- cbind(x, x[,vr], x[,vt[k]])\n",
        "        R <- cor(x2)                           # Correlations table\n",
        "        Ryy <- R[1:p, 1:p]\n",
        "        Rxx <- R[(p+1):(p+j), (p+1):(p+j)]\n",
        "        Rxy <- R[(p+1):(p+j), 1:p]\n",
        "        Ryx <- t(Rxy)\n",
        "        rvt <- Trace(Ryx %*% Rxy) / sqrt(Trace(Ryy %*% Ryy) * Trace(Rxx %*% Rxx)) # RV calculation\n",
        "        if (rvt > Rvmax) {\n",
        "          Rvmax <- rvt                         # test of RV\n",
        "          vrt <- vt[k]                         # temporary held variable\n",
        "        }\n",
        "      }\n",
        "      vr[j] <- vrt                             # Result: variable\n",
        "      RV[j] <- Rvmax                           # Result: correlation\n",
        "      vt <- vt[vt!=vr[j]]                      # reidentify variables to test\n",
        "    }\n",
        "  })[3]\n",
        "  cumulate <- cumulate + timing\n",
        "}\n",
        "times[5, 3] <- timing\n",
        "cat(c(\"Escoufier's method on a 45x45 matrix (mixed)________ (sec): \", timing, \"\\n\"))\n",
        "remove(\"x\", \"p\", \"vt\", \"vr\", \"vrt\", \"rvt\", \"RV\", \"j\", \"k\")\n",
        "remove(\"x2\", \"R\", \"Rxx\", \"Ryy\", \"Rxy\", \"Ryx\", \"Rvmax\", \"Trace\") \n",
        "if (R.Version()$os == \"Win32\" || R.Version()$os == \"mingw32\") flush.console()\n",
        "\n",
        "times[ , 3] <- sort(times[ , 3])\n",
        "cat(\"                      --------------------------------------------\\n\")\n",
        "cat(c(\"                Trimmed geom. mean (2 extremes eliminated): \", exp(mean(log(times[2:4, 3]))), \"\\n\\n\\n\"))\n",
        "\n",
        "cat(c(\"Total time for all 15 tests_________________________ (sec): \", sum(times), \"\\n\"))\n",
        "cat(c(\"Overall mean (sum of I, II and III trimmed means/3)_ (sec): \", exp(mean(log(times[2:4, ]))), \"\\n\"))\n",
        "remove(\"cumulate\", \"timing\", \"times\", \"runs\", \"i\")\n",
        "cat(\"                      --- End of test ---\\n\\n\")   "
      ],
      "execution_count": 35,
      "outputs": [
        {
          "output_type": "stream",
          "text": [
            "\n",
            "\n",
            "   R Benchmark 2.5\n",
            "   ===============\n",
            "Number of times each test is run__________________________:  3\n",
            "\n",
            "   I. Matrix calculation\n",
            "   ---------------------\n",
            "Creation, transp., deformation of a 2500x2500 matrix (sec):  0.865000000000085 \n",
            "2400x2400 normal distributed random matrix ^1000____ (sec):  0.636666666666618 \n",
            "Sorting of 7,000,000 random values__________________ (sec):  1.00933333333342 \n",
            "2800x2800 cross-product matrix (b = a' * a)_________ (sec):  0.940333333333153 \n",
            "Linear regr. over a 3000x3000 matrix (c = a \\ b')___ (sec):  0.717999999999999 \n",
            "                      --------------------------------------------\n",
            "                 Trimmed geom. mean (2 extremes eliminated):  0.835873957160623 \n",
            "\n",
            "   II. Matrix functions\n",
            "   --------------------\n",
            "FFT over 2,400,000 random values____________________ (sec):  0.392666666666779 \n",
            "Eigenvalues of a 640x640 random matrix______________ (sec):  0.664333333333161 \n",
            "Determinant of a 2500x2500 random matrix____________ (sec):  0.429999999999836 \n",
            "Cholesky decomposition of a 3000x3000 matrix________ (sec):  0.524000000000039 \n",
            "Inverse of a 1600x1600 random matrix________________ (sec):  0.448666666666516 \n",
            "                      --------------------------------------------\n",
            "                Trimmed geom. mean (2 extremes eliminated):  0.465844725498403 \n",
            "\n",
            "   III. Programmation\n",
            "   ------------------\n",
            "3,500,000 Fibonacci numbers calculation (vector calc)(sec):  0.61100000000018 \n",
            "Creation of a 3000x3000 Hilbert matrix (matrix calc) (sec):  0.401999999999892 \n",
            "Grand common divisors of 400,000 pairs (recursion)__ (sec):  0.241333333333235 \n",
            "Creation of a 500x500 Toeplitz matrix (loops)_______ (sec):  0.0459999999999733 \n",
            "Escoufier's method on a 45x45 matrix (mixed)________ (sec):  0.331000000000131 \n",
            "                      --------------------------------------------\n",
            "                Trimmed geom. mean (2 extremes eliminated):  0.317851149301712 \n",
            "\n",
            "\n",
            "Total time for all 15 tests_________________________ (sec):  8.26033333333301 \n",
            "Overall mean (sum of I, II and III trimmed means/3)_ (sec):  0.498350908539983 \n",
            "                      --- End of test ---\n",
            "\n"
          ],
          "name": "stdout"
        }
      ]
    },
    {
      "cell_type": "markdown",
      "metadata": {
        "colab_type": "text",
        "id": "ri0RPLCDGrYA"
      },
      "source": [
        "## Code Replication Source\n",
        "\n",
        "From A Pedigree-Based Reaction Norm Model for Prediction of Cotton Yield in Multienvironment Trials\n",
        "\n",
        "https://dl.sciencesocieties.org/publications/cs/abstracts/55/3/1143?access=0&view=pdf"
      ]
    },
    {
      "cell_type": "markdown",
      "metadata": {
        "colab_type": "text",
        "id": "WCr7772MG4_d"
      },
      "source": [
        "### Description of Data Objects\n",
        "\n",
        "* `Y`: data frame containing the elements described below;\n",
        "\n",
        "  * `Y$grain_yield` (n×1), a numeric vector with centered and standardized yield;\n",
        "\n",
        "  * `Y$VAR`  (n×1), a factor giving the IDs for the varieties;\n",
        "\n",
        "  * `Y$ENV` (n×1), a factor giving the IDs for the environments (year-location);\n",
        "\n",
        "* `A`: a symmetric positive semi-definite matrix containing the pedigree or marker-based relationships (dimensions equal to number of lines by number of lines). We assume that the `rownames(A)=colnames(A)` gives the IDs of the lines;\n",
        "\n",
        "* `W`: a matrix containing the environmental covariates (n×q).\n"
      ]
    },
    {
      "cell_type": "markdown",
      "metadata": {
        "colab_type": "text",
        "id": "RzPcpBt8Ge0_"
      },
      "source": [
        "## Processing the Entire Dataset"
      ]
    },
    {
      "cell_type": "markdown",
      "metadata": {
        "colab_type": "text",
        "id": "2ATqD2JrR85b"
      },
      "source": [
        "### Import and Process CIMMYT Data"
      ]
    },
    {
      "cell_type": "code",
      "metadata": {
        "colab_type": "code",
        "id": "-_rT78sZSE4d",
        "colab": {}
      },
      "source": [
        "#data = pd.read_pickle('proc_data.pkl')\n",
        "# data.columns=data.columns.str.upper()\n",
        "# data.head()"
      ],
      "execution_count": 0,
      "outputs": []
    },
    {
      "cell_type": "code",
      "metadata": {
        "colab_type": "code",
        "id": "Qzd9V_KNGhgt",
        "colab": {}
      },
      "source": [
        "# Save Data from Python Environment to CSV\n",
        "# data['GRAIN_YIELD'] = pd.to_numeric(data['GRAIN YIELD'],errors='coerce')\n",
        "# data.drop_duplicates(subset=['UNIQUE_ID'],inplace=True)\n",
        "# data.dropna(subset=['GRAIN_YIELD'],inplace=True)\n",
        "# data.dropna(subset=['HARVEST_FINISHING_DATE'],inplace=True)\n",
        "# data.dropna(subset=['GENO_ID'],inplace=True)\n",
        "\n",
        "# data = data.astype(str)\n",
        "# data.to_csv('yield_data.csv')"
      ],
      "execution_count": 0,
      "outputs": []
    },
    {
      "cell_type": "code",
      "metadata": {
        "colab_type": "code",
        "id": "dEyNHOsLG6MP",
        "colab": {}
      },
      "source": [
        "%%R\n",
        "# Import Data Objects to R Environment\n",
        "# n is number of observations\n",
        "\n",
        "# data = read.csv('proc_data.csv', header = TRUE)\n",
        "# str(data)"
      ],
      "execution_count": 0,
      "outputs": []
    },
    {
      "cell_type": "code",
      "metadata": {
        "id": "x1T9_YE5bPer",
        "colab_type": "code",
        "colab": {}
      },
      "source": [
        "\n",
        "# data = data.frame(lapply(data, as.character), stringsAsFactors=FALSE)\n",
        "# data[ data == \"nan\" ] <- NA\n",
        "# data[ data == \"NaN\" ] <- NA\n",
        "# data[ data == \"NaT\" ] <- NA\n",
        "# row.names(data) = data$UNIQUE_ID\n",
        "\n",
        "# nrow(data)"
      ],
      "execution_count": 0,
      "outputs": []
    },
    {
      "cell_type": "code",
      "metadata": {
        "colab_type": "code",
        "id": "9mA7jVG1HT3Z",
        "colab": {}
      },
      "source": [
        "%%R\n",
        "# Import GID Numbers CSV\n",
        "# GID_CID_SID = read.csv('GID_Numbers.csv')\n",
        "\n",
        "# GID_CID_SID = data.frame(lapply(GID_CID_SID, as.character), stringsAsFactors=FALSE)\n",
        "# GID_CID_SID[ GID_CID_SID == \"nan\" ] <- NA\n",
        "# GID_CID_SID[ GID_CID_SID == \"NaN\" ] <- NA\n",
        "# GID_CID_SID[ GID_CID_SID == \"NaT\" ] <- NA\n",
        "\n",
        "# GID_CID_SID$GENO_ID = paste(GID_CID_SID$CID, \"_\", GID_CID_SID$SID, sep = \"\")"
      ],
      "execution_count": 0,
      "outputs": []
    },
    {
      "cell_type": "code",
      "metadata": {
        "colab_type": "code",
        "id": "GQyyKkmcHnN0",
        "colab": {}
      },
      "source": [
        "%%R\n",
        "# Join Sample with GIDs by CID_SID\n",
        "# data_merge = merge(data, GID_CID_SID, by=\"GENO_ID\", )\n",
        "# data_merge = data.frame(lapply(data_merge, as.character), stringsAsFactors=FALSE)\n",
        "# data_merge[ data_merge == \"nan\" ] <- NA\n",
        "# data_merge[ data_merge == \"NaN\" ] <- NA\n",
        "# data_merge[ data_merge == \"NaT\" ] <- NA\n",
        "# row.names(data_merge) = data_merge$UNIQUE_ID\n",
        "\n",
        "# nrow(data_merge)"
      ],
      "execution_count": 0,
      "outputs": []
    },
    {
      "cell_type": "code",
      "metadata": {
        "colab_type": "code",
        "id": "f3J9zbTLP6Nq",
        "colab": {}
      },
      "source": [
        "%%R\n",
        "# Drop rows with missing data for yield, location, harvest timing\n",
        "# data_merge = data_merge[!is.na(data_merge$GRAIN_YIELD),]\n",
        "# data_merge = data_merge[!is.na(data_merge$LAT_COORD),]\n",
        "# data_merge = data_merge[!is.na(data_merge$LONG_COORD),]\n",
        "# data_merge = data_merge[!is.na(data_merge$HARVEST_FINISHING_DATE),]\n"
      ],
      "execution_count": 0,
      "outputs": []
    },
    {
      "cell_type": "code",
      "metadata": {
        "id": "4efiUr5jdEGI",
        "colab_type": "code",
        "colab": {}
      },
      "source": [
        "%%R\n",
        "data_merge = read.csv('data_merge.csv')\n",
        "str(data_merge)"
      ],
      "execution_count": 0,
      "outputs": []
    },
    {
      "cell_type": "code",
      "metadata": {
        "colab_type": "code",
        "id": "ixZh4ICrQN-p",
        "colab": {}
      },
      "source": [
        "%%R\n",
        "# Identify missing IDs\n",
        "Un_ID_missing = setdiff(rownames(data), rownames(data_merge))\n",
        "length(Un_ID_missing)"
      ],
      "execution_count": 0,
      "outputs": []
    },
    {
      "cell_type": "markdown",
      "metadata": {
        "colab_type": "text",
        "id": "h_ZvvdkqRvie"
      },
      "source": [
        "### Import A Matrix"
      ]
    },
    {
      "cell_type": "code",
      "metadata": {
        "colab_type": "code",
        "id": "6GT2Pj7sRxWf",
        "colab": {}
      },
      "source": [
        "%%R\n",
        "# A : pedigree coefficient of parentage symmetric positive semi-definite matrix\n",
        "\n",
        "# Rdata files don't seem to open properly in the Rpy2 environment\n",
        "# Use the following commands in R to convert the Rdata to a csv\n",
        "\n",
        "# A_raw = load('A_3k.RData')\n",
        "# write.csv(A_raw, 'A_matrix.csv')\n",
        "\n",
        "A = read.csv('A_matrix.csv', row.names = 1, header = TRUE)"
      ],
      "execution_count": 0,
      "outputs": []
    },
    {
      "cell_type": "code",
      "metadata": {
        "colab_type": "code",
        "id": "b3mWmu4PSrFi",
        "colab": {}
      },
      "source": [
        "%%R\n",
        "# Remove the X prefix from the column names\n",
        "names(A) <- substring(names(A),2)\n",
        "\n",
        "# Get a list of unique GID values from the data\n",
        "Unique_GID = c(unique(data_merge$GID))\n",
        "length(Unique_GID)\n"
      ],
      "execution_count": 0,
      "outputs": []
    },
    {
      "cell_type": "code",
      "metadata": {
        "colab_type": "code",
        "id": "8lBDTXA5pUaw",
        "colab": {}
      },
      "source": [
        "%%R\n",
        "# Identify the GIDs which are present in the data but not the A matrix\n",
        "GID_missing = setdiff(Unique_GID, rownames(A))\n",
        "length(GID_missing)"
      ],
      "execution_count": 0,
      "outputs": []
    },
    {
      "cell_type": "code",
      "metadata": {
        "colab_type": "code",
        "id": "Y76uotBMpJB0",
        "colab": {}
      },
      "source": [
        "%%R\n",
        "# Remove the missing GID from the list of unique GIDs from the data sample\n",
        "if (length(GID_missing) > 0) {\n",
        "Unique_GID = Unique_GID[Unique_GID != GID_missing]\n",
        "}  \n",
        "\n",
        "length(Unique_GID)\n"
      ],
      "execution_count": 0,
      "outputs": []
    },
    {
      "cell_type": "code",
      "metadata": {
        "colab_type": "code",
        "id": "L-KiJcI0pe9G",
        "colab": {}
      },
      "source": [
        "%%R\n",
        "# Subset the A matrix to the list of GIDs in the data sample\n",
        "A = A[Unique_GID,Unique_GID]\n",
        "\n",
        "# Convert to a matrix\n",
        "A = as.matrix(A)\n"
      ],
      "execution_count": 0,
      "outputs": []
    },
    {
      "cell_type": "code",
      "metadata": {
        "colab_type": "code",
        "id": "5hMqXxs8TAJX",
        "colab": {}
      },
      "source": [
        "%%R\n",
        "# Remove the missing GID values from the data sample\n",
        "data_merge = data_merge[ ! data_merge$GID %in% GID_missing, ]\n",
        "print(paste('The number of rows in the data sample is: ', nrow(data_merge)))\n",
        "print(paste('The number of unique varieties by GID is: ', length(unique(data_merge$GID))))"
      ],
      "execution_count": 0,
      "outputs": []
    },
    {
      "cell_type": "markdown",
      "metadata": {
        "colab_type": "text",
        "id": "pH18WfkXTEOJ"
      },
      "source": [
        "### Splitting into Yield and Environment Objects\n"
      ]
    },
    {
      "cell_type": "code",
      "metadata": {
        "colab_type": "code",
        "id": "4-OA9Qx9TKo6",
        "colab": {}
      },
      "source": [
        "%%R\n",
        "# Yield Vector (nx1)\n",
        "grain_yield = data_merge$GRAIN_YIELD\n",
        "grain_yield = as.numeric(grain_yield)\n",
        "grain_yield = standardize(grain_yield)\n",
        "length(grain_yield)"
      ],
      "execution_count": 0,
      "outputs": []
    },
    {
      "cell_type": "code",
      "metadata": {
        "colab_type": "code",
        "id": "NkB4p1UhTNmi",
        "colab": {}
      },
      "source": [
        "%%R\n",
        "# Varieties (nx1)\n",
        "VAR = data_merge$GID\n",
        "VAR = as.numeric(VAR)\n"
      ],
      "execution_count": 0,
      "outputs": []
    },
    {
      "cell_type": "code",
      "metadata": {
        "colab_type": "code",
        "id": "tQMOqkZlTRhb",
        "colab": {}
      },
      "source": [
        "%%R\n",
        "# Environments, meaning location-year combinations (nx1)\n",
        "data_merge$LOC_YEAR = paste(data_merge$LAT_COORD, \"_\",\n",
        "                            data_merge$LONG_COORD, \"_\", \n",
        "                            sapply(strsplit(data_merge$HARVEST_FINISHING_DATE,\"-\"), `[`, 1)\n",
        "                            , sep = \"\")\n",
        "\n",
        "ENV = data_merge$LOC_YEAR"
      ],
      "execution_count": 0,
      "outputs": []
    },
    {
      "cell_type": "code",
      "metadata": {
        "colab_type": "code",
        "id": "i7CV-n9KTUUw",
        "colab": {}
      },
      "source": [
        "%%R\n",
        "Y = data.frame(grain_yield, VAR, ENV)\n",
        "print(nrow(Y))\n",
        "head(Y)"
      ],
      "execution_count": 0,
      "outputs": []
    },
    {
      "cell_type": "code",
      "metadata": {
        "colab_type": "code",
        "id": "rhRpMK-dTnyL",
        "colab": {}
      },
      "source": [
        "%%R\n",
        "# Extract Environmental Covariates\n",
        "env_cov_list = c('ALTITUDE',\n",
        "'PPN_10TH_MO_BEFORE_HARVESTED',\n",
        "'PPN_11TH_MO_BEFORE_HARVESTED',\n",
        "'PPN_1ST_MO_BEFORE_HARVESTED',\n",
        "'PPN_2ND_MO_BEFORE_HARVESTED',\n",
        "'PPN_3RD_MO_BEFORE_HARVESTED',\n",
        "'PPN_4TH_MO_BEFORE_HARVESTED',\n",
        "'PPN_5TH_MO_BEFORE_HARVESTED',\n",
        "'PPN_6TH_MO_BEFORE_HARVESTED',\n",
        "'PPN_7TH_MO_BEFORE_HARVESTED',\n",
        "'PPN_8TH_MO_BEFORE_HARVESTED',\n",
        "'PPN_9TH_MO_BEFORE_HARVESTED',\n",
        "'PPN_MONTH_OF_HARVESTED',\n",
        "'PRECIPITATION_FROM_SOWING_TO_MATURITY',\n",
        "'TOTAL_PRECIPIT_IN_12_MONTHS',\n",
        "'IRRIGATED.YES'\n",
        ")\n",
        "\n",
        "W = data_merge[env_cov_list]\n",
        "W = type.convert(W)\n",
        "\n",
        "# dmy = dummyVars(\" ~ .\", data = W)\n",
        "# W = data.frame(predict(dmy, newdata = W))\n",
        "\n",
        "str(W)"
      ],
      "execution_count": 0,
      "outputs": []
    },
    {
      "cell_type": "code",
      "metadata": {
        "colab_type": "code",
        "id": "bb9TYkjuUusL",
        "colab": {}
      },
      "source": [
        "%%R\n",
        "# Visualize missing data using mice_plot function\n",
        "mice_plot <- aggr(W, col=c('navyblue','yellow'),\n",
        "                    numbers=TRUE, sortVars=TRUE,\n",
        "                    labels=names(W), cex.axis=.7,\n",
        "                    gap=3, ylab=c(\"Missing data\",\"Pattern\"))"
      ],
      "execution_count": 0,
      "outputs": []
    },
    {
      "cell_type": "markdown",
      "metadata": {
        "colab_type": "text",
        "id": "WPKoN0qQVaT7"
      },
      "source": [
        "### MOVE TO PROCESSING: Multiple Imputation by Chained Equations for Environment Data"
      ]
    },
    {
      "cell_type": "code",
      "metadata": {
        "colab_type": "code",
        "id": "x3XEXBDuhCQQ",
        "colab": {}
      },
      "source": [
        "%%R\n",
        "# Hmisc method, doesn't work unless you spell out all the variables in the function.\n",
        "# Potentially find a workaround\n",
        "\n",
        "#install.packages(\"Hmisc\")\n",
        "#library(Hmisc)\n",
        "\n",
        "#ivs = paste(env_cov_list,sep = \"\" )\n",
        "#iv_string <- paste(ivs, collapse=\" + \")\n",
        "#iv_string[0]\n",
        "\n",
        "#impute_arg <- aregImpute(as.formula(~iv_string), data = W, n.impute = 5)"
      ],
      "execution_count": 0,
      "outputs": []
    },
    {
      "cell_type": "code",
      "metadata": {
        "colab_type": "code",
        "id": "GasnGycPiwfJ",
        "colab": {}
      },
      "source": [
        "%%R\n",
        "# missForest function for imputation\n",
        "# Seems to be the fastest and works non-parametrically\n",
        "\n",
        "# install.packages(\"missForest\")\n",
        "# library(missForest)\n"
      ],
      "execution_count": 0,
      "outputs": []
    },
    {
      "cell_type": "code",
      "metadata": {
        "colab_type": "code",
        "id": "XLVEBcgNmZh_",
        "colab": {}
      },
      "source": [
        "%%R\n",
        "# W.imp <- missForest(W)\n",
        "\n",
        "# W.imp$OOBerror\n"
      ],
      "execution_count": 0,
      "outputs": []
    },
    {
      "cell_type": "code",
      "metadata": {
        "colab_type": "code",
        "id": "eJXD8a2D5Aa8",
        "colab": {}
      },
      "source": [
        "%%R\n",
        "# W_imp <- W.imp$ximp\n",
        "# W <- W_imp"
      ],
      "execution_count": 0,
      "outputs": []
    },
    {
      "cell_type": "code",
      "metadata": {
        "colab_type": "code",
        "id": "WaumZthJSfSZ",
        "colab": {}
      },
      "source": [
        "%%R\n",
        "# Save after imputing missing values for W since the function takes a while\n",
        "# Import the data again if you come back in another session\n",
        "\n",
        "# write.csv(W, 'W_imp.csv')\n",
        "#W <- read.csv('W_imp.csv')"
      ],
      "execution_count": 0,
      "outputs": []
    },
    {
      "cell_type": "code",
      "metadata": {
        "colab_type": "code",
        "id": "1t9rVcz1Vt5i",
        "colab": {}
      },
      "source": [
        "%%R\n",
        "# mice package for imputation, highly recommended but seems too slow for size of data\n",
        "# https://www.analyticsvidhya.com/blog/2016/03/tutorial-powerful-packages-imputing-missing-values/\n",
        "\n",
        "#W.imp <- mice(W, m=5, maxit = 15, method = 'pmm')\n",
        "#summary(W.imp)"
      ],
      "execution_count": 0,
      "outputs": []
    },
    {
      "cell_type": "code",
      "metadata": {
        "colab_type": "code",
        "id": "VF-tY9KdV2Ab",
        "colab": {}
      },
      "source": [
        "%%R\n",
        "#W <- complete(W.imp,2)"
      ],
      "execution_count": 0,
      "outputs": []
    },
    {
      "cell_type": "code",
      "metadata": {
        "colab_type": "code",
        "id": "dW_kr1N97F4O",
        "colab": {}
      },
      "source": [
        "%%R\n",
        "# Standardize environmental data\n",
        "W <- standardize(W)\n",
        "W.head()"
      ],
      "execution_count": 0,
      "outputs": []
    },
    {
      "cell_type": "code",
      "metadata": {
        "colab_type": "code",
        "id": "II2pISclV6As",
        "colab": {}
      },
      "source": [
        "%%R\n",
        "# Check that yield, variety, location, and environmental covariates are same length\n",
        "print(paste('Yield vector length: ', length(Y$grain_yield)))\n",
        "print(paste('Varieties vector length: ', length(Y$VAR)))\n",
        "print(paste('Location-year vector length: ', length(Y$ENV)))\n",
        "print(paste('Environmental covariates vector length: ', nrow(W)))\n",
        "\n",
        "# Check that A Matrix contrains all unique varieties from the data\n",
        "print(paste('Unique Varieties: ', length(unique(Y$VAR))))\n",
        "print(paste('A Matrix length: ', nrow(A)))"
      ],
      "execution_count": 0,
      "outputs": []
    },
    {
      "cell_type": "markdown",
      "metadata": {
        "colab_type": "text",
        "id": "Ic3LC-1nV9r_"
      },
      "source": [
        "### Export Merged Data for Comparison"
      ]
    },
    {
      "cell_type": "code",
      "metadata": {
        "colab_type": "code",
        "id": "yYz315dIV9Qp",
        "colab": {}
      },
      "source": [
        "%%R\n",
        "# Export the merged data for comparison\n",
        "write.csv(data_merge, 'merged_data.csv')\n",
        "write.csv(Y, 'pheno_yield_data.csv')\n",
        "write.csv(W, 'environmental_covariates_data.csv')\n",
        "write.csv(A, 'pedigree_data.csv')"
      ],
      "execution_count": 0,
      "outputs": []
    },
    {
      "cell_type": "markdown",
      "metadata": {
        "colab_type": "text",
        "id": "0YXXcVcbh7v_"
      },
      "source": [
        "## Import Data and Prep for Analysis"
      ]
    },
    {
      "cell_type": "markdown",
      "metadata": {
        "id": "Wm3fZccTlJsw",
        "colab_type": "text"
      },
      "source": [
        "## Import Data from CSV"
      ]
    },
    {
      "cell_type": "code",
      "metadata": {
        "id": "lYp-hkSjhjEc",
        "colab_type": "code",
        "colab": {}
      },
      "source": [
        "%%R\n",
        "# Read data back in, only if you have already saved it in a previous session and have to come back\n",
        "Y <- read.csv('pheno_yield_data.csv', row.names = 1)\n",
        "W <- read.csv('environmental_covariates_data.csv', row.names = \"X\")\n",
        "A <- read.csv('pedigree_data.csv', row.names = 1)"
      ],
      "execution_count": 0,
      "outputs": []
    },
    {
      "cell_type": "code",
      "metadata": {
        "id": "fqPSUZWOodQR",
        "colab_type": "code",
        "colab": {}
      },
      "source": [
        "%%R\n",
        "Y$ENV <- sapply(Y$ENV, as.factor)"
      ],
      "execution_count": 0,
      "outputs": []
    },
    {
      "cell_type": "code",
      "metadata": {
        "id": "mGh0ak9doZe-",
        "colab_type": "code",
        "colab": {
          "base_uri": "https://localhost:8080/",
          "height": 104
        },
        "outputId": "30545dce-bf17-46c0-9e70-d4616bcc5e76"
      },
      "source": [
        "%%R\n",
        "str(Y)"
      ],
      "execution_count": 114,
      "outputs": [
        {
          "output_type": "stream",
          "text": [
            "'data.frame':\t145348 obs. of  3 variables:\n",
            " $ grain_yield: num  2.065 5.764 3.697 2.993 0.861 ...\n",
            " $ VAR        : int  1395073 1395073 1395073 1395073 1395073 1395073 1395073 1395073 1395073 1395073 ...\n",
            " $ ENV        : Factor w/ 2326 levels \"25.18_83.03_2003\",..: 1 2 3 4 5 6 7 8 9 10 ...\n"
          ],
          "name": "stdout"
        }
      ]
    },
    {
      "cell_type": "code",
      "metadata": {
        "id": "Q9qpDpbVrbZ7",
        "colab_type": "code",
        "colab": {
          "base_uri": "https://localhost:8080/",
          "height": 357
        },
        "outputId": "7b273a1a-1bd4-4314-8b83-6213283bf4e3"
      },
      "source": [
        "%%R\n",
        "head(Y$ENV)"
      ],
      "execution_count": 121,
      "outputs": [
        {
          "output_type": "error",
          "ename": "NotImplementedError",
          "evalue": "ignored",
          "traceback": [
            "\u001b[0;31m---------------------------------------------------------------------------\u001b[0m",
            "\u001b[0;31mNotImplementedError\u001b[0m                       Traceback (most recent call last)",
            "\u001b[0;32m<ipython-input-121-5b8d945ebd4e>\u001b[0m in \u001b[0;36m<module>\u001b[0;34m()\u001b[0m\n\u001b[0;32m----> 1\u001b[0;31m \u001b[0mget_ipython\u001b[0m\u001b[0;34m(\u001b[0m\u001b[0;34m)\u001b[0m\u001b[0;34m.\u001b[0m\u001b[0mrun_cell_magic\u001b[0m\u001b[0;34m(\u001b[0m\u001b[0;34m'R'\u001b[0m\u001b[0;34m,\u001b[0m \u001b[0;34m''\u001b[0m\u001b[0;34m,\u001b[0m \u001b[0;34m'head(Y$ENV)'\u001b[0m\u001b[0;34m)\u001b[0m\u001b[0;34m\u001b[0m\u001b[0;34m\u001b[0m\u001b[0m\n\u001b[0m",
            "\u001b[0;32m/usr/local/lib/python3.6/dist-packages/IPython/core/interactiveshell.py\u001b[0m in \u001b[0;36mrun_cell_magic\u001b[0;34m(self, magic_name, line, cell)\u001b[0m\n\u001b[1;32m   2115\u001b[0m             \u001b[0mmagic_arg_s\u001b[0m \u001b[0;34m=\u001b[0m \u001b[0mself\u001b[0m\u001b[0;34m.\u001b[0m\u001b[0mvar_expand\u001b[0m\u001b[0;34m(\u001b[0m\u001b[0mline\u001b[0m\u001b[0;34m,\u001b[0m \u001b[0mstack_depth\u001b[0m\u001b[0;34m)\u001b[0m\u001b[0;34m\u001b[0m\u001b[0;34m\u001b[0m\u001b[0m\n\u001b[1;32m   2116\u001b[0m             \u001b[0;32mwith\u001b[0m \u001b[0mself\u001b[0m\u001b[0;34m.\u001b[0m\u001b[0mbuiltin_trap\u001b[0m\u001b[0;34m:\u001b[0m\u001b[0;34m\u001b[0m\u001b[0;34m\u001b[0m\u001b[0m\n\u001b[0;32m-> 2117\u001b[0;31m                 \u001b[0mresult\u001b[0m \u001b[0;34m=\u001b[0m \u001b[0mfn\u001b[0m\u001b[0;34m(\u001b[0m\u001b[0mmagic_arg_s\u001b[0m\u001b[0;34m,\u001b[0m \u001b[0mcell\u001b[0m\u001b[0;34m)\u001b[0m\u001b[0;34m\u001b[0m\u001b[0;34m\u001b[0m\u001b[0m\n\u001b[0m\u001b[1;32m   2118\u001b[0m             \u001b[0;32mreturn\u001b[0m \u001b[0mresult\u001b[0m\u001b[0;34m\u001b[0m\u001b[0;34m\u001b[0m\u001b[0m\n\u001b[1;32m   2119\u001b[0m \u001b[0;34m\u001b[0m\u001b[0m\n",
            "\u001b[0;32m<decorator-gen-127>\u001b[0m in \u001b[0;36mR\u001b[0;34m(self, line, cell, local_ns)\u001b[0m\n",
            "\u001b[0;32m/usr/local/lib/python3.6/dist-packages/IPython/core/magic.py\u001b[0m in \u001b[0;36m<lambda>\u001b[0;34m(f, *a, **k)\u001b[0m\n\u001b[1;32m    186\u001b[0m     \u001b[0;31m# but it's overkill for just that one bit of state.\u001b[0m\u001b[0;34m\u001b[0m\u001b[0;34m\u001b[0m\u001b[0;34m\u001b[0m\u001b[0m\n\u001b[1;32m    187\u001b[0m     \u001b[0;32mdef\u001b[0m \u001b[0mmagic_deco\u001b[0m\u001b[0;34m(\u001b[0m\u001b[0marg\u001b[0m\u001b[0;34m)\u001b[0m\u001b[0;34m:\u001b[0m\u001b[0;34m\u001b[0m\u001b[0;34m\u001b[0m\u001b[0m\n\u001b[0;32m--> 188\u001b[0;31m         \u001b[0mcall\u001b[0m \u001b[0;34m=\u001b[0m \u001b[0;32mlambda\u001b[0m \u001b[0mf\u001b[0m\u001b[0;34m,\u001b[0m \u001b[0;34m*\u001b[0m\u001b[0ma\u001b[0m\u001b[0;34m,\u001b[0m \u001b[0;34m**\u001b[0m\u001b[0mk\u001b[0m\u001b[0;34m:\u001b[0m \u001b[0mf\u001b[0m\u001b[0;34m(\u001b[0m\u001b[0;34m*\u001b[0m\u001b[0ma\u001b[0m\u001b[0;34m,\u001b[0m \u001b[0;34m**\u001b[0m\u001b[0mk\u001b[0m\u001b[0;34m)\u001b[0m\u001b[0;34m\u001b[0m\u001b[0;34m\u001b[0m\u001b[0m\n\u001b[0m\u001b[1;32m    189\u001b[0m \u001b[0;34m\u001b[0m\u001b[0m\n\u001b[1;32m    190\u001b[0m         \u001b[0;32mif\u001b[0m \u001b[0mcallable\u001b[0m\u001b[0;34m(\u001b[0m\u001b[0marg\u001b[0m\u001b[0;34m)\u001b[0m\u001b[0;34m:\u001b[0m\u001b[0;34m\u001b[0m\u001b[0;34m\u001b[0m\u001b[0m\n",
            "\u001b[0;32m/usr/local/lib/python3.6/dist-packages/rpy2/ipython/rmagic.py\u001b[0m in \u001b[0;36mR\u001b[0;34m(self, line, cell, local_ns)\u001b[0m\n\u001b[1;32m    748\u001b[0m                                                \u001b[0;34m'consolewrite_print'\u001b[0m\u001b[0;34m,\u001b[0m\u001b[0;34m\u001b[0m\u001b[0;34m\u001b[0m\u001b[0m\n\u001b[1;32m    749\u001b[0m                                                self.write_console_regular))\n\u001b[0;32m--> 750\u001b[0;31m                         \u001b[0mro\u001b[0m\u001b[0;34m.\u001b[0m\u001b[0mr\u001b[0m\u001b[0;34m.\u001b[0m\u001b[0mshow\u001b[0m\u001b[0;34m(\u001b[0m\u001b[0mresult\u001b[0m\u001b[0;34m)\u001b[0m\u001b[0;34m\u001b[0m\u001b[0;34m\u001b[0m\u001b[0m\n\u001b[0m\u001b[1;32m    751\u001b[0m                         \u001b[0mtext_output\u001b[0m \u001b[0;34m+=\u001b[0m \u001b[0mself\u001b[0m\u001b[0;34m.\u001b[0m\u001b[0mflush\u001b[0m\u001b[0;34m(\u001b[0m\u001b[0;34m)\u001b[0m\u001b[0;34m\u001b[0m\u001b[0;34m\u001b[0m\u001b[0m\n\u001b[1;32m    752\u001b[0m \u001b[0;34m\u001b[0m\u001b[0m\n",
            "\u001b[0;32m/usr/local/lib/python3.6/dist-packages/rpy2/robjects/functions.py\u001b[0m in \u001b[0;36m__call__\u001b[0;34m(self, *args, **kwargs)\u001b[0m\n\u001b[1;32m    190\u001b[0m                 \u001b[0mkwargs\u001b[0m\u001b[0;34m[\u001b[0m\u001b[0mr_k\u001b[0m\u001b[0;34m]\u001b[0m \u001b[0;34m=\u001b[0m \u001b[0mv\u001b[0m\u001b[0;34m\u001b[0m\u001b[0;34m\u001b[0m\u001b[0m\n\u001b[1;32m    191\u001b[0m         return (super(SignatureTranslatedFunction, self)\n\u001b[0;32m--> 192\u001b[0;31m                 .__call__(*args, **kwargs))\n\u001b[0m\u001b[1;32m    193\u001b[0m \u001b[0;34m\u001b[0m\u001b[0m\n\u001b[1;32m    194\u001b[0m \u001b[0;34m\u001b[0m\u001b[0m\n",
            "\u001b[0;32m/usr/local/lib/python3.6/dist-packages/rpy2/robjects/functions.py\u001b[0m in \u001b[0;36m__call__\u001b[0;34m(self, *args, **kwargs)\u001b[0m\n\u001b[1;32m    111\u001b[0m \u001b[0;34m\u001b[0m\u001b[0m\n\u001b[1;32m    112\u001b[0m     \u001b[0;32mdef\u001b[0m \u001b[0m__call__\u001b[0m\u001b[0;34m(\u001b[0m\u001b[0mself\u001b[0m\u001b[0;34m,\u001b[0m \u001b[0;34m*\u001b[0m\u001b[0margs\u001b[0m\u001b[0;34m,\u001b[0m \u001b[0;34m**\u001b[0m\u001b[0mkwargs\u001b[0m\u001b[0;34m)\u001b[0m\u001b[0;34m:\u001b[0m\u001b[0;34m\u001b[0m\u001b[0;34m\u001b[0m\u001b[0m\n\u001b[0;32m--> 113\u001b[0;31m         \u001b[0mnew_args\u001b[0m \u001b[0;34m=\u001b[0m \u001b[0;34m[\u001b[0m\u001b[0mconversion\u001b[0m\u001b[0;34m.\u001b[0m\u001b[0mpy2rpy\u001b[0m\u001b[0;34m(\u001b[0m\u001b[0ma\u001b[0m\u001b[0;34m)\u001b[0m \u001b[0;32mfor\u001b[0m \u001b[0ma\u001b[0m \u001b[0;32min\u001b[0m \u001b[0margs\u001b[0m\u001b[0;34m]\u001b[0m\u001b[0;34m\u001b[0m\u001b[0;34m\u001b[0m\u001b[0m\n\u001b[0m\u001b[1;32m    114\u001b[0m         \u001b[0mnew_kwargs\u001b[0m \u001b[0;34m=\u001b[0m \u001b[0;34m{\u001b[0m\u001b[0;34m}\u001b[0m\u001b[0;34m\u001b[0m\u001b[0;34m\u001b[0m\u001b[0m\n\u001b[1;32m    115\u001b[0m         \u001b[0;32mfor\u001b[0m \u001b[0mk\u001b[0m\u001b[0;34m,\u001b[0m \u001b[0mv\u001b[0m \u001b[0;32min\u001b[0m \u001b[0mkwargs\u001b[0m\u001b[0;34m.\u001b[0m\u001b[0mitems\u001b[0m\u001b[0;34m(\u001b[0m\u001b[0;34m)\u001b[0m\u001b[0;34m:\u001b[0m\u001b[0;34m\u001b[0m\u001b[0;34m\u001b[0m\u001b[0m\n",
            "\u001b[0;32m/usr/local/lib/python3.6/dist-packages/rpy2/robjects/functions.py\u001b[0m in \u001b[0;36m<listcomp>\u001b[0;34m(.0)\u001b[0m\n\u001b[1;32m    111\u001b[0m \u001b[0;34m\u001b[0m\u001b[0m\n\u001b[1;32m    112\u001b[0m     \u001b[0;32mdef\u001b[0m \u001b[0m__call__\u001b[0m\u001b[0;34m(\u001b[0m\u001b[0mself\u001b[0m\u001b[0;34m,\u001b[0m \u001b[0;34m*\u001b[0m\u001b[0margs\u001b[0m\u001b[0;34m,\u001b[0m \u001b[0;34m**\u001b[0m\u001b[0mkwargs\u001b[0m\u001b[0;34m)\u001b[0m\u001b[0;34m:\u001b[0m\u001b[0;34m\u001b[0m\u001b[0;34m\u001b[0m\u001b[0m\n\u001b[0;32m--> 113\u001b[0;31m         \u001b[0mnew_args\u001b[0m \u001b[0;34m=\u001b[0m \u001b[0;34m[\u001b[0m\u001b[0mconversion\u001b[0m\u001b[0;34m.\u001b[0m\u001b[0mpy2rpy\u001b[0m\u001b[0;34m(\u001b[0m\u001b[0ma\u001b[0m\u001b[0;34m)\u001b[0m \u001b[0;32mfor\u001b[0m \u001b[0ma\u001b[0m \u001b[0;32min\u001b[0m \u001b[0margs\u001b[0m\u001b[0;34m]\u001b[0m\u001b[0;34m\u001b[0m\u001b[0;34m\u001b[0m\u001b[0m\n\u001b[0m\u001b[1;32m    114\u001b[0m         \u001b[0mnew_kwargs\u001b[0m \u001b[0;34m=\u001b[0m \u001b[0;34m{\u001b[0m\u001b[0;34m}\u001b[0m\u001b[0;34m\u001b[0m\u001b[0;34m\u001b[0m\u001b[0m\n\u001b[1;32m    115\u001b[0m         \u001b[0;32mfor\u001b[0m \u001b[0mk\u001b[0m\u001b[0;34m,\u001b[0m \u001b[0mv\u001b[0m \u001b[0;32min\u001b[0m \u001b[0mkwargs\u001b[0m\u001b[0;34m.\u001b[0m\u001b[0mitems\u001b[0m\u001b[0;34m(\u001b[0m\u001b[0;34m)\u001b[0m\u001b[0;34m:\u001b[0m\u001b[0;34m\u001b[0m\u001b[0;34m\u001b[0m\u001b[0m\n",
            "\u001b[0;32m/usr/lib/python3.6/functools.py\u001b[0m in \u001b[0;36mwrapper\u001b[0;34m(*args, **kw)\u001b[0m\n\u001b[1;32m    805\u001b[0m                             '1 positional argument')\n\u001b[1;32m    806\u001b[0m \u001b[0;34m\u001b[0m\u001b[0m\n\u001b[0;32m--> 807\u001b[0;31m         \u001b[0;32mreturn\u001b[0m \u001b[0mdispatch\u001b[0m\u001b[0;34m(\u001b[0m\u001b[0margs\u001b[0m\u001b[0;34m[\u001b[0m\u001b[0;36m0\u001b[0m\u001b[0;34m]\u001b[0m\u001b[0;34m.\u001b[0m\u001b[0m__class__\u001b[0m\u001b[0;34m)\u001b[0m\u001b[0;34m(\u001b[0m\u001b[0;34m*\u001b[0m\u001b[0margs\u001b[0m\u001b[0;34m,\u001b[0m \u001b[0;34m**\u001b[0m\u001b[0mkw\u001b[0m\u001b[0;34m)\u001b[0m\u001b[0;34m\u001b[0m\u001b[0;34m\u001b[0m\u001b[0m\n\u001b[0m\u001b[1;32m    808\u001b[0m \u001b[0;34m\u001b[0m\u001b[0m\n\u001b[1;32m    809\u001b[0m     \u001b[0mfuncname\u001b[0m \u001b[0;34m=\u001b[0m \u001b[0mgetattr\u001b[0m\u001b[0;34m(\u001b[0m\u001b[0mfunc\u001b[0m\u001b[0;34m,\u001b[0m \u001b[0;34m'__name__'\u001b[0m\u001b[0;34m,\u001b[0m \u001b[0;34m'singledispatch function'\u001b[0m\u001b[0;34m)\u001b[0m\u001b[0;34m\u001b[0m\u001b[0;34m\u001b[0m\u001b[0m\n",
            "\u001b[0;32m/usr/local/lib/python3.6/dist-packages/rpy2/robjects/conversion.py\u001b[0m in \u001b[0;36m_py2rpy\u001b[0;34m(obj)\u001b[0m\n\u001b[1;32m     58\u001b[0m     raise NotImplementedError(\n\u001b[1;32m     59\u001b[0m         \u001b[0;34m\"Conversion 'py2rpy' not defined for objects of type '%s'\"\u001b[0m \u001b[0;34m%\u001b[0m\u001b[0;34m\u001b[0m\u001b[0;34m\u001b[0m\u001b[0m\n\u001b[0;32m---> 60\u001b[0;31m         \u001b[0mstr\u001b[0m\u001b[0;34m(\u001b[0m\u001b[0mtype\u001b[0m\u001b[0;34m(\u001b[0m\u001b[0mobj\u001b[0m\u001b[0;34m)\u001b[0m\u001b[0;34m)\u001b[0m\u001b[0;34m\u001b[0m\u001b[0;34m\u001b[0m\u001b[0m\n\u001b[0m\u001b[1;32m     61\u001b[0m     )\n\u001b[1;32m     62\u001b[0m \u001b[0;34m\u001b[0m\u001b[0m\n",
            "\u001b[0;31mNotImplementedError\u001b[0m: Conversion 'py2rpy' not defined for objects of type '<class 'pandas.core.arrays.categorical.Categorical'>'"
          ]
        }
      ]
    },
    {
      "cell_type": "code",
      "metadata": {
        "id": "pkdufkWcoqcx",
        "colab_type": "code",
        "colab": {
          "base_uri": "https://localhost:8080/",
          "height": 356
        },
        "outputId": "ea91323d-5a38-479b-d43b-8909f761d4b2"
      },
      "source": [
        "%%R\n",
        "str(W)"
      ],
      "execution_count": 95,
      "outputs": [
        {
          "output_type": "stream",
          "text": [
            "'data.frame':\t145348 obs. of  18 variables:\n",
            " $ X.1                                  : int  1 2 3 4 5 6 7 8 9 10 ...\n",
            " $ ALTITUDE                             : int  128 985 540 403 1600 477 490 497 110 1198 ...\n",
            " $ PPN_10TH_MO_BEFORE_HARVESTED         : num  71.5 13.4 80 37.1 48.3 ...\n",
            " $ PPN_11TH_MO_BEFORE_HARVESTED         : num  55.22 6.37 82 20.93 36.16 ...\n",
            " $ PPN_1ST_MO_BEFORE_HARVESTED          : num  26.5 23.9 48 9 25.8 ...\n",
            " $ PPN_2ND_MO_BEFORE_HARVESTED          : num  91 40 31 53 28.9 ...\n",
            " $ PPN_3RD_MO_BEFORE_HARVESTED          : num  10 62 57 109 34.3 ...\n",
            " $ PPN_4TH_MO_BEFORE_HARVESTED          : num  4 35 103 43 30.5 ...\n",
            " $ PPN_5TH_MO_BEFORE_HARVESTED          : num  9.44 30 31 27 19.54 ...\n",
            " $ PPN_6TH_MO_BEFORE_HARVESTED          : num  9.88 30 150 28.73 22.29 ...\n",
            " $ PPN_7TH_MO_BEFORE_HARVESTED          : num  35.6 19 286 38.8 47.6 ...\n",
            " $ PPN_8TH_MO_BEFORE_HARVESTED          : num  87.7 22 67 48.9 59.7 ...\n",
            " $ PPN_9TH_MO_BEFORE_HARVESTED          : num  66.5 1 236 31.8 46.6 ...\n",
            " $ PPN_MONTH_OF_HARVESTED               : num  1 8.76 49 12.24 23.22 ...\n",
            " $ PRECIPITATION_FROM_SOWING_TO_MATURITY: num  106 206 252 588 161 ...\n",
            " $ TOTAL_PRECIPIT_IN_12_MONTHS          : num  106 239 1220 241 111 ...\n",
            " $ IRRIGATED.NO                         : num  0 0 0 1 0 1 1 1 1 1 ...\n",
            " $ IRRIGATED.YES                        : num  1 1 1 0 1 0 0 0 0 0 ...\n"
          ],
          "name": "stdout"
        }
      ]
    },
    {
      "cell_type": "code",
      "metadata": {
        "id": "mZhjWNqYosvp",
        "colab_type": "code",
        "colab": {
          "base_uri": "https://localhost:8080/",
          "height": 118
        },
        "outputId": "6897db8e-c23d-4f3f-90ca-1f18476242d3"
      },
      "source": [
        "%%R\n",
        "str(A[,0:5])"
      ],
      "execution_count": 98,
      "outputs": [
        {
          "output_type": "stream",
          "text": [
            "'data.frame':\t3489 obs. of  5 variables:\n",
            " $ X30374: num  1 0 0 0 0 0 0 0 0 0 ...\n",
            " $ X78690: num  0 1 0 0 0 0 0 0 0 0 ...\n",
            " $ X15292: num  0 0 1.5 0 0 0 0 0 0 0 ...\n",
            " $ X67229: num  0 0 0 1.5 0 0 0 0 0 0 ...\n",
            " $ X67418: num  0 0 0 0 1.5 0 0 0 0 0 ...\n"
          ],
          "name": "stdout"
        }
      ]
    },
    {
      "cell_type": "code",
      "metadata": {
        "colab_type": "code",
        "id": "Xk0QZy8DcSVd",
        "colab": {
          "base_uri": "https://localhost:8080/",
          "height": 50
        },
        "outputId": "c8ed4f53-491f-4f07-dd4f-6e514dc46086"
      },
      "source": [
        "%%R\n",
        "# A matrix doesn't read in well as a CSV, need to repeat some processing steps\n",
        "# Remove the X prefix from the column names\n",
        "names(A) <- substring(names(A),2)\n",
        "print(colnames(A)[1])\n",
        "print(rownames(A)[1])"
      ],
      "execution_count": 99,
      "outputs": [
        {
          "output_type": "stream",
          "text": [
            "[1] \"30374\"\n",
            "[1] \"30374\"\n"
          ],
          "name": "stdout"
        }
      ]
    },
    {
      "cell_type": "code",
      "metadata": {
        "colab_type": "code",
        "id": "khRAAG1iWGmC",
        "colab": {
          "base_uri": "https://localhost:8080/",
          "height": 34
        },
        "outputId": "2b56d8fe-f724-47f9-934a-541d4a5792af"
      },
      "source": [
        "%%R\n",
        "# Get a list of unique GID values from the data\n",
        "Unique_GID = c(unique(Y$VAR))\n",
        "length(Unique_GID)\n"
      ],
      "execution_count": 100,
      "outputs": [
        {
          "output_type": "stream",
          "text": [
            "[1] 3443\n"
          ],
          "name": "stdout"
        }
      ]
    },
    {
      "cell_type": "code",
      "metadata": {
        "colab_type": "code",
        "id": "n0AUTbMWWJHe",
        "colab": {
          "base_uri": "https://localhost:8080/",
          "height": 34
        },
        "outputId": "8417f120-ec8d-465e-ae77-e6501a36cf1b"
      },
      "source": [
        "%%R\n",
        "# Identify the GIDs which are present in the data but not the A matrix\n",
        "#GID_missing = setdiff(Unique_GID, rownames(A))\n",
        "GID_missing = setdiff(rownames(A), Unique_GID)\n",
        "length(GID_missing)"
      ],
      "execution_count": 101,
      "outputs": [
        {
          "output_type": "stream",
          "text": [
            "[1] 46\n"
          ],
          "name": "stdout"
        }
      ]
    },
    {
      "cell_type": "code",
      "metadata": {
        "colab_type": "code",
        "id": "FQpCDjjnWMUt",
        "colab": {
          "base_uri": "https://localhost:8080/",
          "height": 34
        },
        "outputId": "e8e373f3-1a1e-4f3e-96c8-2119dd025de7"
      },
      "source": [
        "%%R\n",
        "# Remove the missing GID from the list of unique GIDs from the data sample\n",
        "Unique_GID = Unique_GID[Unique_GID != GID_missing]\n",
        "Unique_GID <- unlist(lapply(Unique_GID, as.character))\n",
        "# Subset the A matrix to the list of GIDs in the data sample\n",
        "A = A[Unique_GID,Unique_GID]\n",
        "# Convert to a matrix\n",
        "A = as.matrix(A)\n",
        "nrow(A)"
      ],
      "execution_count": 102,
      "outputs": [
        {
          "output_type": "stream",
          "text": [
            "[1] 3443\n"
          ],
          "name": "stdout"
        }
      ]
    },
    {
      "cell_type": "code",
      "metadata": {
        "colab_type": "code",
        "id": "eZp6VYLxtq5i",
        "colab": {
          "base_uri": "https://localhost:8080/",
          "height": 67
        },
        "outputId": "4d4241d6-7599-40a7-aebd-5f3a3dc61f39"
      },
      "source": [
        "%%R\n",
        "print(paste('Environmental covariates vector length: ', nrow(W)))\n",
        "print(paste('Unique Varieties: ', length(unique(Y$VAR))))\n",
        "print(paste('A Matrix length: ', nrow(A)))"
      ],
      "execution_count": 103,
      "outputs": [
        {
          "output_type": "stream",
          "text": [
            "[1] \"Environmental covariates vector length:  145348\"\n",
            "[1] \"Unique Varieties:  3443\"\n",
            "[1] \"A Matrix length:  3443\"\n"
          ],
          "name": "stdout"
        }
      ]
    },
    {
      "cell_type": "code",
      "metadata": {
        "id": "wI5jjyILlYhF",
        "colab_type": "code",
        "colab": {}
      },
      "source": [
        "%%R\n",
        "write.csv(Y, 'pheno_yield_data_adj.csv')\n",
        "write.csv(W, 'environmental_covariates_data_adj.csv')\n",
        "write.csv(A, 'pedigree_data_adj.csv')"
      ],
      "execution_count": 0,
      "outputs": []
    },
    {
      "cell_type": "code",
      "metadata": {
        "id": "ltwCvdPal67q",
        "colab_type": "code",
        "colab": {}
      },
      "source": [
        "%%R\n",
        "remove(Y,W,A)"
      ],
      "execution_count": 0,
      "outputs": []
    },
    {
      "cell_type": "markdown",
      "metadata": {
        "id": "5wgiZtlqlB5S",
        "colab_type": "text"
      },
      "source": [
        "## Convert Data Matrices to FF Connected Objects"
      ]
    },
    {
      "cell_type": "code",
      "metadata": {
        "id": "g_u8PoWngPv-",
        "colab_type": "code",
        "colab": {}
      },
      "source": [
        "%%capture\n",
        "%%R\n",
        "install.packages('ff')\n",
        "install.packages('ffbase')\n",
        "install.packages('LaF')"
      ],
      "execution_count": 0,
      "outputs": []
    },
    {
      "cell_type": "code",
      "metadata": {
        "id": "VsiKCOfciX36",
        "colab_type": "code",
        "colab": {}
      },
      "source": [
        "%%R\n",
        "library(LaF)\n",
        "library(ffbase)\n",
        "library(ff)"
      ],
      "execution_count": 0,
      "outputs": []
    },
    {
      "cell_type": "code",
      "metadata": {
        "id": "2ooOEHiziZM0",
        "colab_type": "code",
        "colab": {}
      },
      "source": [
        "%%R\n",
        "Y_laf <- laf_open_csv('pheno_yield_data_adj.csv', \n",
        "  column_names = c('index','grain_yield', 'VAR', 'ENV'), \n",
        "  column_types = c('integer','numeric','integer','factor'),\n",
        "  dec=\".\", sep=\",\", skip=1)\n",
        "\n",
        "Y_ffdf <- laf_to_ffdf(Y_laf)"
      ],
      "execution_count": 0,
      "outputs": []
    },
    {
      "cell_type": "code",
      "metadata": {
        "id": "qtwDdSRyqy1B",
        "colab_type": "code",
        "colab": {
          "base_uri": "https://localhost:8080/",
          "height": 1000
        },
        "outputId": "3d8ead1f-c323-4e1d-b54a-0267d48c7d9e"
      },
      "source": [
        "%%R\n",
        "str(Y_ffdf)"
      ],
      "execution_count": 118,
      "outputs": [
        {
          "output_type": "stream",
          "text": [
            "List of 3\n",
            " $ virtual: 'data.frame':\t4 obs. of  7 variables:\n",
            " .. $ VirtualVmode     : chr  \"integer\" \"double\" \"integer\" \"integer\"\n",
            " .. $ AsIs             : logi  FALSE FALSE FALSE FALSE\n",
            " .. $ VirtualIsMatrix  : logi  FALSE FALSE FALSE FALSE\n",
            " .. $ PhysicalIsMatrix : logi  FALSE FALSE FALSE FALSE\n",
            " .. $ PhysicalElementNo: int  1 2 3 4\n",
            " .. $ PhysicalFirstCol : int  1 1 1 1\n",
            " .. $ PhysicalLastCol  : int  1 1 1 1\n",
            " .. - attr(*, \"Dim\")= int  145348 4\n",
            " .. - attr(*, \"Dimorder\")= int  1 2\n",
            " $ physical: List of 4\n",
            " .. $ index      : list()\n",
            " ..  ..- attr(*, \"physical\")=Class 'ff_pointer' <externalptr> \n",
            " ..  .. ..- attr(*, \"vmode\")= chr \"integer\"\n",
            " ..  .. ..- attr(*, \"maxlength\")= int 145348\n",
            " ..  .. ..- attr(*, \"pattern\")= chr \"ffdf\"\n",
            " ..  .. ..- attr(*, \"filename\")= chr \"/tmp/Rtmp57JxGl/ffdf7d622ff855.ff\"\n",
            " ..  .. ..- attr(*, \"pagesize\")= int 65536\n",
            " ..  .. ..- attr(*, \"finalizer\")= chr \"delete\"\n",
            " ..  .. ..- attr(*, \"finonexit\")= logi TRUE\n",
            " ..  .. ..- attr(*, \"readonly\")= logi FALSE\n",
            " ..  .. ..- attr(*, \"caching\")= chr \"mmnoflush\"\n",
            " ..  ..- attr(*, \"virtual\")= list()\n",
            " ..  .. ..- attr(*, \"Length\")= int 145348\n",
            " ..  .. ..- attr(*, \"Symmetric\")= logi FALSE\n",
            " ..  .. ..- attr(*, \"class\")= chr \"virtual\"\n",
            " .. .. - attr(*, \"class\") =  chr [1:2] \"ff_vector\" \"ff\"\n",
            " .. $ grain_yield: list()\n",
            " ..  ..- attr(*, \"physical\")=Class 'ff_pointer' <externalptr> \n",
            " ..  .. ..- attr(*, \"vmode\")= chr \"double\"\n",
            " ..  .. ..- attr(*, \"maxlength\")= int 145348\n",
            " ..  .. ..- attr(*, \"pattern\")= chr \"ffdf\"\n",
            " ..  .. ..- attr(*, \"filename\")= chr \"/tmp/Rtmp57JxGl/ffdf7d7b20431a.ff\"\n",
            " ..  .. ..- attr(*, \"pagesize\")= int 65536\n",
            " ..  .. ..- attr(*, \"finalizer\")= chr \"delete\"\n",
            " ..  .. ..- attr(*, \"finonexit\")= logi TRUE\n",
            " ..  .. ..- attr(*, \"readonly\")= logi FALSE\n",
            " ..  .. ..- attr(*, \"caching\")= chr \"mmnoflush\"\n",
            " ..  ..- attr(*, \"virtual\")= list()\n",
            " ..  .. ..- attr(*, \"Length\")= int 145348\n",
            " ..  .. ..- attr(*, \"Symmetric\")= logi FALSE\n",
            " ..  .. ..- attr(*, \"class\")= chr \"virtual\"\n",
            " .. .. - attr(*, \"class\") =  chr [1:2] \"ff_vector\" \"ff\"\n",
            " .. $ VAR        : list()\n",
            " ..  ..- attr(*, \"physical\")=Class 'ff_pointer' <externalptr> \n",
            " ..  .. ..- attr(*, \"vmode\")= chr \"integer\"\n",
            " ..  .. ..- attr(*, \"maxlength\")= int 145348\n",
            " ..  .. ..- attr(*, \"pattern\")= chr \"ffdf\"\n",
            " ..  .. ..- attr(*, \"filename\")= chr \"/tmp/Rtmp57JxGl/ffdf7d66c61e64.ff\"\n",
            " ..  .. ..- attr(*, \"pagesize\")= int 65536\n",
            " ..  .. ..- attr(*, \"finalizer\")= chr \"delete\"\n",
            " ..  .. ..- attr(*, \"finonexit\")= logi TRUE\n",
            " ..  .. ..- attr(*, \"readonly\")= logi FALSE\n",
            " ..  .. ..- attr(*, \"caching\")= chr \"mmnoflush\"\n",
            " ..  ..- attr(*, \"virtual\")= list()\n",
            " ..  .. ..- attr(*, \"Length\")= int 145348\n",
            " ..  .. ..- attr(*, \"Symmetric\")= logi FALSE\n",
            " ..  .. ..- attr(*, \"class\")= chr \"virtual\"\n",
            " .. .. - attr(*, \"class\") =  chr [1:2] \"ff_vector\" \"ff\"\n",
            " .. $ ENV        : list()\n",
            " ..  ..- attr(*, \"physical\")=Class 'ff_pointer' <externalptr> \n",
            " ..  .. ..- attr(*, \"vmode\")= chr \"integer\"\n",
            " ..  .. ..- attr(*, \"maxlength\")= int 145348\n",
            " ..  .. ..- attr(*, \"pattern\")= chr \"ffdf\"\n",
            " ..  .. ..- attr(*, \"filename\")= chr \"/tmp/Rtmp57JxGl/ffdf7d454cf8df.ff\"\n",
            " ..  .. ..- attr(*, \"pagesize\")= int 65536\n",
            " ..  .. ..- attr(*, \"finalizer\")= chr \"delete\"\n",
            " ..  .. ..- attr(*, \"finonexit\")= logi TRUE\n",
            " ..  .. ..- attr(*, \"readonly\")= logi FALSE\n",
            " ..  .. ..- attr(*, \"caching\")= chr \"mmnoflush\"\n",
            " ..  ..- attr(*, \"virtual\")= list()\n",
            " ..  .. ..- attr(*, \"Length\")= int 145348\n",
            " ..  .. ..- attr(*, \"Symmetric\")= logi FALSE\n",
            " ..  .. ..- attr(*, \"Levels\")= chr [1:2326] \"25.18_83.03_2003\" \"36.13_59.4_2003\" \"-23.22_-51.1_2003\" \"36.5_68.55_2003\" ...\n",
            " ..  .. ..- attr(*, \"ramclass\")= chr \"factor\"\n",
            " ..  .. ..- attr(*, \"class\")= chr \"virtual\"\n",
            " .. .. - attr(*, \"class\") =  chr [1:2] \"ff_vector\" \"ff\"\n",
            " $ row.names:  NULL\n",
            "- attributes: List of 2\n",
            " .. $ names: chr [1:3] \"virtual\" \"physical\" \"row.names\"\n",
            " .. $ class: chr \"ffdf\"\n"
          ],
          "name": "stdout"
        }
      ]
    },
    {
      "cell_type": "code",
      "metadata": {
        "id": "k7RlNBWjj4rK",
        "colab_type": "code",
        "colab": {
          "base_uri": "https://localhost:8080/",
          "height": 357
        },
        "outputId": "ae1cc40e-9f83-4964-b36c-41c897924159"
      },
      "source": [
        "%%R\n",
        "head(Y_ffdf$ENV)"
      ],
      "execution_count": 120,
      "outputs": [
        {
          "output_type": "error",
          "ename": "NotImplementedError",
          "evalue": "ignored",
          "traceback": [
            "\u001b[0;31m---------------------------------------------------------------------------\u001b[0m",
            "\u001b[0;31mNotImplementedError\u001b[0m                       Traceback (most recent call last)",
            "\u001b[0;32m<ipython-input-120-a9343eef05d1>\u001b[0m in \u001b[0;36m<module>\u001b[0;34m()\u001b[0m\n\u001b[0;32m----> 1\u001b[0;31m \u001b[0mget_ipython\u001b[0m\u001b[0;34m(\u001b[0m\u001b[0;34m)\u001b[0m\u001b[0;34m.\u001b[0m\u001b[0mrun_cell_magic\u001b[0m\u001b[0;34m(\u001b[0m\u001b[0;34m'R'\u001b[0m\u001b[0;34m,\u001b[0m \u001b[0;34m''\u001b[0m\u001b[0;34m,\u001b[0m \u001b[0;34m'head(Y_ffdf$ENV)'\u001b[0m\u001b[0;34m)\u001b[0m\u001b[0;34m\u001b[0m\u001b[0;34m\u001b[0m\u001b[0m\n\u001b[0m",
            "\u001b[0;32m/usr/local/lib/python3.6/dist-packages/IPython/core/interactiveshell.py\u001b[0m in \u001b[0;36mrun_cell_magic\u001b[0;34m(self, magic_name, line, cell)\u001b[0m\n\u001b[1;32m   2115\u001b[0m             \u001b[0mmagic_arg_s\u001b[0m \u001b[0;34m=\u001b[0m \u001b[0mself\u001b[0m\u001b[0;34m.\u001b[0m\u001b[0mvar_expand\u001b[0m\u001b[0;34m(\u001b[0m\u001b[0mline\u001b[0m\u001b[0;34m,\u001b[0m \u001b[0mstack_depth\u001b[0m\u001b[0;34m)\u001b[0m\u001b[0;34m\u001b[0m\u001b[0;34m\u001b[0m\u001b[0m\n\u001b[1;32m   2116\u001b[0m             \u001b[0;32mwith\u001b[0m \u001b[0mself\u001b[0m\u001b[0;34m.\u001b[0m\u001b[0mbuiltin_trap\u001b[0m\u001b[0;34m:\u001b[0m\u001b[0;34m\u001b[0m\u001b[0;34m\u001b[0m\u001b[0m\n\u001b[0;32m-> 2117\u001b[0;31m                 \u001b[0mresult\u001b[0m \u001b[0;34m=\u001b[0m \u001b[0mfn\u001b[0m\u001b[0;34m(\u001b[0m\u001b[0mmagic_arg_s\u001b[0m\u001b[0;34m,\u001b[0m \u001b[0mcell\u001b[0m\u001b[0;34m)\u001b[0m\u001b[0;34m\u001b[0m\u001b[0;34m\u001b[0m\u001b[0m\n\u001b[0m\u001b[1;32m   2118\u001b[0m             \u001b[0;32mreturn\u001b[0m \u001b[0mresult\u001b[0m\u001b[0;34m\u001b[0m\u001b[0;34m\u001b[0m\u001b[0m\n\u001b[1;32m   2119\u001b[0m \u001b[0;34m\u001b[0m\u001b[0m\n",
            "\u001b[0;32m<decorator-gen-127>\u001b[0m in \u001b[0;36mR\u001b[0;34m(self, line, cell, local_ns)\u001b[0m\n",
            "\u001b[0;32m/usr/local/lib/python3.6/dist-packages/IPython/core/magic.py\u001b[0m in \u001b[0;36m<lambda>\u001b[0;34m(f, *a, **k)\u001b[0m\n\u001b[1;32m    186\u001b[0m     \u001b[0;31m# but it's overkill for just that one bit of state.\u001b[0m\u001b[0;34m\u001b[0m\u001b[0;34m\u001b[0m\u001b[0;34m\u001b[0m\u001b[0m\n\u001b[1;32m    187\u001b[0m     \u001b[0;32mdef\u001b[0m \u001b[0mmagic_deco\u001b[0m\u001b[0;34m(\u001b[0m\u001b[0marg\u001b[0m\u001b[0;34m)\u001b[0m\u001b[0;34m:\u001b[0m\u001b[0;34m\u001b[0m\u001b[0;34m\u001b[0m\u001b[0m\n\u001b[0;32m--> 188\u001b[0;31m         \u001b[0mcall\u001b[0m \u001b[0;34m=\u001b[0m \u001b[0;32mlambda\u001b[0m \u001b[0mf\u001b[0m\u001b[0;34m,\u001b[0m \u001b[0;34m*\u001b[0m\u001b[0ma\u001b[0m\u001b[0;34m,\u001b[0m \u001b[0;34m**\u001b[0m\u001b[0mk\u001b[0m\u001b[0;34m:\u001b[0m \u001b[0mf\u001b[0m\u001b[0;34m(\u001b[0m\u001b[0;34m*\u001b[0m\u001b[0ma\u001b[0m\u001b[0;34m,\u001b[0m \u001b[0;34m**\u001b[0m\u001b[0mk\u001b[0m\u001b[0;34m)\u001b[0m\u001b[0;34m\u001b[0m\u001b[0;34m\u001b[0m\u001b[0m\n\u001b[0m\u001b[1;32m    189\u001b[0m \u001b[0;34m\u001b[0m\u001b[0m\n\u001b[1;32m    190\u001b[0m         \u001b[0;32mif\u001b[0m \u001b[0mcallable\u001b[0m\u001b[0;34m(\u001b[0m\u001b[0marg\u001b[0m\u001b[0;34m)\u001b[0m\u001b[0;34m:\u001b[0m\u001b[0;34m\u001b[0m\u001b[0;34m\u001b[0m\u001b[0m\n",
            "\u001b[0;32m/usr/local/lib/python3.6/dist-packages/rpy2/ipython/rmagic.py\u001b[0m in \u001b[0;36mR\u001b[0;34m(self, line, cell, local_ns)\u001b[0m\n\u001b[1;32m    748\u001b[0m                                                \u001b[0;34m'consolewrite_print'\u001b[0m\u001b[0;34m,\u001b[0m\u001b[0;34m\u001b[0m\u001b[0;34m\u001b[0m\u001b[0m\n\u001b[1;32m    749\u001b[0m                                                self.write_console_regular))\n\u001b[0;32m--> 750\u001b[0;31m                         \u001b[0mro\u001b[0m\u001b[0;34m.\u001b[0m\u001b[0mr\u001b[0m\u001b[0;34m.\u001b[0m\u001b[0mshow\u001b[0m\u001b[0;34m(\u001b[0m\u001b[0mresult\u001b[0m\u001b[0;34m)\u001b[0m\u001b[0;34m\u001b[0m\u001b[0;34m\u001b[0m\u001b[0m\n\u001b[0m\u001b[1;32m    751\u001b[0m                         \u001b[0mtext_output\u001b[0m \u001b[0;34m+=\u001b[0m \u001b[0mself\u001b[0m\u001b[0;34m.\u001b[0m\u001b[0mflush\u001b[0m\u001b[0;34m(\u001b[0m\u001b[0;34m)\u001b[0m\u001b[0;34m\u001b[0m\u001b[0;34m\u001b[0m\u001b[0m\n\u001b[1;32m    752\u001b[0m \u001b[0;34m\u001b[0m\u001b[0m\n",
            "\u001b[0;32m/usr/local/lib/python3.6/dist-packages/rpy2/robjects/functions.py\u001b[0m in \u001b[0;36m__call__\u001b[0;34m(self, *args, **kwargs)\u001b[0m\n\u001b[1;32m    190\u001b[0m                 \u001b[0mkwargs\u001b[0m\u001b[0;34m[\u001b[0m\u001b[0mr_k\u001b[0m\u001b[0;34m]\u001b[0m \u001b[0;34m=\u001b[0m \u001b[0mv\u001b[0m\u001b[0;34m\u001b[0m\u001b[0;34m\u001b[0m\u001b[0m\n\u001b[1;32m    191\u001b[0m         return (super(SignatureTranslatedFunction, self)\n\u001b[0;32m--> 192\u001b[0;31m                 .__call__(*args, **kwargs))\n\u001b[0m\u001b[1;32m    193\u001b[0m \u001b[0;34m\u001b[0m\u001b[0m\n\u001b[1;32m    194\u001b[0m \u001b[0;34m\u001b[0m\u001b[0m\n",
            "\u001b[0;32m/usr/local/lib/python3.6/dist-packages/rpy2/robjects/functions.py\u001b[0m in \u001b[0;36m__call__\u001b[0;34m(self, *args, **kwargs)\u001b[0m\n\u001b[1;32m    111\u001b[0m \u001b[0;34m\u001b[0m\u001b[0m\n\u001b[1;32m    112\u001b[0m     \u001b[0;32mdef\u001b[0m \u001b[0m__call__\u001b[0m\u001b[0;34m(\u001b[0m\u001b[0mself\u001b[0m\u001b[0;34m,\u001b[0m \u001b[0;34m*\u001b[0m\u001b[0margs\u001b[0m\u001b[0;34m,\u001b[0m \u001b[0;34m**\u001b[0m\u001b[0mkwargs\u001b[0m\u001b[0;34m)\u001b[0m\u001b[0;34m:\u001b[0m\u001b[0;34m\u001b[0m\u001b[0;34m\u001b[0m\u001b[0m\n\u001b[0;32m--> 113\u001b[0;31m         \u001b[0mnew_args\u001b[0m \u001b[0;34m=\u001b[0m \u001b[0;34m[\u001b[0m\u001b[0mconversion\u001b[0m\u001b[0;34m.\u001b[0m\u001b[0mpy2rpy\u001b[0m\u001b[0;34m(\u001b[0m\u001b[0ma\u001b[0m\u001b[0;34m)\u001b[0m \u001b[0;32mfor\u001b[0m \u001b[0ma\u001b[0m \u001b[0;32min\u001b[0m \u001b[0margs\u001b[0m\u001b[0;34m]\u001b[0m\u001b[0;34m\u001b[0m\u001b[0;34m\u001b[0m\u001b[0m\n\u001b[0m\u001b[1;32m    114\u001b[0m         \u001b[0mnew_kwargs\u001b[0m \u001b[0;34m=\u001b[0m \u001b[0;34m{\u001b[0m\u001b[0;34m}\u001b[0m\u001b[0;34m\u001b[0m\u001b[0;34m\u001b[0m\u001b[0m\n\u001b[1;32m    115\u001b[0m         \u001b[0;32mfor\u001b[0m \u001b[0mk\u001b[0m\u001b[0;34m,\u001b[0m \u001b[0mv\u001b[0m \u001b[0;32min\u001b[0m \u001b[0mkwargs\u001b[0m\u001b[0;34m.\u001b[0m\u001b[0mitems\u001b[0m\u001b[0;34m(\u001b[0m\u001b[0;34m)\u001b[0m\u001b[0;34m:\u001b[0m\u001b[0;34m\u001b[0m\u001b[0;34m\u001b[0m\u001b[0m\n",
            "\u001b[0;32m/usr/local/lib/python3.6/dist-packages/rpy2/robjects/functions.py\u001b[0m in \u001b[0;36m<listcomp>\u001b[0;34m(.0)\u001b[0m\n\u001b[1;32m    111\u001b[0m \u001b[0;34m\u001b[0m\u001b[0m\n\u001b[1;32m    112\u001b[0m     \u001b[0;32mdef\u001b[0m \u001b[0m__call__\u001b[0m\u001b[0;34m(\u001b[0m\u001b[0mself\u001b[0m\u001b[0;34m,\u001b[0m \u001b[0;34m*\u001b[0m\u001b[0margs\u001b[0m\u001b[0;34m,\u001b[0m \u001b[0;34m**\u001b[0m\u001b[0mkwargs\u001b[0m\u001b[0;34m)\u001b[0m\u001b[0;34m:\u001b[0m\u001b[0;34m\u001b[0m\u001b[0;34m\u001b[0m\u001b[0m\n\u001b[0;32m--> 113\u001b[0;31m         \u001b[0mnew_args\u001b[0m \u001b[0;34m=\u001b[0m \u001b[0;34m[\u001b[0m\u001b[0mconversion\u001b[0m\u001b[0;34m.\u001b[0m\u001b[0mpy2rpy\u001b[0m\u001b[0;34m(\u001b[0m\u001b[0ma\u001b[0m\u001b[0;34m)\u001b[0m \u001b[0;32mfor\u001b[0m \u001b[0ma\u001b[0m \u001b[0;32min\u001b[0m \u001b[0margs\u001b[0m\u001b[0;34m]\u001b[0m\u001b[0;34m\u001b[0m\u001b[0;34m\u001b[0m\u001b[0m\n\u001b[0m\u001b[1;32m    114\u001b[0m         \u001b[0mnew_kwargs\u001b[0m \u001b[0;34m=\u001b[0m \u001b[0;34m{\u001b[0m\u001b[0;34m}\u001b[0m\u001b[0;34m\u001b[0m\u001b[0;34m\u001b[0m\u001b[0m\n\u001b[1;32m    115\u001b[0m         \u001b[0;32mfor\u001b[0m \u001b[0mk\u001b[0m\u001b[0;34m,\u001b[0m \u001b[0mv\u001b[0m \u001b[0;32min\u001b[0m \u001b[0mkwargs\u001b[0m\u001b[0;34m.\u001b[0m\u001b[0mitems\u001b[0m\u001b[0;34m(\u001b[0m\u001b[0;34m)\u001b[0m\u001b[0;34m:\u001b[0m\u001b[0;34m\u001b[0m\u001b[0;34m\u001b[0m\u001b[0m\n",
            "\u001b[0;32m/usr/lib/python3.6/functools.py\u001b[0m in \u001b[0;36mwrapper\u001b[0;34m(*args, **kw)\u001b[0m\n\u001b[1;32m    805\u001b[0m                             '1 positional argument')\n\u001b[1;32m    806\u001b[0m \u001b[0;34m\u001b[0m\u001b[0m\n\u001b[0;32m--> 807\u001b[0;31m         \u001b[0;32mreturn\u001b[0m \u001b[0mdispatch\u001b[0m\u001b[0;34m(\u001b[0m\u001b[0margs\u001b[0m\u001b[0;34m[\u001b[0m\u001b[0;36m0\u001b[0m\u001b[0;34m]\u001b[0m\u001b[0;34m.\u001b[0m\u001b[0m__class__\u001b[0m\u001b[0;34m)\u001b[0m\u001b[0;34m(\u001b[0m\u001b[0;34m*\u001b[0m\u001b[0margs\u001b[0m\u001b[0;34m,\u001b[0m \u001b[0;34m**\u001b[0m\u001b[0mkw\u001b[0m\u001b[0;34m)\u001b[0m\u001b[0;34m\u001b[0m\u001b[0;34m\u001b[0m\u001b[0m\n\u001b[0m\u001b[1;32m    808\u001b[0m \u001b[0;34m\u001b[0m\u001b[0m\n\u001b[1;32m    809\u001b[0m     \u001b[0mfuncname\u001b[0m \u001b[0;34m=\u001b[0m \u001b[0mgetattr\u001b[0m\u001b[0;34m(\u001b[0m\u001b[0mfunc\u001b[0m\u001b[0;34m,\u001b[0m \u001b[0;34m'__name__'\u001b[0m\u001b[0;34m,\u001b[0m \u001b[0;34m'singledispatch function'\u001b[0m\u001b[0;34m)\u001b[0m\u001b[0;34m\u001b[0m\u001b[0;34m\u001b[0m\u001b[0m\n",
            "\u001b[0;32m/usr/local/lib/python3.6/dist-packages/rpy2/robjects/conversion.py\u001b[0m in \u001b[0;36m_py2rpy\u001b[0;34m(obj)\u001b[0m\n\u001b[1;32m     58\u001b[0m     raise NotImplementedError(\n\u001b[1;32m     59\u001b[0m         \u001b[0;34m\"Conversion 'py2rpy' not defined for objects of type '%s'\"\u001b[0m \u001b[0;34m%\u001b[0m\u001b[0;34m\u001b[0m\u001b[0;34m\u001b[0m\u001b[0m\n\u001b[0;32m---> 60\u001b[0;31m         \u001b[0mstr\u001b[0m\u001b[0;34m(\u001b[0m\u001b[0mtype\u001b[0m\u001b[0;34m(\u001b[0m\u001b[0mobj\u001b[0m\u001b[0;34m)\u001b[0m\u001b[0;34m)\u001b[0m\u001b[0;34m\u001b[0m\u001b[0;34m\u001b[0m\u001b[0m\n\u001b[0m\u001b[1;32m     61\u001b[0m     )\n\u001b[1;32m     62\u001b[0m \u001b[0;34m\u001b[0m\u001b[0m\n",
            "\u001b[0;31mNotImplementedError\u001b[0m: Conversion 'py2rpy' not defined for objects of type '<class 'pandas.core.arrays.categorical.Categorical'>'"
          ]
        }
      ]
    },
    {
      "cell_type": "code",
      "metadata": {
        "id": "dpM4p3xNpvtg",
        "colab_type": "code",
        "colab": {
          "base_uri": "https://localhost:8080/",
          "height": 151
        },
        "outputId": "93124d3b-98a1-483a-8051-51bb1c7185da"
      },
      "source": [
        "%%R\n",
        "Y_ffdf$ENV <- sapply(Y_ffdf$ENV, as.character)"
      ],
      "execution_count": 112,
      "outputs": [
        {
          "output_type": "stream",
          "text": [
            "R[write to console]: Error in `[[<-.ffdf`(`*tmp*`, i, value = list()) : \n",
            "  assigned value must be ff\n",
            "Calls: <Anonymous> ... withVisible -> $<- -> $<-.ffdf -> [[<- -> [[<-.ffdf\n",
            "\n"
          ],
          "name": "stderr"
        },
        {
          "output_type": "stream",
          "text": [
            "\n",
            "Error in `[[<-.ffdf`(`*tmp*`, i, value = list()) : \n",
            "  assigned value must be ff\n",
            "Calls: <Anonymous> ... withVisible -> $<- -> $<-.ffdf -> [[<- -> [[<-.ffdf\n"
          ],
          "name": "stdout"
        }
      ]
    },
    {
      "cell_type": "code",
      "metadata": {
        "id": "LD0M4pYHj1n8",
        "colab_type": "code",
        "colab": {}
      },
      "source": [
        "%%R\n",
        "Y_m <- detect_dm_csv(\"pheno_yield_data_adj.csv\")\n",
        "Y_con <- laf_open(Y_m)\n",
        "Y_ffdf <- laf_to_ffdf(Y_con)"
      ],
      "execution_count": 0,
      "outputs": []
    },
    {
      "cell_type": "code",
      "metadata": {
        "id": "ogneOLVcj79J",
        "colab_type": "code",
        "colab": {
          "base_uri": "https://localhost:8080/",
          "height": 924
        },
        "outputId": "d80e5eac-e588-4fa3-8630-9f9046d295a4"
      },
      "source": [
        "%%R\n",
        "head(Y_ffdf)"
      ],
      "execution_count": 108,
      "outputs": [
        {
          "output_type": "stream",
          "text": [
            "ffdf (all open) dim=c(145349,4), dimorder=c(1,2) row.names=NULL\n",
            "ffdf virtual mapping\n",
            "   PhysicalName VirtualVmode PhysicalVmode  AsIs VirtualIsMatrix\n",
            "V1           V1      integer       integer FALSE           FALSE\n",
            "V2           V2      integer       integer FALSE           FALSE\n",
            "V3           V3      integer       integer FALSE           FALSE\n",
            "V4           V4      integer       integer FALSE           FALSE\n",
            "   PhysicalIsMatrix PhysicalElementNo PhysicalFirstCol PhysicalLastCol\n",
            "V1            FALSE                 1                1               1\n",
            "V2            FALSE                 2                1               1\n",
            "V3            FALSE                 3                1               1\n",
            "V4            FALSE                 4                1               1\n",
            "   PhysicalIsOpen\n",
            "V1           TRUE\n",
            "V2           TRUE\n",
            "V3           TRUE\n",
            "V4           TRUE\n",
            "ffdf data\n",
            "                       V1                 V2                 V3\n",
            "1      NA                 grain_yield        VAR               \n",
            "2           1             2.065              1395073           \n",
            "3           2             5.764              1395073           \n",
            "4           3             3.697              1395073           \n",
            "5           4             2.993              1395073           \n",
            "6           5             0.861              1395073           \n",
            "7           6             3.435              1395073           \n",
            "8           7             5.047              1395073           \n",
            ":                       :                  :                  :\n",
            "145342 145341             1.942              4057139           \n",
            "145343 145342             0.373              4057139           \n",
            "145344 145343             6.911              4057139           \n",
            "145345 145344             2.202              4057139           \n",
            "145346 145345             10.672             4057139           \n",
            "145347 145346             3.531              4057139           \n",
            "145348 145347             4.472              4057139           \n",
            "145349 145348             3.916              4057139           \n",
            "                       V4\n",
            "1      ENV               \n",
            "2      25.18_83.03_2003  \n",
            "3      36.13_59.4_2003   \n",
            "4      -23.22_-51.1_2003 \n",
            "5      36.5_68.55_2003   \n",
            "6      30.12_67.01_2003  \n",
            "7      36.38_66.56_2003  \n",
            "8      32.56_72.51_2003  \n",
            ":                       :\n",
            "145342 34.46_62.12_2005  \n",
            "145343 36.49_70.06_2005  \n",
            "145344 26.36_31.4_2005   \n",
            "145345 -33.43_-58.05_2004\n",
            "145346 -36.31_-71.55_2005\n",
            "145347 -24.56_-53.26_2005\n",
            "145348 -37.45_-58.18_2004\n",
            "145349 28.35_77.12_2005  \n"
          ],
          "name": "stdout"
        }
      ]
    },
    {
      "cell_type": "markdown",
      "metadata": {
        "colab_type": "text",
        "id": "LE-DRJvtWXVU"
      },
      "source": [
        "## Run Model on Full Data"
      ]
    },
    {
      "cell_type": "code",
      "metadata": {
        "colab_type": "code",
        "id": "H1kut5VaWXVX",
        "colab": {}
      },
      "source": [
        "%%R\n",
        "# Fitting Model 1 (Main Environment-Line Effects)\n",
        "# (EL)\n",
        "\n",
        "set.seed(123)\n",
        "training.samples <- Y$grain_yield %>%\n",
        "  createDataPartition(p = 0.8, list = FALSE)\n",
        "\n",
        "y_train = Y$grain_yield\n",
        "y_train[-training.samples] = NA\n",
        "\n",
        "# incidence matrix for main eff. of environments.\n",
        "ZE = model.matrix(~factor(Y$ENV)-1)     \n",
        "\n",
        "# incidence matrix for main eff. of lines.\n",
        "Y$VAR = factor(x=Y$VAR,levels=rownames(A),ordered=TRUE)\n",
        "ZVAR = model.matrix(~Y$VAR-1)"
      ],
      "execution_count": 0,
      "outputs": []
    },
    {
      "cell_type": "code",
      "metadata": {
        "colab_type": "code",
        "id": "whXhLOeVWXVd",
        "colab": {}
      },
      "source": [
        "%%capture\n",
        "%%R\n",
        "# Model Fitting\n",
        "\n",
        "ETA = list(ENV=list(X=ZE,model='BRR'),\n",
        "           VAR=list(X=ZVAR,model='BRR'))\n",
        "\n",
        "fm1 = BGLR(y=y_train,ETA=ETA,saveAt='M1_',nIter=500,burnIn=200)\n"
      ],
      "execution_count": 0,
      "outputs": []
    },
    {
      "cell_type": "code",
      "metadata": {
        "colab_type": "code",
        "id": "ZnJbbRd5WXVh",
        "colab": {}
      },
      "source": [
        "%%R\n",
        "predictions_1 = fm1$yHat[-training.samples]\n",
        "test_values = Y$grain_yield[-training.samples]\n",
        "R2_1 = R2(predictions_1, test_values)\n",
        "RMSE_1 = RMSE(predictions_1, test_values)\n",
        "MAE_1 = MAE(predictions_1, test_values)\n",
        "model1_scores = data.frame(R2_1, RMSE_1, MAE_1)\n",
        "print(model1_scores)"
      ],
      "execution_count": 0,
      "outputs": []
    },
    {
      "cell_type": "code",
      "metadata": {
        "colab_type": "code",
        "id": "9FErDmZjNYif",
        "colab": {}
      },
      "source": [
        "plot(test_values,predictions_1)"
      ],
      "execution_count": 0,
      "outputs": []
    },
    {
      "cell_type": "code",
      "metadata": {
        "id": "3MtOBBM0NYik",
        "colab_type": "code",
        "colab": {}
      },
      "source": [
        "!pip install psutil"
      ],
      "execution_count": 0,
      "outputs": []
    },
    {
      "cell_type": "code",
      "metadata": {
        "id": "2o52p88INYio",
        "colab_type": "code",
        "colab": {}
      },
      "source": [
        "import psutil"
      ],
      "execution_count": 0,
      "outputs": []
    },
    {
      "cell_type": "code",
      "metadata": {
        "id": "Bm7Cbvc3NYit",
        "colab_type": "code",
        "colab": {},
        "outputId": "ae6ccbcc-7703-4f62-8619-576b9d849a85"
      },
      "source": [
        "values = psutil.virtual_memory()\n",
        "avail = values.available >> 30\n",
        "avail"
      ],
      "execution_count": 0,
      "outputs": [
        {
          "output_type": "execute_result",
          "data": {
            "text/plain": [
              "397"
            ]
          },
          "metadata": {
            "tags": []
          },
          "execution_count": 15
        }
      ]
    },
    {
      "cell_type": "code",
      "metadata": {
        "id": "2ya7t0XANYiy",
        "colab_type": "code",
        "colab": {}
      },
      "source": [
        "%%R\n",
        "remove(ETA, fm1)\n",
        "remove(predictions_1, R2_1, RMSE_1, MAE_1)"
      ],
      "execution_count": 0,
      "outputs": []
    },
    {
      "cell_type": "code",
      "metadata": {
        "colab_type": "code",
        "id": "nwf0egoLvL--",
        "colab": {}
      },
      "source": [
        "%%R\n",
        "# Alternative Model 2 with Eigendecomposition\n",
        "L_star = eigen(A, symmetric =TRUE)\n",
        "Gamma = L_star$vectors\n",
        "Lambda = L_star$values \n",
        "Z_star = ZVAR%*%Gamma%*%(Lambda^0.5)"
      ],
      "execution_count": 0,
      "outputs": []
    },
    {
      "cell_type": "code",
      "metadata": {
        "id": "J71KkU4GNYi5",
        "colab_type": "code",
        "colab": {},
        "outputId": "be5a2196-9dd3-4c3c-e737-32ca79fdba83"
      },
      "source": [
        "values = psutil.virtual_memory()\n",
        "avail = values.available >> 30\n",
        "avail"
      ],
      "execution_count": 0,
      "outputs": [
        {
          "output_type": "execute_result",
          "data": {
            "text/plain": [
              "393"
            ]
          },
          "metadata": {
            "tags": []
          },
          "execution_count": 19
        }
      ]
    },
    {
      "cell_type": "code",
      "metadata": {
        "id": "D_R-G-bYNYi9",
        "colab_type": "code",
        "colab": {}
      },
      "source": [
        "%%R\n",
        "remove(A, L_star, Gamma, Lambda)"
      ],
      "execution_count": 0,
      "outputs": []
    },
    {
      "cell_type": "code",
      "metadata": {
        "colab_type": "code",
        "id": "kkCmUVRPNYjA",
        "colab": {}
      },
      "source": [
        "%%capture\n",
        "%%R\n",
        "# Fitting Model 2 with Alternative Z_star (Main Environment-Pedigree Effects)\n",
        "# (EA)\n",
        "\n",
        "ETA = list(ENV=list(X=ZE,model='BRR'),\n",
        "           PED=list(X=Z_star,model='BRR'))\n",
        "\n",
        "fm2 = BGLR(y=y_train,ETA=ETA,saveAt='M2_',nIter=1000,burnIn=500)"
      ],
      "execution_count": 0,
      "outputs": []
    },
    {
      "cell_type": "code",
      "metadata": {
        "colab_type": "code",
        "id": "dSIyoaAo6-D7",
        "colab": {}
      },
      "source": [
        "%%R\n",
        "predictions_2 = fm2$yHat[-training.samples]\n",
        "\n",
        "R2_2 = R2(predictions_2, test_values)\n",
        "RMSE_2 = RMSE(predictions_2, test_values)\n",
        "MAE_2 = MAE(predictions_2, test_values)\n",
        "model2_scores = data.frame(R2_2, RMSE_2, MAE_2)"
      ],
      "execution_count": 0,
      "outputs": []
    },
    {
      "cell_type": "code",
      "metadata": {
        "colab_type": "code",
        "id": "CfVfCFek6rFu",
        "colab": {}
      },
      "source": [
        "%%R\n",
        "print(model2_scores)\n",
        "plot(test_values,predictions_2)"
      ],
      "execution_count": 0,
      "outputs": []
    },
    {
      "cell_type": "code",
      "metadata": {
        "id": "T-Z662AbNYjH",
        "colab_type": "code",
        "colab": {}
      },
      "source": [
        "%%R\n",
        "remove(ETA, fm2)\n",
        "remove(predictions_2, R2_2, RMSE_2,MAE_2)"
      ],
      "execution_count": 0,
      "outputs": []
    },
    {
      "cell_type": "code",
      "metadata": {
        "colab_type": "code",
        "id": "7cULDW0mWXVm",
        "colab": {}
      },
      "source": [
        "%%R\n",
        "# Fitting Model 2 (Main Environment-Pedigree Effects)\n",
        "# (EA)\n",
        "\n",
        "# A = A/mean(diag(A))\n",
        "# L = t(chol(A))\n",
        "# ZL = ZVAR%*%L\n",
        "\n",
        "# ETA = list(ENV=list(X=ZE,model='BRR'),\n",
        "#            PED=list(X=ZL,model='BRR'))\n",
        "\t\n",
        "# fm2 = BGLR(y=y_train,ETA=ETA,saveAt='M2_',nIter=500,burnIn=200)\n"
      ],
      "execution_count": 0,
      "outputs": []
    },
    {
      "cell_type": "code",
      "metadata": {
        "colab_type": "code",
        "id": "FMbwmgwdWXVs",
        "colab": {}
      },
      "source": [
        "%%R\n",
        "# predictions = fm2$yHat[-training.samples]\n",
        "# test_values = Y$grain_yield[-training.samples]\n",
        "# print(data.frame( R2 = R2(predictions, test_values),\n",
        "#             RMSE = RMSE(predictions, test_values),\n",
        "#             MAE = MAE(predictions, test_values)))\n",
        "\n",
        "# plot(test_values,predictions)"
      ],
      "execution_count": 0,
      "outputs": []
    },
    {
      "cell_type": "code",
      "metadata": {
        "colab_type": "code",
        "id": "9JE6vWzHWXVv",
        "colab": {}
      },
      "source": [
        "%%R\n",
        "# Fitting Model 3 (Main Environment-Pedigree-Environmental Covariate Effects)\n",
        "# (EAW)\n",
        "\n",
        "W = W/sqrt(ncol(W))\n"
      ],
      "execution_count": 0,
      "outputs": []
    },
    {
      "cell_type": "code",
      "metadata": {
        "id": "dsI-kW-DNYjV",
        "colab_type": "code",
        "colab": {},
        "outputId": "b2dc3ee5-ede9-45bf-b39a-ec4528727d84"
      },
      "source": [
        "values = psutil.virtual_memory()\n",
        "avail = values.available >> 30\n",
        "avail"
      ],
      "execution_count": 0,
      "outputs": [
        {
          "output_type": "execute_result",
          "data": {
            "text/plain": [
              "393"
            ]
          },
          "metadata": {
            "tags": []
          },
          "execution_count": 21
        }
      ]
    },
    {
      "cell_type": "code",
      "metadata": {
        "colab_type": "code",
        "id": "_kHaeHsTNYjZ",
        "colab": {}
      },
      "source": [
        "%%capture\n",
        "%%R\n",
        "ETA = list(ENV=list(X=ZE,model='BRR'),\n",
        "           PED=list(X=Z_star,model='BRR'),\n",
        "           EC=list(X=W,model='BRR'))\n",
        "\n",
        "fm3 = BGLR(y=y_train,ETA=ETA,saveAt='M3_',nIter=500,burnIn=200)"
      ],
      "execution_count": 0,
      "outputs": []
    },
    {
      "cell_type": "code",
      "metadata": {
        "colab_type": "code",
        "id": "5JL4khkHWXVz",
        "colab": {}
      },
      "source": [
        "%%R\n",
        "predictions_3 = fm3$yHat[-training.samples]\n",
        "test_values = Y$grain_yield[-training.samples]\n",
        "model3_scores = data.frame(R2_3 = R2(predictions_3, test_values),\n",
        "            RMSE_3 = RMSE(predictions_3, test_values),\n",
        "            MAE_3 = MAE(predictions_3, test_values))\n",
        "\n",
        "print(model3_scores)\n",
        "plot(test_values,predictions_3)"
      ],
      "execution_count": 0,
      "outputs": []
    },
    {
      "cell_type": "code",
      "metadata": {
        "id": "ughggcrHNYjf",
        "colab_type": "code",
        "colab": {}
      },
      "source": [
        "%%R\n",
        "remove(ETA, fm3)"
      ],
      "execution_count": 0,
      "outputs": []
    },
    {
      "cell_type": "code",
      "metadata": {
        "id": "eeQGOAsFNYji",
        "colab_type": "code",
        "colab": {}
      },
      "source": [
        "values = psutil.virtual_memory()\n",
        "avail = values.available >> 30\n",
        "avail"
      ],
      "execution_count": 0,
      "outputs": []
    },
    {
      "cell_type": "code",
      "metadata": {
        "id": "uzcsNSRNNYjk",
        "colab_type": "code",
        "colab": {}
      },
      "source": [
        "np.intp"
      ],
      "execution_count": 0,
      "outputs": []
    },
    {
      "cell_type": "code",
      "metadata": {
        "colab_type": "code",
        "id": "k3jCA928WXV3",
        "colab": {}
      },
      "source": [
        "%%R\n",
        "# Fitting Model 4 (Main Environment-Pedigree-Environmental Covariate Effects \n",
        "# with Pedigree-Environmental Covariate Interaction)\n",
        "# (EAW-AxW)\n",
        "\n",
        "ZAZ = tcrossprod(Z_star)"
      ],
      "execution_count": 0,
      "outputs": []
    },
    {
      "cell_type": "code",
      "metadata": {
        "id": "5pDvWbHPNYjp",
        "colab_type": "code",
        "colab": {},
        "outputId": "b9fca3d4-2656-4de2-ffef-515af126c162"
      },
      "source": [
        "values = psutil.virtual_memory()\n",
        "avail = values.available >> 30\n",
        "avail"
      ],
      "execution_count": 0,
      "outputs": [
        {
          "output_type": "execute_result",
          "data": {
            "text/plain": [
              "239"
            ]
          },
          "metadata": {
            "tags": []
          },
          "execution_count": 23
        }
      ]
    },
    {
      "cell_type": "code",
      "metadata": {
        "colab_type": "code",
        "id": "8yyTqroXNYju",
        "colab": {}
      },
      "source": [
        "%%R\n",
        "W = as.matrix(W)"
      ],
      "execution_count": 0,
      "outputs": []
    },
    {
      "cell_type": "code",
      "metadata": {
        "colab_type": "code",
        "outputId": "e7cd5288-e278-47dc-d7fb-56a6bd5d8598",
        "id": "vyJAZQkTNYjw",
        "colab": {
          "base_uri": "https://localhost:8080/",
          "height": 1000
        }
      },
      "source": [
        "%%R\n",
        "# MemoryError: Unable to allocate 157. GiB for an array with shape (145348, 145348) and data type float64\n",
        "WW = tcrossprod(W)"
      ],
      "execution_count": 0,
      "outputs": [
        {
          "output_type": "error",
          "ename": "MemoryError",
          "evalue": "Unable to allocate 157. GiB for an array with shape (145348, 145348) and data type float64",
          "traceback": [
            "\u001b[0;31m---------------------------------------------------------------------------\u001b[0m",
            "\u001b[0;31mMemoryError\u001b[0m                               Traceback (most recent call last)",
            "\u001b[0;32m<ipython-input-25-41334e713f32>\u001b[0m in \u001b[0;36m<module>\u001b[0;34m\u001b[0m\n\u001b[0;32m----> 1\u001b[0;31m \u001b[0mget_ipython\u001b[0m\u001b[0;34m(\u001b[0m\u001b[0;34m)\u001b[0m\u001b[0;34m.\u001b[0m\u001b[0mrun_cell_magic\u001b[0m\u001b[0;34m(\u001b[0m\u001b[0;34m'R'\u001b[0m\u001b[0;34m,\u001b[0m \u001b[0;34m''\u001b[0m\u001b[0;34m,\u001b[0m \u001b[0;34m'WW = tcrossprod(W)\\n'\u001b[0m\u001b[0;34m)\u001b[0m\u001b[0;34m\u001b[0m\u001b[0;34m\u001b[0m\u001b[0m\n\u001b[0m",
            "\u001b[0;32m/opt/conda/lib/python3.7/site-packages/IPython/core/interactiveshell.py\u001b[0m in \u001b[0;36mrun_cell_magic\u001b[0;34m(self, magic_name, line, cell)\u001b[0m\n\u001b[1;32m   2360\u001b[0m             \u001b[0;32mwith\u001b[0m \u001b[0mself\u001b[0m\u001b[0;34m.\u001b[0m\u001b[0mbuiltin_trap\u001b[0m\u001b[0;34m:\u001b[0m\u001b[0;34m\u001b[0m\u001b[0;34m\u001b[0m\u001b[0m\n\u001b[1;32m   2361\u001b[0m                 \u001b[0margs\u001b[0m \u001b[0;34m=\u001b[0m \u001b[0;34m(\u001b[0m\u001b[0mmagic_arg_s\u001b[0m\u001b[0;34m,\u001b[0m \u001b[0mcell\u001b[0m\u001b[0;34m)\u001b[0m\u001b[0;34m\u001b[0m\u001b[0;34m\u001b[0m\u001b[0m\n\u001b[0;32m-> 2362\u001b[0;31m                 \u001b[0mresult\u001b[0m \u001b[0;34m=\u001b[0m \u001b[0mfn\u001b[0m\u001b[0;34m(\u001b[0m\u001b[0;34m*\u001b[0m\u001b[0margs\u001b[0m\u001b[0;34m,\u001b[0m \u001b[0;34m**\u001b[0m\u001b[0mkwargs\u001b[0m\u001b[0;34m)\u001b[0m\u001b[0;34m\u001b[0m\u001b[0;34m\u001b[0m\u001b[0m\n\u001b[0m\u001b[1;32m   2363\u001b[0m             \u001b[0;32mreturn\u001b[0m \u001b[0mresult\u001b[0m\u001b[0;34m\u001b[0m\u001b[0;34m\u001b[0m\u001b[0m\n\u001b[1;32m   2364\u001b[0m \u001b[0;34m\u001b[0m\u001b[0m\n",
            "\u001b[0;32m<decorator-gen-132>\u001b[0m in \u001b[0;36mR\u001b[0;34m(self, line, cell, local_ns)\u001b[0m\n",
            "\u001b[0;32m/opt/conda/lib/python3.7/site-packages/IPython/core/magic.py\u001b[0m in \u001b[0;36m<lambda>\u001b[0;34m(f, *a, **k)\u001b[0m\n\u001b[1;32m    185\u001b[0m     \u001b[0;31m# but it's overkill for just that one bit of state.\u001b[0m\u001b[0;34m\u001b[0m\u001b[0;34m\u001b[0m\u001b[0;34m\u001b[0m\u001b[0m\n\u001b[1;32m    186\u001b[0m     \u001b[0;32mdef\u001b[0m \u001b[0mmagic_deco\u001b[0m\u001b[0;34m(\u001b[0m\u001b[0marg\u001b[0m\u001b[0;34m)\u001b[0m\u001b[0;34m:\u001b[0m\u001b[0;34m\u001b[0m\u001b[0;34m\u001b[0m\u001b[0m\n\u001b[0;32m--> 187\u001b[0;31m         \u001b[0mcall\u001b[0m \u001b[0;34m=\u001b[0m \u001b[0;32mlambda\u001b[0m \u001b[0mf\u001b[0m\u001b[0;34m,\u001b[0m \u001b[0;34m*\u001b[0m\u001b[0ma\u001b[0m\u001b[0;34m,\u001b[0m \u001b[0;34m**\u001b[0m\u001b[0mk\u001b[0m\u001b[0;34m:\u001b[0m \u001b[0mf\u001b[0m\u001b[0;34m(\u001b[0m\u001b[0;34m*\u001b[0m\u001b[0ma\u001b[0m\u001b[0;34m,\u001b[0m \u001b[0;34m**\u001b[0m\u001b[0mk\u001b[0m\u001b[0;34m)\u001b[0m\u001b[0;34m\u001b[0m\u001b[0;34m\u001b[0m\u001b[0m\n\u001b[0m\u001b[1;32m    188\u001b[0m \u001b[0;34m\u001b[0m\u001b[0m\n\u001b[1;32m    189\u001b[0m         \u001b[0;32mif\u001b[0m \u001b[0mcallable\u001b[0m\u001b[0;34m(\u001b[0m\u001b[0marg\u001b[0m\u001b[0;34m)\u001b[0m\u001b[0;34m:\u001b[0m\u001b[0;34m\u001b[0m\u001b[0;34m\u001b[0m\u001b[0m\n",
            "\u001b[0;32m/opt/conda/lib/python3.7/site-packages/rpy2/ipython/rmagic.py\u001b[0m in \u001b[0;36mR\u001b[0;34m(self, line, cell, local_ns)\u001b[0m\n\u001b[1;32m    736\u001b[0m                     \u001b[0mreturn_output\u001b[0m \u001b[0;34m=\u001b[0m \u001b[0;32mFalse\u001b[0m\u001b[0;34m\u001b[0m\u001b[0;34m\u001b[0m\u001b[0m\n\u001b[1;32m    737\u001b[0m             \u001b[0;32melse\u001b[0m\u001b[0;34m:\u001b[0m\u001b[0;34m\u001b[0m\u001b[0;34m\u001b[0m\u001b[0m\n\u001b[0;32m--> 738\u001b[0;31m                 \u001b[0mtext_result\u001b[0m\u001b[0;34m,\u001b[0m \u001b[0mresult\u001b[0m\u001b[0;34m,\u001b[0m \u001b[0mvisible\u001b[0m \u001b[0;34m=\u001b[0m \u001b[0mself\u001b[0m\u001b[0;34m.\u001b[0m\u001b[0meval\u001b[0m\u001b[0;34m(\u001b[0m\u001b[0mcode\u001b[0m\u001b[0;34m)\u001b[0m\u001b[0;34m\u001b[0m\u001b[0;34m\u001b[0m\u001b[0m\n\u001b[0m\u001b[1;32m    739\u001b[0m                 \u001b[0mtext_output\u001b[0m \u001b[0;34m+=\u001b[0m \u001b[0mtext_result\u001b[0m\u001b[0;34m\u001b[0m\u001b[0;34m\u001b[0m\u001b[0m\n\u001b[1;32m    740\u001b[0m                 \u001b[0;32mif\u001b[0m \u001b[0mvisible\u001b[0m\u001b[0;34m:\u001b[0m\u001b[0;34m\u001b[0m\u001b[0;34m\u001b[0m\u001b[0m\n",
            "\u001b[0;32m/opt/conda/lib/python3.7/site-packages/rpy2/ipython/rmagic.py\u001b[0m in \u001b[0;36meval\u001b[0;34m(self, code)\u001b[0m\n\u001b[1;32m    262\u001b[0m             \u001b[0;32mtry\u001b[0m\u001b[0;34m:\u001b[0m\u001b[0;34m\u001b[0m\u001b[0;34m\u001b[0m\u001b[0m\n\u001b[1;32m    263\u001b[0m                 \u001b[0;31m# Need the newline in case the last line in code is a comment.\u001b[0m\u001b[0;34m\u001b[0m\u001b[0;34m\u001b[0m\u001b[0;34m\u001b[0m\u001b[0m\n\u001b[0;32m--> 264\u001b[0;31m                 \u001b[0mvalue\u001b[0m\u001b[0;34m,\u001b[0m \u001b[0mvisible\u001b[0m \u001b[0;34m=\u001b[0m \u001b[0mro\u001b[0m\u001b[0;34m.\u001b[0m\u001b[0mr\u001b[0m\u001b[0;34m(\u001b[0m\u001b[0;34m\"withVisible({%s\\n})\"\u001b[0m \u001b[0;34m%\u001b[0m \u001b[0mcode\u001b[0m\u001b[0;34m)\u001b[0m\u001b[0;34m\u001b[0m\u001b[0;34m\u001b[0m\u001b[0m\n\u001b[0m\u001b[1;32m    265\u001b[0m             \u001b[0;32mexcept\u001b[0m \u001b[0;34m(\u001b[0m\u001b[0mri\u001b[0m\u001b[0;34m.\u001b[0m\u001b[0membedded\u001b[0m\u001b[0;34m.\u001b[0m\u001b[0mRRuntimeError\u001b[0m\u001b[0;34m,\u001b[0m \u001b[0mValueError\u001b[0m\u001b[0;34m)\u001b[0m \u001b[0;32mas\u001b[0m \u001b[0mexception\u001b[0m\u001b[0;34m:\u001b[0m\u001b[0;34m\u001b[0m\u001b[0;34m\u001b[0m\u001b[0m\n\u001b[1;32m    266\u001b[0m                 \u001b[0;31m# Otherwise next return seems to have copy of error.\u001b[0m\u001b[0;34m\u001b[0m\u001b[0;34m\u001b[0m\u001b[0;34m\u001b[0m\u001b[0m\n",
            "\u001b[0;32m/opt/conda/lib/python3.7/site-packages/rpy2/robjects/vectors.py\u001b[0m in \u001b[0;36m__getitem__\u001b[0;34m(self, i)\u001b[0m\n\u001b[1;32m    265\u001b[0m \u001b[0;34m\u001b[0m\u001b[0m\n\u001b[1;32m    266\u001b[0m         \u001b[0;32mif\u001b[0m \u001b[0misinstance\u001b[0m\u001b[0;34m(\u001b[0m\u001b[0mres\u001b[0m\u001b[0;34m,\u001b[0m \u001b[0mSexp\u001b[0m\u001b[0;34m)\u001b[0m\u001b[0;34m:\u001b[0m\u001b[0;34m\u001b[0m\u001b[0;34m\u001b[0m\u001b[0m\n\u001b[0;32m--> 267\u001b[0;31m             \u001b[0mres\u001b[0m \u001b[0;34m=\u001b[0m \u001b[0mconversion\u001b[0m\u001b[0;34m.\u001b[0m\u001b[0mrpy2py\u001b[0m\u001b[0;34m(\u001b[0m\u001b[0mres\u001b[0m\u001b[0;34m)\u001b[0m\u001b[0;34m\u001b[0m\u001b[0;34m\u001b[0m\u001b[0m\n\u001b[0m\u001b[1;32m    268\u001b[0m         \u001b[0;32mreturn\u001b[0m \u001b[0mres\u001b[0m\u001b[0;34m\u001b[0m\u001b[0;34m\u001b[0m\u001b[0m\n\u001b[1;32m    269\u001b[0m \u001b[0;34m\u001b[0m\u001b[0m\n",
            "\u001b[0;32m/opt/conda/lib/python3.7/functools.py\u001b[0m in \u001b[0;36mwrapper\u001b[0;34m(*args, **kw)\u001b[0m\n\u001b[1;32m    838\u001b[0m                             '1 positional argument')\n\u001b[1;32m    839\u001b[0m \u001b[0;34m\u001b[0m\u001b[0m\n\u001b[0;32m--> 840\u001b[0;31m         \u001b[0;32mreturn\u001b[0m \u001b[0mdispatch\u001b[0m\u001b[0;34m(\u001b[0m\u001b[0margs\u001b[0m\u001b[0;34m[\u001b[0m\u001b[0;36m0\u001b[0m\u001b[0;34m]\u001b[0m\u001b[0;34m.\u001b[0m\u001b[0m__class__\u001b[0m\u001b[0;34m)\u001b[0m\u001b[0;34m(\u001b[0m\u001b[0;34m*\u001b[0m\u001b[0margs\u001b[0m\u001b[0;34m,\u001b[0m \u001b[0;34m**\u001b[0m\u001b[0mkw\u001b[0m\u001b[0;34m)\u001b[0m\u001b[0;34m\u001b[0m\u001b[0;34m\u001b[0m\u001b[0m\n\u001b[0m\u001b[1;32m    841\u001b[0m \u001b[0;34m\u001b[0m\u001b[0m\n\u001b[1;32m    842\u001b[0m     \u001b[0mfuncname\u001b[0m \u001b[0;34m=\u001b[0m \u001b[0mgetattr\u001b[0m\u001b[0;34m(\u001b[0m\u001b[0mfunc\u001b[0m\u001b[0;34m,\u001b[0m \u001b[0;34m'__name__'\u001b[0m\u001b[0;34m,\u001b[0m \u001b[0;34m'singledispatch function'\u001b[0m\u001b[0;34m)\u001b[0m\u001b[0;34m\u001b[0m\u001b[0;34m\u001b[0m\u001b[0m\n",
            "\u001b[0;32m/opt/conda/lib/python3.7/site-packages/rpy2/robjects/pandas2ri.py\u001b[0m in \u001b[0;36mrpy2py_floatvector\u001b[0;34m(obj)\u001b[0m\n\u001b[1;32m    193\u001b[0m \u001b[0;34m@\u001b[0m\u001b[0mrpy2py\u001b[0m\u001b[0;34m.\u001b[0m\u001b[0mregister\u001b[0m\u001b[0;34m(\u001b[0m\u001b[0mFloatSexpVector\u001b[0m\u001b[0;34m)\u001b[0m\u001b[0;34m\u001b[0m\u001b[0;34m\u001b[0m\u001b[0m\n\u001b[1;32m    194\u001b[0m \u001b[0;32mdef\u001b[0m \u001b[0mrpy2py_floatvector\u001b[0m\u001b[0;34m(\u001b[0m\u001b[0mobj\u001b[0m\u001b[0;34m)\u001b[0m\u001b[0;34m:\u001b[0m\u001b[0;34m\u001b[0m\u001b[0;34m\u001b[0m\u001b[0m\n\u001b[0;32m--> 195\u001b[0;31m     \u001b[0;32mreturn\u001b[0m \u001b[0mnumpy2ri\u001b[0m\u001b[0;34m.\u001b[0m\u001b[0mrpy2py\u001b[0m\u001b[0;34m(\u001b[0m\u001b[0mobj\u001b[0m\u001b[0;34m)\u001b[0m\u001b[0;34m\u001b[0m\u001b[0;34m\u001b[0m\u001b[0m\n\u001b[0m\u001b[1;32m    196\u001b[0m \u001b[0;34m\u001b[0m\u001b[0m\n\u001b[1;32m    197\u001b[0m \u001b[0;34m\u001b[0m\u001b[0m\n",
            "\u001b[0;32m/opt/conda/lib/python3.7/functools.py\u001b[0m in \u001b[0;36mwrapper\u001b[0;34m(*args, **kw)\u001b[0m\n\u001b[1;32m    838\u001b[0m                             '1 positional argument')\n\u001b[1;32m    839\u001b[0m \u001b[0;34m\u001b[0m\u001b[0m\n\u001b[0;32m--> 840\u001b[0;31m         \u001b[0;32mreturn\u001b[0m \u001b[0mdispatch\u001b[0m\u001b[0;34m(\u001b[0m\u001b[0margs\u001b[0m\u001b[0;34m[\u001b[0m\u001b[0;36m0\u001b[0m\u001b[0;34m]\u001b[0m\u001b[0;34m.\u001b[0m\u001b[0m__class__\u001b[0m\u001b[0;34m)\u001b[0m\u001b[0;34m(\u001b[0m\u001b[0;34m*\u001b[0m\u001b[0margs\u001b[0m\u001b[0;34m,\u001b[0m \u001b[0;34m**\u001b[0m\u001b[0mkw\u001b[0m\u001b[0;34m)\u001b[0m\u001b[0;34m\u001b[0m\u001b[0;34m\u001b[0m\u001b[0m\n\u001b[0m\u001b[1;32m    841\u001b[0m \u001b[0;34m\u001b[0m\u001b[0m\n\u001b[1;32m    842\u001b[0m     \u001b[0mfuncname\u001b[0m \u001b[0;34m=\u001b[0m \u001b[0mgetattr\u001b[0m\u001b[0;34m(\u001b[0m\u001b[0mfunc\u001b[0m\u001b[0;34m,\u001b[0m \u001b[0;34m'__name__'\u001b[0m\u001b[0;34m,\u001b[0m \u001b[0;34m'singledispatch function'\u001b[0m\u001b[0;34m)\u001b[0m\u001b[0;34m\u001b[0m\u001b[0;34m\u001b[0m\u001b[0m\n",
            "\u001b[0;32m/opt/conda/lib/python3.7/site-packages/rpy2/robjects/numpy2ri.py\u001b[0m in \u001b[0;36mrpy2py_sexp\u001b[0;34m(obj)\u001b[0m\n\u001b[1;32m    170\u001b[0m \u001b[0;32mdef\u001b[0m \u001b[0mrpy2py_sexp\u001b[0m\u001b[0;34m(\u001b[0m\u001b[0mobj\u001b[0m\u001b[0;34m)\u001b[0m\u001b[0;34m:\u001b[0m\u001b[0;34m\u001b[0m\u001b[0;34m\u001b[0m\u001b[0m\n\u001b[1;32m    171\u001b[0m     \u001b[0;32mif\u001b[0m \u001b[0;34m(\u001b[0m\u001b[0mobj\u001b[0m\u001b[0;34m.\u001b[0m\u001b[0mtypeof\u001b[0m \u001b[0;32min\u001b[0m \u001b[0m_vectortypes\u001b[0m\u001b[0;34m)\u001b[0m \u001b[0;32mand\u001b[0m \u001b[0;34m(\u001b[0m\u001b[0mobj\u001b[0m\u001b[0;34m.\u001b[0m\u001b[0mtypeof\u001b[0m \u001b[0;34m!=\u001b[0m \u001b[0mRTYPES\u001b[0m\u001b[0;34m.\u001b[0m\u001b[0mVECSXP\u001b[0m\u001b[0;34m)\u001b[0m\u001b[0;34m:\u001b[0m\u001b[0;34m\u001b[0m\u001b[0;34m\u001b[0m\u001b[0m\n\u001b[0;32m--> 172\u001b[0;31m         \u001b[0mres\u001b[0m \u001b[0;34m=\u001b[0m \u001b[0mnumpy\u001b[0m\u001b[0;34m.\u001b[0m\u001b[0marray\u001b[0m\u001b[0;34m(\u001b[0m\u001b[0mobj\u001b[0m\u001b[0;34m)\u001b[0m\u001b[0;34m\u001b[0m\u001b[0;34m\u001b[0m\u001b[0m\n\u001b[0m\u001b[1;32m    173\u001b[0m     \u001b[0;32melse\u001b[0m\u001b[0;34m:\u001b[0m\u001b[0;34m\u001b[0m\u001b[0;34m\u001b[0m\u001b[0m\n\u001b[1;32m    174\u001b[0m         \u001b[0mres\u001b[0m \u001b[0;34m=\u001b[0m \u001b[0mro\u001b[0m\u001b[0;34m.\u001b[0m\u001b[0mdefault_converter\u001b[0m\u001b[0;34m.\u001b[0m\u001b[0mrpy2py\u001b[0m\u001b[0;34m(\u001b[0m\u001b[0mobj\u001b[0m\u001b[0;34m)\u001b[0m\u001b[0;34m\u001b[0m\u001b[0;34m\u001b[0m\u001b[0m\n",
            "\u001b[0;31mMemoryError\u001b[0m: Unable to allocate 157. GiB for an array with shape (145348, 145348) and data type float64"
          ]
        }
      ]
    },
    {
      "cell_type": "code",
      "metadata": {
        "id": "8aFlhT5ANYjz",
        "colab_type": "code",
        "colab": {},
        "outputId": "a45c0458-10cd-416d-f35c-e6da5db36582"
      },
      "source": [
        "values = psutil.virtual_memory()\n",
        "avail = values.available >> 30\n",
        "avail"
      ],
      "execution_count": 0,
      "outputs": [
        {
          "output_type": "execute_result",
          "data": {
            "text/plain": [
              "82"
            ]
          },
          "metadata": {
            "tags": []
          },
          "execution_count": 26
        }
      ]
    },
    {
      "cell_type": "code",
      "metadata": {
        "id": "YG4Av-E0NYj3",
        "colab_type": "code",
        "colab": {}
      },
      "source": [
        "%%R\n",
        "remove(W, Z_star)"
      ],
      "execution_count": 0,
      "outputs": []
    },
    {
      "cell_type": "code",
      "metadata": {
        "colab_type": "code",
        "outputId": "e7cd5288-e278-47dc-d7fb-56a6bd5d8598",
        "id": "0Nzb8bbQNYj_",
        "colab": {
          "base_uri": "https://localhost:8080/",
          "height": 1000
        }
      },
      "source": [
        "%%R\n",
        "K = ZAZ*WW\n",
        "diag(K) = diag(K)+1/200 \n",
        "K = K/mean(diag(K))\n",
        "L2 = t(chol(K))"
      ],
      "execution_count": 0,
      "outputs": [
        {
          "output_type": "stream",
          "text": [
            "R[write to console]: Error: cannot allocate vector of size 157.4 Gb\n",
            "\n",
            "R[write to console]: In addition: \n",
            "R[write to console]: Warning message:\n",
            "\n",
            "R[write to console]: In Unique_GID != GID_missing :\n",
            "R[write to console]: \n",
            " \n",
            "R[write to console]:  longer object length is not a multiple of shorter object length\n",
            "\n"
          ],
          "name": "stderr"
        },
        {
          "output_type": "stream",
          "text": [
            "\n",
            "Error: cannot allocate vector of size 157.4 Gb\n"
          ],
          "name": "stdout"
        }
      ]
    },
    {
      "cell_type": "code",
      "metadata": {
        "colab_type": "code",
        "id": "_E8ZqJ7Db10M",
        "colab": {}
      },
      "source": [
        "%%capture\n",
        "%%R\n",
        "\n",
        "ETA = list(ENV=list(X=ZE,model='BRR'),\n",
        "           PED=list(X=ZL,model='BRR'),\n",
        "           EC=list(X=W,model='BRR'),\n",
        "           AxW=list(X=L2,model='BRR'))\n",
        "\n",
        "fm4 = BGLR(y=y_train,ETA=ETA, saveAt='M4_',nIter=500,burnIn=200)"
      ],
      "execution_count": 0,
      "outputs": []
    },
    {
      "cell_type": "code",
      "metadata": {
        "colab_type": "code",
        "id": "UYepS4pEWXV7",
        "colab": {}
      },
      "source": [
        "predictions_4 = fm4$yHat[-training.samples]\n",
        "print(data.frame( R2_4 = R2(predictions_4, test_values),\n",
        "            RMSE_4 = RMSE(predictions_4, test_values),\n",
        "            MAE_4 = MAE(predictions_4, test_values)))\n",
        "\n",
        "plot(test_values,predictions_4)"
      ],
      "execution_count": 0,
      "outputs": []
    },
    {
      "cell_type": "code",
      "metadata": {
        "colab_type": "code",
        "id": "4i39cfqoWXV-",
        "colab": {}
      },
      "source": [
        "%%R\n",
        "# Fitting Model 5 (Main Environment-Pedigree-Environmental Covariate Effects \n",
        "# with Pedigree-Environmental Covariate Interaction and Pedigree-Environment Main Effects)\n",
        "# (EAW-AxW-AxE)\n",
        "\n",
        "ZZ = tcrossprod(ZE)\n",
        "K = ZZ* ZAZ\n",
        "diag(K) = diag(K)+1/200 \n",
        "K = K/mean(diag(K))\n",
        "L3 = t(chol(K))"
      ],
      "execution_count": 0,
      "outputs": []
    },
    {
      "cell_type": "code",
      "metadata": {
        "colab_type": "code",
        "id": "N9jm1bQZNYkK",
        "colab": {}
      },
      "source": [
        "%%capture\n",
        "%%R\n",
        "\n",
        "ETA = list(ENV=list(X=ZE,model='BRR'),\n",
        "           PED=list(X=ZL,model='BRR'),\n",
        "           EC=list(X=W,model='BRR'),\n",
        "           AxW=list(X=L2,model='BRR'),\n",
        "           AxE=list(X=L3,model='BRR'))\n",
        "\n",
        "fm5 = BGLR(y=y_train,ETA=ETA, saveAt='M5_',nIter=500,burnIn=200)"
      ],
      "execution_count": 0,
      "outputs": []
    },
    {
      "cell_type": "code",
      "metadata": {
        "colab_type": "code",
        "id": "szC8mKraWXWC",
        "colab": {}
      },
      "source": [
        "%%R\n",
        "predictions_5 = fm5$yHat[-training.samples]\n",
        "\n",
        "model5_results =data.frame( R2_5 = R2(predictions_5, test_values),\n",
        "            RMSE_5 = RMSE(predictions_5, test_values),\n",
        "            MAE_5 = MAE(predictions_5, test_values))\n",
        "\n",
        "print(model5_results)\n",
        "\n",
        "plot(test_values,predictions_5)"
      ],
      "execution_count": 0,
      "outputs": []
    }
  ]
}