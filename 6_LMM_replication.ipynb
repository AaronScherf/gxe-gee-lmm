{
  "nbformat": 4,
  "nbformat_minor": 0,
  "metadata": {
    "colab": {
      "name": "6_LMM_replication.ipynb",
      "provenance": [],
      "collapsed_sections": [
        "AsalBflTF0hr"
      ],
      "toc_visible": true
    },
    "kernelspec": {
      "name": "python3",
      "display_name": "Python 3"
    },
    "accelerator": "GPU"
  },
  "cells": [
    {
      "cell_type": "markdown",
      "metadata": {
        "id": "a-6HQBaiXtWG",
        "colab_type": "text"
      },
      "source": [
        "# Predicting Grain Yields with a Pedigree-Based Reaction Norm GxE Model using the BGLR Package in R"
      ]
    },
    {
      "cell_type": "markdown",
      "metadata": {
        "id": "1kajA1zLX1KR",
        "colab_type": "text"
      },
      "source": [
        "From A Pedigree-Based Reaction Norm Model for Prediction of Cotton Yield in Multienvironment Trials\n",
        "\n",
        "https://dl.sciencesocieties.org/publications/cs/abstracts/55/3/1143?access=0&view=pdf"
      ]
    },
    {
      "cell_type": "markdown",
      "metadata": {
        "id": "tePeiYjSXn-r",
        "colab_type": "text"
      },
      "source": [
        "## Install Necessary Packages and Mount Drive"
      ]
    },
    {
      "cell_type": "code",
      "metadata": {
        "id": "TVZumoPImSNG",
        "colab_type": "code",
        "colab": {}
      },
      "source": [
        "# To host on a local runtime:\n",
        "# Run the following from the command line or miniconda shell on your local machine:\n",
        "\n",
        "# pip install jupyter_http_over_ws\n",
        "# jupyter serverextension enable --py jupyter_http_over_ws\n",
        "\n",
        "# conda create -n gxe_gee python=3.7 ipykernel jupyter anaconda\n",
        "# conda activate gxe_gee\n",
        "# ipython kernel install --name gxe_gee --user\n",
        "\n",
        "# jupyter notebook \\ --NotebookApp.allow_origin='https://colab.research.google.com' \\ --port=8888 \\ --NotebookApp.port_retries=0\n",
        "jupyter notebook  --NotebookApp.allow_origin='https://colab.research.google.com'  --port=8888  --NotebookApp.port_retries=0\n"
      ],
      "execution_count": 0,
      "outputs": []
    },
    {
      "cell_type": "code",
      "metadata": {
        "id": "pQ8487lMr3-d",
        "colab_type": "code",
        "outputId": "0f10b0b9-1057-4c2a-8872-c0991c6b60e8",
        "colab": {
          "base_uri": "https://localhost:8080/",
          "height": 34
        }
      },
      "source": [
        "# Installing rpy2 package through Python to run R code\n",
        "\n",
        "#!pip install rpy2\n",
        "\n",
        "# If pip install doesn't work, try:\n",
        "\n",
        "# !conda install -c r rpy2\n",
        "\n",
        "# If the conda install line doesn't work, or if you have issues on your locally hosted runtime, try the following:\n",
        "# https://anaconda.zendesk.com/hc/en-us/articles/360023857134-Setting-up-rpy2-on-Windows\n"
      ],
      "execution_count": 0,
      "outputs": [
        {
          "output_type": "stream",
          "text": [
            "^C\n"
          ],
          "name": "stdout"
        }
      ]
    },
    {
      "cell_type": "code",
      "metadata": {
        "id": "QbzqEvaOmoLL",
        "colab_type": "code",
        "outputId": "3106c495-c03b-4033-daed-682b3773f86c",
        "colab": {
          "base_uri": "https://localhost:8080/",
          "height": 87
        }
      },
      "source": [
        "!pip install tzlocal\n",
        "!pip install simplegeneric"
      ],
      "execution_count": 0,
      "outputs": [
        {
          "output_type": "stream",
          "text": [
            "Requirement already satisfied: tzlocal in c:\\users\\theaa\\miniconda3\\envs\\gxe_gee\\lib\\site-packages (2.0.0)\n",
            "Requirement already satisfied: pytz in c:\\users\\theaa\\miniconda3\\envs\\gxe_gee\\lib\\site-packages (from tzlocal) (2019.3)\n",
            "Requirement already satisfied: simplegeneric in c:\\users\\theaa\\miniconda3\\envs\\gxe_gee\\lib\\site-packages (0.8.1)\n"
          ],
          "name": "stdout"
        }
      ]
    },
    {
      "cell_type": "code",
      "metadata": {
        "id": "z3KP37uakC_w",
        "colab_type": "code",
        "colab": {}
      },
      "source": [
        "# import necessary libraries in Python\n",
        "import pandas as pd\n",
        "import numpy as np\n",
        "import os"
      ],
      "execution_count": 0,
      "outputs": []
    },
    {
      "cell_type": "code",
      "metadata": {
        "id": "CkpvH8E9s8Uq",
        "colab_type": "code",
        "outputId": "0b0c4878-3d61-4fe9-ed45-394afb72373a",
        "colab": {
          "base_uri": "https://localhost:8080/",
          "height": 70
        }
      },
      "source": [
        "# activate R magic\n",
        "%load_ext rpy2.ipython"
      ],
      "execution_count": 0,
      "outputs": [
        {
          "output_type": "stream",
          "text": [
            "C:\\Users\\theaa\\miniconda3\\envs\\gxe_gee\\lib\\site-packages\\rpy2\\robjects\\pandas2ri.py:17: FutureWarning: pandas.core.index is deprecated and will be removed in a future version.  The public classes are available in the top-level namespace.\n",
            "  from pandas.core.index import Index as PandasIndex\n"
          ],
          "name": "stderr"
        }
      ]
    },
    {
      "cell_type": "code",
      "metadata": {
        "id": "BPQbzAmAs-9x",
        "colab_type": "code",
        "outputId": "79b5afd8-d7cf-43b0-c4e6-278c0fe5761b",
        "colab": {
          "base_uri": "https://localhost:8080/",
          "height": 34
        }
      },
      "source": [
        "import rpy2\n",
        "import rpy2.robjects as ro\n",
        "from rpy2.robjects.packages import importr\n",
        "from rpy2.robjects import pandas2ri\n",
        "from rpy2.robjects.conversion import localconverter\n",
        "\n",
        "# import R's \"base\" package\n",
        "base = importr('base')\n",
        "\n",
        "# import rpy2's package module\n",
        "import rpy2.robjects.packages as rpackages\n",
        "\n",
        "# import R's utility package\n",
        "utils = rpackages.importr('utils')\n",
        "\n",
        "# select a mirror for R packages\n",
        "utils.chooseCRANmirror(ind=1) # select the first mirror in the list"
      ],
      "execution_count": 0,
      "outputs": [
        {
          "output_type": "execute_result",
          "data": {
            "text/plain": [
              "rpy2.rinterface.NULL"
            ]
          },
          "metadata": {
            "tags": []
          },
          "execution_count": 3
        }
      ]
    },
    {
      "cell_type": "code",
      "metadata": {
        "id": "XcJL36uwtBFD",
        "colab_type": "code",
        "colab": {}
      },
      "source": [
        "# Import the pandas2ri functions and activate\n",
        "from rpy2.robjects import pandas2ri\n",
        "pandas2ri.activate()"
      ],
      "execution_count": 0,
      "outputs": []
    },
    {
      "cell_type": "code",
      "metadata": {
        "id": "eq9UlYsMtGRJ",
        "colab_type": "code",
        "colab": {}
      },
      "source": [
        "%%R # Install other R Packages\n",
        "# May result in RunTimeWarnings, these can be ignored\n",
        "install.packages('ggplot2')\n",
        "install.packages('pedigreemm')\n",
        "install.packages('dplyr')\n",
        "install.packages('tidyverse')\n",
        "install.packages('caret')\n",
        "install.packages(\"mice\")\n",
        "install.packages(\"VIM\")\n",
        "install.packages('BGLR')"
      ],
      "execution_count": 0,
      "outputs": []
    },
    {
      "cell_type": "code",
      "metadata": {
        "id": "hlig2r4stNgf",
        "colab_type": "code",
        "colab": {}
      },
      "source": [
        "%%R \n",
        "require(\"ggplot2\")\n",
        "require(\"pedigreemm\")\n",
        "require(\"dplyr\")\n",
        "require('BGLR')\n",
        "require('tidyverse')\n",
        "require('caret')\n",
        "require('mice')\n",
        "require('VIM')"
      ],
      "execution_count": 0,
      "outputs": []
    },
    {
      "cell_type": "code",
      "metadata": {
        "id": "yB1UmC8JtQHI",
        "colab_type": "code",
        "outputId": "37b1d7ad-16ef-4333-e47a-990b2c374f43",
        "colab": {
          "base_uri": "https://localhost:8080/",
          "height": 54
        }
      },
      "source": [
        "# Mount the Colab notebook in Google Drive\n",
        "# Only if running from a hosted runtime in Colab, ignore if running locally\n",
        "\n",
        "from google.colab import drive # import drive from google colab\n",
        "\n",
        "drive.mount(\"/content/drive\")  # mount the google drive at /content/drive"
      ],
      "execution_count": 0,
      "outputs": [
        {
          "output_type": "stream",
          "text": [
            "Drive already mounted at /content/drive; to attempt to forcibly remount, call drive.mount(\"/content/drive\", force_remount=True).\n"
          ],
          "name": "stdout"
        }
      ]
    },
    {
      "cell_type": "code",
      "metadata": {
        "id": "gl6uub3ctT5w",
        "colab_type": "code",
        "outputId": "0d3b545c-1727-4e1f-f31b-67dcf4f8004a",
        "colab": {
          "base_uri": "https://localhost:8080/",
          "height": 34
        }
      },
      "source": [
        "# Search for the root directory of the project in Drive and save as a path string\n",
        "\n",
        "parent_dir_name = 'GxE with GEE'\n",
        "\n",
        "for dirpath, subdirs, files in os.walk('/content'):\n",
        "  if parent_dir_name in subdirs:\n",
        "    parent_path = dirpath + \"/\" + parent_dir_name\n",
        "\n",
        "parent_path"
      ],
      "execution_count": 0,
      "outputs": [
        {
          "output_type": "execute_result",
          "data": {
            "text/plain": [
              "'/content/drive/My Drive/Research/GxE with GEE'"
            ]
          },
          "metadata": {
            "tags": []
          },
          "execution_count": 27
        }
      ]
    },
    {
      "cell_type": "code",
      "metadata": {
        "id": "6h3IIAS_tV6a",
        "colab_type": "code",
        "outputId": "22d6cda1-1e05-411b-c4e6-d64a8810ff4a",
        "colab": {
          "base_uri": "https://localhost:8080/",
          "height": 34
        }
      },
      "source": [
        "# Set Data Path\n",
        "## Change the destination to your Drive directory containing the folder 'raw_data.zip'\n",
        "data_path_end = '/Colab Workspace/Data'\n",
        "data_path = parent_path + data_path_end\n",
        "os.chdir(data_path)\n",
        "os.getcwd()"
      ],
      "execution_count": 0,
      "outputs": [
        {
          "output_type": "execute_result",
          "data": {
            "text/plain": [
              "'/content/drive/My Drive/Research/GxE with GEE/Colab Workspace/Data'"
            ]
          },
          "metadata": {
            "tags": []
          },
          "execution_count": 28
        }
      ]
    },
    {
      "cell_type": "code",
      "metadata": {
        "id": "SLWiVgolryB4",
        "colab_type": "code",
        "outputId": "d6b52b42-e34d-4a78-d39c-710bb99921cc",
        "colab": {
          "base_uri": "https://localhost:8080/",
          "height": 34
        }
      },
      "source": [
        "# Locally hosted version, just set the destination manually\n",
        "\n",
        "data_path = 'C:/Users/theaa/Downloads'\n",
        "os.chdir('C:/Users/theaa/Downloads')\n",
        "os.getcwd()"
      ],
      "execution_count": 0,
      "outputs": [
        {
          "output_type": "execute_result",
          "data": {
            "text/plain": [
              "'C:\\\\Users\\\\theaa\\\\Downloads'"
            ]
          },
          "metadata": {
            "tags": []
          },
          "execution_count": 7
        }
      ]
    },
    {
      "cell_type": "code",
      "metadata": {
        "id": "KXuMH9_M-wzn",
        "colab_type": "code",
        "colab": {}
      },
      "source": [
        "%%R -i data_path\n",
        "# Import the parent_path object from Python and use to set the R working directory\n",
        " setwd(data_path)"
      ],
      "execution_count": 0,
      "outputs": []
    },
    {
      "cell_type": "code",
      "metadata": {
        "id": "RrKjdYvF-yjf",
        "colab_type": "code",
        "colab": {}
      },
      "source": [
        "%%R\n",
        "getwd()"
      ],
      "execution_count": 0,
      "outputs": []
    },
    {
      "cell_type": "markdown",
      "metadata": {
        "id": "ri0RPLCDGrYA",
        "colab_type": "text"
      },
      "source": [
        "## Processing Sample Data\n",
        "\n",
        "From A Pedigree-Based Reaction Norm Model for Prediction of Cotton Yield in Multienvironment Trials\n",
        "\n",
        "https://dl.sciencesocieties.org/publications/cs/abstracts/55/3/1143?access=0&view=pdf"
      ]
    },
    {
      "cell_type": "markdown",
      "metadata": {
        "id": "WCr7772MG4_d",
        "colab_type": "text"
      },
      "source": [
        "### Description of Data Objects\n",
        "\n",
        "* `Y`: data frame containing the elements described below;\n",
        "\n",
        "  * `Y$grain_yield` (n×1), a numeric vector with centered and standardized yield;\n",
        "\n",
        "  * `Y$VAR`  (n×1), a factor giving the IDs for the varieties;\n",
        "\n",
        "  * `Y$ENV` (n×1), a factor giving the IDs for the environments (year-location);\n",
        "\n",
        "* `A`: a symmetric positive semi-definite matrix containing the pedigree or marker-based relationships (dimensions equal to number of lines by number of lines). We assume that the `rownames(A)=colnames(A)` gives the IDs of the lines;\n",
        "\n",
        "* `W`: a matrix containing the environmental covariates (n×q).\n"
      ]
    },
    {
      "cell_type": "markdown",
      "metadata": {
        "id": "RzPcpBt8Ge0_",
        "colab_type": "text"
      },
      "source": [
        "## Processing the Entire Dataset"
      ]
    },
    {
      "cell_type": "markdown",
      "metadata": {
        "id": "2ATqD2JrR85b",
        "colab_type": "text"
      },
      "source": [
        "### Import and Process CIMMYT Data"
      ]
    },
    {
      "cell_type": "code",
      "metadata": {
        "id": "-_rT78sZSE4d",
        "colab_type": "code",
        "colab": {}
      },
      "source": [
        "data = pd.read_pickle('proc_data.pkl')\n",
        "data.columns=data.columns.str.upper()\n",
        "data.head()"
      ],
      "execution_count": 0,
      "outputs": []
    },
    {
      "cell_type": "code",
      "metadata": {
        "id": "Qzd9V_KNGhgt",
        "colab_type": "code",
        "colab": {}
      },
      "source": [
        "# Save Data from Python Environment to CSV\n",
        "data['GRAIN_YIELD'] = pd.to_numeric(data['GRAIN YIELD'],errors='coerce')\n",
        "data.drop_duplicates(subset=['UNIQUE_ID'],inplace=True)\n",
        "data.dropna(subset=['GRAIN_YIELD'],inplace=True)\n",
        "data.dropna(subset=['HARVEST_FINISHING_DATE'],inplace=True)\n",
        "data.dropna(subset=['GENO_ID'],inplace=True)\n",
        "\n",
        "data = data.astype(str)\n",
        "data.to_csv('yield_data.csv')"
      ],
      "execution_count": 0,
      "outputs": []
    },
    {
      "cell_type": "code",
      "metadata": {
        "id": "dEyNHOsLG6MP",
        "colab_type": "code",
        "outputId": "34c78227-4216-4b05-92de-fe36498948f8",
        "colab": {
          "base_uri": "https://localhost:8080/"
        }
      },
      "source": [
        "%%R\n",
        "# Import Data Objects to R Environment\n",
        "# n is number of observations\n",
        "\n",
        "data = read.csv('yield_data.csv', header = TRUE)\n",
        "data = data.frame(lapply(data, as.character), stringsAsFactors=FALSE)\n",
        "data[ data == \"nan\" ] <- NA\n",
        "data[ data == \"NaN\" ] <- NA\n",
        "data[ data == \"NaT\" ] <- NA\n",
        "row.names(data) = data$UNIQUE_ID\n",
        "\n",
        "nrow(data)"
      ],
      "execution_count": 0,
      "outputs": [
        {
          "output_type": "stream",
          "text": [
            "[1] 149529\n"
          ],
          "name": "stdout"
        }
      ]
    },
    {
      "cell_type": "code",
      "metadata": {
        "id": "9mA7jVG1HT3Z",
        "colab_type": "code",
        "colab": {}
      },
      "source": [
        "%%R\n",
        "# Import GID Numbers CSV\n",
        "GID_CID_SID = read.csv('GID_Numbers.csv')\n",
        "\n",
        "GID_CID_SID = data.frame(lapply(GID_CID_SID, as.character), stringsAsFactors=FALSE)\n",
        "GID_CID_SID[ GID_CID_SID == \"nan\" ] <- NA\n",
        "GID_CID_SID[ GID_CID_SID == \"NaN\" ] <- NA\n",
        "GID_CID_SID[ GID_CID_SID == \"NaT\" ] <- NA\n",
        "\n",
        "GID_CID_SID$GENO_ID = paste(GID_CID_SID$CID, \"_\", GID_CID_SID$SID, sep = \"\")"
      ],
      "execution_count": 0,
      "outputs": []
    },
    {
      "cell_type": "code",
      "metadata": {
        "id": "GQyyKkmcHnN0",
        "colab_type": "code",
        "outputId": "fb9f3ce0-df15-4c4b-da66-72e542a743c8",
        "colab": {
          "base_uri": "https://localhost:8080/"
        }
      },
      "source": [
        "%%R\n",
        "# Join Sample with GIDs by CID_SID\n",
        "data_merge = merge(data, GID_CID_SID, by=\"GENO_ID\", )\n",
        "data_merge = data.frame(lapply(data_merge, as.character), stringsAsFactors=FALSE)\n",
        "data_merge[ data_merge == \"nan\" ] <- NA\n",
        "data_merge[ data_merge == \"NaN\" ] <- NA\n",
        "data_merge[ data_merge == \"NaT\" ] <- NA\n",
        "row.names(data_merge) = data_merge$UNIQUE_ID\n",
        "\n",
        "nrow(data_merge)"
      ],
      "execution_count": 0,
      "outputs": [
        {
          "output_type": "stream",
          "text": [
            "[1] 145770\n"
          ],
          "name": "stdout"
        }
      ]
    },
    {
      "cell_type": "code",
      "metadata": {
        "id": "f3J9zbTLP6Nq",
        "colab_type": "code",
        "colab": {}
      },
      "source": [
        "%%R\n",
        "# Drop rows with missing data for yield, location, harvest timing\n",
        "data_merge = data_merge[!is.na(data_merge$GRAIN_YIELD),]\n",
        "data_merge = data_merge[!is.na(data_merge$LAT_COORD),]\n",
        "data_merge = data_merge[!is.na(data_merge$LONG_COORD),]\n",
        "data_merge = data_merge[!is.na(data_merge$HARVEST_FINISHING_DATE),]\n"
      ],
      "execution_count": 0,
      "outputs": []
    },
    {
      "cell_type": "code",
      "metadata": {
        "id": "ixZh4ICrQN-p",
        "colab_type": "code",
        "outputId": "36bd5f87-821f-46e2-85b9-5239b006e547",
        "colab": {
          "base_uri": "https://localhost:8080/"
        }
      },
      "source": [
        "%%R\n",
        "# Identify missing IDs\n",
        "Un_ID_missing = setdiff(rownames(data), rownames(data_merge))\n",
        "length(Un_ID_missing)"
      ],
      "execution_count": 0,
      "outputs": [
        {
          "output_type": "stream",
          "text": [
            "[1] 4002\n"
          ],
          "name": "stdout"
        }
      ]
    },
    {
      "cell_type": "markdown",
      "metadata": {
        "id": "h_ZvvdkqRvie",
        "colab_type": "text"
      },
      "source": [
        "### Import A Matrix"
      ]
    },
    {
      "cell_type": "code",
      "metadata": {
        "id": "6GT2Pj7sRxWf",
        "colab_type": "code",
        "colab": {}
      },
      "source": [
        "%%R\n",
        "# A : pedigree coefficient of parentage symmetric positive semi-definite matrix\n",
        "\n",
        "# Rdata files don't seem to open properly in the Rpy2 environment\n",
        "# Use the following commands in R to convert the Rdata to a csv\n",
        "\n",
        "# A_raw = load('A_3k.RData')\n",
        "# write.csv(A_raw, 'A_matrix.csv')\n",
        "\n",
        "A = read.csv('A_matrix.csv', row.names = 1, header = TRUE)"
      ],
      "execution_count": 0,
      "outputs": []
    },
    {
      "cell_type": "code",
      "metadata": {
        "id": "b3mWmu4PSrFi",
        "colab_type": "code",
        "outputId": "057ab3c7-a68d-4f4a-b21c-7baa73efc983",
        "colab": {
          "base_uri": "https://localhost:8080/"
        }
      },
      "source": [
        "%%R\n",
        "# Remove the X prefix from the column names\n",
        "names(A) <- substring(names(A),2)\n",
        "\n",
        "# Get a list of unique GID values from the data\n",
        "Unique_GID = c(unique(data_merge$GID))\n",
        "length(Unique_GID)\n"
      ],
      "execution_count": 0,
      "outputs": [
        {
          "output_type": "stream",
          "text": [
            "[1] 3449\n"
          ],
          "name": "stdout"
        }
      ]
    },
    {
      "cell_type": "code",
      "metadata": {
        "id": "8lBDTXA5pUaw",
        "colab_type": "code",
        "outputId": "30fb5d96-33fd-48a4-a605-d657cc343177",
        "colab": {
          "base_uri": "https://localhost:8080/"
        }
      },
      "source": [
        "%%R\n",
        "# Identify the GIDs which are present in the data but not the A matrix\n",
        "GID_missing = setdiff(Unique_GID, rownames(A))\n",
        "length(GID_missing)"
      ],
      "execution_count": 0,
      "outputs": [
        {
          "output_type": "stream",
          "text": [
            "[1] 6\n"
          ],
          "name": "stdout"
        }
      ]
    },
    {
      "cell_type": "code",
      "metadata": {
        "id": "Y76uotBMpJB0",
        "colab_type": "code",
        "outputId": "7e4821ed-775b-4a87-f462-16f436abd490",
        "colab": {
          "base_uri": "https://localhost:8080/"
        }
      },
      "source": [
        "%%R\n",
        "# Remove the missing GID from the list of unique GIDs from the data sample\n",
        "if (length(GID_missing) > 0) {\n",
        "Unique_GID = Unique_GID[Unique_GID != GID_missing]\n",
        "}  \n",
        "\n",
        "length(Unique_GID)\n"
      ],
      "execution_count": 0,
      "outputs": [
        {
          "output_type": "stream",
          "text": [
            "[1] 3446\n"
          ],
          "name": "stdout"
        }
      ]
    },
    {
      "cell_type": "code",
      "metadata": {
        "id": "L-KiJcI0pe9G",
        "colab_type": "code",
        "outputId": "d7b34aae-01b8-444b-9bf8-45d39a383e25",
        "colab": {
          "base_uri": "https://localhost:8080/"
        }
      },
      "source": [
        "%%R\n",
        "# Subset the A matrix to the list of GIDs in the data sample\n",
        "A = A[Unique_GID,Unique_GID]\n",
        "\n",
        "# Convert to a matrix\n",
        "A = as.matrix(A)\n"
      ],
      "execution_count": 0,
      "outputs": [
        {
          "output_type": "stream",
          "text": [
            "R[write to console]: Error in `[.data.frame`(A, Unique_GID, Unique_GID) : \n",
            "  undefined columns selected\n",
            "Calls: <Anonymous> -> <Anonymous> -> withVisible -> [ -> [.data.frame\n",
            "\n",
            "R[write to console]: In addition: \n",
            "R[write to console]: Warning message:\n",
            "\n",
            "R[write to console]: In Unique_GID != GID_missing :\n",
            "R[write to console]: \n",
            " \n",
            "R[write to console]:  longer object length is not a multiple of shorter object length\n",
            "\n"
          ],
          "name": "stderr"
        },
        {
          "output_type": "stream",
          "text": [
            "\n",
            "Error in `[.data.frame`(A, Unique_GID, Unique_GID) : \n",
            "  undefined columns selected\n",
            "Calls: <Anonymous> -> <Anonymous> -> withVisible -> [ -> [.data.frame\n"
          ],
          "name": "stdout"
        }
      ]
    },
    {
      "cell_type": "code",
      "metadata": {
        "id": "5hMqXxs8TAJX",
        "colab_type": "code",
        "outputId": "03f79218-d086-43dc-f534-e0b7a2bdd0a7",
        "colab": {
          "base_uri": "https://localhost:8080/"
        }
      },
      "source": [
        "%%R\n",
        "# Remove the missing GID values from the data sample\n",
        "data_merge = data_merge[ ! data_merge$GID %in% GID_missing, ]\n",
        "print(paste('The number of rows in the data sample is: ', nrow(data_merge)))\n",
        "print(paste('The number of unique varieties by GID is: ', length(unique(data_merge$GID))))"
      ],
      "execution_count": 0,
      "outputs": [
        {
          "output_type": "stream",
          "text": [
            "[1] \"The number of rows in the data sample is:  145348\"\n",
            "[1] \"The number of unique varieties by GID is:  3443\"\n"
          ],
          "name": "stdout"
        }
      ]
    },
    {
      "cell_type": "markdown",
      "metadata": {
        "id": "pH18WfkXTEOJ",
        "colab_type": "text"
      },
      "source": [
        "### Splitting into Yield and Environment Objects\n"
      ]
    },
    {
      "cell_type": "code",
      "metadata": {
        "id": "4-OA9Qx9TKo6",
        "colab_type": "code",
        "outputId": "eb6c237a-2568-4c91-be56-def50e94c606",
        "colab": {
          "base_uri": "https://localhost:8080/",
          "height": 34
        }
      },
      "source": [
        "%%R\n",
        "# Yield Vector (nx1)\n",
        "grain_yield = data_merge$GRAIN_YIELD\n",
        "grain_yield = as.numeric(grain_yield)\n",
        "grain_yield = standardize(grain_yield)\n",
        "length(grain_yield)"
      ],
      "execution_count": 0,
      "outputs": [
        {
          "output_type": "stream",
          "text": [
            "[1] 145348\n"
          ],
          "name": "stdout"
        }
      ]
    },
    {
      "cell_type": "code",
      "metadata": {
        "id": "NkB4p1UhTNmi",
        "colab_type": "code",
        "colab": {}
      },
      "source": [
        "%%R\n",
        "# Varieties (nx1)\n",
        "VAR = data_merge$GID\n",
        "VAR = as.numeric(VAR)\n"
      ],
      "execution_count": 0,
      "outputs": []
    },
    {
      "cell_type": "code",
      "metadata": {
        "id": "tQMOqkZlTRhb",
        "colab_type": "code",
        "colab": {}
      },
      "source": [
        "%%R\n",
        "# Environments, meaning location-year combinations (nx1)\n",
        "data_merge$LOC_YEAR = paste(data_merge$LAT_COORD, \"_\",\n",
        "                            data_merge$LONG_COORD, \"_\", \n",
        "                            sapply(strsplit(data_merge$HARVEST_FINISHING_DATE,\"-\"), `[`, 1)\n",
        "                            , sep = \"\")\n",
        "\n",
        "ENV = data_merge$LOC_YEAR"
      ],
      "execution_count": 0,
      "outputs": []
    },
    {
      "cell_type": "code",
      "metadata": {
        "id": "i7CV-n9KTUUw",
        "colab_type": "code",
        "outputId": "7d335605-ecc9-491a-9b6b-172392266317",
        "colab": {
          "base_uri": "https://localhost:8080/",
          "height": 151
        }
      },
      "source": [
        "%%R\n",
        "Y = data.frame(grain_yield, VAR, ENV)\n",
        "print(nrow(Y))\n",
        "head(Y)"
      ],
      "execution_count": 0,
      "outputs": [
        {
          "output_type": "stream",
          "text": [
            "[1] 145348\n",
            "  grain_yield     VAR               ENV\n",
            "1       2.065 1395073  25.18_83.03_2003\n",
            "2       5.764 1395073   36.13_59.4_2003\n",
            "3       3.697 1395073 -23.22_-51.1_2003\n",
            "4       2.993 1395073   36.5_68.55_2003\n",
            "5       0.861 1395073  30.12_67.01_2003\n",
            "6       3.435 1395073  36.38_66.56_2003\n"
          ],
          "name": "stdout"
        }
      ]
    },
    {
      "cell_type": "code",
      "metadata": {
        "id": "rhRpMK-dTnyL",
        "colab_type": "code",
        "outputId": "c284c538-d4fc-4f1f-d09e-a0f6a66f618a",
        "colab": {
          "base_uri": "https://localhost:8080/",
          "height": 319
        }
      },
      "source": [
        "%%R\n",
        "# Extract Environmental Covariates\n",
        "env_cov_list = c('ALTITUDE',\n",
        "'PPN_10TH_MO_BEFORE_HARVESTED',\n",
        "'PPN_11TH_MO_BEFORE_HARVESTED',\n",
        "'PPN_1ST_MO_BEFORE_HARVESTED',\n",
        "'PPN_2ND_MO_BEFORE_HARVESTED',\n",
        "'PPN_3RD_MO_BEFORE_HARVESTED',\n",
        "'PPN_4TH_MO_BEFORE_HARVESTED',\n",
        "'PPN_5TH_MO_BEFORE_HARVESTED',\n",
        "'PPN_6TH_MO_BEFORE_HARVESTED',\n",
        "'PPN_7TH_MO_BEFORE_HARVESTED',\n",
        "'PPN_8TH_MO_BEFORE_HARVESTED',\n",
        "'PPN_9TH_MO_BEFORE_HARVESTED',\n",
        "'PPN_MONTH_OF_HARVESTED',\n",
        "'PRECIPITATION_FROM_SOWING_TO_MATURITY',\n",
        "#'SOIL_CLASIFICATION',\n",
        "'TOTAL_PRECIPIT_IN_12_MONTHS',\n",
        "'IRRIGATED'\n",
        "#, 'PRE_SOWING_IRRIGATION'\n",
        ")\n",
        "\n",
        "W = data_merge[env_cov_list]\n",
        "W = type.convert(W)\n",
        "\n",
        "dmy = dummyVars(\" ~ .\", data = W)\n",
        "W = data.frame(predict(dmy, newdata = W))\n",
        "\n",
        "str(W)"
      ],
      "execution_count": 0,
      "outputs": [
        {
          "output_type": "stream",
          "text": [
            "'data.frame':\t145348 obs. of  17 variables:\n",
            " $ ALTITUDE                             : num  128 985 540 403 1600 ...\n",
            " $ PPN_10TH_MO_BEFORE_HARVESTED         : num  NA NA 80 NA NA NA NA 4 92 NA ...\n",
            " $ PPN_11TH_MO_BEFORE_HARVESTED         : num  NA NA 82 NA NA NA NA 12 NA NA ...\n",
            " $ PPN_1ST_MO_BEFORE_HARVESTED          : num  NA NA 48 9 NA NA 25 93 77 5 ...\n",
            " $ PPN_2ND_MO_BEFORE_HARVESTED          : num  91 40 31 53 NA NA 49 67 28 23 ...\n",
            " $ PPN_3RD_MO_BEFORE_HARVESTED          : num  10 62 57 109 NA NA 145 73 24 78 ...\n",
            " $ PPN_4TH_MO_BEFORE_HARVESTED          : num  4 35 103 43 NA NA 10 NA 22 158 ...\n",
            " $ PPN_5TH_MO_BEFORE_HARVESTED          : num  NA 30 31 27 NA NA 17 15 7 103 ...\n",
            " $ PPN_6TH_MO_BEFORE_HARVESTED          : num  NA 30 150 NA NA NA NA 7 18 50 ...\n",
            " $ PPN_7TH_MO_BEFORE_HARVESTED          : num  NA 19 286 NA NA NA NA 3 115 75 ...\n",
            " $ PPN_8TH_MO_BEFORE_HARVESTED          : num  NA 22 67 NA NA NA NA 5 259 29 ...\n",
            " $ PPN_9TH_MO_BEFORE_HARVESTED          : num  NA 1 236 NA NA NA NA 7 38 NA ...\n",
            " $ PPN_MONTH_OF_HARVESTED               : num  1 NA 49 NA NA NA NA 29 98 NA ...\n",
            " $ PRECIPITATION_FROM_SOWING_TO_MATURITY: num  106 NA 252 NA 161 NA NA NA 211 NA ...\n",
            " $ TOTAL_PRECIPIT_IN_12_MONTHS          : num  106 239 1220 241 NA NA 246 315 778 521 ...\n",
            " $ IRRIGATED.NO                         : num  0 0 0 1 0 1 1 1 1 1 ...\n",
            " $ IRRIGATED.YES                        : num  1 1 1 0 1 0 0 0 0 0 ...\n"
          ],
          "name": "stdout"
        }
      ]
    },
    {
      "cell_type": "code",
      "metadata": {
        "id": "bb9TYkjuUusL",
        "colab_type": "code",
        "outputId": "ba251706-51e7-4dd2-f37f-13368b6544c4",
        "colab": {
          "base_uri": "https://localhost:8080/",
          "height": 833
        }
      },
      "source": [
        "%%R\n",
        "# Visualize missing data using mice_plot function\n",
        "mice_plot <- aggr(W, col=c('navyblue','yellow'),\n",
        "                    numbers=TRUE, sortVars=TRUE,\n",
        "                    labels=names(W), cex.axis=.7,\n",
        "                    gap=3, ylab=c(\"Missing data\",\"Pattern\"))"
      ],
      "execution_count": 0,
      "outputs": [
        {
          "output_type": "stream",
          "text": [
            "\n",
            " Variables sorted by number of missings: \n",
            "                              Variable      Count\n",
            "          PPN_11TH_MO_BEFORE_HARVESTED 0.79423865\n",
            "          PPN_10TH_MO_BEFORE_HARVESTED 0.78170322\n",
            "           PPN_9TH_MO_BEFORE_HARVESTED 0.76278999\n",
            "                PPN_MONTH_OF_HARVESTED 0.75510499\n",
            "           PPN_8TH_MO_BEFORE_HARVESTED 0.74525277\n",
            "           PPN_7TH_MO_BEFORE_HARVESTED 0.72655970\n",
            "           PPN_6TH_MO_BEFORE_HARVESTED 0.71291659\n",
            "           PPN_1ST_MO_BEFORE_HARVESTED 0.70174340\n",
            "           PPN_5TH_MO_BEFORE_HARVESTED 0.69912899\n",
            "           PPN_4TH_MO_BEFORE_HARVESTED 0.68911853\n",
            "           PPN_2ND_MO_BEFORE_HARVESTED 0.68845117\n",
            "           PPN_3RD_MO_BEFORE_HARVESTED 0.68044968\n",
            "           TOTAL_PRECIPIT_IN_12_MONTHS 0.58679858\n",
            " PRECIPITATION_FROM_SOWING_TO_MATURITY 0.58268432\n",
            "                          IRRIGATED.NO 0.01954619\n",
            "                         IRRIGATED.YES 0.01954619\n",
            "                              ALTITUDE 0.00000000\n"
          ],
          "name": "stdout"
        },
        {
          "output_type": "display_data",
          "data": {
            "image/png": "[encoded data removed]"
          },
          "metadata": {
            "tags": []
          }
        }
      ]
    },
    {
      "cell_type": "markdown",
      "metadata": {
        "id": "WPKoN0qQVaT7",
        "colab_type": "text"
      },
      "source": [
        "### Multiple Imputation by Chained Equations for Environment Data"
      ]
    },
    {
      "cell_type": "code",
      "metadata": {
        "id": "x3XEXBDuhCQQ",
        "colab_type": "code",
        "colab": {}
      },
      "source": [
        "%%R\n",
        "# Hmisc method, doesn't work unless you spell out all the variables in the function.\n",
        "# Potentially find a workaround\n",
        "\n",
        "#install.packages(\"Hmisc\")\n",
        "#library(Hmisc)\n",
        "\n",
        "#ivs = paste(env_cov_list,sep = \"\" )\n",
        "#iv_string <- paste(ivs, collapse=\" + \")\n",
        "#iv_string[0]\n",
        "\n",
        "#impute_arg <- aregImpute(as.formula(~iv_string), data = W, n.impute = 5)"
      ],
      "execution_count": 0,
      "outputs": []
    },
    {
      "cell_type": "code",
      "metadata": {
        "id": "GasnGycPiwfJ",
        "colab_type": "code",
        "colab": {}
      },
      "source": [
        "%%R\n",
        "# missForest function for imputation\n",
        "# Seems to be the fastest and works non-parametrically\n",
        "\n",
        "install.packages(\"missForest\")\n",
        "library(missForest)\n"
      ],
      "execution_count": 0,
      "outputs": []
    },
    {
      "cell_type": "code",
      "metadata": {
        "id": "XLVEBcgNmZh_",
        "colab_type": "code",
        "colab": {}
      },
      "source": [
        "%%R\n",
        "W.imp <- missForest(W)\n",
        "\n",
        "W.imp$OOBerror\n"
      ],
      "execution_count": 0,
      "outputs": []
    },
    {
      "cell_type": "code",
      "metadata": {
        "id": "eJXD8a2D5Aa8",
        "colab_type": "code",
        "colab": {}
      },
      "source": [
        "%%R\n",
        "W_imp <- W.imp$ximp\n",
        "W <- W_imp"
      ],
      "execution_count": 0,
      "outputs": []
    },
    {
      "cell_type": "code",
      "metadata": {
        "id": "WaumZthJSfSZ",
        "colab_type": "code",
        "colab": {}
      },
      "source": [
        "%%R\n",
        "# Save after imputing missing values for W since the function takes a while\n",
        "# Import the data again if you come back in another session\n",
        "\n",
        "# write.csv(W, 'W_imp.csv')\n",
        "#W <- read.csv('W_imp.csv')"
      ],
      "execution_count": 0,
      "outputs": []
    },
    {
      "cell_type": "code",
      "metadata": {
        "id": "1t9rVcz1Vt5i",
        "colab_type": "code",
        "outputId": "a1e6b3fc-129e-4957-a2f7-b12ee9743e23",
        "colab": {
          "base_uri": "https://localhost:8080/",
          "height": 272
        }
      },
      "source": [
        "%%R\n",
        "# mice package for imputation, highly recommended but seems too slow for size of data\n",
        "# https://www.analyticsvidhya.com/blog/2016/03/tutorial-powerful-packages-imputing-missing-values/\n",
        "\n",
        "#W.imp <- mice(W, m=5, maxit = 15, method = 'pmm')\n",
        "#summary(W.imp)"
      ],
      "execution_count": 0,
      "outputs": [
        {
          "output_type": "stream",
          "text": [
            "\n",
            " iter imp variable\n",
            "  1   1  PPN_10TH_MO_BEFORE_HARVESTED  PPN_11TH_MO_BEFORE_HARVESTED  PPN_1ST_MO_BEFORE_HARVESTED  PPN_2ND_MO_BEFORE_HARVESTED  PPN_3RD_MO_BEFORE_HARVESTED  PPN_4TH_MO_BEFORE_HARVESTED  PPN_5TH_MO_BEFORE_HARVESTED  PPN_6TH_MO_BEFORE_HARVESTED  PPN_7TH_MO_BEFORE_HARVESTED  PPN_8TH_MO_BEFORE_HARVESTED"
          ],
          "name": "stdout"
        },
        {
          "output_type": "stream",
          "text": [
            "From cffi callback <function _processevents at 0x7ffabdc139d8>:\n",
            "Traceback (most recent call last):\n",
            "  File \"/usr/local/lib/python3.6/dist-packages/rpy2/rinterface_lib/callbacks.py\", line 262, in _processevents\n",
            "    @ffi_proxy.callback(ffi_proxy._processevents_def,\n",
            "KeyboardInterrupt\n"
          ],
          "name": "stderr"
        },
        {
          "output_type": "stream",
          "text": [
            "  PPN_9TH_MO_BEFORE_HARVESTED  PPN_MONTH_OF_HARVESTED  PRECIPITATION_FROM_SOWING_TO_MATURITY"
          ],
          "name": "stdout"
        },
        {
          "output_type": "stream",
          "text": [
            "From cffi callback <function _processevents at 0x7ffabdc139d8>:\n",
            "Traceback (most recent call last):\n",
            "  File \"/usr/local/lib/python3.6/dist-packages/rpy2/rinterface_lib/callbacks.py\", line 262, in _processevents\n",
            "    @ffi_proxy.callback(ffi_proxy._processevents_def,\n",
            "KeyboardInterrupt\n"
          ],
          "name": "stderr"
        },
        {
          "output_type": "stream",
          "text": [
            "  TOTAL_PRECIPIT_IN_12_MONTHS  IRRIGATED.NO\n",
            "  1   2  PPN_10TH_MO_BEFORE_HARVESTED  PPN_11TH_MO_BEFORE_HARVESTED  PPN_1ST_MO_BEFORE_HARVESTED"
          ],
          "name": "stdout"
        }
      ]
    },
    {
      "cell_type": "code",
      "metadata": {
        "id": "VF-tY9KdV2Ab",
        "colab_type": "code",
        "colab": {}
      },
      "source": [
        "%%R\n",
        "#W <- complete(W.imp,2)"
      ],
      "execution_count": 0,
      "outputs": []
    },
    {
      "cell_type": "code",
      "metadata": {
        "id": "dW_kr1N97F4O",
        "colab_type": "code",
        "colab": {}
      },
      "source": [
        "%%R\n",
        "# Standardize environmental data\n",
        "W <- standardize(W)\n",
        "W.head()"
      ],
      "execution_count": 0,
      "outputs": []
    },
    {
      "cell_type": "code",
      "metadata": {
        "id": "II2pISclV6As",
        "colab_type": "code",
        "outputId": "0c0def51-6b95-4323-a0cb-a99aa56ecfc9",
        "colab": {
          "base_uri": "https://localhost:8080/",
          "height": 118
        }
      },
      "source": [
        "%%R\n",
        "# Check that yield, variety, location, and environmental covariates are same length\n",
        "print(paste('Yield vector length: ', length(Y$grain_yield)))\n",
        "print(paste('Varieties vector length: ', length(Y$VAR)))\n",
        "print(paste('Location-year vector length: ', length(Y$ENV)))\n",
        "print(paste('Environmental covariates vector length: ', nrow(W)))\n",
        "\n",
        "# Check that A Matrix contrains all unique varieties from the data\n",
        "print(paste('Unique Varieties: ', length(unique(Y$VAR))))\n",
        "print(paste('A Matrix length: ', nrow(A)))"
      ],
      "execution_count": 0,
      "outputs": [
        {
          "output_type": "stream",
          "text": [
            "[1] \"Yield vector length:  145348\"\n",
            "[1] \"Varieties vector length:  145348\"\n",
            "[1] \"Location-year vector length:  145348\"\n",
            "[1] \"Environmental covariates vector length:  145348\"\n",
            "[1] \"Unique Varieties:  3443\"\n",
            "[1] \"A Matrix length:  3489\"\n"
          ],
          "name": "stdout"
        }
      ]
    },
    {
      "cell_type": "markdown",
      "metadata": {
        "id": "Ic3LC-1nV9r_",
        "colab_type": "text"
      },
      "source": [
        "### Export Merged Data for Comparison"
      ]
    },
    {
      "cell_type": "code",
      "metadata": {
        "id": "yYz315dIV9Qp",
        "colab_type": "code",
        "colab": {}
      },
      "source": [
        "%%R\n",
        "# Export the merged data for comparison\n",
        "write.csv(data_merge, 'merged_data.csv')\n",
        "write.csv(Y, 'pheno_yield_data.csv')\n",
        "write.csv(W, 'environmental_covariates_data.csv')\n",
        "write.csv(A, 'pedigree_data.csv')"
      ],
      "execution_count": 0,
      "outputs": []
    },
    {
      "cell_type": "markdown",
      "metadata": {
        "id": "0YXXcVcbh7v_",
        "colab_type": "text"
      },
      "source": [
        "## Import Data and Prep for Analysis"
      ]
    },
    {
      "cell_type": "code",
      "metadata": {
        "id": "yt0bTWBIs_LR",
        "colab_type": "code",
        "colab": {}
      },
      "source": [
        "%%R\n",
        "# Read data back in, only if you have already saved it in a previous session and have to come back\n",
        "Y <- read.csv('pheno_yield_data.csv', row.names = 1)\n",
        "W <- read.csv('environmental_covariates_data.csv', row.names = \"X\")\n",
        "A <- read.csv('pedigree_data.csv', row.names = 1)"
      ],
      "execution_count": 0,
      "outputs": []
    },
    {
      "cell_type": "code",
      "metadata": {
        "id": "Xk0QZy8DcSVd",
        "colab_type": "code",
        "colab": {}
      },
      "source": [
        "%%R\n",
        "# A matrix doesn't read in well as a CSV, need to repeat some processing steps\n",
        "# Remove the X prefix from the column names\n",
        "names(A) <- substring(names(A),2)\n",
        "print(colnames(A)[1])\n",
        "print(rownames(A)[1])"
      ],
      "execution_count": 0,
      "outputs": []
    },
    {
      "cell_type": "code",
      "metadata": {
        "id": "khRAAG1iWGmC",
        "colab_type": "code",
        "colab": {}
      },
      "source": [
        "%%R\n",
        "# Get a list of unique GID values from the data\n",
        "Unique_GID = c(unique(Y$VAR))\n",
        "length(Unique_GID)\n"
      ],
      "execution_count": 0,
      "outputs": []
    },
    {
      "cell_type": "code",
      "metadata": {
        "id": "n0AUTbMWWJHe",
        "colab_type": "code",
        "colab": {}
      },
      "source": [
        "%%R\n",
        "# Identify the GIDs which are present in the data but not the A matrix\n",
        "#GID_missing = setdiff(Unique_GID, rownames(A))\n",
        "GID_missing = setdiff(rownames(A), Unique_GID)\n",
        "length(GID_missing)"
      ],
      "execution_count": 0,
      "outputs": []
    },
    {
      "cell_type": "code",
      "metadata": {
        "id": "FQpCDjjnWMUt",
        "colab_type": "code",
        "colab": {}
      },
      "source": [
        "%%R\n",
        "# Remove the missing GID from the list of unique GIDs from the data sample\n",
        "Unique_GID = Unique_GID[Unique_GID != GID_missing]\n",
        "Unique_GID <- unlist(lapply(Unique_GID, as.character))\n",
        "# Subset the A matrix to the list of GIDs in the data sample\n",
        "A = A[Unique_GID,Unique_GID]\n",
        "# Convert to a matrix\n",
        "A = as.matrix(A)\n",
        "nrow(A)"
      ],
      "execution_count": 0,
      "outputs": []
    },
    {
      "cell_type": "code",
      "metadata": {
        "id": "eZp6VYLxtq5i",
        "colab_type": "code",
        "colab": {}
      },
      "source": [
        "%%R\n",
        "print(paste('Environmental covariates vector length: ', nrow(W)))\n",
        "print(paste('Unique Varieties: ', length(unique(Y$VAR))))\n",
        "print(paste('A Matrix length: ', nrow(A)))"
      ],
      "execution_count": 0,
      "outputs": []
    },
    {
      "cell_type": "markdown",
      "metadata": {
        "colab_type": "text",
        "id": "LE-DRJvtWXVU"
      },
      "source": [
        "## Run Model on Full Data"
      ]
    },
    {
      "cell_type": "code",
      "metadata": {
        "colab_type": "code",
        "id": "H1kut5VaWXVX",
        "colab": {}
      },
      "source": [
        "%%R\n",
        "# Fitting Model 1 (Main Environment-Line Effects)\n",
        "# (EL)\n",
        "\n",
        "library('BGLR')\n",
        "\n",
        "set.seed(123)\n",
        "training.samples <- Y$grain_yield %>%\n",
        "  createDataPartition(p = 0.8, list = FALSE)\n",
        "\n",
        "y_train = Y$grain_yield\n",
        "y_train[-training.samples] = NA\n",
        "\n",
        "# incidence matrix for main eff. of environments.\n",
        "ZE = model.matrix(~factor(Y$ENV)-1)     \n",
        "\n",
        "# incidence matrix for main eff. of lines.\n",
        "Y$VAR = factor(x=Y$VAR,levels=rownames(A),ordered=TRUE)\n",
        "ZVAR = model.matrix(~Y$VAR-1)\n",
        "\t"
      ],
      "execution_count": 0,
      "outputs": []
    },
    {
      "cell_type": "code",
      "metadata": {
        "colab_type": "code",
        "id": "whXhLOeVWXVd",
        "colab": {}
      },
      "source": [
        "%%R\n",
        "# Model Fitting\n",
        "\n",
        "ETA = list(ENV=list(X=ZE,model='BRR'),\n",
        "           VAR=list(X=ZVAR,model='BRR'))\n",
        "\t\n",
        "fm1 = BGLR(y=y_train,ETA=ETA,saveAt='M1_',nIter=500,burnIn=200)\n"
      ],
      "execution_count": 0,
      "outputs": []
    },
    {
      "cell_type": "code",
      "metadata": {
        "colab_type": "code",
        "id": "ZnJbbRd5WXVh",
        "outputId": "1b98a3e9-19d1-4262-a308-7127a9a1af05",
        "colab": {
          "base_uri": "https://localhost:8080/",
          "height": 497
        }
      },
      "source": [
        "%%R\n",
        "predictions = fm1$yHat[-training.samples]\n",
        "test_values = Y$grain_yield[-training.samples]\n",
        "R2 = R2(predictions, test_values)\n",
        "RMSE = RMSE(predictions, test_values)\n",
        "MAE = MAE(predictions, test_values)\n",
        "model1_scores = data.frame(R2, RMSE, MAE)\n",
        "\n",
        "plot(test_values,predictions)"
      ],
      "execution_count": 0,
      "outputs": [
        {
          "output_type": "display_data",
          "data": {
            "image/png": "[encoded data removed]"
          },
          "metadata": {
            "tags": []
          }
        }
      ]
    },
    {
      "cell_type": "code",
      "metadata": {
        "id": "nwf0egoLvL--",
        "colab_type": "code",
        "colab": {}
      },
      "source": [
        "%%R\n",
        "# Alternative Model 2 with Eigendecomposition\n",
        "\n",
        "L_star = eigen(A, symmetric =TRUE)\n",
        "Gamma = L_star$vectors\n",
        "Lambda = L_star$values \n",
        "Z_star = ZVAR%*%Gamma%*%(Lambda^0.5)\n",
        "\n",
        "# Fitting Model 2 with Alternative Z_star (Main Environment-Pedigree Effects)\n",
        "# (EA)\n",
        "\n",
        "ETA = list(ENV=list(X=ZE,model='BRR'),\n",
        "           PED=list(X=Z_star,model='BRR'))\n",
        "\t\n",
        "fm2 = BGLR(y=y_train,ETA=ETA,saveAt='M2_',nIter=1000,burnIn=500)\n"
      ],
      "execution_count": 0,
      "outputs": []
    },
    {
      "cell_type": "code",
      "metadata": {
        "id": "x2XMfocdvNxR",
        "colab_type": "code",
        "colab": {}
      },
      "source": [
        "%%R\n",
        "predictions = fm2$yHat[-training.samples]\n",
        "test_values = Y$grain_yield[-training.samples]\n"
      ],
      "execution_count": 0,
      "outputs": []
    },
    {
      "cell_type": "code",
      "metadata": {
        "id": "dSIyoaAo6-D7",
        "colab_type": "code",
        "colab": {}
      },
      "source": [
        "%%R\n",
        "R2 = R2(predictions, test_values)\n",
        "RMSE = RMSE(predictions, test_values)\n",
        "MAE = MAE(predictions, test_values)\n",
        "model2_scores = data.frame(R2, RMSE, MAE)"
      ],
      "execution_count": 0,
      "outputs": []
    },
    {
      "cell_type": "code",
      "metadata": {
        "id": "CfVfCFek6rFu",
        "colab_type": "code",
        "outputId": "682207ae-fe56-49ea-9992-55c19a57811e",
        "colab": {
          "base_uri": "https://localhost:8080/",
          "height": 497
        }
      },
      "source": [
        "%%R\n",
        "print(model2_scores)\n",
        "plot(test_values,predictions)"
      ],
      "execution_count": 0,
      "outputs": [
        {
          "output_type": "display_data",
          "data": {
            "image/png": "[encoded data removed]"
          },
          "metadata": {
            "tags": []
          }
        }
      ]
    },
    {
      "cell_type": "code",
      "metadata": {
        "colab_type": "code",
        "id": "7cULDW0mWXVm",
        "colab": {}
      },
      "source": [
        "%%R\n",
        "# Fitting Model 2 (Main Environment-Pedigree Effects)\n",
        "# (EA)\n",
        "\n",
        "# A = A/mean(diag(A))\n",
        "# L = t(chol(A))\n",
        "# ZL = ZVAR%*%L\n",
        "\n",
        "# ETA = list(ENV=list(X=ZE,model='BRR'),\n",
        "#            PED=list(X=ZL,model='BRR'))\n",
        "\t\n",
        "# fm2 = BGLR(y=y_train,ETA=ETA,saveAt='M2_',nIter=500,burnIn=200)\n"
      ],
      "execution_count": 0,
      "outputs": []
    },
    {
      "cell_type": "code",
      "metadata": {
        "colab_type": "code",
        "id": "FMbwmgwdWXVs",
        "outputId": "81fdcdb1-bf44-4043-8cda-e10788b66d1f",
        "colab": {
          "base_uri": "https://localhost:8080/",
          "height": 497
        }
      },
      "source": [
        "%%R\n",
        "# predictions = fm2$yHat[-training.samples]\n",
        "# test_values = Y$grain_yield[-training.samples]\n",
        "# print(data.frame( R2 = R2(predictions, test_values),\n",
        "#             RMSE = RMSE(predictions, test_values),\n",
        "#             MAE = MAE(predictions, test_values)))\n",
        "\n",
        "# plot(test_values,predictions)"
      ],
      "execution_count": 0,
      "outputs": [
        {
          "output_type": "display_data",
          "data": {
            "image/png": "[encoded data removed]"
          },
          "metadata": {
            "tags": []
          }
        }
      ]
    },
    {
      "cell_type": "code",
      "metadata": {
        "colab_type": "code",
        "id": "9JE6vWzHWXVv",
        "colab": {}
      },
      "source": [
        "%%R\n",
        "# Fitting Model 3 (Main Environment-Pedigree-Environmental Covariate Effects)\n",
        "# (EAW)\n",
        "\n",
        "W = W/sqrt(ncol(W))\n",
        "\n",
        "ETA = list(ENV=list(X=ZE,model='BRR'),\n",
        "           PED=list(X=Z_star,model='BRR'),\n",
        "           EC=list(X=W,model='BRR'))\n",
        "\n",
        "fm3 = BGLR(y=y_train,ETA=ETA,saveAt='M3_',nIter=500,burnIn=200)\n"
      ],
      "execution_count": 0,
      "outputs": []
    },
    {
      "cell_type": "code",
      "metadata": {
        "colab_type": "code",
        "id": "5JL4khkHWXVz",
        "outputId": "b20d3994-0f63-4400-9c9f-002b5d9e5e69",
        "colab": {
          "base_uri": "https://localhost:8080/",
          "height": 497
        }
      },
      "source": [
        "%%R\n",
        "predictions = fm3$yHat[-training.samples]\n",
        "test_values = Y$grain_yield[-training.samples]\n",
        "model3_scores = data.frame(R2 = R2(predictions, test_values),\n",
        "            RMSE = RMSE(predictions, test_values),\n",
        "            MAE = MAE(predictions, test_values))\n",
        "print(model3_scores)\n",
        "plot(test_values,predictions)"
      ],
      "execution_count": 0,
      "outputs": [
        {
          "output_type": "display_data",
          "data": {
            "image/png": "[encoded data removed]"
          },
          "metadata": {
            "tags": []
          }
        }
      ]
    },
    {
      "cell_type": "code",
      "metadata": {
        "colab_type": "code",
        "id": "k3jCA928WXV3",
        "outputId": "e7cd5288-e278-47dc-d7fb-56a6bd5d8598",
        "colab": {
          "base_uri": "https://localhost:8080/",
          "height": 1000
        }
      },
      "source": [
        "%%R\n",
        "# Fitting Model 4 (Main Environment-Pedigree-Environmental Covariate Effects \n",
        "# with Pedigree-Environmental Covariate Interaction)\n",
        "# (EAW-AxW)\n",
        "\n",
        "# Results in vector of size 157.4 Gb, need sufficient RAM to hold\n",
        "\n",
        "ZAZ = tcrossprod(Z_star)\n",
        "\n",
        "W = as.matrix(W)\n",
        "\n",
        "WW = tcrossprod(W)\n"
      ],
      "execution_count": 0,
      "outputs": [
        {
          "output_type": "stream",
          "text": [
            "\n",
            "Error: cannot allocate vector of size 157.4 Gb\n"
          ],
          "name": "stdout"
        },
        {
          "output_type": "error",
          "ename": "PermissionError",
          "evalue": "ignored",
          "traceback": [
            "\u001b[1;31m---------------------------------------------------------------------------\u001b[0m",
            "\u001b[1;31mRRuntimeError\u001b[0m                             Traceback (most recent call last)",
            "\u001b[1;32m~\\miniconda3\\envs\\gxe_gee\\lib\\site-packages\\rpy2\\ipython\\rmagic.py\u001b[0m in \u001b[0;36meval\u001b[1;34m(self, code)\u001b[0m\n\u001b[0;32m    253\u001b[0m             \u001b[1;31m# Need the newline in case the last line in code is a comment\u001b[0m\u001b[1;33m\u001b[0m\u001b[1;33m\u001b[0m\u001b[1;33m\u001b[0m\u001b[0m\n\u001b[1;32m--> 254\u001b[1;33m             \u001b[0mvalue\u001b[0m\u001b[1;33m,\u001b[0m \u001b[0mvisible\u001b[0m \u001b[1;33m=\u001b[0m \u001b[0mro\u001b[0m\u001b[1;33m.\u001b[0m\u001b[0mr\u001b[0m\u001b[1;33m(\u001b[0m\u001b[1;34m\"withVisible({%s\\n})\"\u001b[0m \u001b[1;33m%\u001b[0m \u001b[0mcode\u001b[0m\u001b[1;33m)\u001b[0m\u001b[1;33m\u001b[0m\u001b[1;33m\u001b[0m\u001b[0m\n\u001b[0m\u001b[0;32m    255\u001b[0m         \u001b[1;32mexcept\u001b[0m \u001b[1;33m(\u001b[0m\u001b[0mri\u001b[0m\u001b[1;33m.\u001b[0m\u001b[0mRRuntimeError\u001b[0m\u001b[1;33m,\u001b[0m \u001b[0mValueError\u001b[0m\u001b[1;33m)\u001b[0m \u001b[1;32mas\u001b[0m \u001b[0mexception\u001b[0m\u001b[1;33m:\u001b[0m\u001b[1;33m\u001b[0m\u001b[1;33m\u001b[0m\u001b[0m\n",
            "\u001b[1;32m~\\miniconda3\\envs\\gxe_gee\\lib\\site-packages\\rpy2\\robjects\\__init__.py\u001b[0m in \u001b[0;36m__call__\u001b[1;34m(self, string)\u001b[0m\n\u001b[0;32m    351\u001b[0m         \u001b[0mp\u001b[0m \u001b[1;33m=\u001b[0m \u001b[0m_rparse\u001b[0m\u001b[1;33m(\u001b[0m\u001b[0mtext\u001b[0m\u001b[1;33m=\u001b[0m\u001b[0mStrSexpVector\u001b[0m\u001b[1;33m(\u001b[0m\u001b[1;33m(\u001b[0m\u001b[0mstring\u001b[0m\u001b[1;33m,\u001b[0m\u001b[1;33m)\u001b[0m\u001b[1;33m)\u001b[0m\u001b[1;33m)\u001b[0m\u001b[1;33m\u001b[0m\u001b[1;33m\u001b[0m\u001b[0m\n\u001b[1;32m--> 352\u001b[1;33m         \u001b[0mres\u001b[0m \u001b[1;33m=\u001b[0m \u001b[0mself\u001b[0m\u001b[1;33m.\u001b[0m\u001b[0meval\u001b[0m\u001b[1;33m(\u001b[0m\u001b[0mp\u001b[0m\u001b[1;33m)\u001b[0m\u001b[1;33m\u001b[0m\u001b[1;33m\u001b[0m\u001b[0m\n\u001b[0m\u001b[0;32m    353\u001b[0m         \u001b[1;32mreturn\u001b[0m \u001b[0mconversion\u001b[0m\u001b[1;33m.\u001b[0m\u001b[0mri2py\u001b[0m\u001b[1;33m(\u001b[0m\u001b[0mres\u001b[0m\u001b[1;33m)\u001b[0m\u001b[1;33m\u001b[0m\u001b[1;33m\u001b[0m\u001b[0m\n",
            "\u001b[1;32m~\\miniconda3\\envs\\gxe_gee\\lib\\site-packages\\rpy2\\robjects\\functions.py\u001b[0m in \u001b[0;36m__call__\u001b[1;34m(self, *args, **kwargs)\u001b[0m\n\u001b[0;32m    177\u001b[0m                 \u001b[0mkwargs\u001b[0m\u001b[1;33m[\u001b[0m\u001b[0mr_k\u001b[0m\u001b[1;33m]\u001b[0m \u001b[1;33m=\u001b[0m \u001b[0mv\u001b[0m\u001b[1;33m\u001b[0m\u001b[1;33m\u001b[0m\u001b[0m\n\u001b[1;32m--> 178\u001b[1;33m         \u001b[1;32mreturn\u001b[0m \u001b[0msuper\u001b[0m\u001b[1;33m(\u001b[0m\u001b[0mSignatureTranslatedFunction\u001b[0m\u001b[1;33m,\u001b[0m \u001b[0mself\u001b[0m\u001b[1;33m)\u001b[0m\u001b[1;33m.\u001b[0m\u001b[0m__call__\u001b[0m\u001b[1;33m(\u001b[0m\u001b[1;33m*\u001b[0m\u001b[0margs\u001b[0m\u001b[1;33m,\u001b[0m \u001b[1;33m**\u001b[0m\u001b[0mkwargs\u001b[0m\u001b[1;33m)\u001b[0m\u001b[1;33m\u001b[0m\u001b[1;33m\u001b[0m\u001b[0m\n\u001b[0m\u001b[0;32m    179\u001b[0m \u001b[1;33m\u001b[0m\u001b[0m\n",
            "\u001b[1;32m~\\miniconda3\\envs\\gxe_gee\\lib\\site-packages\\rpy2\\robjects\\functions.py\u001b[0m in \u001b[0;36m__call__\u001b[1;34m(self, *args, **kwargs)\u001b[0m\n\u001b[0;32m    105\u001b[0m             \u001b[0mnew_kwargs\u001b[0m\u001b[1;33m[\u001b[0m\u001b[0mk\u001b[0m\u001b[1;33m]\u001b[0m \u001b[1;33m=\u001b[0m \u001b[0mconversion\u001b[0m\u001b[1;33m.\u001b[0m\u001b[0mpy2ri\u001b[0m\u001b[1;33m(\u001b[0m\u001b[0mv\u001b[0m\u001b[1;33m)\u001b[0m\u001b[1;33m\u001b[0m\u001b[1;33m\u001b[0m\u001b[0m\n\u001b[1;32m--> 106\u001b[1;33m         \u001b[0mres\u001b[0m \u001b[1;33m=\u001b[0m \u001b[0msuper\u001b[0m\u001b[1;33m(\u001b[0m\u001b[0mFunction\u001b[0m\u001b[1;33m,\u001b[0m \u001b[0mself\u001b[0m\u001b[1;33m)\u001b[0m\u001b[1;33m.\u001b[0m\u001b[0m__call__\u001b[0m\u001b[1;33m(\u001b[0m\u001b[1;33m*\u001b[0m\u001b[0mnew_args\u001b[0m\u001b[1;33m,\u001b[0m \u001b[1;33m**\u001b[0m\u001b[0mnew_kwargs\u001b[0m\u001b[1;33m)\u001b[0m\u001b[1;33m\u001b[0m\u001b[1;33m\u001b[0m\u001b[0m\n\u001b[0m\u001b[0;32m    107\u001b[0m         \u001b[0mres\u001b[0m \u001b[1;33m=\u001b[0m \u001b[0mconversion\u001b[0m\u001b[1;33m.\u001b[0m\u001b[0mri2ro\u001b[0m\u001b[1;33m(\u001b[0m\u001b[0mres\u001b[0m\u001b[1;33m)\u001b[0m\u001b[1;33m\u001b[0m\u001b[1;33m\u001b[0m\u001b[0m\n",
            "\u001b[1;31mRRuntimeError\u001b[0m: Error: cannot allocate vector of size 157.4 Gb\n",
            "\nDuring handling of the above exception, another exception occurred:\n",
            "\u001b[1;31mRInterpreterError\u001b[0m                         Traceback (most recent call last)",
            "\u001b[1;32m~\\miniconda3\\envs\\gxe_gee\\lib\\site-packages\\rpy2\\ipython\\rmagic.py\u001b[0m in \u001b[0;36mR\u001b[1;34m(self, line, cell, local_ns)\u001b[0m\n\u001b[0;32m    703\u001b[0m             \u001b[1;32melse\u001b[0m\u001b[1;33m:\u001b[0m\u001b[1;33m\u001b[0m\u001b[1;33m\u001b[0m\u001b[0m\n\u001b[1;32m--> 704\u001b[1;33m                 \u001b[0mtext_result\u001b[0m\u001b[1;33m,\u001b[0m \u001b[0mresult\u001b[0m\u001b[1;33m,\u001b[0m \u001b[0mvisible\u001b[0m \u001b[1;33m=\u001b[0m \u001b[0mself\u001b[0m\u001b[1;33m.\u001b[0m\u001b[0meval\u001b[0m\u001b[1;33m(\u001b[0m\u001b[0mcode\u001b[0m\u001b[1;33m)\u001b[0m\u001b[1;33m\u001b[0m\u001b[1;33m\u001b[0m\u001b[0m\n\u001b[0m\u001b[0;32m    705\u001b[0m                 \u001b[0mtext_output\u001b[0m \u001b[1;33m+=\u001b[0m \u001b[0mtext_result\u001b[0m\u001b[1;33m\u001b[0m\u001b[1;33m\u001b[0m\u001b[0m\n",
            "\u001b[1;32m~\\miniconda3\\envs\\gxe_gee\\lib\\site-packages\\rpy2\\ipython\\rmagic.py\u001b[0m in \u001b[0;36meval\u001b[1;34m(self, code)\u001b[0m\n\u001b[0;32m    256\u001b[0m             \u001b[0mwarning_or_other_msg\u001b[0m \u001b[1;33m=\u001b[0m \u001b[0mself\u001b[0m\u001b[1;33m.\u001b[0m\u001b[0mflush\u001b[0m\u001b[1;33m(\u001b[0m\u001b[1;33m)\u001b[0m \u001b[1;31m# otherwise next return seems to have copy of error\u001b[0m\u001b[1;33m\u001b[0m\u001b[1;33m\u001b[0m\u001b[0m\n\u001b[1;32m--> 257\u001b[1;33m             \u001b[1;32mraise\u001b[0m \u001b[0mRInterpreterError\u001b[0m\u001b[1;33m(\u001b[0m\u001b[0mcode\u001b[0m\u001b[1;33m,\u001b[0m \u001b[0mstr\u001b[0m\u001b[1;33m(\u001b[0m\u001b[0mexception\u001b[0m\u001b[1;33m)\u001b[0m\u001b[1;33m,\u001b[0m \u001b[0mwarning_or_other_msg\u001b[0m\u001b[1;33m)\u001b[0m\u001b[1;33m\u001b[0m\u001b[1;33m\u001b[0m\u001b[0m\n\u001b[0m\u001b[0;32m    258\u001b[0m         \u001b[0mtext_output\u001b[0m \u001b[1;33m=\u001b[0m \u001b[0mself\u001b[0m\u001b[1;33m.\u001b[0m\u001b[0mflush\u001b[0m\u001b[1;33m(\u001b[0m\u001b[1;33m)\u001b[0m\u001b[1;33m\u001b[0m\u001b[1;33m\u001b[0m\u001b[0m\n",
            "\u001b[1;31mRInterpreterError\u001b[0m: Failed to parse and evaluate line '# Fitting Model 4 (Main Environment-Pedigree-Environmental Covariate Effects \\n# with Pedigree-Environmental Covariate Interaction)\\n# (EAW-AxW)\\n\\nZAZ = tcrossprod(Z_star)\\n\\nW = as.matrix(W)\\n\\nWW = tcrossprod(W)\\n'.\nR error message: 'Error: cannot allocate vector of size 157.4 Gb'",
            "\nDuring handling of the above exception, another exception occurred:\n",
            "\u001b[1;31mPermissionError\u001b[0m                           Traceback (most recent call last)",
            "\u001b[1;32m<ipython-input-35-f7b0d70afe4a>\u001b[0m in \u001b[0;36m<module>\u001b[1;34m\u001b[0m\n\u001b[1;32m----> 1\u001b[1;33m \u001b[0mget_ipython\u001b[0m\u001b[1;33m(\u001b[0m\u001b[1;33m)\u001b[0m\u001b[1;33m.\u001b[0m\u001b[0mrun_cell_magic\u001b[0m\u001b[1;33m(\u001b[0m\u001b[1;34m'R'\u001b[0m\u001b[1;33m,\u001b[0m \u001b[1;34m''\u001b[0m\u001b[1;33m,\u001b[0m \u001b[1;34m'# Fitting Model 4 (Main Environment-Pedigree-Environmental Covariate Effects \\n# with Pedigree-Environmental Covariate Interaction)\\n# (EAW-AxW)\\n\\nZAZ = tcrossprod(Z_star)\\n\\nW = as.matrix(W)\\n\\nWW = tcrossprod(W)\\n'\u001b[0m\u001b[1;33m)\u001b[0m\u001b[1;33m\u001b[0m\u001b[1;33m\u001b[0m\u001b[0m\n\u001b[0m",
            "\u001b[1;32m~\\miniconda3\\envs\\gxe_gee\\lib\\site-packages\\IPython\\core\\interactiveshell.py\u001b[0m in \u001b[0;36mrun_cell_magic\u001b[1;34m(self, magic_name, line, cell)\u001b[0m\n\u001b[0;32m   2360\u001b[0m             \u001b[1;32mwith\u001b[0m \u001b[0mself\u001b[0m\u001b[1;33m.\u001b[0m\u001b[0mbuiltin_trap\u001b[0m\u001b[1;33m:\u001b[0m\u001b[1;33m\u001b[0m\u001b[1;33m\u001b[0m\u001b[0m\n\u001b[0;32m   2361\u001b[0m                 \u001b[0margs\u001b[0m \u001b[1;33m=\u001b[0m \u001b[1;33m(\u001b[0m\u001b[0mmagic_arg_s\u001b[0m\u001b[1;33m,\u001b[0m \u001b[0mcell\u001b[0m\u001b[1;33m)\u001b[0m\u001b[1;33m\u001b[0m\u001b[1;33m\u001b[0m\u001b[0m\n\u001b[1;32m-> 2362\u001b[1;33m                 \u001b[0mresult\u001b[0m \u001b[1;33m=\u001b[0m \u001b[0mfn\u001b[0m\u001b[1;33m(\u001b[0m\u001b[1;33m*\u001b[0m\u001b[0margs\u001b[0m\u001b[1;33m,\u001b[0m \u001b[1;33m**\u001b[0m\u001b[0mkwargs\u001b[0m\u001b[1;33m)\u001b[0m\u001b[1;33m\u001b[0m\u001b[1;33m\u001b[0m\u001b[0m\n\u001b[0m\u001b[0;32m   2363\u001b[0m             \u001b[1;32mreturn\u001b[0m \u001b[0mresult\u001b[0m\u001b[1;33m\u001b[0m\u001b[1;33m\u001b[0m\u001b[0m\n\u001b[0;32m   2364\u001b[0m \u001b[1;33m\u001b[0m\u001b[0m\n",
            "\u001b[1;32m<decorator-gen-131>\u001b[0m in \u001b[0;36mR\u001b[1;34m(self, line, cell, local_ns)\u001b[0m\n",
            "\u001b[1;32m~\\miniconda3\\envs\\gxe_gee\\lib\\site-packages\\IPython\\core\\magic.py\u001b[0m in \u001b[0;36m<lambda>\u001b[1;34m(f, *a, **k)\u001b[0m\n\u001b[0;32m    185\u001b[0m     \u001b[1;31m# but it's overkill for just that one bit of state.\u001b[0m\u001b[1;33m\u001b[0m\u001b[1;33m\u001b[0m\u001b[1;33m\u001b[0m\u001b[0m\n\u001b[0;32m    186\u001b[0m     \u001b[1;32mdef\u001b[0m \u001b[0mmagic_deco\u001b[0m\u001b[1;33m(\u001b[0m\u001b[0marg\u001b[0m\u001b[1;33m)\u001b[0m\u001b[1;33m:\u001b[0m\u001b[1;33m\u001b[0m\u001b[1;33m\u001b[0m\u001b[0m\n\u001b[1;32m--> 187\u001b[1;33m         \u001b[0mcall\u001b[0m \u001b[1;33m=\u001b[0m \u001b[1;32mlambda\u001b[0m \u001b[0mf\u001b[0m\u001b[1;33m,\u001b[0m \u001b[1;33m*\u001b[0m\u001b[0ma\u001b[0m\u001b[1;33m,\u001b[0m \u001b[1;33m**\u001b[0m\u001b[0mk\u001b[0m\u001b[1;33m:\u001b[0m \u001b[0mf\u001b[0m\u001b[1;33m(\u001b[0m\u001b[1;33m*\u001b[0m\u001b[0ma\u001b[0m\u001b[1;33m,\u001b[0m \u001b[1;33m**\u001b[0m\u001b[0mk\u001b[0m\u001b[1;33m)\u001b[0m\u001b[1;33m\u001b[0m\u001b[1;33m\u001b[0m\u001b[0m\n\u001b[0m\u001b[0;32m    188\u001b[0m \u001b[1;33m\u001b[0m\u001b[0m\n\u001b[0;32m    189\u001b[0m         \u001b[1;32mif\u001b[0m \u001b[0mcallable\u001b[0m\u001b[1;33m(\u001b[0m\u001b[0marg\u001b[0m\u001b[1;33m)\u001b[0m\u001b[1;33m:\u001b[0m\u001b[1;33m\u001b[0m\u001b[1;33m\u001b[0m\u001b[0m\n",
            "\u001b[1;32m~\\miniconda3\\envs\\gxe_gee\\lib\\site-packages\\rpy2\\ipython\\rmagic.py\u001b[0m in \u001b[0;36mR\u001b[1;34m(self, line, cell, local_ns)\u001b[0m\n\u001b[0;32m    717\u001b[0m                 \u001b[0mprint\u001b[0m\u001b[1;33m(\u001b[0m\u001b[0me\u001b[0m\u001b[1;33m.\u001b[0m\u001b[0merr\u001b[0m\u001b[1;33m)\u001b[0m\u001b[1;33m\u001b[0m\u001b[1;33m\u001b[0m\u001b[0m\n\u001b[0;32m    718\u001b[0m             \u001b[1;32mif\u001b[0m \u001b[0mtmpd\u001b[0m\u001b[1;33m:\u001b[0m\u001b[1;33m\u001b[0m\u001b[1;33m\u001b[0m\u001b[0m\n\u001b[1;32m--> 719\u001b[1;33m                 \u001b[0mrmtree\u001b[0m\u001b[1;33m(\u001b[0m\u001b[0mtmpd\u001b[0m\u001b[1;33m)\u001b[0m\u001b[1;33m\u001b[0m\u001b[1;33m\u001b[0m\u001b[0m\n\u001b[0m\u001b[0;32m    720\u001b[0m             \u001b[1;32mreturn\u001b[0m\u001b[1;33m\u001b[0m\u001b[1;33m\u001b[0m\u001b[0m\n\u001b[0;32m    721\u001b[0m         \u001b[1;32mfinally\u001b[0m\u001b[1;33m:\u001b[0m\u001b[1;33m\u001b[0m\u001b[1;33m\u001b[0m\u001b[0m\n",
            "\u001b[1;32m~\\miniconda3\\envs\\gxe_gee\\lib\\shutil.py\u001b[0m in \u001b[0;36mrmtree\u001b[1;34m(path, ignore_errors, onerror)\u001b[0m\n\u001b[0;32m    514\u001b[0m             \u001b[1;31m# can't continue even if onerror hook returns\u001b[0m\u001b[1;33m\u001b[0m\u001b[1;33m\u001b[0m\u001b[1;33m\u001b[0m\u001b[0m\n\u001b[0;32m    515\u001b[0m             \u001b[1;32mreturn\u001b[0m\u001b[1;33m\u001b[0m\u001b[1;33m\u001b[0m\u001b[0m\n\u001b[1;32m--> 516\u001b[1;33m         \u001b[1;32mreturn\u001b[0m \u001b[0m_rmtree_unsafe\u001b[0m\u001b[1;33m(\u001b[0m\u001b[0mpath\u001b[0m\u001b[1;33m,\u001b[0m \u001b[0monerror\u001b[0m\u001b[1;33m)\u001b[0m\u001b[1;33m\u001b[0m\u001b[1;33m\u001b[0m\u001b[0m\n\u001b[0m\u001b[0;32m    517\u001b[0m \u001b[1;33m\u001b[0m\u001b[0m\n\u001b[0;32m    518\u001b[0m \u001b[1;31m# Allow introspection of whether or not the hardening against symlink\u001b[0m\u001b[1;33m\u001b[0m\u001b[1;33m\u001b[0m\u001b[1;33m\u001b[0m\u001b[0m\n",
            "\u001b[1;32m~\\miniconda3\\envs\\gxe_gee\\lib\\shutil.py\u001b[0m in \u001b[0;36m_rmtree_unsafe\u001b[1;34m(path, onerror)\u001b[0m\n\u001b[0;32m    398\u001b[0m                 \u001b[0mos\u001b[0m\u001b[1;33m.\u001b[0m\u001b[0munlink\u001b[0m\u001b[1;33m(\u001b[0m\u001b[0mfullname\u001b[0m\u001b[1;33m)\u001b[0m\u001b[1;33m\u001b[0m\u001b[1;33m\u001b[0m\u001b[0m\n\u001b[0;32m    399\u001b[0m             \u001b[1;32mexcept\u001b[0m \u001b[0mOSError\u001b[0m\u001b[1;33m:\u001b[0m\u001b[1;33m\u001b[0m\u001b[1;33m\u001b[0m\u001b[0m\n\u001b[1;32m--> 400\u001b[1;33m                 \u001b[0monerror\u001b[0m\u001b[1;33m(\u001b[0m\u001b[0mos\u001b[0m\u001b[1;33m.\u001b[0m\u001b[0munlink\u001b[0m\u001b[1;33m,\u001b[0m \u001b[0mfullname\u001b[0m\u001b[1;33m,\u001b[0m \u001b[0msys\u001b[0m\u001b[1;33m.\u001b[0m\u001b[0mexc_info\u001b[0m\u001b[1;33m(\u001b[0m\u001b[1;33m)\u001b[0m\u001b[1;33m)\u001b[0m\u001b[1;33m\u001b[0m\u001b[1;33m\u001b[0m\u001b[0m\n\u001b[0m\u001b[0;32m    401\u001b[0m     \u001b[1;32mtry\u001b[0m\u001b[1;33m:\u001b[0m\u001b[1;33m\u001b[0m\u001b[1;33m\u001b[0m\u001b[0m\n\u001b[0;32m    402\u001b[0m         \u001b[0mos\u001b[0m\u001b[1;33m.\u001b[0m\u001b[0mrmdir\u001b[0m\u001b[1;33m(\u001b[0m\u001b[0mpath\u001b[0m\u001b[1;33m)\u001b[0m\u001b[1;33m\u001b[0m\u001b[1;33m\u001b[0m\u001b[0m\n",
            "\u001b[1;32m~\\miniconda3\\envs\\gxe_gee\\lib\\shutil.py\u001b[0m in \u001b[0;36m_rmtree_unsafe\u001b[1;34m(path, onerror)\u001b[0m\n\u001b[0;32m    396\u001b[0m         \u001b[1;32melse\u001b[0m\u001b[1;33m:\u001b[0m\u001b[1;33m\u001b[0m\u001b[1;33m\u001b[0m\u001b[0m\n\u001b[0;32m    397\u001b[0m             \u001b[1;32mtry\u001b[0m\u001b[1;33m:\u001b[0m\u001b[1;33m\u001b[0m\u001b[1;33m\u001b[0m\u001b[0m\n\u001b[1;32m--> 398\u001b[1;33m                 \u001b[0mos\u001b[0m\u001b[1;33m.\u001b[0m\u001b[0munlink\u001b[0m\u001b[1;33m(\u001b[0m\u001b[0mfullname\u001b[0m\u001b[1;33m)\u001b[0m\u001b[1;33m\u001b[0m\u001b[1;33m\u001b[0m\u001b[0m\n\u001b[0m\u001b[0;32m    399\u001b[0m             \u001b[1;32mexcept\u001b[0m \u001b[0mOSError\u001b[0m\u001b[1;33m:\u001b[0m\u001b[1;33m\u001b[0m\u001b[1;33m\u001b[0m\u001b[0m\n\u001b[0;32m    400\u001b[0m                 \u001b[0monerror\u001b[0m\u001b[1;33m(\u001b[0m\u001b[0mos\u001b[0m\u001b[1;33m.\u001b[0m\u001b[0munlink\u001b[0m\u001b[1;33m,\u001b[0m \u001b[0mfullname\u001b[0m\u001b[1;33m,\u001b[0m \u001b[0msys\u001b[0m\u001b[1;33m.\u001b[0m\u001b[0mexc_info\u001b[0m\u001b[1;33m(\u001b[0m\u001b[1;33m)\u001b[0m\u001b[1;33m)\u001b[0m\u001b[1;33m\u001b[0m\u001b[1;33m\u001b[0m\u001b[0m\n",
            "\u001b[1;31mPermissionError\u001b[0m: [WinError 32] The process cannot access the file because it is being used by another process: 'C:\\\\Users\\\\theaa\\\\AppData\\\\Local\\\\Temp\\\\tmp_k9cg_f2\\\\Rplots001.png'"
          ]
        }
      ]
    },
    {
      "cell_type": "code",
      "metadata": {
        "id": "XzeKQdJ-kHSa",
        "colab_type": "code",
        "colab": {}
      },
      "source": [
        "\n",
        "K = ZAZ*WW\n",
        "diag(K) = diag(K)+1/200 \n",
        "K = K/mean(diag(K))\n",
        "L2 = t(chol(K))\n"
      ],
      "execution_count": 0,
      "outputs": []
    },
    {
      "cell_type": "code",
      "metadata": {
        "id": "_E8ZqJ7Db10M",
        "colab_type": "code",
        "colab": {}
      },
      "source": [
        "\n",
        "ETA = list(ENV=list(X=ZE,model='BRR'),\n",
        "           PED=list(X=ZL,model='BRR'),\n",
        "           EC=list(X=W,model='BRR'),\n",
        "           AxW=list(X=L2,model='BRR'))\n",
        "\n",
        "fm4 = BGLR(y=y_train,ETA=ETA, saveAt='M4_',nIter=500,burnIn=200)"
      ],
      "execution_count": 0,
      "outputs": []
    },
    {
      "cell_type": "code",
      "metadata": {
        "colab_type": "code",
        "id": "UYepS4pEWXV7",
        "colab": {}
      },
      "source": [
        "predictions = fm4$yHat[-training.samples]\n",
        "test_values = Y$grain_yield[-training.samples]\n",
        "print(data.frame( R2 = R2(predictions, test_values),\n",
        "            RMSE = RMSE(predictions, test_values),\n",
        "            MAE = MAE(predictions, test_values)))\n",
        "\n",
        "plot(test_values,predictions)"
      ],
      "execution_count": 0,
      "outputs": []
    },
    {
      "cell_type": "code",
      "metadata": {
        "colab_type": "code",
        "id": "4i39cfqoWXV-",
        "colab": {}
      },
      "source": [
        "%%R\n",
        "# Fitting Model 5 (Main Environment-Pedigree-Environmental Covariate Effects \n",
        "# with Pedigree-Environmental Covariate Interaction and Pedigree-Environment Main Effects)\n",
        "# (EAW-AxW-AxE)\n",
        "\n",
        "ZZ = tcrossprod(ZE)\n",
        "K = ZZ* ZAZ\n",
        "diag(K) = diag(K)+1/200 \n",
        "K = K/mean(diag(K))\n",
        "L3 = t(chol(K))\n",
        "\n",
        "ETA = list(ENV=list(X=ZE,model='BRR'),\n",
        "           PED=list(X=ZL,model='BRR'),\n",
        "           EC=list(X=W,model='BRR'),\n",
        "           AxW=list(X=L2,model='BRR'),\n",
        "           AxE=list(X=L3,model='BRR'))\n",
        "\n",
        "fm5 = BGLR(y=y_train,ETA=ETA, saveAt='M5_',nIter=500,burnIn=200)"
      ],
      "execution_count": 0,
      "outputs": []
    },
    {
      "cell_type": "code",
      "metadata": {
        "colab_type": "code",
        "id": "szC8mKraWXWC",
        "colab": {}
      },
      "source": [
        "%%R\n",
        "predictions = fm5$yHat[-training.samples]\n",
        "test_values = Y$grain_yield[-training.samples]\n",
        "print(data.frame( R2 = R2(predictions, test_values),\n",
        "            RMSE = RMSE(predictions, test_values),\n",
        "            MAE = MAE(predictions, test_values)))\n",
        "\n",
        "plot(test_values,predictions)"
      ],
      "execution_count": 0,
      "outputs": []
    }
  ]
}